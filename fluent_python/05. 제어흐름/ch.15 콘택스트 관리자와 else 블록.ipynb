{
 "cells": [
  {
   "cell_type": "markdown",
   "id": "757f6cb1",
   "metadata": {},
   "source": [
    "이 장에서는 다음과 같은 제어 기능을 살펴본다\n",
    "\n",
    "- with문과 콘텍스트 관리자\n",
    "- for, while, try 문에서의 else 블록"
   ]
  },
  {
   "cell_type": "markdown",
   "id": "84e9688b",
   "metadata": {},
   "source": [
    "# 1. 이것 다음에 저것: if 문 이외에서의 else 블록\n",
    "  \n",
    "**for**  \n",
    "for 루프가 완전히 실행된 후에(break 문으로 중간에 멈추지 않고) else 블록이 실행된다.  \n",
    "  \n",
    "**while**  \n",
    "조건식이 거짓이 되어 while루프를 빠져나온 후에 (break 문으로 중간에 멈추지 않고) else 블록이 실행된다.  \n",
    "  \n",
    "**try**  \n",
    "try 블록에서 예외가 발생하지 않을 때만 else블록이 실행된다. 그리고 else 블록에서 발생한 예외는 else 블록 앞에 나오는 except 블록에서 처리되지 않는다.  \n",
    "\n",
    "  \n",
    "  그러므로 예외, return, break, continue 문이 복합문의 주요 블록을 빠져나오게 만들면 else 블록은 실행되지 않는다.\n",
    "  이런 문장에 else를 사용하면 코드의 가독성을 높여주고, 제어 플래그의 사용이나 부수적인 if 문을 추가할 필요가 없게 해주곤 한다."
   ]
  },
  {
   "cell_type": "markdown",
   "id": "330e4a61",
   "metadata": {},
   "source": [
    "일반적으로 루프에서의 else는 다음과 같은 패턴을 따릅니다."
   ]
  },
  {
   "cell_type": "code",
   "execution_count": 5,
   "id": "036e6186",
   "metadata": {},
   "outputs": [
    {
     "ename": "ValueError",
     "evalue": "No banana flavor found!",
     "output_type": "error",
     "traceback": [
      "\u001b[1;31m---------------------------------------------------------------------------\u001b[0m",
      "\u001b[1;31mValueError\u001b[0m                                Traceback (most recent call last)",
      "Cell \u001b[1;32mIn[5], line 7\u001b[0m\n\u001b[0;32m      5\u001b[0m         \u001b[38;5;28;01mbreak\u001b[39;00m\n\u001b[0;32m      6\u001b[0m \u001b[38;5;28;01melse\u001b[39;00m:\n\u001b[1;32m----> 7\u001b[0m     \u001b[38;5;28;01mraise\u001b[39;00m \u001b[38;5;167;01mValueError\u001b[39;00m(\u001b[38;5;124m'\u001b[39m\u001b[38;5;124mNo banana flavor found!\u001b[39m\u001b[38;5;124m'\u001b[39m)\n",
      "\u001b[1;31mValueError\u001b[0m: No banana flavor found!"
     ]
    }
   ],
   "source": [
    "my_list = ['apple', 'grape']\n",
    "\n",
    "for item in my_list:\n",
    "    if item == 'banana':\n",
    "        break\n",
    "else:\n",
    "    raise ValueError('No banana flavor found!')\n"
   ]
  },
  {
   "cell_type": "markdown",
   "id": "812012a5",
   "metadata": {},
   "source": [
    "try/except 블록의 경우, 얼핏보면 else가 필요없는 것처럼 생각될 수 있습니다. 다음 코드에서는 dangerous_call()에서 예외가 발생하지 않는 경우에만 after_call()이 호출됩니다."
   ]
  },
  {
   "cell_type": "code",
   "execution_count": null,
   "id": "4d5472cc",
   "metadata": {},
   "outputs": [],
   "source": [
    "try:\n",
    "    dangerous_call()\n",
    "    after_call()\n",
    "except OSError:\n",
    "    log('OSError...')"
   ]
  },
  {
   "cell_type": "markdown",
   "id": "ba94c54d",
   "metadata": {},
   "source": [
    "그렇지만 try 블록 안에 after_call()을 넣는 것은 그리 좋아 보이지는 않습니다. 코드의 의도를 명확하고 정확히 표현하기 위해 try 블록 안에는 예외를 발생시킬 가능성이 있는 코드만 넣어야 합니다. 따라서 다음과 같이 구현하는 것이 더 깔끔합니다.\n",
    "\n"
   ]
  },
  {
   "cell_type": "code",
   "execution_count": null,
   "id": "84976996",
   "metadata": {},
   "outputs": [],
   "source": [
    "try:\n",
    "    dangerous_call()\n",
    "except OSError:\n",
    "    log('OSError...')\n",
    "else:\n",
    "    after_call()"
   ]
  },
  {
   "cell_type": "markdown",
   "id": "189f33f9",
   "metadata": {},
   "source": [
    "이 코드를 보면 try 블록은 after_call()이 아니라 dangerous_call()에서 발생할 수 있는 에러를 처리하기 위한 것임을 명확히 알 수 있습니다. 그리고 after_call()은 try 블록 안에서 예외가 발생하지 않는 경우에만 실행됩니다."
   ]
  },
  {
   "cell_type": "markdown",
   "id": "881c8a17",
   "metadata": {},
   "source": [
    "**EAFP**  \n",
    "  \n",
    "“It’s Easier to Ask Forgiveness than Permission”  \n",
    "“허락을 구하는 것 보다 용서를 구하는 것이 쉽다”  \n",
    "일단 수행 시키고(try), 에러가 발생하면 그때 처리한다(except)  \n",
    "\n",
    "\n",
    "**LBYL**  \n",
    "  \n",
    "  \n",
    "“Look Before You Leap”  \n",
    "“누울 자리를 보고 다리를 뻗어라”  \n",
    "어떤 코드를 실행하기 전에 에러가 발생할만한 부분의 조건을 미리 따져본다(if)  \n",
    "\n",
    "  __파이썬에서는 EAFP 스타일을 사용하고 있으니 try/except 문에서 else 블록을 잘 이해하고 사용하는 것이 좋습니다.__"
   ]
  },
  {
   "cell_type": "markdown",
   "id": "a6a54b4a",
   "metadata": {},
   "source": [
    "# 2. 콘텍스트 관리자와 with 블록"
   ]
  },
  {
   "cell_type": "markdown",
   "id": "a8f4605d",
   "metadata": {},
   "source": [
    "이터레이터가 for문을 제어하기 위해 존재하는 것과 마찬가지로, 컨텍스트 매니저 객체는 with문을 제어하기 위해 존재합니다.\n",
    "\n",
    " \n",
    "\n",
    "with문은 try/finally 패턴(이 패턴은 예외, return, sys.exit() 호출 등의 이유로 어떤 블록의 실행이 중단되더라도 이후의 일정한 코드를 반드시 실행할 수 있게 보장해줌)을 단순화하기 위해 설계되었습니다. 일반적으로 finally절 안에 있는 코드는 중요한 리소스를 해제하거나 임시로 변경된 상태를 복원하기 위해 사용됩니다."
   ]
  },
  {
   "cell_type": "markdown",
   "id": "582fe9fb",
   "metadata": {},
   "source": [
    "\n",
    "컨텍스트 매니저 프로토콜은 __enter __()와 __exit __() 메소드로 구성됩니다. with문이 시작될 때, 컨텍스트 매니저 객체의 __enter __() 메소드가 호출됩니다. 이 메소드는 with 블록의 끝에서 finally절의 역할을 수행합니다."
   ]
  },
  {
   "cell_type": "code",
   "execution_count": 17,
   "id": "bff9da74",
   "metadata": {},
   "outputs": [],
   "source": [
    "with open('with_test.txt') as fp:\n",
    "    src = fp.read(60)"
   ]
  },
  {
   "cell_type": "code",
   "execution_count": 18,
   "id": "af2f060e",
   "metadata": {},
   "outputs": [
    {
     "data": {
      "text/plain": [
       "27"
      ]
     },
     "execution_count": 18,
     "metadata": {},
     "output_type": "execute_result"
    }
   ],
   "source": [
    "len(src)"
   ]
  },
  {
   "cell_type": "code",
   "execution_count": 19,
   "id": "f914cffb",
   "metadata": {},
   "outputs": [
    {
     "data": {
      "text/plain": [
       "<_io.TextIOWrapper name='with_test.txt' mode='r' encoding='cp949'>"
      ]
     },
     "execution_count": 19,
     "metadata": {},
     "output_type": "execute_result"
    }
   ],
   "source": [
    "fp"
   ]
  },
  {
   "cell_type": "code",
   "execution_count": 20,
   "id": "aa96a325",
   "metadata": {},
   "outputs": [
    {
     "data": {
      "text/plain": [
       "(True, 'cp949')"
      ]
     },
     "execution_count": 20,
     "metadata": {},
     "output_type": "execute_result"
    }
   ],
   "source": [
    "fp.closed, fp.encoding"
   ]
  },
  {
   "cell_type": "code",
   "execution_count": 21,
   "id": "859441e5",
   "metadata": {},
   "outputs": [
    {
     "ename": "ValueError",
     "evalue": "I/O operation on closed file.",
     "output_type": "error",
     "traceback": [
      "\u001b[1;31m---------------------------------------------------------------------------\u001b[0m",
      "\u001b[1;31mValueError\u001b[0m                                Traceback (most recent call last)",
      "Cell \u001b[1;32mIn[21], line 1\u001b[0m\n\u001b[1;32m----> 1\u001b[0m \u001b[43mfp\u001b[49m\u001b[38;5;241;43m.\u001b[39;49m\u001b[43mread\u001b[49m\u001b[43m(\u001b[49m\u001b[38;5;241;43m60\u001b[39;49m\u001b[43m)\u001b[49m\n",
      "\u001b[1;31mValueError\u001b[0m: I/O operation on closed file."
     ]
    }
   ],
   "source": [
    "fp.read(60)"
   ]
  },
  {
   "cell_type": "code",
   "execution_count": null,
   "id": "11bf62d3",
   "metadata": {},
   "outputs": [],
   "source": []
  }
 ],
 "metadata": {
  "kernelspec": {
   "display_name": "Python 3 (ipykernel)",
   "language": "python",
   "name": "python3"
  },
  "language_info": {
   "codemirror_mode": {
    "name": "ipython",
    "version": 3
   },
   "file_extension": ".py",
   "mimetype": "text/x-python",
   "name": "python",
   "nbconvert_exporter": "python",
   "pygments_lexer": "ipython3",
   "version": "3.10.9"
  }
 },
 "nbformat": 4,
 "nbformat_minor": 5
}
