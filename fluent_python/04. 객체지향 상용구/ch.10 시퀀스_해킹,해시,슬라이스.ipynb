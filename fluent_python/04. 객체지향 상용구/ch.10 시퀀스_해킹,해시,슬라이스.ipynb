{
 "cells": [
  {
   "cell_type": "markdown",
   "id": "6c800e93",
   "metadata": {},
   "source": [
    "### 다차원 벡터를 나타내는 클래스를 생성해서 앞 장에서 구현한 2차원 Vector2d 클래스를 개선하여 다음과 같은 기능을 지원하게 하려고 한다.\n",
    "\n",
    "- 기본 시퀀스 프로토콜 : __len __()과 __getitem __() 메서드\n",
    "- 여러 항목을 가진 객체를 안전하게 표현\n",
    "- 슬라이싱을 지원해서 새로운 벡터 객체 생성\n",
    "- 포함된 요소 값을 모두 고려한 집합 해싱\n",
    "- 커스터마이즈된 포맷 언어 확장\n",
    "- __getattr __() 메서드로 동적 속성 접근 구현"
   ]
  },
  {
   "cell_type": "markdown",
   "id": "f486b22d",
   "metadata": {},
   "source": [
    "# 1 Vector : 사용자 정의 시퀀스형\n",
    "\n",
    "벡터의 요소들을 실수형 배열에 저장하고, 벡터가 불변 균일 시퀀스처럼 작동하게 만들기 위해 필요한 메서드를 구현한다"
   ]
  },
  {
   "cell_type": "markdown",
   "id": "d1b7624d",
   "metadata": {},
   "source": [
    "# 2 Vector 버전 #1: Vector2d 호환\n",
    "\n",
    "최초의 Vector 버전은 앞에서 구현한 Vector2d 클래스와 가능한 호환성이 높도록 구현한다. 다만 시퀀스 생성자는 내장 시퀀스처럼 반복형을 인수로 받도록 한다."
   ]
  },
  {
   "cell_type": "code",
   "execution_count": 1,
   "id": "37983d22",
   "metadata": {},
   "outputs": [],
   "source": [
    "from array import array\n",
    "import reprlib\n",
    "import math\n",
    "\n",
    "class Vector:\n",
    "    typecode = 'd'\n",
    "    \n",
    "    def __init__(self, components):\n",
    "        # 벡터 요소를 배열로 저장\n",
    "        self._components = array(self.typecode, components)\n",
    "        \n",
    "    def __iter__(self):\n",
    "        return iter(self._components) # 반복할 수 있도록 구현\n",
    "    \n",
    "    def __repr__(self):\n",
    "        components = reprlib.repr(self._components) # 제한된 길이로 출력\n",
    "        components = components[components.find('['):-1] # 문자열 중 앞에 나오는 \"array('d',\" 를 제거\n",
    "        return 'Vector({})'.format(components)\n",
    "    \n",
    "    def __str__(self):\n",
    "        return str(tuple(self))\n",
    "    \n",
    "    def __bytes__(self):\n",
    "        return (bytes([ord(self.typecode)]) + \n",
    "               bytes(self._components))\n",
    "    \n",
    "    def __eq__(self, other):\n",
    "        return tuple(self) == tuple(other)\n",
    "    \n",
    "    def __abs__(self):\n",
    "        return math.sqrt(sum(x * x for x in self))\n",
    "    \n",
    "    def __bool__(self):\n",
    "        return bool(abs(self))\n",
    "    \n",
    "    @classmethod\n",
    "    def frombytes(cls, octets):\n",
    "        typecode = chr(octets[0])\n",
    "        memv = memoryview(octets[1:]).cast(typecode)\n",
    "        return cls(memv) # 언패킹할 필요가 없음\n"
   ]
  },
  {
   "cell_type": "code",
   "execution_count": 7,
   "id": "cb304076",
   "metadata": {},
   "outputs": [
    {
     "data": {
      "text/plain": [
       "Vector([3.0, 4.0, 5.0])"
      ]
     },
     "execution_count": 7,
     "metadata": {},
     "output_type": "execute_result"
    }
   ],
   "source": [
    "v1 = Vector([3,4,5])\n",
    "v1"
   ]
  },
  {
   "cell_type": "markdown",
   "id": "5afc8201",
   "metadata": {},
   "source": [
    "# 3 프로토콜과 덕 타이핑\n",
    "\n",
    "프로토콜은 문서에만 정의되어 있고 실제 코드에서는 정의되지 않는 비공식 인터페이스이다. 예를 들어 파이썬에서 시퀀스형을 만들기 위해서는 어떤 클래스를 상속할 필요 없이 시퀀스 프로토콜(__len __()과 __getitem __())에 따르는 메서드를 구현하면 된다. 가령 예제 1-1을 보자."
   ]
  },
  {
   "cell_type": "code",
   "execution_count": 8,
   "id": "a753007f",
   "metadata": {},
   "outputs": [],
   "source": [
    "import collections\n",
    "\n",
    "Card = collections.namedtuple('Card', ['rank','suit'])\n",
    "\n",
    "class FrenchDeck:\n",
    "    ranks = [str(n) for n in range(2,11)] + list('JQKA')\n",
    "    suits = 'spades diamonds clubs hearts'.split()\n",
    "    \n",
    "    def __init__(self):\n",
    "        self._cards = [Card(rank, suit) for suit in self.suits\n",
    "                      for rank in self.ranks]\n",
    "    \n",
    "    def __len__(self):\n",
    "        return len(self._cards)\n",
    "    \n",
    "    def __getitem__(self, position):\n",
    "        return self._cards[position]"
   ]
  },
  {
   "cell_type": "markdown",
   "id": "315a9174",
   "metadata": {},
   "source": [
    "FrenchDeck 클래스는 시퀀스 프로토콜을 구현하므로 파이썬에서 제공하는 여러 기능을 활용할 수 있다. 이 클래스가 시퀀스처럼 동작하기 때문에 시퀀스이다. 이 메커니즘을 __덕 타이핑__이라고 한다.\n",
    "\n",
    "클래스가 사용되는 환경에 따라 프로토콜의 일부만 구현할 수도 있다. 예를 들어 반복을 지원하려면 __getitem __() 메서드만 구현하면 된다."
   ]
  },
  {
   "cell_type": "markdown",
   "id": "27307fc4",
   "metadata": {},
   "source": [
    "# 4 Vector 버전 #2: 슬라이스 가능한 시퀀스"
   ]
  },
  {
   "cell_type": "markdown",
   "id": "a50cfcfb",
   "metadata": {},
   "source": [
    "Vector 클래스 안에 시퀀스 프로토콜을 구현하자."
   ]
  },
  {
   "cell_type": "code",
   "execution_count": 9,
   "id": "543fc76d",
   "metadata": {},
   "outputs": [],
   "source": [
    "from array import array\n",
    "import reprlib\n",
    "import math\n",
    "\n",
    "class Vector:\n",
    "    typecode = 'd'\n",
    "    \n",
    "    def __init__(self, components):\n",
    "        # 벡터 요소를 배열로 저장\n",
    "        self._components = array(self.typecode, components)\n",
    "    \n",
    "    \"\"\"시퀀스 프로토콜 구현\"\"\"\n",
    "    def __len__(self):\n",
    "        return len(self._components)\n",
    "    \n",
    "    def __getitem__(self, index):\n",
    "        return self._components[index]\n",
    "    \"\"\"시퀀스 프로토콜 구현 종료\"\"\"\n",
    "    \n",
    "    def __iter__(self):\n",
    "        return iter(self._components) # 반복할 수 있도록 구현\n",
    "    \n",
    "    def __repr__(self):\n",
    "        components = reprlib.repr(self._components) # 제한된 길이로 출력\n",
    "        components = components[components.find('['):-1] # 문자열 중 앞에 나오는 \"array('d',\" 를 제거\n",
    "        return 'Vector({})'.format(components)\n",
    "    \n",
    "    def __str__(self):\n",
    "        return str(tuple(self))\n",
    "    \n",
    "    def __bytes__(self):\n",
    "        return (bytes([ord(self.typecode)]) + \n",
    "               bytes(self._components))\n",
    "    \n",
    "    def __eq__(self, other):\n",
    "        return tuple(self) == tuple(other)\n",
    "    \n",
    "    def __abs__(self):\n",
    "        return math.sqrt(sum(x * x for x in self))\n",
    "    \n",
    "    def __bool__(self):\n",
    "        return bool(abs(self))\n",
    "    \n",
    "    @classmethod\n",
    "    def frombytes(cls, octets):\n",
    "        typecode = chr(octets[0])\n",
    "        memv = memoryview(octets[1:]).cast(typecode)\n",
    "        return cls(memv) # 언패킹할 필요가 없음    "
   ]
  },
  {
   "cell_type": "markdown",
   "id": "8a4ee719",
   "metadata": {},
   "source": [
    "이 두 메서드가 추가되었으니 다음과 같은 연산 수행이 가능하다."
   ]
  },
  {
   "cell_type": "code",
   "execution_count": 11,
   "id": "5db51fb1",
   "metadata": {},
   "outputs": [
    {
     "data": {
      "text/plain": [
       "3"
      ]
     },
     "execution_count": 11,
     "metadata": {},
     "output_type": "execute_result"
    }
   ],
   "source": [
    "v1 = Vector(range(3, 6))\n",
    "len(v1)"
   ]
  },
  {
   "cell_type": "code",
   "execution_count": 12,
   "id": "d259ae34",
   "metadata": {},
   "outputs": [
    {
     "data": {
      "text/plain": [
       "(3.0, 5.0)"
      ]
     },
     "execution_count": 12,
     "metadata": {},
     "output_type": "execute_result"
    }
   ],
   "source": [
    "v1[0], v1[-1]"
   ]
  },
  {
   "cell_type": "code",
   "execution_count": 13,
   "id": "ddeee313",
   "metadata": {},
   "outputs": [
    {
     "data": {
      "text/plain": [
       "array('d', [1.0, 2.0, 3.0])"
      ]
     },
     "execution_count": 13,
     "metadata": {},
     "output_type": "execute_result"
    }
   ],
   "source": [
    "v7 = Vector(range(7))\n",
    "v7[1:4]"
   ]
  },
  {
   "cell_type": "markdown",
   "id": "7837dc0d",
   "metadata": {},
   "source": [
    "보다시피 슬라이싱도 지원되긴 하나 객체가 배열로 바뀌게 된다. 따라서 슬라이싱해서 Vector 객체를 생성하려면 슬라이싱 연산을 배열에 위임하면 안되며, __getitem __() 메서드가 받은 인수를 분석해서 제대로 처리해야 한다."
   ]
  },
  {
   "cell_type": "markdown",
   "id": "7b3610a3",
   "metadata": {},
   "source": [
    "### 4.1 슬라이싱의 작동 방식\n",
    "\n",
    "실제 슬라이싱이 어떻게 작동하는지 확인해보자."
   ]
  },
  {
   "cell_type": "code",
   "execution_count": 14,
   "id": "69e95a53",
   "metadata": {},
   "outputs": [],
   "source": [
    "class MySeq:\n",
    "    def __getitem__(self, index):\n",
    "        return index"
   ]
  },
  {
   "cell_type": "code",
   "execution_count": 16,
   "id": "440e4ccb",
   "metadata": {},
   "outputs": [
    {
     "data": {
      "text/plain": [
       "1"
      ]
     },
     "execution_count": 16,
     "metadata": {},
     "output_type": "execute_result"
    }
   ],
   "source": [
    "s = MySeq()\n",
    "s[1]"
   ]
  },
  {
   "cell_type": "code",
   "execution_count": 17,
   "id": "3eff3d9d",
   "metadata": {},
   "outputs": [
    {
     "data": {
      "text/plain": [
       "slice(1, 4, None)"
      ]
     },
     "execution_count": 17,
     "metadata": {},
     "output_type": "execute_result"
    }
   ],
   "source": [
    "s[1:4]"
   ]
  },
  {
   "cell_type": "code",
   "execution_count": 18,
   "id": "4f1ab1a9",
   "metadata": {},
   "outputs": [
    {
     "data": {
      "text/plain": [
       "slice(1, 4, 2)"
      ]
     },
     "execution_count": 18,
     "metadata": {},
     "output_type": "execute_result"
    }
   ],
   "source": [
    "s[1:4:2]"
   ]
  },
  {
   "cell_type": "code",
   "execution_count": 19,
   "id": "e290b305",
   "metadata": {},
   "outputs": [
    {
     "data": {
      "text/plain": [
       "(slice(1, 4, 2), 9)"
      ]
     },
     "execution_count": 19,
     "metadata": {},
     "output_type": "execute_result"
    }
   ],
   "source": [
    "s[1:4:2, 9]"
   ]
  },
  {
   "cell_type": "code",
   "execution_count": 20,
   "id": "d2154e84",
   "metadata": {},
   "outputs": [
    {
     "data": {
      "text/plain": [
       "(slice(1, 4, 2), slice(7, 9, None))"
      ]
     },
     "execution_count": 20,
     "metadata": {},
     "output_type": "execute_result"
    }
   ],
   "source": [
    "s[1:4:2, 7:9]"
   ]
  },
  {
   "cell_type": "code",
   "execution_count": 21,
   "id": "98983845",
   "metadata": {},
   "outputs": [
    {
     "data": {
      "text/plain": [
       "slice"
      ]
     },
     "execution_count": 21,
     "metadata": {},
     "output_type": "execute_result"
    }
   ],
   "source": [
    "# slice 클래스의 속성 조사\n",
    "slice"
   ]
  },
  {
   "cell_type": "code",
   "execution_count": 22,
   "id": "0a56b88f",
   "metadata": {},
   "outputs": [
    {
     "data": {
      "text/plain": [
       "['__class__',\n",
       " '__delattr__',\n",
       " '__dir__',\n",
       " '__doc__',\n",
       " '__eq__',\n",
       " '__format__',\n",
       " '__ge__',\n",
       " '__getattribute__',\n",
       " '__gt__',\n",
       " '__hash__',\n",
       " '__init__',\n",
       " '__init_subclass__',\n",
       " '__le__',\n",
       " '__lt__',\n",
       " '__ne__',\n",
       " '__new__',\n",
       " '__reduce__',\n",
       " '__reduce_ex__',\n",
       " '__repr__',\n",
       " '__setattr__',\n",
       " '__sizeof__',\n",
       " '__str__',\n",
       " '__subclasshook__',\n",
       " 'indices',\n",
       " 'start',\n",
       " 'step',\n",
       " 'stop']"
      ]
     },
     "execution_count": 22,
     "metadata": {},
     "output_type": "execute_result"
    }
   ],
   "source": [
    "dir(slice)"
   ]
  },
  {
   "cell_type": "code",
   "execution_count": 23,
   "id": "ec4c43bd",
   "metadata": {},
   "outputs": [
    {
     "name": "stdout",
     "output_type": "stream",
     "text": [
      "Help on method_descriptor:\n",
      "\n",
      "indices(...)\n",
      "    S.indices(len) -> (start, stop, stride)\n",
      "    \n",
      "    Assuming a sequence of length len, calculate the start and stop\n",
      "    indices, and the stride length of the extended slice described by\n",
      "    S. Out of bounds indices are clipped in a manner consistent with the\n",
      "    handling of normal slices.\n",
      "\n"
     ]
    }
   ],
   "source": [
    "help(slice.indices)"
   ]
  },
  {
   "cell_type": "markdown",
   "id": "d7b1aa0e",
   "metadata": {},
   "source": [
    "### 4.2 슬라이스를 인식하는 __getitem__()\n",
    "\n",
    "이제는 __getitem__()이 슬라이싱도 제대로 처리하도록 구현해보자."
   ]
  },
  {
   "cell_type": "code",
   "execution_count": 25,
   "id": "8dc93893",
   "metadata": {},
   "outputs": [],
   "source": [
    "from array import array\n",
    "import reprlib\n",
    "import math\n",
    "import numbers\n",
    "\n",
    "class Vector:\n",
    "    typecode = 'd'\n",
    "    \n",
    "    def __init__(self, components):\n",
    "        # 벡터 요소를 배열로 저장\n",
    "        self._components = array(self.typecode, components)\n",
    "    \n",
    "    \"\"\"시퀀스 프로토콜 구현\"\"\"\n",
    "    def __len__(self):\n",
    "        return len(self._components)\n",
    "    \n",
    "    def __getitem__(self, index):\n",
    "        cls = type(self) # 객체의 클래스를 가져옴\n",
    "        if isinstance(index, slice): # index가 슬라이스이면\n",
    "            return cls(self._components[index]) # Vector 객체를 생성\n",
    "        elif isinstance(index, numbers.Integral): # index가 정수형이면\n",
    "            return self._components[index] # 해당 항목 반환\n",
    "        else:\n",
    "            msg = '{cls.__name__} indices must be integers'\n",
    "            raise TypeError(msg.format(cls=cls)) \n",
    "    \"\"\"시퀀스 프로토콜 구현 종료\"\"\"\n",
    "    \n",
    "    def __iter__(self):\n",
    "        return iter(self._components) # 반복할 수 있도록 구현\n",
    "    \n",
    "    def __repr__(self):\n",
    "        components = reprlib.repr(self._components) # 제한된 길이로 출력\n",
    "        components = components[components.find('['):-1] # 문자열 중 앞에 나오는 \"array('d',\" 를 제거\n",
    "        return 'Vector({})'.format(components)\n",
    "    \n",
    "    def __str__(self):\n",
    "        return str(tuple(self))\n",
    "    \n",
    "    def __bytes__(self):\n",
    "        return (bytes([ord(self.typecode)]) + \n",
    "               bytes(self._components))\n",
    "    \n",
    "    def __eq__(self, other):\n",
    "        return tuple(self) == tuple(other)\n",
    "    \n",
    "    def __abs__(self):\n",
    "        return math.sqrt(sum(x * x for x in self))\n",
    "    \n",
    "    def __bool__(self):\n",
    "        return bool(abs(self))\n",
    "    \n",
    "    @classmethod\n",
    "    def frombytes(cls, octets):\n",
    "        typecode = chr(octets[0])\n",
    "        memv = memoryview(octets[1:]).cast(typecode)\n",
    "        return cls(memv) # 언패킹할 필요가 없음"
   ]
  },
  {
   "cell_type": "code",
   "execution_count": 26,
   "id": "96da03df",
   "metadata": {},
   "outputs": [
    {
     "data": {
      "text/plain": [
       "6.0"
      ]
     },
     "execution_count": 26,
     "metadata": {},
     "output_type": "execute_result"
    }
   ],
   "source": [
    "v7 = Vector(range(7))\n",
    "v7[-1]"
   ]
  },
  {
   "cell_type": "code",
   "execution_count": 27,
   "id": "f0336348",
   "metadata": {},
   "outputs": [
    {
     "data": {
      "text/plain": [
       "Vector([1.0, 2.0, 3.0])"
      ]
     },
     "execution_count": 27,
     "metadata": {},
     "output_type": "execute_result"
    }
   ],
   "source": [
    "v7[1:4]"
   ]
  },
  {
   "cell_type": "code",
   "execution_count": 28,
   "id": "f2449a5d",
   "metadata": {},
   "outputs": [
    {
     "data": {
      "text/plain": [
       "Vector([0.0, 1.0, 2.0, 3.0, 4.0, ...])"
      ]
     },
     "execution_count": 28,
     "metadata": {},
     "output_type": "execute_result"
    }
   ],
   "source": [
    "v7[:-1]"
   ]
  },
  {
   "cell_type": "code",
   "execution_count": 30,
   "id": "4602bb6e",
   "metadata": {},
   "outputs": [
    {
     "ename": "TypeError",
     "evalue": "Vector indices must be integers",
     "output_type": "error",
     "traceback": [
      "\u001b[1;31m---------------------------------------------------------------------------\u001b[0m",
      "\u001b[1;31mTypeError\u001b[0m                                 Traceback (most recent call last)",
      "Cell \u001b[1;32mIn[30], line 1\u001b[0m\n\u001b[1;32m----> 1\u001b[0m \u001b[43mv7\u001b[49m\u001b[43m[\u001b[49m\u001b[38;5;241;43m1\u001b[39;49m\u001b[43m,\u001b[49m\u001b[38;5;241;43m2\u001b[39;49m\u001b[43m]\u001b[49m\n",
      "Cell \u001b[1;32mIn[25], line 25\u001b[0m, in \u001b[0;36mVector.__getitem__\u001b[1;34m(self, index)\u001b[0m\n\u001b[0;32m     23\u001b[0m \u001b[38;5;28;01melse\u001b[39;00m:\n\u001b[0;32m     24\u001b[0m     msg \u001b[38;5;241m=\u001b[39m \u001b[38;5;124m'\u001b[39m\u001b[38;5;132;01m{cls.__name__}\u001b[39;00m\u001b[38;5;124m indices must be integers\u001b[39m\u001b[38;5;124m'\u001b[39m\n\u001b[1;32m---> 25\u001b[0m     \u001b[38;5;28;01mraise\u001b[39;00m \u001b[38;5;167;01mTypeError\u001b[39;00m(msg\u001b[38;5;241m.\u001b[39mformat(\u001b[38;5;28mcls\u001b[39m\u001b[38;5;241m=\u001b[39m\u001b[38;5;28mcls\u001b[39m))\n",
      "\u001b[1;31mTypeError\u001b[0m: Vector indices must be integers"
     ]
    }
   ],
   "source": [
    "v7[1,2] # 다차원 인덱싱은 지원하지 않으므로 에러 발생"
   ]
  },
  {
   "cell_type": "markdown",
   "id": "14d5544c",
   "metadata": {},
   "source": [
    "# 5. Vector 버전 #3: 동적 속성 접근"
   ]
  },
  {
   "cell_type": "markdown",
   "id": "f50b288d",
   "metadata": {},
   "source": [
    "ector 객체는 v.x, v.y처럼 벡터 요소를 이름으로 접근하는 기능이 없으므로 이를 구현해보자. Vector2d는 @property 데커레이터를 이용하여 구현할 수 있으나 그 과정은 지루하다.  __getattr __() 특별 메서드를 이용하면 더욱 깔끔하게 구현할 수 있다."
   ]
  },
  {
   "cell_type": "code",
   "execution_count": 38,
   "id": "f176a1a9",
   "metadata": {},
   "outputs": [],
   "source": [
    "from array import array\n",
    "import reprlib\n",
    "import math\n",
    "import numbers\n",
    "\n",
    "class Vector:\n",
    "    typecode = 'd'\n",
    "    shortcut_names = 'xyzt'\n",
    "    \n",
    "    def __init__(self, components):\n",
    "        # 벡터 요소를 배열로 저장\n",
    "        self._components = array(self.typecode, components)\n",
    "    \n",
    "    \"\"\"시퀀스 프로토콜 구현\"\"\"\n",
    "    def __len__(self):\n",
    "        return len(self._components)\n",
    "    \n",
    "    def __getitem__(self, index):\n",
    "        cls = type(self) # 객체의 클래스를 가져옴\n",
    "        if isinstance(index, slice): # index가 슬라이스이면\n",
    "            return cls(self._components[index]) # Vector 객체를 생성\n",
    "        elif isinstance(index, numbers.Integral): # index가 정수형이면\n",
    "            return self._components[index] # 해당 항목 반환\n",
    "        else:\n",
    "            msg = '{cls.__name__} indices must be integers'\n",
    "            raise TypeError(msg.format(cls=cls)) \n",
    "    \"\"\"시퀀스 프로토콜 구현 종료\"\"\"\n",
    "    \n",
    "    def __getattr__(self, name):\n",
    "        cls = type(self)\n",
    "        if len(name) == 1: # name이 한글자이면 \n",
    "            pos = cls.shortcut_names.find(name)\n",
    "            if 0 <= pos < len(self._components): # 포지션이 범위 내에 있으면 배열 항목 반환\n",
    "                return self._components[pos]\n",
    "        msg = '{.__name__!r} object has no attribute {!r}' \n",
    "        raise AttributeError(msg.format(cls, name))\n",
    "    \n",
    "    def __iter__(self):\n",
    "        return iter(self._components) # 반복할 수 있도록 구현\n",
    "    \n",
    "    def __repr__(self):\n",
    "        components = reprlib.repr(self._components) # 제한된 길이로 출력\n",
    "        components = components[components.find('['):-1] # 문자열 중 앞에 나오는 \"array('d',\" 를 제거\n",
    "        return 'Vector({})'.format(components)\n",
    "    \n",
    "    def __str__(self):\n",
    "        return str(tuple(self))\n",
    "    \n",
    "    def __bytes__(self):\n",
    "        return (bytes([ord(self.typecode)]) + \n",
    "               bytes(self._components))\n",
    "    \n",
    "    def __eq__(self, other):\n",
    "        return tuple(self) == tuple(other)\n",
    "    \n",
    "    def __abs__(self):\n",
    "        return math.sqrt(sum(x * x for x in self))\n",
    "    \n",
    "    def __bool__(self):\n",
    "        return bool(abs(self))\n",
    "    \n",
    "    @classmethod\n",
    "    def frombytes(cls, octets):\n",
    "        typecode = chr(octets[0])\n",
    "        memv = memoryview(octets[1:]).cast(typecode)\n",
    "        return cls(memv) # 언패킹할 필요가 없음"
   ]
  },
  {
   "cell_type": "code",
   "execution_count": 40,
   "id": "f89bc3fa",
   "metadata": {},
   "outputs": [],
   "source": [
    "v = Vector(range(5))"
   ]
  },
  {
   "cell_type": "code",
   "execution_count": 47,
   "id": "0f7611c8",
   "metadata": {},
   "outputs": [
    {
     "data": {
      "text/plain": [
       "0.0"
      ]
     },
     "execution_count": 47,
     "metadata": {},
     "output_type": "execute_result"
    }
   ],
   "source": [
    "v.x"
   ]
  },
  {
   "cell_type": "code",
   "execution_count": 48,
   "id": "5a45cd0e",
   "metadata": {},
   "outputs": [],
   "source": [
    "v.x = 10"
   ]
  },
  {
   "cell_type": "code",
   "execution_count": 49,
   "id": "9344f98e",
   "metadata": {},
   "outputs": [
    {
     "data": {
      "text/plain": [
       "10"
      ]
     },
     "execution_count": 49,
     "metadata": {},
     "output_type": "execute_result"
    }
   ],
   "source": [
    "v.x"
   ]
  },
  {
   "cell_type": "code",
   "execution_count": 52,
   "id": "5237e2a6",
   "metadata": {},
   "outputs": [
    {
     "data": {
      "text/plain": [
       "Vector([0.0, 1.0, 2.0, 3.0, 4.0])"
      ]
     },
     "execution_count": 52,
     "metadata": {},
     "output_type": "execute_result"
    }
   ],
   "source": [
    "v   # 벡터 요소는 변경되지 않았음\n",
    "#이는 v.x = 10 을 선언하는 순간 v 객체에 x 속성이 추가되므로, 더 이상 v.x를 호출할 때 __getattr()을 호출하지 않기 때문이다."
   ]
  },
  {
   "cell_type": "code",
   "execution_count": 53,
   "id": "c70e8cbb",
   "metadata": {
    "scrolled": true
   },
   "outputs": [
    {
     "data": {
      "text/plain": [
       "['__abs__',\n",
       " '__bool__',\n",
       " '__bytes__',\n",
       " '__class__',\n",
       " '__delattr__',\n",
       " '__dict__',\n",
       " '__dir__',\n",
       " '__doc__',\n",
       " '__eq__',\n",
       " '__format__',\n",
       " '__ge__',\n",
       " '__getattr__',\n",
       " '__getattribute__',\n",
       " '__getitem__',\n",
       " '__gt__',\n",
       " '__hash__',\n",
       " '__init__',\n",
       " '__init_subclass__',\n",
       " '__iter__',\n",
       " '__le__',\n",
       " '__len__',\n",
       " '__lt__',\n",
       " '__module__',\n",
       " '__ne__',\n",
       " '__new__',\n",
       " '__reduce__',\n",
       " '__reduce_ex__',\n",
       " '__repr__',\n",
       " '__setattr__',\n",
       " '__sizeof__',\n",
       " '__str__',\n",
       " '__subclasshook__',\n",
       " '__weakref__',\n",
       " '_components',\n",
       " 'frombytes',\n",
       " 'shortcut_names',\n",
       " 'typecode',\n",
       " 'x']"
      ]
     },
     "execution_count": 53,
     "metadata": {},
     "output_type": "execute_result"
    }
   ],
   "source": [
    "dir(v)"
   ]
  },
  {
   "cell_type": "code",
   "execution_count": 54,
   "id": "3783d61b",
   "metadata": {},
   "outputs": [],
   "source": [
    "#__setattr__() 메서드 추가\n",
    "\n",
    "from array import array\n",
    "import reprlib\n",
    "import math\n",
    "import numbers\n",
    "\n",
    "class Vector():\n",
    "    typecode = 'd'\n",
    "    shortcut_names = 'xyzt'\n",
    "    \n",
    "    def __init__(self, components):\n",
    "        # 벡터 요소를 배열로 저장\n",
    "        self._components = array(self.typecode, components)\n",
    "    \n",
    "    \"\"\"시퀀스 프로토콜 구현\"\"\"\n",
    "    def __len__(self):\n",
    "        return len(self._components)\n",
    "    \n",
    "    def __getitem__(self, index):\n",
    "        cls = type(self) # 객체의 클래스를 가져옴\n",
    "        if isinstance(index, slice): # index가 슬라이스이면\n",
    "            return cls(self._components[index]) # Vector 객체를 생성\n",
    "        elif isinstance(index, numbers.Integral): # index가 정수형이면\n",
    "            return self._components[index] # 해당 항목 반환\n",
    "        else:\n",
    "            msg = '{cls.__name__} indices must be integers'\n",
    "            raise TypeError(msg.format(cls=cls)) \n",
    "    \"\"\"시퀀스 프로토콜 구현 종료\"\"\"\n",
    "    \n",
    "    def __getattr__(self, name):\n",
    "        cls = type(self)\n",
    "        if len(name) == 1: # name이 한글자이면 \n",
    "            pos = cls.shortcut_names.find(name)\n",
    "            if 0 <= pos < len(self._components): # 포지션이 범위 내에 있으면 배열 항목 반환\n",
    "                return self._components[pos]\n",
    "        msg = '{.__name__!r} object has no attribute {!r}' \n",
    "        raise AttributeError(msg.format(cls, name))\n",
    "        \n",
    "    def __setattr__(self, name, value):\n",
    "        cls = type(self)\n",
    "        if len(name) == 1:\n",
    "            if name in cls.shortcut_names:\n",
    "                error = 'readonly attribute {attr_name!r}' # xyzt 중 하나는 구체적으로 오류 발생\n",
    "            elif name.islower():\n",
    "                error = \"can't set attributes 'a' to 'z' in {cls_name!r}\" # 그외 소문자면 일반적 메세지 오류 발생\n",
    "            else:\n",
    "                error = ''\n",
    "            if error:\n",
    "                msg = error.format(cls_name=cls.__name__, attr_name=name)\n",
    "                raise AttributeError(msg)\n",
    "        # 에러가 발생하지 않을 때는 정상적으로 __setattr__() 메서드 호출\n",
    "        super().__setattr__(name, value) \n",
    "        \n",
    "                \n",
    "    \n",
    "    def __iter__(self):\n",
    "        return iter(self._components) # 반복할 수 있도록 구현\n",
    "    \n",
    "    def __repr__(self):\n",
    "        components = reprlib.repr(self._components) # 제한된 길이로 출력\n",
    "        components = components[components.find('['):-1] # 문자열 중 앞에 나오는 \"array('d',\" 를 제거\n",
    "        return 'Vector({})'.format(components)\n",
    "    \n",
    "    def __str__(self):\n",
    "        return str(tuple(self))\n",
    "    \n",
    "    def __bytes__(self):\n",
    "        return (bytes([ord(self.typecode)]) + \n",
    "               bytes(self._components))\n",
    "    \n",
    "    def __eq__(self, other):\n",
    "        return tuple(self) == tuple(other)\n",
    "    \n",
    "    def __abs__(self):\n",
    "        return math.sqrt(sum(x * x for x in self))\n",
    "    \n",
    "    def __bool__(self):\n",
    "        return bool(abs(self))\n",
    "    \n",
    "    @classmethod\n",
    "    def frombytes(cls, octets):\n",
    "        typecode = chr(octets[0])\n",
    "        memv = memoryview(octets[1:]).cast(typecode)\n",
    "        return cls(memv) # 언패킹할 필요가 없음"
   ]
  },
  {
   "cell_type": "markdown",
   "id": "f2e0f388",
   "metadata": {},
   "source": [
    "# 6 Vector 버전 #4: 해싱 및 더 빠른 =="
   ]
  },
  {
   "cell_type": "markdown",
   "id": "76276a79",
   "metadata": {},
   "source": [
    "__hash __() 메서드를 구현하자. 기존 __eq __() 메서드와 함께 __hash __() 메서드를 구현하면 Vector객체를 해시할 수 있게 된다."
   ]
  },
  {
   "cell_type": "code",
   "execution_count": 55,
   "id": "5d0706b4",
   "metadata": {},
   "outputs": [
    {
     "data": {
      "text/plain": [
       "120"
      ]
     },
     "execution_count": 55,
     "metadata": {},
     "output_type": "execute_result"
    }
   ],
   "source": [
    "2*3*4*5"
   ]
  },
  {
   "cell_type": "code",
   "execution_count": 57,
   "id": "5330cb17",
   "metadata": {},
   "outputs": [
    {
     "data": {
      "text/plain": [
       "120"
      ]
     },
     "execution_count": 57,
     "metadata": {},
     "output_type": "execute_result"
    }
   ],
   "source": [
    "import functools \n",
    "functools.reduce(lambda a,b : a*b, range(1,6))"
   ]
  },
  {
   "cell_type": "code",
   "execution_count": 61,
   "id": "99defbbe",
   "metadata": {},
   "outputs": [],
   "source": [
    "# 0에서 5까지 정수를 XOR로 누적 계산하는 3가지 방법 "
   ]
  },
  {
   "cell_type": "code",
   "execution_count": 71,
   "id": "e74afc22",
   "metadata": {},
   "outputs": [
    {
     "data": {
      "text/plain": [
       "1"
      ]
     },
     "execution_count": 71,
     "metadata": {},
     "output_type": "execute_result"
    }
   ],
   "source": [
    "n = 0\n",
    "for i in range(6):\n",
    "    n ^= i\n",
    "n"
   ]
  },
  {
   "cell_type": "code",
   "execution_count": 97,
   "id": "89f454d4",
   "metadata": {},
   "outputs": [
    {
     "data": {
      "text/plain": [
       "1"
      ]
     },
     "execution_count": 97,
     "metadata": {},
     "output_type": "execute_result"
    }
   ],
   "source": [
    "import functools\n",
    "functools.reduce(lambda a,b:a^b, range(6))"
   ]
  },
  {
   "cell_type": "code",
   "execution_count": 99,
   "id": "05457b1d",
   "metadata": {},
   "outputs": [
    {
     "data": {
      "text/plain": [
       "1"
      ]
     },
     "execution_count": 99,
     "metadata": {},
     "output_type": "execute_result"
    }
   ],
   "source": [
    "import operator\n",
    "functools.reduce(operator.xor, range(6))"
   ]
  },
  {
   "cell_type": "code",
   "execution_count": 101,
   "id": "e54d7614",
   "metadata": {},
   "outputs": [],
   "source": [
    "# __hash__() 메서드 추가\n",
    "from array import array\n",
    "import reprlib\n",
    "import math\n",
    "import numbers\n",
    "import functools\n",
    "import operator\n",
    "\n",
    "class Vector:\n",
    "    typecode = 'd'\n",
    "    shortcut_names = 'xyzt'\n",
    "    \n",
    "    def __init__(self, components):\n",
    "        # 벡터 요소를 배열로 저장\n",
    "        self._components = array(self.typecode, components)\n",
    "    \n",
    "    \"\"\"시퀀스 프로토콜 구현\"\"\"\n",
    "    def __len__(self):\n",
    "        return len(self._components)\n",
    "    \n",
    "    def __getitem__(self, index):\n",
    "        cls = type(self) # 객체의 클래스를 가져옴\n",
    "        if isinstance(index, slice): # index가 슬라이스이면\n",
    "            return cls(self._components[index]) # Vector 객체를 생성\n",
    "        elif isinstance(index, numbers.Integral): # index가 정수형이면\n",
    "            return self._components[index] # 해당 항목 반환\n",
    "        else:\n",
    "            msg = '{cls.__name__} indices must be integers'\n",
    "            raise TypeError(msg.format(cls=cls)) \n",
    "    \"\"\"시퀀스 프로토콜 구현 종료\"\"\"\n",
    "    \n",
    "    def __getattr__(self, name):\n",
    "        cls = type(self)\n",
    "        if len(name) == 1: # name이 한글자이면 \n",
    "            pos = cls.shortcut_names.find(name)\n",
    "            if 0 <= pos < len(self._components): # 포지션이 범위 내에 있으면 배열 항목 반환\n",
    "                return self._components[pos]\n",
    "        msg = '{.__name__!r} object has no attribute {!r}' \n",
    "        raise AttributeError(msg.format(cls, name))\n",
    "        \n",
    "    def __setattr__(self, name, value):\n",
    "        cls = type(self)\n",
    "        if len(name) == 1:\n",
    "            if name in cls.shortcut_names:\n",
    "                error = 'readonly attribute {attr_name!r}' # xyzt 중 하나는 구체적으로 오류 발생\n",
    "            elif name.islower():\n",
    "                error = \"can't set attributes 'a' to 'z' in {cls_name!r}\" # 그외 소문자면 일반적 메세지 오류 발생\n",
    "            else:\n",
    "                error = ''\n",
    "            if error:\n",
    "                msg = error.format(cls_name=cls.__name__, attr_name=name)\n",
    "                raise AttributeError(msg)\n",
    "        # 에러가 발생하지 않을 때는 정상적으로 __setattr__() 메서드 호출\n",
    "        super().__setattr__(name, value) \n",
    "        \n",
    "                \n",
    "    \n",
    "    def __iter__(self):\n",
    "        return iter(self._components) # 반복할 수 있도록 구현\n",
    "    \n",
    "    def __repr__(self):\n",
    "        components = reprlib.repr(self._components) # 제한된 길이로 출력\n",
    "        components = components[components.find('['):-1] # 문자열 중 앞에 나오는 \"array('d',\" 를 제거\n",
    "        return 'Vector({})'.format(components)\n",
    "    \n",
    "    def __str__(self):\n",
    "        return str(tuple(self))\n",
    "    \n",
    "    def __bytes__(self):\n",
    "        return (bytes([ord(self.typecode)]) + \n",
    "               bytes(self._components))\n",
    "    \n",
    "    def __eq__(self, other):\n",
    "        return tuple(self) == tuple(other)\n",
    "    \n",
    "    def __hash__(self):\n",
    "        hashes = (hash(x) for x in self._components) # 제너레이터 표현식 이용\n",
    "        return functools.reduce(operator.xor, hashes, 0) # 초기값을 0으로 함\n",
    "    \n",
    "    def __abs__(self):\n",
    "        return math.sqrt(sum(x * x for x in self))\n",
    "    \n",
    "    def __bool__(self):\n",
    "        return bool(abs(self))\n",
    "    \n",
    "    @classmethod\n",
    "    def frombytes(cls, octets):\n",
    "        typecode = chr(octets[0])\n",
    "        memv = memoryview(octets[1:]).cast(typecode)\n",
    "        return cls(memv) # 언패킹할 필요가 없음"
   ]
  },
  {
   "cell_type": "code",
   "execution_count": 109,
   "id": "e975283a",
   "metadata": {},
   "outputs": [],
   "source": [
    "# 제너레이터 표현식 대신 맵을 사용하면 맵 단계가 훨씬 더 잘 드러난다.\n",
    "\n",
    "def __hash__(self):\n",
    "    hashes = map(hash, self._components)"
   ]
  },
  {
   "cell_type": "code",
   "execution_count": 110,
   "id": "e038d89d",
   "metadata": {},
   "outputs": [],
   "source": [
    "# __eq __() 메서드를 간단히 수정해서 커더란 벡터를 더 빠르고 메모리를 적게 사용하도록 구현 \n",
    "from array import array\n",
    "import reprlib\n",
    "import math\n",
    "import numbers\n",
    "import functools\n",
    "import operator\n",
    "\n",
    "class Vector:\n",
    "    typecode = 'd'\n",
    "    shortcut_names = 'xyzt'\n",
    "    \n",
    "    def __init__(self, components):\n",
    "        # 벡터 요소를 배열로 저장\n",
    "        self._components = array(self.typecode, components)\n",
    "    \n",
    "    \"\"\"시퀀스 프로토콜 구현\"\"\"\n",
    "    def __len__(self):\n",
    "        return len(self._components)\n",
    "    \n",
    "    def __getitem__(self, index):\n",
    "        cls = type(self) # 객체의 클래스를 가져옴\n",
    "        if isinstance(index, slice): # index가 슬라이스이면\n",
    "            return cls(self._components[index]) # Vector 객체를 생성\n",
    "        elif isinstance(index, numbers.Integral): # index가 정수형이면\n",
    "            return self._components[index] # 해당 항목 반환\n",
    "        else:\n",
    "            msg = '{cls.__name__} indices must be integers'\n",
    "            raise TypeError(msg.format(cls=cls)) \n",
    "    \"\"\"시퀀스 프로토콜 구현 종료\"\"\"\n",
    "    \n",
    "    def __getattr__(self, name):\n",
    "        cls = type(self)\n",
    "        if len(name) == 1: # name이 한글자이면 \n",
    "            pos = cls.shortcut_names.find(name)\n",
    "            if 0 <= pos < len(self._components): # 포지션이 범위 내에 있으면 배열 항목 반환\n",
    "                return self._components[pos]\n",
    "        msg = '{.__name__!r} object has no attribute {!r}' \n",
    "        raise AttributeError(msg.format(cls, name))\n",
    "        \n",
    "    def __setattr__(self, name, value):\n",
    "        cls = type(self)\n",
    "        if len(name) == 1:\n",
    "            if name in cls.shortcut_names:\n",
    "                error = 'readonly attribute {attr_name!r}' # xyzt 중 하나는 구체적으로 오류 발생\n",
    "            elif name.islower():\n",
    "                error = \"can't set attributes 'a' to 'z' in {cls_name!r}\" # 그외 소문자면 일반적 메세지 오류 발생\n",
    "            else:\n",
    "                error = ''\n",
    "            if error:\n",
    "                msg = error.format(cls_name=cls.__name__, attr_name=name)\n",
    "                raise AttributeError(msg)\n",
    "        # 에러가 발생하지 않을 때는 정상적으로 __setattr__() 메서드 호출\n",
    "        super().__setattr__(name, value) \n",
    "        \n",
    "                \n",
    "    \n",
    "    def __iter__(self):\n",
    "        return iter(self._components) # 반복할 수 있도록 구현\n",
    "    \n",
    "    def __repr__(self):\n",
    "        components = reprlib.repr(self._components) # 제한된 길이로 출력\n",
    "        components = components[components.find('['):-1] # 문자열 중 앞에 나오는 \"array('d',\" 를 제거\n",
    "        return 'Vector({})'.format(components)\n",
    "    \n",
    "    def __str__(self):\n",
    "        return str(tuple(self))\n",
    "    \n",
    "    def __bytes__(self):\n",
    "        return (bytes([ord(self.typecode)]) + \n",
    "               bytes(self._components))\n",
    "    \n",
    "    def __eq__(self, other):\n",
    "        if len(self) != len(other): # 길이가 다르면 False\n",
    "            return False\n",
    "        for a, b in zip(self, other): # 제너레이터로부터 하나씩 비교\n",
    "            if a != b:\n",
    "                return False\n",
    "        return True\n",
    "    \n",
    "    def __hash__(self):\n",
    "        hashes = (hash(x) for x in self._components) # 제너레이터 표현식 이용\n",
    "        return functools.reduce(operator.xor, hashes, 0) # 초기값을 0으로 함\n",
    "    \n",
    "    def __abs__(self):\n",
    "        return math.sqrt(sum(x * x for x in self))\n",
    "    \n",
    "    def __bool__(self):\n",
    "        return bool(abs(self))\n",
    "    \n",
    "    @classmethod\n",
    "    def frombytes(cls, octets):\n",
    "        typecode = chr(octets[0])\n",
    "        memv = memoryview(octets[1:]).cast(typecode)\n",
    "        return cls(memv) # 언패킹할 필요가 없음"
   ]
  },
  {
   "cell_type": "code",
   "execution_count": 112,
   "id": "df640e9f",
   "metadata": {},
   "outputs": [
    {
     "data": {
      "text/plain": [
       "<zip at 0x1d5b3d87b40>"
      ]
     },
     "execution_count": 112,
     "metadata": {},
     "output_type": "execute_result"
    }
   ],
   "source": [
    "# 내장된 zip()함수의 사용\n",
    "\n",
    "zip(range(3), 'ABC')"
   ]
  },
  {
   "cell_type": "code",
   "execution_count": 113,
   "id": "50abad19",
   "metadata": {},
   "outputs": [
    {
     "data": {
      "text/plain": [
       "[(0, 'A'), (1, 'B'), (2, 'C')]"
      ]
     },
     "execution_count": 113,
     "metadata": {},
     "output_type": "execute_result"
    }
   ],
   "source": [
    "list(zip(range(3), 'ABC'))"
   ]
  },
  {
   "cell_type": "code",
   "execution_count": 116,
   "id": "6302523f",
   "metadata": {},
   "outputs": [
    {
     "data": {
      "text/plain": [
       "[(0, 'A', 0.0), (1, 'B', 1.1), (2, 'C', 2.2)]"
      ]
     },
     "execution_count": 116,
     "metadata": {},
     "output_type": "execute_result"
    }
   ],
   "source": [
    "list(zip(range(3), 'ABC', [0.0, 1.1, 2.2, 3.3]))"
   ]
  },
  {
   "cell_type": "code",
   "execution_count": 124,
   "id": "d90299b5",
   "metadata": {},
   "outputs": [
    {
     "data": {
      "text/plain": [
       "[(0, 'A', 0.0), (1, 'B', 1.1), (2, 'C', 2.2), (1, 1, 3.3)]"
      ]
     },
     "execution_count": 124,
     "metadata": {},
     "output_type": "execute_result"
    }
   ],
   "source": [
    "from itertools import zip_longest\n",
    "list(zip_longest(range(3), 'ABC', [0.0, 1.1, 2.2, 3.3], fillvalue=1))"
   ]
  },
  {
   "cell_type": "code",
   "execution_count": null,
   "id": "b8ffcf57",
   "metadata": {},
   "outputs": [],
   "source": []
  }
 ],
 "metadata": {
  "kernelspec": {
   "display_name": "Python 3 (ipykernel)",
   "language": "python",
   "name": "python3"
  },
  "language_info": {
   "codemirror_mode": {
    "name": "ipython",
    "version": 3
   },
   "file_extension": ".py",
   "mimetype": "text/x-python",
   "name": "python",
   "nbconvert_exporter": "python",
   "pygments_lexer": "ipython3",
   "version": "3.10.9"
  }
 },
 "nbformat": 4,
 "nbformat_minor": 5
}
