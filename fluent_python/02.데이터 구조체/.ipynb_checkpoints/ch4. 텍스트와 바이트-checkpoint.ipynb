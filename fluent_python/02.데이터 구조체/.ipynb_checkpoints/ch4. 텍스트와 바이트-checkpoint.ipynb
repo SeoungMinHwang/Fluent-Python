{
 "cells": [
  {
   "cell_type": "markdown",
   "id": "951b9e99",
   "metadata": {},
   "source": [
    "# 1. 문자 문제"
   ]
  },
  {
   "cell_type": "markdown",
   "id": "46b59edf",
   "metadata": {},
   "source": [
    " - 인코딩  \n",
    " 코드 포인트 ==> 바이트  \n",
    " \n",
    " \n",
    "   \n",
    "    \n",
    " - 디코딩  \n",
    " 바이트 ==> 코드 포인트"
   ]
  },
  {
   "cell_type": "code",
   "execution_count": 6,
   "id": "f36c052a",
   "metadata": {},
   "outputs": [
    {
     "data": {
      "text/plain": [
       "4"
      ]
     },
     "execution_count": 6,
     "metadata": {},
     "output_type": "execute_result"
    }
   ],
   "source": [
    "s = 'cafⓔ'\n",
    "len(s)"
   ]
  },
  {
   "cell_type": "code",
   "execution_count": 7,
   "id": "78d44c62",
   "metadata": {},
   "outputs": [
    {
     "data": {
      "text/plain": [
       "b'caf\\xe2\\x93\\x94'"
      ]
     },
     "execution_count": 7,
     "metadata": {},
     "output_type": "execute_result"
    }
   ],
   "source": [
    "b = s.encode('utf-8')\n",
    "b"
   ]
  },
  {
   "cell_type": "code",
   "execution_count": 8,
   "id": "ac3693eb",
   "metadata": {},
   "outputs": [
    {
     "data": {
      "text/plain": [
       "6"
      ]
     },
     "execution_count": 8,
     "metadata": {},
     "output_type": "execute_result"
    }
   ],
   "source": [
    "len(b)"
   ]
  },
  {
   "cell_type": "code",
   "execution_count": 10,
   "id": "3deed1f0",
   "metadata": {},
   "outputs": [
    {
     "data": {
      "text/plain": [
       "'cafⓔ'"
      ]
     },
     "execution_count": 10,
     "metadata": {},
     "output_type": "execute_result"
    }
   ],
   "source": [
    "b.decode('utf-8')"
   ]
  },
  {
   "cell_type": "markdown",
   "id": "a80da9b0",
   "metadata": {},
   "source": [
    "# 2. 바이트에 대한 기본 지식"
   ]
  },
  {
   "cell_type": "markdown",
   "id": "679ed0ca",
   "metadata": {},
   "source": [
    "위에서 보듯이 bytes는 str에 인코딩을 지정해서 만들 수 있습니다. bytes의 각 항목은 range(256)에 속하는 정수이며, bytes는 슬라이싱해도 bytes인데, 이는 슬라이스가 한 바이트일 때도 마찬가지입니다.\n",
    "\n",
    "bytesarray에 대한 리터럴 구문은 없고, bytes 리터럴을 인수로 사용해서 bytearray()로 표현합니다."
   ]
  },
  {
   "cell_type": "code",
   "execution_count": 11,
   "id": "cdb9d4e9",
   "metadata": {},
   "outputs": [
    {
     "data": {
      "text/plain": [
       "b'caf\\xe2\\x93\\x94'"
      ]
     },
     "execution_count": 11,
     "metadata": {},
     "output_type": "execute_result"
    }
   ],
   "source": [
    "cafe = bytes('cafⓔ', encoding = 'utf-8')\n",
    "cafe"
   ]
  },
  {
   "cell_type": "code",
   "execution_count": 12,
   "id": "ebb63c11",
   "metadata": {},
   "outputs": [
    {
     "data": {
      "text/plain": [
       "99"
      ]
     },
     "execution_count": 12,
     "metadata": {},
     "output_type": "execute_result"
    }
   ],
   "source": [
    "cafe[0]"
   ]
  },
  {
   "cell_type": "code",
   "execution_count": 13,
   "id": "989af07c",
   "metadata": {},
   "outputs": [
    {
     "data": {
      "text/plain": [
       "b'c'"
      ]
     },
     "execution_count": 13,
     "metadata": {},
     "output_type": "execute_result"
    }
   ],
   "source": [
    "cafe[:1]"
   ]
  },
  {
   "cell_type": "code",
   "execution_count": 15,
   "id": "a488b677",
   "metadata": {},
   "outputs": [
    {
     "data": {
      "text/plain": [
       "bytearray(b'caf\\xe2\\x93\\x94')"
      ]
     },
     "execution_count": 15,
     "metadata": {},
     "output_type": "execute_result"
    }
   ],
   "source": [
    "cafe_arr = bytearray(cafe)\n",
    "cafe_arr"
   ]
  },
  {
   "cell_type": "code",
   "execution_count": 16,
   "id": "e1b170e6",
   "metadata": {},
   "outputs": [
    {
     "data": {
      "text/plain": [
       "bytearray(b'\\x94')"
      ]
     },
     "execution_count": 16,
     "metadata": {},
     "output_type": "execute_result"
    }
   ],
   "source": [
    "cafe_arr[-1:]"
   ]
  },
  {
   "cell_type": "markdown",
   "id": "21954433",
   "metadata": {},
   "source": [
    "바이너리 시퀀스가 실제로 정수 타입의 시퀀스이기는 하지만, 리터럴 표기법을 보면 실제로는 아스키 텍스트가 들어가는 경우가 많다는 것을 알 수 있습니다. 따라서 각 바이트 값에 따라 다음과 같이 세 가지 형태로 출력이 가능합니다.\n",
    "\n",
    " - 화면에 출력 가능한 아스키 문자\n",
    " - 탭, 개행 문자, 캐리지 리턴(carriage return), 백슬래시(\\)는 이스케이프 시퀀스(\\t, \\n, \\r, \\\\)로 출력\n",
    " - 그 외의 값을 널 바이트를 나타내는 \\x00처럼 16진수 이스케이프 시퀀스로 출력"
   ]
  },
  {
   "cell_type": "code",
   "execution_count": 24,
   "id": "d3ebe1a4",
   "metadata": {},
   "outputs": [
    {
     "data": {
      "text/plain": [
       "b'1K\\xce\\xa9'"
      ]
     },
     "execution_count": 24,
     "metadata": {},
     "output_type": "execute_result"
    }
   ],
   "source": [
    "bytes.fromhex('31 4B CE A9')"
   ]
  },
  {
   "cell_type": "markdown",
   "id": "2e2ce385",
   "metadata": {},
   "source": [
    "바이너리 시퀀스는 fromhex()라는 str에 없는 클래스 메소드도 제공하는데, 이 메소드를 이용하면 공백으로 구분된 16진수 쌍을 파싱해서 바이너리 시퀀스를 만들 수 있습니다."
   ]
  },
  {
   "cell_type": "code",
   "execution_count": 26,
   "id": "399333d0",
   "metadata": {},
   "outputs": [
    {
     "data": {
      "text/plain": [
       "b'\\xfe\\xff\\xff\\xff\\x00\\x00\\x01\\x00\\x02\\x00'"
      ]
     },
     "execution_count": 26,
     "metadata": {},
     "output_type": "execute_result"
    }
   ],
   "source": [
    "import array\n",
    "numbers = array.array('h', [-2, -1, 0, 1, 2])\n",
    "octets = bytes(numbers)\n",
    "octets"
   ]
  },
  {
   "cell_type": "markdown",
   "id": "5f54b53a",
   "metadata": {},
   "source": [
    "여기서 'h' 타입코드는 short int(16비트) 타입의 배열을 생성합니다. octets은 numbers를 구성하는 바이트들의 사본을 가지고 있으며 octets은 다섯 개의 short int 타입을 나타내는 10바이트입니다."
   ]
  },
  {
   "cell_type": "markdown",
   "id": "6b5dd641",
   "metadata": {},
   "source": [
    "### 2.1 구조체와 메모리 뷰"
   ]
  },
  {
   "cell_type": "markdown",
   "id": "69ad381d",
   "metadata": {},
   "source": [
    "struct 모듈은 패킹된 바이트를 다양한 형의 필드로 구성된 튜플로 분석하고, 이와 반대로 튜플을 패킹된 바이트로 변환하는 함수를 제공한다. struct는 bytes, bytearray, memoryview 객체와 함께 사용된다."
   ]
  },
  {
   "cell_type": "code",
   "execution_count": 36,
   "id": "0764a3ee",
   "metadata": {},
   "outputs": [
    {
     "data": {
      "text/plain": [
       "b'<!DOCTYPE '"
      ]
     },
     "execution_count": 36,
     "metadata": {},
     "output_type": "execute_result"
    }
   ],
   "source": [
    "# memoryview와 struct를 사용해서 GIF 이미지 헤더 조사하기\n",
    "import struct\n",
    "fmt = '<3s3sHH'\n",
    "with open('filter.gif', 'rb') as fp:\n",
    "    img = memoryview(fp.read())\n",
    "header = img[:10]\n",
    "bytes(header)"
   ]
  },
  {
   "cell_type": "code",
   "execution_count": 39,
   "id": "8d5eb9a3",
   "metadata": {},
   "outputs": [
    {
     "data": {
      "text/plain": [
       "(b'<!D', b'OCT', 20569, 8261)"
      ]
     },
     "execution_count": 39,
     "metadata": {},
     "output_type": "execute_result"
    }
   ],
   "source": [
    "struct.unpack(fmt, header) # 종류 버전 너비 높이 튜플로 언패킹 "
   ]
  },
  {
   "cell_type": "code",
   "execution_count": 40,
   "id": "47cb5e58",
   "metadata": {},
   "outputs": [],
   "source": [
    "del header\n",
    "del img"
   ]
  },
  {
   "cell_type": "markdown",
   "id": "5e998908",
   "metadata": {},
   "source": [
    "# 3. 기본 인코더/디코더"
   ]
  },
  {
   "cell_type": "markdown",
   "id": "596018ce",
   "metadata": {},
   "source": [
    "텍스트를 바이트 혹은 바이트를 텍스트로 변환하기 위해 파이썬에는 100여개의 코덱(인코더/디코더)이 포함되어 있다. 각 코덱은 utf_8과 같은 이름을 갖고 있는데, utf_8은 utf8, utf-8, U8 등으로 불리기도 한다. 코덱은 open(), str.encode(), bytes.decode() 등의 함수를 호출할 때, encoding 인수에 전달해서 사용할 수 있다."
   ]
  },
  {
   "cell_type": "code",
   "execution_count": 42,
   "id": "9d3f663c",
   "metadata": {},
   "outputs": [
    {
     "name": "stdout",
     "output_type": "stream",
     "text": [
      "latin_1\tb'El Ni\\xf1o'\n",
      "utf_8\tb'El Ni\\xc3\\xb1o'\n",
      "utf_16\tb'\\xff\\xfeE\\x00l\\x00 \\x00N\\x00i\\x00\\xf1\\x00o\\x00'\n"
     ]
    }
   ],
   "source": [
    "# 전혀 다른 바이트 시퀀스를 만드는 세 개의 코덱으로 인코딩한 El Niño 문자열\n",
    "for codec in ['latin_1', 'utf_8', 'utf_16']:\n",
    "    print(codec, 'El Niño'.encode(codec), sep = '\\t')\n",
    "    "
   ]
  },
  {
   "cell_type": "markdown",
   "id": "10e6224b",
   "metadata": {},
   "source": [
    "# 인코딩/디코딩 문제 이해하기"
   ]
  },
  {
   "cell_type": "markdown",
   "id": "9ce69d60",
   "metadata": {},
   "source": [
    "UnicodeError 라는 범용 예외가 있긴 하지만, 일반적으로 UnicodeEncodeError, UnicodeDecodeError 같은 구체적인 예외가 발생한다. 유니코드 에러가 발생할 때, 이러한 정확한 유형을 파악하는 것이 중요하다."
   ]
  },
  {
   "cell_type": "markdown",
   "id": "00d9c46c",
   "metadata": {},
   "source": [
    "### 4.1 UnicodeEncodeError 처리하기"
   ]
  },
  {
   "cell_type": "markdown",
   "id": "f98a46b6",
   "metadata": {},
   "source": [
    "UnicodeEncodeError 는 비UTF 코덱이 유니코드 문자의 일부만을 처리할 수 있으므로, 문자가 인코딩에 정의되어 있지 않아 발생하는 에러이다.\n"
   ]
  },
  {
   "cell_type": "code",
   "execution_count": 53,
   "id": "1d24c3a0",
   "metadata": {},
   "outputs": [
    {
     "data": {
      "text/plain": [
       "b' S\\xc3\\xa3o Paulo'"
      ]
     },
     "execution_count": 53,
     "metadata": {},
     "output_type": "execute_result"
    }
   ],
   "source": [
    "# 바이트로 인코딩하기 : 성공 및 에러 처리\n",
    "city = ' São Paulo'\n",
    "city.encode('utf_8')"
   ]
  },
  {
   "cell_type": "code",
   "execution_count": 45,
   "id": "18a501f3",
   "metadata": {},
   "outputs": [
    {
     "data": {
      "text/plain": [
       "b'\\xff\\xfe \\x00S\\x00\\xe3\\x00o\\x00 \\x00P\\x00a\\x00u\\x00l\\x00o\\x00'"
      ]
     },
     "execution_count": 45,
     "metadata": {},
     "output_type": "execute_result"
    }
   ],
   "source": [
    "city.encode('utf_16')"
   ]
  },
  {
   "cell_type": "code",
   "execution_count": 46,
   "id": "2f207d97",
   "metadata": {},
   "outputs": [
    {
     "data": {
      "text/plain": [
       "b' S\\xe3o Paulo'"
      ]
     },
     "execution_count": 46,
     "metadata": {},
     "output_type": "execute_result"
    }
   ],
   "source": [
    "city.encode('iso8859_1')"
   ]
  },
  {
   "cell_type": "code",
   "execution_count": 49,
   "id": "fff1f70d",
   "metadata": {},
   "outputs": [
    {
     "ename": "UnicodeEncodeError",
     "evalue": "'charmap' codec can't encode character '\\xe3' in position 2: character maps to <undefined>",
     "output_type": "error",
     "traceback": [
      "\u001b[1;31m---------------------------------------------------------------------------\u001b[0m",
      "\u001b[1;31mUnicodeEncodeError\u001b[0m                        Traceback (most recent call last)",
      "Cell \u001b[1;32mIn[49], line 1\u001b[0m\n\u001b[1;32m----> 1\u001b[0m \u001b[43mcity\u001b[49m\u001b[38;5;241;43m.\u001b[39;49m\u001b[43mencode\u001b[49m\u001b[43m(\u001b[49m\u001b[38;5;124;43m'\u001b[39;49m\u001b[38;5;124;43mcp437\u001b[39;49m\u001b[38;5;124;43m'\u001b[39;49m\u001b[43m)\u001b[49m\n",
      "File \u001b[1;32m~\\anaconda3\\lib\\encodings\\cp437.py:12\u001b[0m, in \u001b[0;36mCodec.encode\u001b[1;34m(self, input, errors)\u001b[0m\n\u001b[0;32m     11\u001b[0m \u001b[38;5;28;01mdef\u001b[39;00m \u001b[38;5;21mencode\u001b[39m(\u001b[38;5;28mself\u001b[39m,\u001b[38;5;28minput\u001b[39m,errors\u001b[38;5;241m=\u001b[39m\u001b[38;5;124m'\u001b[39m\u001b[38;5;124mstrict\u001b[39m\u001b[38;5;124m'\u001b[39m):\n\u001b[1;32m---> 12\u001b[0m     \u001b[38;5;28;01mreturn\u001b[39;00m \u001b[43mcodecs\u001b[49m\u001b[38;5;241;43m.\u001b[39;49m\u001b[43mcharmap_encode\u001b[49m\u001b[43m(\u001b[49m\u001b[38;5;28;43minput\u001b[39;49m\u001b[43m,\u001b[49m\u001b[43merrors\u001b[49m\u001b[43m,\u001b[49m\u001b[43mencoding_map\u001b[49m\u001b[43m)\u001b[49m\n",
      "\u001b[1;31mUnicodeEncodeError\u001b[0m: 'charmap' codec can't encode character '\\xe3' in position 2: character maps to <undefined>"
     ]
    }
   ],
   "source": [
    "city.encode('cp437')"
   ]
  },
  {
   "cell_type": "code",
   "execution_count": 50,
   "id": "6dd3c26d",
   "metadata": {},
   "outputs": [
    {
     "data": {
      "text/plain": [
       "b' So Paulo'"
      ]
     },
     "execution_count": 50,
     "metadata": {},
     "output_type": "execute_result"
    }
   ],
   "source": [
    "city.encode('cp437', errors='ignore')"
   ]
  },
  {
   "cell_type": "code",
   "execution_count": 51,
   "id": "99e08a70",
   "metadata": {},
   "outputs": [
    {
     "data": {
      "text/plain": [
       "b' S?o Paulo'"
      ]
     },
     "execution_count": 51,
     "metadata": {},
     "output_type": "execute_result"
    }
   ],
   "source": [
    "city.encode('cp437', errors='replace')"
   ]
  },
  {
   "cell_type": "code",
   "execution_count": 52,
   "id": "655ce632",
   "metadata": {},
   "outputs": [
    {
     "data": {
      "text/plain": [
       "b' S&#227;o Paulo'"
      ]
     },
     "execution_count": 52,
     "metadata": {},
     "output_type": "execute_result"
    }
   ],
   "source": [
    "city.encode('cp437', errors='xmlcharrefreplace')"
   ]
  },
  {
   "cell_type": "markdown",
   "id": "a9312cbb",
   "metadata": {},
   "source": [
    "### 4.2 UnicodeDecodeError 처리하기"
   ]
  },
  {
   "cell_type": "markdown",
   "id": "658eeffd",
   "metadata": {},
   "source": [
    "UnicodeEncodeError 는 비UTF 코덱이 유니코드 문자의 일부만을 처리할 수 있으므로, 문자가 인코딩에 정의되어 있지 않아 발생하는 에러이다.\n",
    "\n",
    "UnicodeDecodeError 는 이진 시퀀스를 텍스트로 변환할 때, 문자로 변환할 수 없으면 발생한다. 하지만 'cp1252', 'iso8859_1' 등 많은 레거시 8비트 코덱은 무작위 비트 배열에 대해서도 에러를 발생시키지 않고 디코딩할 수 있다. 이 때 왜곡된 문자를 그렘린(gremlin) 혹은 문자 깨짐이라고 한다.\n",
    "\n"
   ]
  },
  {
   "cell_type": "code",
   "execution_count": 57,
   "id": "d313dfb6",
   "metadata": {},
   "outputs": [
    {
     "data": {
      "text/plain": [
       "'Montréal'"
      ]
     },
     "execution_count": 57,
     "metadata": {},
     "output_type": "execute_result"
    }
   ],
   "source": [
    "#str에서 bytes로 디코딩하기: 성공 및 에러 처리\n",
    "octets = b'Montr\\xe9al'\n",
    "octets.decode('cp1252')"
   ]
  },
  {
   "cell_type": "code",
   "execution_count": 58,
   "id": "219f0916",
   "metadata": {},
   "outputs": [
    {
     "data": {
      "text/plain": [
       "'Montrιal'"
      ]
     },
     "execution_count": 58,
     "metadata": {},
     "output_type": "execute_result"
    }
   ],
   "source": [
    "octets.decode('iso8859_7')"
   ]
  },
  {
   "cell_type": "code",
   "execution_count": 59,
   "id": "9d23618b",
   "metadata": {},
   "outputs": [
    {
     "data": {
      "text/plain": [
       "'MontrИal'"
      ]
     },
     "execution_count": 59,
     "metadata": {},
     "output_type": "execute_result"
    }
   ],
   "source": [
    "octets.decode('koi8_r')"
   ]
  },
  {
   "cell_type": "code",
   "execution_count": 62,
   "id": "b817fcc2",
   "metadata": {},
   "outputs": [
    {
     "ename": "UnicodeDecodeError",
     "evalue": "'utf-8' codec can't decode byte 0xe9 in position 5: invalid continuation byte",
     "output_type": "error",
     "traceback": [
      "\u001b[1;31m---------------------------------------------------------------------------\u001b[0m",
      "\u001b[1;31mUnicodeDecodeError\u001b[0m                        Traceback (most recent call last)",
      "Cell \u001b[1;32mIn[62], line 1\u001b[0m\n\u001b[1;32m----> 1\u001b[0m \u001b[43moctets\u001b[49m\u001b[38;5;241;43m.\u001b[39;49m\u001b[43mdecode\u001b[49m\u001b[43m(\u001b[49m\u001b[38;5;124;43m'\u001b[39;49m\u001b[38;5;124;43mutf_8\u001b[39;49m\u001b[38;5;124;43m'\u001b[39;49m\u001b[43m)\u001b[49m\n",
      "\u001b[1;31mUnicodeDecodeError\u001b[0m: 'utf-8' codec can't decode byte 0xe9 in position 5: invalid continuation byte"
     ]
    }
   ],
   "source": [
    "octets.decode('utf_8')"
   ]
  },
  {
   "cell_type": "code",
   "execution_count": 63,
   "id": "d756cdf9",
   "metadata": {},
   "outputs": [
    {
     "data": {
      "text/plain": [
       "'Montr�al'"
      ]
     },
     "execution_count": 63,
     "metadata": {},
     "output_type": "execute_result"
    }
   ],
   "source": [
    "octets.decode('utf_8', errors='replace')"
   ]
  },
  {
   "cell_type": "markdown",
   "id": "f77e5760",
   "metadata": {},
   "source": [
    "### 4.3 예상과 달리 인코딩된 모듈을 로딩할 때 발생하는 SyntaxError"
   ]
  },
  {
   "cell_type": "markdown",
   "id": "f8db8396",
   "metadata": {},
   "source": [
    "파이썬 3버전 부터는 UTF-8을 기본 인코딩 방식으로 사용한다. 인코딩 선언 없이 비UTF-8로 인코딩된 모듈을 로딩하면 SyntaxError가 발생한다. "
   ]
  },
  {
   "cell_type": "code",
   "execution_count": 65,
   "id": "e70bbf7c",
   "metadata": {},
   "outputs": [
    {
     "name": "stdout",
     "output_type": "stream",
     "text": [
      "Olã Mundo!\n"
     ]
    }
   ],
   "source": [
    "# Olã.py '헬로 월드!' 포르투갈어 버전\n",
    "#coding: cp1252\n",
    "\n",
    "print('Olã Mundo!')"
   ]
  },
  {
   "cell_type": "markdown",
   "id": "4c0c7c90",
   "metadata": {},
   "source": [
    "### 4.4 바이트 시퀀스의 인코딩 방식을 알아내는 방법"
   ]
  },
  {
   "cell_type": "markdown",
   "id": "76e92412",
   "metadata": {},
   "source": [
    "바이트 시퀀스의 인코딩 방식을 알아낼 수는 없다. 별도의 인코딩 정보를 가져와야 한다. Chardet 이라는 프로그램은 인코딩 방식에 따른 결과의 특징을 통해서 역으로 인코딩 방식을 추정한다.\n",
    "\n",
    "UTF 인코딩을 통한 바이트 시퀀스는 BOM(byte order mark) 이라는 바이트 순서 표시를 추가함으로써, 인코딩 방식이 UTF 방식이라는 것을 유추할 수 있다. 하지만 파이썬은 BOM이 추가되어있다고 하더라도, 자동으로 UTF-8로 인코딩되어 있다고 가정하지는 않는다.\n",
    "\n",
    " "
   ]
  },
  {
   "cell_type": "markdown",
   "id": "3a221805",
   "metadata": {},
   "source": [
    "### 4.5 BOM: 유용한 깨진 문자"
   ]
  },
  {
   "cell_type": "code",
   "execution_count": 66,
   "id": "b9bf7379",
   "metadata": {},
   "outputs": [
    {
     "data": {
      "text/plain": [
       "b'\\xff\\xfeE\\x00l\\x00 \\x00N\\x00i\\x00\\xf1\\x00o\\x00'"
      ]
     },
     "execution_count": 66,
     "metadata": {},
     "output_type": "execute_result"
    }
   ],
   "source": [
    "u16 = 'El Niño'.encode('utf_16')\n",
    "u16"
   ]
  },
  {
   "cell_type": "markdown",
   "id": "eb40289b",
   "metadata": {},
   "source": [
    "UTF-16으로 인코딩된 텍스트 앞에 여분의 바이트가 있는 것을 보았을 것이다.\n",
    "b'\\xff\\xfe' 문자가 앞에 나온 것을 볼 수 있다. 이 문자가 바로 바이트 순서 표시(BOM)로, 인코딩한 인텔 CPU의 '리틀엔디언' 바이트 순서를 나타낸다."
   ]
  },
  {
   "cell_type": "code",
   "execution_count": 67,
   "id": "6d6d4f37",
   "metadata": {},
   "outputs": [
    {
     "data": {
      "text/plain": [
       "[255, 254, 69, 0, 108, 0, 32, 0, 78, 0, 105, 0, 241, 0, 111, 0]"
      ]
     },
     "execution_count": 67,
     "metadata": {},
     "output_type": "execute_result"
    }
   ],
   "source": [
    "list(u16)"
   ]
  },
  {
   "cell_type": "markdown",
   "id": "7f7603ce",
   "metadata": {},
   "source": [
    "# 5. 텍스트 파일 다루기"
   ]
  },
  {
   "cell_type": "markdown",
   "id": "0c451eec",
   "metadata": {},
   "source": [
    "텍스트를 처리하는 가장 좋은 방법은 유니코드 샌드위치다. \n",
    "\n",
    "\n",
    "![이미지 설명](https://img1.daumcdn.net/thumb/R1280x0/?scode=mtistory2&fname=https%3A%2F%2Fblog.kakaocdn.net%2Fdn%2FbQv0Gp%2FbtrhesueUgx%2Fxmyvy5hktRjNZQVlIAGRF0%2Fimg.png)\n",
    "이는 입력할 때 가능하면 빨리 bytes를 str로 변환해야 한다는 것을 의미한다. 샌드위치에 들어가는 고기는 프로그램의 비즈니스 논리에 해당하는 부분이며, 여기서는 텍스트를 오로지 str 객체로 다룬다. 출력할 때는 가능한 한 늦게 str을 bytes로 인코딩한다.\n",
    "\n",
    "파이썬 3의 open() 함수는 파일을 텍스트 모드로 읽고 쓸 때 필요한 모든 인코딩과 디코딩 작업을 수행해주므로 my_file.read() 에서 str 객체를 가져와서 처리하고 my_file.write() 에 전달하면 된다.\n",
    "\n",
    " \n",
    "\n",
    "이 때, 실행하는 컴퓨터에 따라 인코딩 방식을 지정해주지 않으면 버그가 발생할 수 있다. 윈도우의 경우 기본 인코딩이 UTF8이 아닐 수 있기 때문이다.\n",
    "\n",
    " \n",
    "\n",
    "가장 중요한 점은 컴퓨터나 OS 환경에 따르는 기본 인코딩에 의존하지 않는 것이다. 항상 인코딩 방식을 명시하는 것이 좋다."
   ]
  },
  {
   "cell_type": "code",
   "execution_count": 75,
   "id": "02d4a12e",
   "metadata": {},
   "outputs": [
    {
     "data": {
      "text/plain": [
       "4"
      ]
     },
     "execution_count": 75,
     "metadata": {},
     "output_type": "execute_result"
    }
   ],
   "source": [
    "open('cafe.txt', 'w', encoding='utf_8').write('cafⓔ')"
   ]
  },
  {
   "cell_type": "code",
   "execution_count": 79,
   "id": "8e32d2c7",
   "metadata": {},
   "outputs": [
    {
     "ename": "UnicodeDecodeError",
     "evalue": "'cp949' codec can't decode byte 0xe2 in position 3: illegal multibyte sequence",
     "output_type": "error",
     "traceback": [
      "\u001b[1;31m---------------------------------------------------------------------------\u001b[0m",
      "\u001b[1;31mUnicodeDecodeError\u001b[0m                        Traceback (most recent call last)",
      "Cell \u001b[1;32mIn[79], line 2\u001b[0m\n\u001b[0;32m      1\u001b[0m \u001b[38;5;66;03m# 플랫폼 인코딩 문제\u001b[39;00m\n\u001b[1;32m----> 2\u001b[0m \u001b[38;5;28;43mopen\u001b[39;49m\u001b[43m(\u001b[49m\u001b[38;5;124;43m'\u001b[39;49m\u001b[38;5;124;43mcafe.txt\u001b[39;49m\u001b[38;5;124;43m'\u001b[39;49m\u001b[43m)\u001b[49m\u001b[38;5;241;43m.\u001b[39;49m\u001b[43mread\u001b[49m\u001b[43m(\u001b[49m\u001b[43m)\u001b[49m\n",
      "\u001b[1;31mUnicodeDecodeError\u001b[0m: 'cp949' codec can't decode byte 0xe2 in position 3: illegal multibyte sequence"
     ]
    }
   ],
   "source": [
    "# 플랫폼 인코딩 문제\n",
    "open('cafe.txt').read()"
   ]
  },
  {
   "cell_type": "code",
   "execution_count": 81,
   "id": "d38f6842",
   "metadata": {},
   "outputs": [
    {
     "data": {
      "text/plain": [
       "<_io.TextIOWrapper name='cafe.txt' mode='w' encoding='utf_8'>"
      ]
     },
     "execution_count": 81,
     "metadata": {},
     "output_type": "execute_result"
    }
   ],
   "source": [
    "#윈도우에서 실행해서 조사하면 버그와 해결 방법을 찾을 수 있다.\n",
    "fp = open('cafe.txt', 'w', encoding='utf_8')\n",
    "fp"
   ]
  },
  {
   "cell_type": "code",
   "execution_count": 82,
   "id": "e174270f",
   "metadata": {},
   "outputs": [
    {
     "data": {
      "text/plain": [
       "4"
      ]
     },
     "execution_count": 82,
     "metadata": {},
     "output_type": "execute_result"
    }
   ],
   "source": [
    "fp.write('cafⓔ')"
   ]
  },
  {
   "cell_type": "code",
   "execution_count": 83,
   "id": "de734b54",
   "metadata": {},
   "outputs": [],
   "source": [
    "fp.close()"
   ]
  },
  {
   "cell_type": "code",
   "execution_count": 84,
   "id": "6f3fe3d2",
   "metadata": {},
   "outputs": [
    {
     "data": {
      "text/plain": [
       "6"
      ]
     },
     "execution_count": 84,
     "metadata": {},
     "output_type": "execute_result"
    }
   ],
   "source": [
    "import os\n",
    "os.stat('cafe.txt').st_size"
   ]
  },
  {
   "cell_type": "code",
   "execution_count": 85,
   "id": "a2d3c6ab",
   "metadata": {},
   "outputs": [
    {
     "data": {
      "text/plain": [
       "<_io.TextIOWrapper name='cafe.txt' mode='r' encoding='cp949'>"
      ]
     },
     "execution_count": 85,
     "metadata": {},
     "output_type": "execute_result"
    }
   ],
   "source": [
    "fp2 = open('cafe.txt')\n",
    "fp2"
   ]
  },
  {
   "cell_type": "code",
   "execution_count": 86,
   "id": "1b76911e",
   "metadata": {},
   "outputs": [
    {
     "data": {
      "text/plain": [
       "'cp949'"
      ]
     },
     "execution_count": 86,
     "metadata": {},
     "output_type": "execute_result"
    }
   ],
   "source": [
    "fp2.encoding"
   ]
  },
  {
   "cell_type": "code",
   "execution_count": 87,
   "id": "1be5d6cb",
   "metadata": {},
   "outputs": [
    {
     "ename": "UnicodeDecodeError",
     "evalue": "'cp949' codec can't decode byte 0xe2 in position 3: illegal multibyte sequence",
     "output_type": "error",
     "traceback": [
      "\u001b[1;31m---------------------------------------------------------------------------\u001b[0m",
      "\u001b[1;31mUnicodeDecodeError\u001b[0m                        Traceback (most recent call last)",
      "Cell \u001b[1;32mIn[87], line 1\u001b[0m\n\u001b[1;32m----> 1\u001b[0m \u001b[43mfp2\u001b[49m\u001b[38;5;241;43m.\u001b[39;49m\u001b[43mread\u001b[49m\u001b[43m(\u001b[49m\u001b[43m)\u001b[49m\n",
      "\u001b[1;31mUnicodeDecodeError\u001b[0m: 'cp949' codec can't decode byte 0xe2 in position 3: illegal multibyte sequence"
     ]
    }
   ],
   "source": [
    "fp2.read()"
   ]
  },
  {
   "cell_type": "code",
   "execution_count": 88,
   "id": "3ae4e91b",
   "metadata": {},
   "outputs": [
    {
     "data": {
      "text/plain": [
       "<_io.TextIOWrapper name='cafe.txt' mode='r' encoding='utf_8'>"
      ]
     },
     "execution_count": 88,
     "metadata": {},
     "output_type": "execute_result"
    }
   ],
   "source": [
    "fp3 = open('cafe.txt', encoding='utf_8')\n",
    "fp3"
   ]
  },
  {
   "cell_type": "code",
   "execution_count": 89,
   "id": "16d0be60",
   "metadata": {},
   "outputs": [
    {
     "data": {
      "text/plain": [
       "'cafⓔ'"
      ]
     },
     "execution_count": 89,
     "metadata": {},
     "output_type": "execute_result"
    }
   ],
   "source": [
    "fp3.read()"
   ]
  },
  {
   "cell_type": "code",
   "execution_count": 90,
   "id": "b2227b4d",
   "metadata": {},
   "outputs": [
    {
     "data": {
      "text/plain": [
       "<_io.BufferedReader name='cafe.txt'>"
      ]
     },
     "execution_count": 90,
     "metadata": {},
     "output_type": "execute_result"
    }
   ],
   "source": [
    "fp4 = open('cafe.txt', 'rb')\n",
    "fp4"
   ]
  },
  {
   "cell_type": "code",
   "execution_count": 91,
   "id": "f4c40afa",
   "metadata": {},
   "outputs": [
    {
     "data": {
      "text/plain": [
       "b'caf\\xe2\\x93\\x94'"
      ]
     },
     "execution_count": 91,
     "metadata": {},
     "output_type": "execute_result"
    }
   ],
   "source": [
    "fp4.read()"
   ]
  },
  {
   "cell_type": "markdown",
   "id": "c33b246b",
   "metadata": {},
   "source": [
    "### 5.1 기본 인코딩 설정: 정신 나간 거 아냐?"
   ]
  },
  {
   "cell_type": "markdown",
   "id": "c57baddc",
   "metadata": {},
   "source": [
    "대충 리눅에서는 utf-8인코딩을 사용하지만 윈도우에서는 cp1252를 사용한다는 이야기"
   ]
  },
  {
   "cell_type": "markdown",
   "id": "6975b2df",
   "metadata": {},
   "source": [
    "# 6 제대로 비교하기 위해 유니코드 정규화 하기"
   ]
  },
  {
   "cell_type": "markdown",
   "id": "e427e28e",
   "metadata": {},
   "source": [
    "유니코드에는 결합 문자가 있기 때문에 문자열 비교가 쉽지 않다. 발음 구별 기호는 앞 문자와 하나로 결합되어 출력된다."
   ]
  },
  {
   "cell_type": "code",
   "execution_count": 92,
   "id": "c9c020b2",
   "metadata": {},
   "outputs": [
    {
     "name": "stdout",
     "output_type": "stream",
     "text": [
      "café café\n",
      "4 5\n",
      "False\n"
     ]
    }
   ],
   "source": [
    "s1 = 'café'\n",
    "s2 = 'cafe\\u0301'\n",
    "print(s1, s2)\n",
    "print(len(s1), len(s2))\n",
    "print(s1 == s2)"
   ]
  },
  {
   "cell_type": "markdown",
   "id": "b03656ee",
   "metadata": {},
   "source": [
    "유니코드 표준에서는 'é' 와 '\\u0301' 이 두개의 시퀀스를 규범적으로 동일하다고 보며, 애플리케이션은 이 두 시퀀스를 동일하게 처리해야 하지만 파이썬에서는 서로 동일하지 않다고 판단한다.\n",
    "\n",
    " \n",
    "\n",
    "이 때, unicodedata.normalize() 함수가 제공하는 정규화를 이용해야 한다. 이 함수의 첫 번째 인수는 'NFC', 'NFD', 'NFKC', 'NFKD' 중 하나여야 한다.\n",
    "\n",
    " \n",
    "\n",
    "NFC(Normalization Form C) 는 코드 포인트를 조합해서 가장 짧은 동일 문자열을 생성하는 반면, NFD는 조합된 문자를 기본 문자와 별도의 결합 문자로 분리한다."
   ]
  },
  {
   "cell_type": "code",
   "execution_count": 93,
   "id": "3fcd3343",
   "metadata": {},
   "outputs": [
    {
     "name": "stdout",
     "output_type": "stream",
     "text": [
      "4 4\n",
      "5 5\n",
      "True\n",
      "True\n"
     ]
    }
   ],
   "source": [
    "from unicodedata import normalize\n",
    "ss1 = 'café'\n",
    "ss2 = 'cafe\\u0301'\n",
    "\n",
    "print(len(normalize('NFC', ss1)), len(normalize('NFC', ss2)))\n",
    "\n",
    "print(len(normalize('NFD', ss1)), len(normalize('NFD', ss2)))\n",
    "\n",
    "print(normalize('NFC', ss1) == normalize('NFC', ss2))\n",
    "\n",
    "print(normalize('NFD', ss1) == normalize('NFD', ss2))"
   ]
  },
  {
   "cell_type": "markdown",
   "id": "e501dd38",
   "metadata": {},
   "source": [
    "키보드는 일반적으로 결합된 문자를 입력할 수 있으므로, 사용자가 입력하는 텍스트는 기본적으로 NFC 형태다. 그러나 안전을 보장하기 위해 파일에 저장하기 전 normalize('NFC', user_text) 코드로 문자열을 청소하는 것이 좋다.\n",
    "\n",
    "그럼에도 NFC에 의해 서로 다르게 정규화 되는 문자가 있다. 전기 저항을 나타내는 문자 Ω (옴) 기호는 그리스어 대문자 오메가로 정규화 된다.\n",
    "\n",
    "나머지 두 인수 NFKC 와 NFKD 에서의 K는 호환성(compatibility)을 나타낸다. 정규화의 더 강력한 형태로서, 호환성 문자에 영향을 미친다. 위 방식에서 각 호환성 문자는 포매팅 손실이 발생하더라도 선호하는 형태의 하나 이상의 문자로 구성된 호환성 분할로 치환된다. 예를 들면,  절반을 나타내는 '½' 문자의 호환성 분할은 세 개 문자의 시퀀스인 '1/2' 로 치환된다. 즉, 일반적으로 많이 사용되고 사용자들이 선호하는 형태로 분할 및 치환됨을 의미한다."
   ]
  },
  {
   "cell_type": "code",
   "execution_count": 94,
   "id": "13a5b32b",
   "metadata": {},
   "outputs": [
    {
     "name": "stdout",
     "output_type": "stream",
     "text": [
      "1⁄2\n"
     ]
    }
   ],
   "source": [
    "from unicodedata import normalize, name\n",
    "\n",
    "half = '½'\n",
    "print(normalize('NFKC', half))"
   ]
  },
  {
   "cell_type": "markdown",
   "id": "92f03dd5",
   "metadata": {},
   "source": [
    "NFKC와 NFKD 는 검색 및 색인 생성을 위한 편리한 중간 형태를 생성할 수 있는 장점이 있지만, 정보를 왜곡하여 데이터가 손실될 수 있기 때문에 영구 저장할 경우에는 사용하지 않는 것이 좋다."
   ]
  },
  {
   "cell_type": "code",
   "execution_count": null,
   "id": "a27a7491",
   "metadata": {},
   "outputs": [],
   "source": []
  },
  {
   "cell_type": "markdown",
   "id": "9e84b424",
   "metadata": {},
   "source": [
    "### 6.1 케이스 폴딩\n",
    "\n",
    "케이스 폴딩은 모든 텍스트를 소문자로 변환하는 연산이며, 약간의 변환을 동반한다.\n"
   ]
  },
  {
   "cell_type": "code",
   "execution_count": 97,
   "id": "e0ae4c3f",
   "metadata": {},
   "outputs": [
    {
     "name": "stdout",
     "output_type": "stream",
     "text": [
      "MICRO SIGN\n",
      "GREEK SMALL LETTER MU\n"
     ]
    }
   ],
   "source": [
    "micro = 'µ'\n",
    "print(name(micro))\n",
    "\n",
    "micro_cf = micro.casefold()\n",
    "print(name(micro_cf))"
   ]
  },
  {
   "cell_type": "markdown",
   "id": "626d1097",
   "metadata": {},
   "source": [
    "### 6.2 정규화된 텍스트 매칭을 위한 유틸리티 함수"
   ]
  },
  {
   "cell_type": "code",
   "execution_count": 98,
   "id": "6b1df4ba",
   "metadata": {},
   "outputs": [
    {
     "name": "stdout",
     "output_type": "stream",
     "text": [
      "Ζέφυρος, Zefiro\n"
     ]
    }
   ],
   "source": [
    "#라틴 문자에서 결합 표시 기호를 제거하는 함수\n",
    "import unicodedata\n",
    "import string\n",
    "\n",
    "greek = 'Ζέφυρος, Zéfiro'\n",
    "\n",
    "def shave_marks_latin(txt):\n",
    "    \"\"\"Remove all diacritic marks from Latin base characters\"\"\"\n",
    "    norm_txt = unicodedata.normalize('NFD', txt)  # <1>\n",
    "    latin_base = False\n",
    "    keepers = []\n",
    "    for c in norm_txt:\n",
    "        if unicodedata.combining(c) and latin_base:   # <2>\n",
    "            continue  # ignore diacritic on Latin base char\n",
    "        keepers.append(c)                             # <3>\n",
    "        # if it isn't combining char, it's a new base char\n",
    "        if not unicodedata.combining(c):              # <4>\n",
    "            latin_base = c in string.ascii_letters\n",
    "    shaved = ''.join(keepers)\n",
    "    return unicodedata.normalize('NFC', shaved)   # <5>\n",
    "\n",
    "print(shave_marks_latin(greek))"
   ]
  },
  {
   "cell_type": "code",
   "execution_count": 99,
   "id": "fb4d5998",
   "metadata": {},
   "outputs": [],
   "source": [
    "#서양 활자(타이포그래픽) 기호를 아스키로 변환하기)\n",
    "single_map = str.maketrans(\"\"\"‚ƒ„†ˆ‹‘’“”•–—˜›\"\"\",  # <1>\n",
    "                           \"\"\"'f\"*^<''\"\"---~>\"\"\")\n",
    "\n",
    "multi_map = str.maketrans({  # <2>\n",
    "    '€': '<euro>',\n",
    "    '…': '...',\n",
    "    'Œ': 'OE',\n",
    "    '™': '(TM)',\n",
    "    'œ': 'oe',\n",
    "    '‰': '<per mille>',\n",
    "    '‡': '**',\n",
    "})\n",
    "\n",
    "multi_map.update(single_map)  # <3>\n",
    "\n",
    "\n",
    "def dewinize(txt):\n",
    "    \"\"\"Replace Win1252 symbols with ASCII chars or sequences\"\"\"\n",
    "    return txt.translate(multi_map)  # <4>"
   ]
  },
  {
   "cell_type": "markdown",
   "id": "2e96a1ae",
   "metadata": {},
   "source": [
    "# 7.유니코드 텍스트 정렬하기"
   ]
  },
  {
   "cell_type": "markdown",
   "id": "3118c2b8",
   "metadata": {},
   "source": [
    "파이썬은 각 시퀀스 안에 들어 있는 항목들을 하나하나 비교하여 어떤 자료형의 시퀀스도 설명할 수 있고, 문자열의 경우에는 각 단어의 코드 포인트를 비교한다. 바이스키 문자를 사용하는 경우 부적절한 결과가 발생할 수 있다."
   ]
  },
  {
   "cell_type": "code",
   "execution_count": 102,
   "id": "18102374",
   "metadata": {},
   "outputs": [
    {
     "data": {
      "text/plain": [
       "['acerola', 'atemoia', 'açaí', 'caju', 'cajȧ']"
      ]
     },
     "execution_count": 102,
     "metadata": {},
     "output_type": "execute_result"
    }
   ],
   "source": [
    "fruits = ['caju','atemoia','cajȧ', 'açaí', 'acerola']\n",
    "sorted(fruits)"
   ]
  },
  {
   "cell_type": "code",
   "execution_count": 104,
   "id": "25b411c5",
   "metadata": {},
   "outputs": [
    {
     "data": {
      "text/plain": [
       "'pt_BR.UTF-8'"
      ]
     },
     "execution_count": 104,
     "metadata": {},
     "output_type": "execute_result"
    }
   ],
   "source": [
    "#locale.strxfrm() 함수를 정렬키로 사용하기\n",
    "import locale\n",
    "locale.setlocale(locale.LC_COLLATE, 'pt_BR.UTF-8')"
   ]
  },
  {
   "cell_type": "code",
   "execution_count": 105,
   "id": "8cae88df",
   "metadata": {},
   "outputs": [
    {
     "data": {
      "text/plain": [
       "['açaí', 'acerola', 'atemoia', 'cajȧ', 'caju']"
      ]
     },
     "execution_count": 105,
     "metadata": {},
     "output_type": "execute_result"
    }
   ],
   "source": [
    "fruits = ['caju','atemoia','cajȧ', 'açaí', 'acerola']\n",
    "sorted_fruits = sorted(fruits, key = locale.strxfrm)\n",
    "sorted_fruits"
   ]
  },
  {
   "cell_type": "markdown",
   "id": "b8e9a64c",
   "metadata": {},
   "source": [
    "### 7.1 유니코드 대조 알고리즘을 이용한 정렬"
   ]
  },
  {
   "cell_type": "markdown",
   "id": "77f9f60c",
   "metadata": {},
   "source": [
    "장고에 다양한 기여를 하고 있는 제임스토버도 유니코드 대조 알고리즘을 순수 파이썬으로 구현한 PyUCA를 만들었다."
   ]
  },
  {
   "cell_type": "code",
   "execution_count": 108,
   "id": "875ab070",
   "metadata": {},
   "outputs": [
    {
     "data": {
      "text/plain": [
       "['açaí', 'acerola', 'atemoia', 'cajȧ', 'caju']"
      ]
     },
     "execution_count": 108,
     "metadata": {},
     "output_type": "execute_result"
    }
   ],
   "source": [
    "import pyuca\n",
    "\n",
    "coll = pyuca.Collator()\n",
    "fruits = ['caju','atemoia','cajȧ', 'açaí', 'acerola']\n",
    "sorted_fruits =  sorted(fruits, key=locale.strxfrm)\n",
    "sorted_fruits"
   ]
  },
  {
   "cell_type": "markdown",
   "id": "abec2fd6",
   "metadata": {},
   "source": [
    "# 8. 유니코드 데이터베이스"
   ]
  },
  {
   "cell_type": "markdown",
   "id": "cce9ff15",
   "metadata": {},
   "source": [
    "유니코드 표준은 수 많은 구조화된 텍스트 파일의 형태로 하나의 완전한 데이터베이스를 제공한다.\n",
    "이 데이터베이스엔 코드 포인트를 문자명으로 매핑하는 테이블뿐만 아니라 각 문자에 대한 메타데이터 및 각 문자의 연관 방법을 담고 있다.\n",
    "\n",
    "str의 isidentifier(), isprintable(), isdecimal(), isnumeric() 메서드는 이 데이터베이스를 사용하고, str.casfold() 메서드도 유니코드 테이블의 정보를 사용한다.\n",
    "\n",
    "unicodedata 모듈에는 문자 메타데이터를 반환하는 함수들로, 표준에 정의된 공식 몇잉, 결합 문자인지 연부, 사람이 인식하는 기호의 숫자값 등을 반환한다"
   ]
  },
  {
   "cell_type": "code",
   "execution_count": 112,
   "id": "3413f194",
   "metadata": {},
   "outputs": [
    {
     "name": "stdout",
     "output_type": "stream",
     "text": [
      "U+0031\t  1   \tre_dig\tisdig\tisnum\t 1.00\tDIGIT ONE\n",
      "U+00bc\t  ¼   \t-\t-\tisnum\t 0.25\tVULGAR FRACTION ONE QUARTER\n",
      "U+00b2\t  ²   \t-\tisdig\tisnum\t 2.00\tSUPERSCRIPT TWO\n",
      "U+0969\t  ३   \tre_dig\tisdig\tisnum\t 3.00\tDEVANAGARI DIGIT THREE\n",
      "U+136b\t  ፫   \t-\tisdig\tisnum\t 3.00\tETHIOPIC DIGIT THREE\n",
      "U+216b\t  Ⅻ   \t-\t-\tisnum\t12.00\tROMAN NUMERAL TWELVE\n",
      "U+2466\t  ⑦   \t-\tisdig\tisnum\t 7.00\tCIRCLED DIGIT SEVEN\n",
      "U+2480\t  ⒀   \t-\t-\tisnum\t13.00\tPARENTHESIZED NUMBER THIRTEEN\n",
      "U+3285\t  ㊅   \t-\t-\tisnum\t 6.00\tCIRCLED IDEOGRAPH SIX\n"
     ]
    }
   ],
   "source": [
    "import unicodedata\n",
    "import re\n",
    "\n",
    "re_digit = re.compile(r'\\d')\n",
    "\n",
    "sample = '1\\xbc\\xb2\\u0969\\u136b\\u216b\\u2466\\u2480\\u3285'\n",
    "\n",
    "for char in sample:\n",
    "    print('U+%04x' % ord(char),\n",
    "        char.center(6),\n",
    "        're_dig' if re_digit.match(char) else '-',\n",
    "        'isdig' if char.isdigit() else '-',\n",
    "        'isnum' if char.isnumeric() else '-',\n",
    "        format(unicodedata.numeric(char), '5.2f'),\n",
    "        unicodedata.name(char),\n",
    "        sep='\\t')"
   ]
  },
  {
   "cell_type": "markdown",
   "id": "8ba9fe6b",
   "metadata": {},
   "source": [
    "# 9. 이중 모드 str 및 bytes API\n",
    "\n",
    "표준 라이브러리에는 str이나 bytes 인수를 모두 받을 시, 인수의 자료형에 따라 다르게 작용하는 함수들이 있고, re 와 os 모듈이 대표적이다.\n",
    "\n"
   ]
  },
  {
   "cell_type": "markdown",
   "id": "03da25d2",
   "metadata": {},
   "source": [
    "### 9.1 정규 표현식에서 str과 bytes \n",
    "정규 표현식에서의 str과 bytes\n",
    "bytes로 정규 표현식을 만들 경우 \\d와 \\w같은 패턴은 아스키 문자만 매칭되고, str로 이 패턴을 만들 시 아스키 문자 외외에 유니코드 숫자나 문자도 매칭된다."
   ]
  },
  {
   "cell_type": "code",
   "execution_count": 134,
   "id": "f95819f5",
   "metadata": {},
   "outputs": [
    {
     "name": "stdout",
     "output_type": "stream",
     "text": [
      "Text\n",
      " 'Ramanujan saw ௧௧௭௨௯as 1729 = 1^3 + 12^3 = 9^3 + 10^3.'\n",
      "Numbers\n",
      " str : ['௧௧௭௨௯', '1729', '1', '3', '12', '3', '9', '3', '10', '3']\n",
      " bytes : [b'1729', b'1', b'3', b'12', b'3', b'9', b'3', b'10', b'3']\n",
      "Words\n",
      " str : ['Ramanujan', 'saw', '௧௧௭௨௯as', '1729', '1', '3', '12', '3', '9', '3', '10', '3']\n",
      " bytes : [b'Ramanujan', b'saw', b'as', b'1729', b'1', b'3', b'12', b'3', b'9', b'3', b'10', b'3']\n"
     ]
    }
   ],
   "source": [
    "#간단한 str과 bytes 정규 표현식의 동작 비교\n",
    "\n",
    "\n",
    "# 정규 표현식을 str과 bytes에 사용할 수 있지만,\n",
    "# bytes에 정규 표현식을 사용하면 아스키 범위를 벗어나는  문자들은 숫자나 단어로 처리하지 않는다.\n",
    "import re\n",
    "\n",
    "re_numbers_str = re.compile(r'\\d+')\n",
    "re_words_str = re.compile(r'\\w+')\n",
    "re_numbers_bytes = re.compile(rb'\\d+')\n",
    "re_words_bytes = re.compile(rb'\\w+')\n",
    "\n",
    "text_str = (\"Ramanujan saw \\u0be7\\u0be7\\u0bed\\u0be8\\u0bef\" \n",
    "            \"as 1729 = 1^3 + 12^3 = 9^3 + 10^3.\")\n",
    "\n",
    "text_bytes = text_str.encode('utf_8')\n",
    "\n",
    "print('Text', repr(text_str), sep='\\n ')\n",
    "print('Numbers')\n",
    "print(' str :', re_numbers_str.findall(text_str))\n",
    "print(' bytes :', re_numbers_bytes.findall(text_bytes))\n",
    "print('Words')\n",
    "print(' str :', re_words_str.findall(text_str))\n",
    "print(' bytes :', re_words_bytes.findall(text_bytes))"
   ]
  },
  {
   "cell_type": "markdown",
   "id": "ab5919ae",
   "metadata": {},
   "source": [
    "### 9.2 os 모듈 함수에서 str과 bytes\n",
    "GNU/리눅스 커널은 유니코드를 모르기에 실제 os의 파일명은 어떠한 인코딩 체계에서도 올바르지 않은 바이트 시퀀스로 구성되어 있기에 str로 디코딩 할 수 없고, 다양한 운영 체계를 클라이언트로 가지는 파일 서버는 이런 문제가 발생하기 쉽다.\n",
    "\n"
   ]
  },
  {
   "cell_type": "markdown",
   "id": "257bc458",
   "metadata": {},
   "source": [
    "해결은 파일명이나 경로명을 받는 모든 os 모듈 함수는 str이나 bytes형의 인수를 받고 str 인수로 호출하면 인수는 sys.getfilesystemencoding() 함수에 의해 지정된 코덱을 이용해서 자동으로 변환되고, 운영 체계의 응답은 동일 코덱을 이용해서 디코딩 되므로 유니코드 샌드위치 모델에 따라서 원하는대로 가능"
   ]
  },
  {
   "cell_type": "code",
   "execution_count": 139,
   "id": "94b5c797",
   "metadata": {},
   "outputs": [
    {
     "data": {
      "text/plain": [
       "['.ipynb_checkpoints',\n",
       " 'cafe.txt',\n",
       " 'ch2. 시퀀스.ipynb',\n",
       " 'ch3. 딕셔너리와 집합.ipynb',\n",
       " 'ch4. 텍스트와 바이트.ipynb',\n",
       " 'digits-of-π.txt',\n",
       " 'filter.gif',\n",
       " 'floats.bin']"
      ]
     },
     "execution_count": 139,
     "metadata": {},
     "output_type": "execute_result"
    }
   ],
   "source": [
    "#str과 bytes 인수로 호출한 listdir()메서드와 결과\n",
    "\n",
    "os.listdir('.')"
   ]
  },
  {
   "cell_type": "code",
   "execution_count": 140,
   "id": "7b9d2b35",
   "metadata": {},
   "outputs": [
    {
     "data": {
      "text/plain": [
       "[b'.ipynb_checkpoints',\n",
       " b'cafe.txt',\n",
       " b'ch2. \\xec\\x8b\\x9c\\xed\\x80\\x80\\xec\\x8a\\xa4.ipynb',\n",
       " b'ch3. \\xeb\\x94\\x95\\xec\\x85\\x94\\xeb\\x84\\x88\\xeb\\xa6\\xac\\xec\\x99\\x80 \\xec\\xa7\\x91\\xed\\x95\\xa9.ipynb',\n",
       " b'ch4. \\xed\\x85\\x8d\\xec\\x8a\\xa4\\xed\\x8a\\xb8\\xec\\x99\\x80 \\xeb\\xb0\\x94\\xec\\x9d\\xb4\\xed\\x8a\\xb8.ipynb',\n",
       " b'digits-of-\\xcf\\x80.txt',\n",
       " b'filter.gif',\n",
       " b'floats.bin']"
      ]
     },
     "execution_count": 140,
     "metadata": {},
     "output_type": "execute_result"
    }
   ],
   "source": [
    "os.listdir(b'.')"
   ]
  },
  {
   "cell_type": "markdown",
   "id": "d9ec7e15",
   "metadata": {},
   "source": [
    " - **fsencode(파일명)**  \n",
    "파일명이 str형이면 sys.getfilesystemencoding()이 변환한 코덱명을 이용해서 파일명을 bytes형으로 인코딩한다. 그러나,파일명이 bytes형이면 변환하지 않고 그대로 반환한다.\n",
    "-----\n",
    " - **fsdecode(파일명)**\n",
    " 파일명이 bytes 형이면 sys.getfilesystemencoding()이 반환한 코덱명을 이용해서 파일명을 str형으로 디코딩하고, 파일명이 str형이면 변환하지 않고 그대로 반환한다."
   ]
  },
  {
   "cell_type": "markdown",
   "id": "cbbb9b1a",
   "metadata": {},
   "source": [
    "##### surrogateescape를 이용해서 깨진 문자 처리하기\n",
    "예상치 못한 bytes나 모르는 인코딩을 처리하기 위한 바이트 제안서의 설명을 바탕으로 python에선 surrogateescape 코덱 에러 처리기 사용"
   ]
  },
  {
   "cell_type": "code",
   "execution_count": 144,
   "id": "e1aa9cca",
   "metadata": {},
   "outputs": [
    {
     "data": {
      "text/plain": [
       "['.ipynb_checkpoints',\n",
       " 'cafe.txt',\n",
       " 'ch2. 시퀀스.ipynb',\n",
       " 'ch3. 딕셔너리와 집합.ipynb',\n",
       " 'ch4. 텍스트와 바이트.ipynb',\n",
       " 'digits-of-π.txt',\n",
       " 'filter.gif',\n",
       " 'floats.bin']"
      ]
     },
     "execution_count": 144,
     "metadata": {},
     "output_type": "execute_result"
    }
   ],
   "source": [
    "\"\"\"\n",
    "디코딩할 수 없는 바이트를 유니코드 표준에서 하위 써로게이트 영역이라고 코드 포인트로 치환한다.\n",
    "\n",
    "애플리케이션 내부 용도로 사용할 수 있도록 한다.\n",
    "\"\"\"\n",
    "\n",
    "os.listdir('.')"
   ]
  },
  {
   "cell_type": "code",
   "execution_count": 145,
   "id": "d7c2f0b5",
   "metadata": {},
   "outputs": [
    {
     "data": {
      "text/plain": [
       "[b'.ipynb_checkpoints',\n",
       " b'cafe.txt',\n",
       " b'ch2. \\xec\\x8b\\x9c\\xed\\x80\\x80\\xec\\x8a\\xa4.ipynb',\n",
       " b'ch3. \\xeb\\x94\\x95\\xec\\x85\\x94\\xeb\\x84\\x88\\xeb\\xa6\\xac\\xec\\x99\\x80 \\xec\\xa7\\x91\\xed\\x95\\xa9.ipynb',\n",
       " b'ch4. \\xed\\x85\\x8d\\xec\\x8a\\xa4\\xed\\x8a\\xb8\\xec\\x99\\x80 \\xeb\\xb0\\x94\\xec\\x9d\\xb4\\xed\\x8a\\xb8.ipynb',\n",
       " b'digits-of-\\xcf\\x80.txt',\n",
       " b'filter.gif',\n",
       " b'floats.bin']"
      ]
     },
     "execution_count": 145,
     "metadata": {},
     "output_type": "execute_result"
    }
   ],
   "source": [
    "os.listdir(b'.')"
   ]
  },
  {
   "cell_type": "code",
   "execution_count": 153,
   "id": "1d07e12b",
   "metadata": {},
   "outputs": [
    {
     "data": {
      "text/plain": [
       "'digits-of-\\udccf\\udc80.txt'"
      ]
     },
     "execution_count": 153,
     "metadata": {},
     "output_type": "execute_result"
    }
   ],
   "source": [
    "pi_name_bytes = os.listdir(b'.')[5]\n",
    "pi_name_str = pi_name_bytes.decode('ascii', 'surrogateescape')\n",
    "pi_name_str # 치환된 원래 바이트로 다시 변환 "
   ]
  },
  {
   "cell_type": "code",
   "execution_count": null,
   "id": "4d828ed1",
   "metadata": {},
   "outputs": [],
   "source": []
  }
 ],
 "metadata": {
  "kernelspec": {
   "display_name": "Python 3 (ipykernel)",
   "language": "python",
   "name": "python3"
  },
  "language_info": {
   "codemirror_mode": {
    "name": "ipython",
    "version": 3
   },
   "file_extension": ".py",
   "mimetype": "text/x-python",
   "name": "python",
   "nbconvert_exporter": "python",
   "pygments_lexer": "ipython3",
   "version": "3.10.9"
  }
 },
 "nbformat": 4,
 "nbformat_minor": 5
}
