{
 "cells": [
  {
   "cell_type": "markdown",
   "id": "49f912c2",
   "metadata": {},
   "source": [
    "## 이 장에서 배울 내용\n",
    "\n",
    "- 코루틴으로 작동하는 제너레이터의 동작과 상태\n",
    "- 데커레이터를 이용치해서 코루틴을 자동으로 기동하기\n",
    "- 제너레이터 객체의 close()와 throw() 메서드를 통해 호출자가 코루틴을 제어하는 방법\n",
    "- 종료할 때 코루틴 값을 반환하는 방법\n",
    "- 새로운 yield from 구문의 사용법과 의미\n",
    "- 사용 예: 시뮬레이션의 동시 활동을 관리하기 위한 코루틴"
   ]
  },
  {
   "cell_type": "markdown",
   "id": "477a24cd",
   "metadata": {},
   "source": [
    "# 1. 코루틴은 제너레이터에서 어떻게 진화했는가?\n"
   ]
  },
  {
   "cell_type": "markdown",
   "id": "88a4fffb",
   "metadata": {},
   "source": [
    "PEP380은 제너레이터 함수에 다음과 같이 두 가지 구문 변경을 정의해서 훨씬 더 유용하게 코루틴을 사용할 수 있도록 만들었다.\n",
    "\n",
    "- 제너레이터가 값을 반환할 수 있다. 이전에는 제너레이터에서 return 문으로 값을 반환하면 SyntaxError가 발생했다.\n",
    "- 기존 제너레이터가 하위 제너레이터에 위임하기 위해 수많은 판에 박힌 코드를 사용할 필요 없이, yield from 구문을 이용해서 복잡한 제너레이터를 더 작은 제너레이터로 리팩토링할 수 있게 한다."
   ]
  },
  {
   "cell_type": "markdown",
   "id": "53ebf513",
   "metadata": {},
   "source": [
    "# 2. 코루틴에서 사용되는 제너레이터의 기본 동작"
   ]
  },
  {
   "cell_type": "code",
   "execution_count": 9,
   "id": "1b1edae2",
   "metadata": {},
   "outputs": [],
   "source": [
    "# 가장 간단한 코루틴 사용 예\n",
    "def simple_coroutine():\n",
    "    print('-> 코루틴 시작')\n",
    "    x = yield \n",
    "    print('-> 받은 코루틴 값: ' , x)\n",
    "    "
   ]
  },
  {
   "cell_type": "code",
   "execution_count": 10,
   "id": "b20a5873",
   "metadata": {},
   "outputs": [
    {
     "data": {
      "text/plain": [
       "<generator object simple_coroutine at 0x0000022B1DA58970>"
      ]
     },
     "execution_count": 10,
     "metadata": {},
     "output_type": "execute_result"
    }
   ],
   "source": [
    "my_coro = simple_coroutine()\n",
    "my_coro"
   ]
  },
  {
   "cell_type": "code",
   "execution_count": 11,
   "id": "6558b06b",
   "metadata": {},
   "outputs": [
    {
     "name": "stdout",
     "output_type": "stream",
     "text": [
      "-> 코루틴 시작\n"
     ]
    }
   ],
   "source": [
    "next(my_coro)"
   ]
  },
  {
   "cell_type": "code",
   "execution_count": 12,
   "id": "899384cb",
   "metadata": {},
   "outputs": [
    {
     "name": "stdout",
     "output_type": "stream",
     "text": [
      "-> 받은 코루틴 값:  51\n"
     ]
    },
    {
     "ename": "StopIteration",
     "evalue": "",
     "output_type": "error",
     "traceback": [
      "\u001b[1;31m---------------------------------------------------------------------------\u001b[0m",
      "\u001b[1;31mStopIteration\u001b[0m                             Traceback (most recent call last)",
      "Cell \u001b[1;32mIn[12], line 1\u001b[0m\n\u001b[1;32m----> 1\u001b[0m \u001b[43mmy_coro\u001b[49m\u001b[38;5;241;43m.\u001b[39;49m\u001b[43msend\u001b[49m\u001b[43m(\u001b[49m\u001b[38;5;241;43m51\u001b[39;49m\u001b[43m)\u001b[49m\n",
      "\u001b[1;31mStopIteration\u001b[0m: "
     ]
    }
   ],
   "source": [
    "my_coro.send(51)"
   ]
  },
  {
   "cell_type": "markdown",
   "id": "cf5ad3d6",
   "metadata": {},
   "source": [
    "### 코루틴은 다음과 같은 4가지 상태 중 하나를 갖는다. inspect.getgeneratorstate() 함수를 이용해서 확인할 수 있다.  \n",
    "   \n",
    "  \n",
    "- GEN_CREATED: 실행을 위해 대기하는 상태\n",
    "- GEN_RUNNING: 인터프리터가 실행하고 있는 상태. 다중스레드 어플리케이션에서만 볼 수 있다.\n",
    "- GEN_SUSPENDED: yield문에서 대기하고 있는 상태\n",
    "- GEN_CLOSED: 실행이 완료된 상태"
   ]
  },
  {
   "cell_type": "code",
   "execution_count": 13,
   "id": "c6cbb0b9",
   "metadata": {},
   "outputs": [
    {
     "ename": "TypeError",
     "evalue": "can't send non-None value to a just-started generator",
     "output_type": "error",
     "traceback": [
      "\u001b[1;31m---------------------------------------------------------------------------\u001b[0m",
      "\u001b[1;31mTypeError\u001b[0m                                 Traceback (most recent call last)",
      "Cell \u001b[1;32mIn[13], line 2\u001b[0m\n\u001b[0;32m      1\u001b[0m my_coro \u001b[38;5;241m=\u001b[39m simple_coroutine()\n\u001b[1;32m----> 2\u001b[0m \u001b[43mmy_coro\u001b[49m\u001b[38;5;241;43m.\u001b[39;49m\u001b[43msend\u001b[49m\u001b[43m(\u001b[49m\u001b[38;5;241;43m523\u001b[39;49m\u001b[43m)\u001b[49m\n",
      "\u001b[1;31mTypeError\u001b[0m: can't send non-None value to a just-started generator"
     ]
    }
   ],
   "source": [
    "my_coro = simple_coroutine()\n",
    "my_coro.send(523)"
   ]
  },
  {
   "cell_type": "markdown",
   "id": "4ebc7da0",
   "metadata": {},
   "source": [
    "코루틴 객체를 생성하고 난 직후에 바로 None이 아닌 값을 전달하려고 하면 다음과 같은 오류가 발생한다."
   ]
  },
  {
   "cell_type": "code",
   "execution_count": 15,
   "id": "3e57dd99",
   "metadata": {},
   "outputs": [],
   "source": [
    "#두 번 생성하는 코루틴\n",
    "def simple_coro2(a):\n",
    "    print('-> 시작 a :', a)\n",
    "    b = yield a\n",
    "    print('-> 받은 b = ', b)\n",
    "    c = yield a + b\n",
    "    print('-> 받은 c = ', c)"
   ]
  },
  {
   "cell_type": "code",
   "execution_count": 17,
   "id": "81527623",
   "metadata": {},
   "outputs": [
    {
     "data": {
      "text/plain": [
       "'GEN_CREATED'"
      ]
     },
     "execution_count": 17,
     "metadata": {},
     "output_type": "execute_result"
    }
   ],
   "source": [
    "my_coro2 = simple_coro2(10)\n",
    "from inspect import getgeneratorstate\n",
    "getgeneratorstate(my_coro2)"
   ]
  },
  {
   "cell_type": "code",
   "execution_count": 18,
   "id": "688df340",
   "metadata": {},
   "outputs": [
    {
     "name": "stdout",
     "output_type": "stream",
     "text": [
      "-> 시작 a : 10\n"
     ]
    },
    {
     "data": {
      "text/plain": [
       "10"
      ]
     },
     "execution_count": 18,
     "metadata": {},
     "output_type": "execute_result"
    }
   ],
   "source": [
    "next(my_coro2)"
   ]
  },
  {
   "cell_type": "code",
   "execution_count": 19,
   "id": "6ebe51f0",
   "metadata": {},
   "outputs": [
    {
     "data": {
      "text/plain": [
       "'GEN_SUSPENDED'"
      ]
     },
     "execution_count": 19,
     "metadata": {},
     "output_type": "execute_result"
    }
   ],
   "source": [
    "getgeneratorstate(my_coro2)"
   ]
  },
  {
   "cell_type": "code",
   "execution_count": 20,
   "id": "6e99bcc5",
   "metadata": {},
   "outputs": [
    {
     "name": "stdout",
     "output_type": "stream",
     "text": [
      "-> 받은 b =  20\n"
     ]
    },
    {
     "data": {
      "text/plain": [
       "30"
      ]
     },
     "execution_count": 20,
     "metadata": {},
     "output_type": "execute_result"
    }
   ],
   "source": [
    "my_coro2.send(20)"
   ]
  },
  {
   "cell_type": "code",
   "execution_count": 21,
   "id": "8eccc5b4",
   "metadata": {},
   "outputs": [
    {
     "name": "stdout",
     "output_type": "stream",
     "text": [
      "-> 받은 c =  30\n"
     ]
    },
    {
     "ename": "StopIteration",
     "evalue": "",
     "output_type": "error",
     "traceback": [
      "\u001b[1;31m---------------------------------------------------------------------------\u001b[0m",
      "\u001b[1;31mStopIteration\u001b[0m                             Traceback (most recent call last)",
      "Cell \u001b[1;32mIn[21], line 1\u001b[0m\n\u001b[1;32m----> 1\u001b[0m \u001b[43mmy_coro2\u001b[49m\u001b[38;5;241;43m.\u001b[39;49m\u001b[43msend\u001b[49m\u001b[43m(\u001b[49m\u001b[38;5;241;43m30\u001b[39;49m\u001b[43m)\u001b[49m\n",
      "\u001b[1;31mStopIteration\u001b[0m: "
     ]
    }
   ],
   "source": [
    "my_coro2.send(30)"
   ]
  },
  {
   "cell_type": "markdown",
   "id": "3825c340",
   "metadata": {},
   "source": [
    "코루틴 실행은 yield 키워드에서 중단됨을 잘 알고 있어야 한다. 앞에서 설명한 것처럼 할당문에서는 실제 값을 할당하기 전에 = 오른쪽 코드를 실행한다. 즉,b = yeild a와 같은 코드에서는 나중에 호출자가 값을 보낸 후에야 변수 b가 설정된다. 이러한 방식에 익숙해지려면 신경을 더 써야 하지만, 이 방식을 제대로 알고 있어야 뒤에서 설명할 비동기 프로그래밍에서 yield의 용법을 이해할 수 있다."
   ]
  },
  {
   "cell_type": "markdown",
   "id": "48b2de56",
   "metadata": {},
   "source": [
    "# 3. 예제: 이동 평균을 계산하는 코루틴"
   ]
  },
  {
   "cell_type": "code",
   "execution_count": 22,
   "id": "df986a3f",
   "metadata": {},
   "outputs": [],
   "source": [
    "# 이동 평균 코루틴 코드\n",
    "def averager():\n",
    "    total = 0.0\n",
    "    count = 0\n",
    "    average = None\n",
    "    while True:\n",
    "        term = yield average\n",
    "        total += term\n",
    "        count += 1\n",
    "        average = total / count"
   ]
  },
  {
   "cell_type": "code",
   "execution_count": 24,
   "id": "fdb3c559",
   "metadata": {},
   "outputs": [
    {
     "data": {
      "text/plain": [
       "10.0"
      ]
     },
     "execution_count": 24,
     "metadata": {},
     "output_type": "execute_result"
    }
   ],
   "source": [
    "coro_avg = averager()\n",
    "next(coro_avg)\n",
    "coro_avg.send(10)"
   ]
  },
  {
   "cell_type": "code",
   "execution_count": 25,
   "id": "28ab8dce",
   "metadata": {},
   "outputs": [
    {
     "data": {
      "text/plain": [
       "20.0"
      ]
     },
     "execution_count": 25,
     "metadata": {},
     "output_type": "execute_result"
    }
   ],
   "source": [
    "coro_avg.send(30)"
   ]
  },
  {
   "cell_type": "code",
   "execution_count": 26,
   "id": "72a616f9",
   "metadata": {},
   "outputs": [
    {
     "data": {
      "text/plain": [
       "15.0"
      ]
     },
     "execution_count": 26,
     "metadata": {},
     "output_type": "execute_result"
    }
   ],
   "source": [
    "coro_avg.send(5)"
   ]
  },
  {
   "cell_type": "markdown",
   "id": "a29025ee",
   "metadata": {},
   "source": [
    "# 코루틴을 기동하기 위한 데커레이터"
   ]
  },
  {
   "cell_type": "markdown",
   "id": "0099aaa8",
   "metadata": {},
   "source": [
    "코루틴은 반드시 next(my_coro)를 호출해야하는데, 이를 편리하게 사용할 수 있도록 기동하는 데커레이터가 종종 사용된다. 대표적으로 @coroutine이 사용된다."
   ]
  },
  {
   "cell_type": "code",
   "execution_count": 33,
   "id": "fce9274a",
   "metadata": {},
   "outputs": [],
   "source": [
    "# 코루틴을 기동하기 위한 데커레이터\n",
    "from functools import wraps\n",
    "\n",
    "def coroutine(func):\n",
    "    \"\"\"데커레이터: 'func'를 기동해서 첫번째 yield까지 진행한다.\"\"\"\n",
    "    @wraps(func)\n",
    "    def primer(*args, **kwargs):\n",
    "        gen = func(*args, **kwargs)\n",
    "        next(gen) # 제너레이터를 기동한다.\n",
    "        return gen # 제너레이터를 반환한다.\n",
    "    return primer"
   ]
  },
  {
   "cell_type": "code",
   "execution_count": 34,
   "id": "8eda598b",
   "metadata": {},
   "outputs": [],
   "source": [
    "@coroutine\n",
    "def averager():\n",
    "    total = 0.0\n",
    "    count = 0\n",
    "    average = None\n",
    "    while True:\n",
    "        term = yield average\n",
    "        total += term\n",
    "        count += 1\n",
    "        average = total/count"
   ]
  },
  {
   "cell_type": "code",
   "execution_count": 36,
   "id": "49824d54",
   "metadata": {},
   "outputs": [
    {
     "data": {
      "text/plain": [
       "'GEN_SUSPENDED'"
      ]
     },
     "execution_count": 36,
     "metadata": {},
     "output_type": "execute_result"
    }
   ],
   "source": [
    "coro_avg = averager()\n",
    "from inspect import getgeneratorstate\n",
    "getgeneratorstate(coro_avg)"
   ]
  },
  {
   "cell_type": "code",
   "execution_count": 37,
   "id": "4fc5f8a1",
   "metadata": {},
   "outputs": [
    {
     "data": {
      "text/plain": [
       "10.0"
      ]
     },
     "execution_count": 37,
     "metadata": {},
     "output_type": "execute_result"
    }
   ],
   "source": [
    "coro_avg.send(10)"
   ]
  },
  {
   "cell_type": "code",
   "execution_count": 38,
   "id": "53fae55d",
   "metadata": {},
   "outputs": [
    {
     "data": {
      "text/plain": [
       "15.0"
      ]
     },
     "execution_count": 38,
     "metadata": {},
     "output_type": "execute_result"
    }
   ],
   "source": [
    "coro_avg.send(20)"
   ]
  },
  {
   "cell_type": "code",
   "execution_count": 39,
   "id": "711e69a8",
   "metadata": {},
   "outputs": [
    {
     "data": {
      "text/plain": [
       "15.0"
      ]
     },
     "execution_count": 39,
     "metadata": {},
     "output_type": "execute_result"
    }
   ],
   "source": [
    "coro_avg.send(15)"
   ]
  },
  {
   "cell_type": "markdown",
   "id": "a07f9af2",
   "metadata": {},
   "source": [
    "yield from 구문은 자동으로 자신을 실행한 코루틴을 기동시키므로 @coroutine 데커레이터와 함께 사용할 수 없다.  \n",
    "\n",
    "이제 코루틴의 핵심 기능에 대해 자세히 살펴보자. 다음 절에서는 코루틴을 종료시키는 메서드와 코루틴에 예외를 던지는 메서드를 설명한다."
   ]
  },
  {
   "cell_type": "markdown",
   "id": "f52eebfd",
   "metadata": {},
   "source": [
    "# 5. 코루틴 종료와 예외처리"
   ]
  },
  {
   "cell_type": "markdown",
   "id": "f0db1382",
   "metadata": {},
   "source": [
    "코루틴 안에서 발생한 예외를 처리하지 않으면, next()나 send()로 코루틴을 호출한 호출자에 예외가 전파된다."
   ]
  },
  {
   "cell_type": "code",
   "execution_count": 40,
   "id": "bfd57f17",
   "metadata": {},
   "outputs": [
    {
     "data": {
      "text/plain": [
       "40.0"
      ]
     },
     "execution_count": 40,
     "metadata": {},
     "output_type": "execute_result"
    }
   ],
   "source": [
    "coro_avg = averager()\n",
    "coro_avg.send(40)"
   ]
  },
  {
   "cell_type": "code",
   "execution_count": 41,
   "id": "30b86dea",
   "metadata": {},
   "outputs": [
    {
     "data": {
      "text/plain": [
       "45.0"
      ]
     },
     "execution_count": 41,
     "metadata": {},
     "output_type": "execute_result"
    }
   ],
   "source": [
    "coro_avg.send(50)"
   ]
  },
  {
   "cell_type": "code",
   "execution_count": 42,
   "id": "75c18fcd",
   "metadata": {},
   "outputs": [
    {
     "ename": "TypeError",
     "evalue": "unsupported operand type(s) for +=: 'float' and 'str'",
     "output_type": "error",
     "traceback": [
      "\u001b[1;31m---------------------------------------------------------------------------\u001b[0m",
      "\u001b[1;31mTypeError\u001b[0m                                 Traceback (most recent call last)",
      "Cell \u001b[1;32mIn[42], line 1\u001b[0m\n\u001b[1;32m----> 1\u001b[0m \u001b[43mcoro_avg\u001b[49m\u001b[38;5;241;43m.\u001b[39;49m\u001b[43msend\u001b[49m\u001b[43m(\u001b[49m\u001b[38;5;124;43m'\u001b[39;49m\u001b[38;5;124;43mspam\u001b[39;49m\u001b[38;5;124;43m'\u001b[39;49m\u001b[43m)\u001b[49m\n",
      "Cell \u001b[1;32mIn[34], line 8\u001b[0m, in \u001b[0;36maverager\u001b[1;34m()\u001b[0m\n\u001b[0;32m      6\u001b[0m \u001b[38;5;28;01mwhile\u001b[39;00m \u001b[38;5;28;01mTrue\u001b[39;00m:\n\u001b[0;32m      7\u001b[0m     term \u001b[38;5;241m=\u001b[39m \u001b[38;5;28;01myield\u001b[39;00m average\n\u001b[1;32m----> 8\u001b[0m     total \u001b[38;5;241m+\u001b[39m\u001b[38;5;241m=\u001b[39m term\n\u001b[0;32m      9\u001b[0m     count \u001b[38;5;241m+\u001b[39m\u001b[38;5;241m=\u001b[39m \u001b[38;5;241m1\u001b[39m\n\u001b[0;32m     10\u001b[0m     average \u001b[38;5;241m=\u001b[39m total\u001b[38;5;241m/\u001b[39mcount\n",
      "\u001b[1;31mTypeError\u001b[0m: unsupported operand type(s) for +=: 'float' and 'str'"
     ]
    }
   ],
   "source": [
    "coro_avg.send('spam')"
   ]
  },
  {
   "cell_type": "code",
   "execution_count": 43,
   "id": "fcd01c47",
   "metadata": {},
   "outputs": [
    {
     "ename": "StopIteration",
     "evalue": "",
     "output_type": "error",
     "traceback": [
      "\u001b[1;31m---------------------------------------------------------------------------\u001b[0m",
      "\u001b[1;31mStopIteration\u001b[0m                             Traceback (most recent call last)",
      "Cell \u001b[1;32mIn[43], line 1\u001b[0m\n\u001b[1;32m----> 1\u001b[0m \u001b[43mcoro_avg\u001b[49m\u001b[38;5;241;43m.\u001b[39;49m\u001b[43msend\u001b[49m\u001b[43m(\u001b[49m\u001b[38;5;241;43m60\u001b[39;49m\u001b[43m)\u001b[49m\n",
      "\u001b[1;31mStopIteration\u001b[0m: "
     ]
    }
   ],
   "source": [
    "coro_avg.send(60)"
   ]
  },
  {
   "cell_type": "markdown",
   "id": "44b5a973",
   "metadata": {},
   "source": [
    "위 예제처럼 코루틴에 구분 표시를 전송해서 코루틴을 종료할 수 있다.\n",
    "\n",
    "제너레이터 객체는 호출자가 코루틴에 명시적으로 예외를 전달할 수 있게 해주는 throw()와 close() 메서드를 제공한다.\n",
    "\n",
    "generator.throw(exc_type[, exc_value[, traceback]]) : 제너레이터가 중단한 곳의 yield 표현식에 예외를 전달한다. 제너레이터가 예외를 처리하면 제어 흐름이 다음 yield문까지 진행하고, 생성된 값은 generator.throw() 호출 값이 된다. 제너레이터가 예외를 처리하지 않으면 호출자까지 예외가 전파된다.\n",
    "\n",
    "generator.close() : 제너레이터가 실행을 중단한 yield 표현식이 GeneratorExit 예외를 발생시키게 만든다. 제너레이터가 예외를 처리하지 않거나 StopIteration 예외를 발생시키면 아무런 에러도 호출자에 전달되지 않는다."
   ]
  },
  {
   "cell_type": "code",
   "execution_count": 44,
   "id": "efa4820b",
   "metadata": {},
   "outputs": [],
   "source": [
    "class DemoException(Exception):\n",
    "    \"\"\"설명에 사용할 예외 유형\"\"\"\n",
    "\n",
    "def demo_exc_handling():\n",
    "    print('-> coroutine started')\n",
    "    while True:\n",
    "        try:\n",
    "            x = yield\n",
    "        except DemoException:\n",
    "            print('*** DemoException handled. Continuing...')\n",
    "        else: # 예외가 발생하지 않으면 받은 값을 출력한다.\n",
    "            print('-> coroutine received: {!r}'.format(x))\n",
    "    raise RuntimeError('This line should never run.') # 이 코드는 실행되지 않음\n",
    "    # 무한루프는 처리되지 않은 예외에서만 중지될 수 있으며\n",
    "    # 예외가 처리되지 않으면 코루틴의 실행이 바로 중지되기 때문"
   ]
  },
  {
   "cell_type": "code",
   "execution_count": 45,
   "id": "2c54945e",
   "metadata": {},
   "outputs": [
    {
     "name": "stdout",
     "output_type": "stream",
     "text": [
      "-> coroutine started\n"
     ]
    }
   ],
   "source": [
    "exc_coro = demo_exc_handling()\n",
    "next(exc_coro)"
   ]
  },
  {
   "cell_type": "code",
   "execution_count": 46,
   "id": "2d50ac9a",
   "metadata": {},
   "outputs": [
    {
     "name": "stdout",
     "output_type": "stream",
     "text": [
      "-> coroutine received: 11\n"
     ]
    }
   ],
   "source": [
    "exc_coro.send(11)"
   ]
  },
  {
   "cell_type": "code",
   "execution_count": 47,
   "id": "e2a201c8",
   "metadata": {},
   "outputs": [
    {
     "name": "stdout",
     "output_type": "stream",
     "text": [
      "*** DemoException handled. Continuing...\n"
     ]
    }
   ],
   "source": [
    "exc_coro.throw(DemoException)"
   ]
  },
  {
   "cell_type": "code",
   "execution_count": 48,
   "id": "ff5e5ed0",
   "metadata": {},
   "outputs": [
    {
     "data": {
      "text/plain": [
       "'GEN_SUSPENDED'"
      ]
     },
     "execution_count": 48,
     "metadata": {},
     "output_type": "execute_result"
    }
   ],
   "source": [
    "getgeneratorstate(exc_coro)"
   ]
  },
  {
   "cell_type": "code",
   "execution_count": 49,
   "id": "9b2149e9",
   "metadata": {},
   "outputs": [
    {
     "ename": "ZeroDivisionError",
     "evalue": "",
     "output_type": "error",
     "traceback": [
      "\u001b[1;31m---------------------------------------------------------------------------\u001b[0m",
      "\u001b[1;31mZeroDivisionError\u001b[0m                         Traceback (most recent call last)",
      "Cell \u001b[1;32mIn[49], line 3\u001b[0m\n\u001b[0;32m      1\u001b[0m \u001b[38;5;66;03m# 처리되지 않는 예외를 더니면 코루틴이 중단된다.\u001b[39;00m\n\u001b[1;32m----> 3\u001b[0m \u001b[43mexc_coro\u001b[49m\u001b[38;5;241;43m.\u001b[39;49m\u001b[43mthrow\u001b[49m\u001b[43m(\u001b[49m\u001b[38;5;167;43;01mZeroDivisionError\u001b[39;49;00m\u001b[43m)\u001b[49m\n",
      "Cell \u001b[1;32mIn[44], line 8\u001b[0m, in \u001b[0;36mdemo_exc_handling\u001b[1;34m()\u001b[0m\n\u001b[0;32m      6\u001b[0m \u001b[38;5;28;01mwhile\u001b[39;00m \u001b[38;5;28;01mTrue\u001b[39;00m:\n\u001b[0;32m      7\u001b[0m     \u001b[38;5;28;01mtry\u001b[39;00m:\n\u001b[1;32m----> 8\u001b[0m         x \u001b[38;5;241m=\u001b[39m \u001b[38;5;28;01myield\u001b[39;00m\n\u001b[0;32m      9\u001b[0m     \u001b[38;5;28;01mexcept\u001b[39;00m DemoException:\n\u001b[0;32m     10\u001b[0m         \u001b[38;5;28mprint\u001b[39m(\u001b[38;5;124m'\u001b[39m\u001b[38;5;124m*** DemoException handled. Continuing...\u001b[39m\u001b[38;5;124m'\u001b[39m)\n",
      "\u001b[1;31mZeroDivisionError\u001b[0m: "
     ]
    }
   ],
   "source": [
    "# 처리되지 않는 예외를 더니면 코루틴이 중단된다.\n",
    "\n",
    "exc_coro.throw(ZeroDivisionError)"
   ]
  },
  {
   "cell_type": "code",
   "execution_count": 50,
   "id": "2c752b83",
   "metadata": {},
   "outputs": [
    {
     "data": {
      "text/plain": [
       "'GEN_CLOSED'"
      ]
     },
     "execution_count": 50,
     "metadata": {},
     "output_type": "execute_result"
    }
   ],
   "source": [
    "getgeneratorstate(exc_coro)"
   ]
  },
  {
   "cell_type": "markdown",
   "id": "ffe74a9b",
   "metadata": {},
   "source": [
    "코루틴이 어떻게 종료되든 어떤 정리 코드를 실행해야 하는 경우에는 try/finally 블록 안에 해당 코드를 넣어야 한다."
   ]
  },
  {
   "cell_type": "code",
   "execution_count": 51,
   "id": "14eaf37b",
   "metadata": {},
   "outputs": [],
   "source": [
    "class DemoException(Exception):\n",
    "    \"\"\"설명에 사용할 예외 유형\"\"\"\n",
    "\n",
    "def demo_finally():\n",
    "    print('-> coroutine started')\n",
    "    try:\n",
    "        while True:\n",
    "            try:\n",
    "                x = yield\n",
    "            except DemoException:\n",
    "                print('*** DemoException handled. Continuing...')\n",
    "            else: # 예외가 발생하지 않으면 받은 값을 출력한다.\n",
    "                print('-> coroutine received: {!r}'.format(x))\n",
    "    finally:\n",
    "        print('-> coroutine ending')"
   ]
  },
  {
   "cell_type": "code",
   "execution_count": 52,
   "id": "074092ab",
   "metadata": {},
   "outputs": [
    {
     "name": "stdout",
     "output_type": "stream",
     "text": [
      "-> coroutine started\n"
     ]
    }
   ],
   "source": [
    "exc_coro = demo_finally()\n",
    "next(exc_coro)"
   ]
  },
  {
   "cell_type": "code",
   "execution_count": 53,
   "id": "604fcfde",
   "metadata": {},
   "outputs": [
    {
     "name": "stdout",
     "output_type": "stream",
     "text": [
      "-> coroutine received: 11\n"
     ]
    }
   ],
   "source": [
    "exc_coro.send(11)"
   ]
  },
  {
   "cell_type": "code",
   "execution_count": 54,
   "id": "9c2f6372",
   "metadata": {},
   "outputs": [
    {
     "name": "stdout",
     "output_type": "stream",
     "text": [
      "*** DemoException handled. Continuing...\n"
     ]
    }
   ],
   "source": [
    "exc_coro.throw(DemoException)"
   ]
  },
  {
   "cell_type": "code",
   "execution_count": 55,
   "id": "c1714488",
   "metadata": {},
   "outputs": [
    {
     "name": "stdout",
     "output_type": "stream",
     "text": [
      "-> coroutine ending\n"
     ]
    },
    {
     "ename": "ZeroDivisionError",
     "evalue": "",
     "output_type": "error",
     "traceback": [
      "\u001b[1;31m---------------------------------------------------------------------------\u001b[0m",
      "\u001b[1;31mZeroDivisionError\u001b[0m                         Traceback (most recent call last)",
      "Cell \u001b[1;32mIn[55], line 1\u001b[0m\n\u001b[1;32m----> 1\u001b[0m \u001b[43mexc_coro\u001b[49m\u001b[38;5;241;43m.\u001b[39;49m\u001b[43mthrow\u001b[49m\u001b[43m(\u001b[49m\u001b[38;5;167;43;01mZeroDivisionError\u001b[39;49;00m\u001b[43m)\u001b[49m\n",
      "Cell \u001b[1;32mIn[51], line 9\u001b[0m, in \u001b[0;36mdemo_finally\u001b[1;34m()\u001b[0m\n\u001b[0;32m      7\u001b[0m \u001b[38;5;28;01mwhile\u001b[39;00m \u001b[38;5;28;01mTrue\u001b[39;00m:\n\u001b[0;32m      8\u001b[0m     \u001b[38;5;28;01mtry\u001b[39;00m:\n\u001b[1;32m----> 9\u001b[0m         x \u001b[38;5;241m=\u001b[39m \u001b[38;5;28;01myield\u001b[39;00m\n\u001b[0;32m     10\u001b[0m     \u001b[38;5;28;01mexcept\u001b[39;00m DemoException:\n\u001b[0;32m     11\u001b[0m         \u001b[38;5;28mprint\u001b[39m(\u001b[38;5;124m'\u001b[39m\u001b[38;5;124m*** DemoException handled. Continuing...\u001b[39m\u001b[38;5;124m'\u001b[39m)\n",
      "\u001b[1;31mZeroDivisionError\u001b[0m: "
     ]
    }
   ],
   "source": [
    "exc_coro.throw(ZeroDivisionError) # 에러가 발생했지만 출력은 됨"
   ]
  },
  {
   "cell_type": "markdown",
   "id": "d8eb2691",
   "metadata": {},
   "source": [
    "# 6. 코루틴에서 값 반환하기"
   ]
  },
  {
   "cell_type": "markdown",
   "id": "1f0e3a2c",
   "metadata": {},
   "source": [
    "의미 있는 값을 생성하지는 않지만 최후에 어떤 의미 있는 값을 반환하는 코루틴도 있음을 설명"
   ]
  },
  {
   "cell_type": "code",
   "execution_count": 56,
   "id": "dc99d028",
   "metadata": {},
   "outputs": [],
   "source": [
    "from collections import namedtuple\n",
    "\n",
    "Result = namedtuple('Result', 'count average')\n",
    "\n",
    "def averager():\n",
    "    total = 0.0\n",
    "    count = 0\n",
    "    average = None\n",
    "    while True:\n",
    "        term = yield\n",
    "        if term is None:\n",
    "            break # 값을 반환하려면 코루틴이 정상적으로 종료되어야 한다.\n",
    "            # 따라서 이 averager 버전에서는 루프를 빠져나오는 조건을 검사한다.\n",
    "        total += term\n",
    "        count += 1\n",
    "        average = total/count\n",
    "    return Result(count, average) # nametuple 반환"
   ]
  },
  {
   "cell_type": "code",
   "execution_count": 57,
   "id": "2e5c0f0b",
   "metadata": {},
   "outputs": [],
   "source": [
    "coro_avg = averager()\n",
    "next(coro_avg)\n",
    "coro_avg.send(10) # 값을 생성하지 않음"
   ]
  },
  {
   "cell_type": "code",
   "execution_count": 58,
   "id": "560ec08e",
   "metadata": {},
   "outputs": [],
   "source": [
    "coro_avg.send(30)"
   ]
  },
  {
   "cell_type": "code",
   "execution_count": 59,
   "id": "c0d5532d",
   "metadata": {},
   "outputs": [],
   "source": [
    "coro_avg.send(6.5)"
   ]
  },
  {
   "cell_type": "code",
   "execution_count": 60,
   "id": "2073bcb9",
   "metadata": {},
   "outputs": [
    {
     "ename": "StopIteration",
     "evalue": "Result(count=3, average=15.5)",
     "output_type": "error",
     "traceback": [
      "\u001b[1;31m---------------------------------------------------------------------------\u001b[0m",
      "\u001b[1;31mStopIteration\u001b[0m                             Traceback (most recent call last)",
      "Cell \u001b[1;32mIn[60], line 1\u001b[0m\n\u001b[1;32m----> 1\u001b[0m \u001b[43mcoro_avg\u001b[49m\u001b[38;5;241;43m.\u001b[39;49m\u001b[43msend\u001b[49m\u001b[43m(\u001b[49m\u001b[38;5;28;43;01mNone\u001b[39;49;00m\u001b[43m)\u001b[49m\n",
      "\u001b[1;31mStopIteration\u001b[0m: Result(count=3, average=15.5)"
     ]
    }
   ],
   "source": [
    "coro_avg.send(None) # None을 보내면 루프를 빠져나오고 코루틴이 결과를 반환하면서 종료\n",
    "# 예외 객체의 value 속성에는 반환된 값이 들어있다."
   ]
  },
  {
   "cell_type": "code",
   "execution_count": 62,
   "id": "a090e2bb",
   "metadata": {},
   "outputs": [],
   "source": [
    "# 코루틴이 반환한 값을 가져오는 방법 \n",
    "coro_avg = averager()\n",
    "next(coro_avg)\n",
    "coro_avg.send(10) # 값을 생성하지 않음\n",
    "coro_avg.send(30)\n",
    "coro_avg.send(6.5)"
   ]
  },
  {
   "cell_type": "code",
   "execution_count": 63,
   "id": "4b1f230d",
   "metadata": {},
   "outputs": [
    {
     "data": {
      "text/plain": [
       "Result(count=3, average=15.5)"
      ]
     },
     "execution_count": 63,
     "metadata": {},
     "output_type": "execute_result"
    }
   ],
   "source": [
    "try:\n",
    "    coro_avg.send(None)\n",
    "except StopIteration as exc:\n",
    "    result = exc.value\n",
    "result"
   ]
  },
  {
   "cell_type": "markdown",
   "id": "4e6dcfe5",
   "metadata": {},
   "source": [
    "# 7. yield from 사용하기"
   ]
  },
  {
   "cell_type": "markdown",
   "id": "54e5d83a",
   "metadata": {},
   "source": [
    "yield from은 완전히 새로운 언어 구성체이다. 제너레이터 gen()이 yield from subgen()을 호출하고, subgen()이 이어받아 값을 생성하고 gen()의 호출자에 반환한다.\n",
    "\n",
    "14장에서 yield from을 for 루프 안의 yield에 대한 단축문으로 사용할 수 있다고 설명했다."
   ]
  },
  {
   "cell_type": "code",
   "execution_count": 64,
   "id": "eaf6fcb4",
   "metadata": {},
   "outputs": [],
   "source": [
    "def gen():\n",
    "    for c in 'AB':\n",
    "        yield c\n",
    "    for i in range(1,3):\n",
    "        yield i\n"
   ]
  },
  {
   "cell_type": "code",
   "execution_count": 65,
   "id": "feb70238",
   "metadata": {},
   "outputs": [
    {
     "data": {
      "text/plain": [
       "['A', 'B', 1, 2]"
      ]
     },
     "execution_count": 65,
     "metadata": {},
     "output_type": "execute_result"
    }
   ],
   "source": [
    "list(gen())"
   ]
  },
  {
   "cell_type": "markdown",
   "id": "6d5eeee9",
   "metadata": {},
   "source": [
    "위 코드는 다음과 같이 바꿀 수 있다."
   ]
  },
  {
   "cell_type": "code",
   "execution_count": 66,
   "id": "2e6ec397",
   "metadata": {},
   "outputs": [
    {
     "data": {
      "text/plain": [
       "['A', 'B', 1, 2]"
      ]
     },
     "execution_count": 66,
     "metadata": {},
     "output_type": "execute_result"
    }
   ],
   "source": [
    "def gen():\n",
    "    yield from 'AB'\n",
    "    yield from range(1,3)\n",
    "    \n",
    "list(gen())"
   ]
  },
  {
   "cell_type": "markdown",
   "id": "e2ac8bbf",
   "metadata": {},
   "source": [
    "yield from x 표현식이 x 객체에 대해 첫 번째로 하는 일은 iter(x)를 호출해서 x의 반복자를 가져오는 것이다. 그러나 yield from의 주요한 특징은 가장 바깥쪽 호출자와 가장 안쪽에 있는 하위 제너레이터 사이에 양방향 채널을 열어준다는 것이다.\n",
    "\n",
    "yield from을 사용하기 위한 주요 용어는 다음과 같다.\n",
    "\n",
    "- 대표 제너레이터 : yield from <반복형> 표현식을 담고 있는 제너레이터 함수\n",
    "- 하위 제너레이터 : yield from 표현식 중 <반복형>에서 가져오는 제너레이터\n",
    "- 호출자 : 대표 제너레이터를 호출하는 코드"
   ]
  },
  {
   "cell_type": "markdown",
   "id": "e670dd6d",
   "metadata": {},
   "source": [
    "# 8. yield from의 의미"
   ]
  },
  {
   "cell_type": "markdown",
   "id": "54bc5da8",
   "metadata": {},
   "source": [
    "- 하위 제너레이터가 생성하는 값은 모두 대표 제너레이터의 호출자에 바로 전달\n",
    "- send()를 통해 대표 제너레이터에 전달한 값은 모두 하위 제너레이터에 직접 전달된다. 값이 None이면 하위 제너레이터의 __next__() 메서드가 호출된다. None이 아니면 하위 제너레이터의 send() 메서드가 호출된다. 호출된 메서드에서 StopIteration 예외가 발생하면 대표 제너레이터의 실행이 재개된다. 그 외의 예외는 대표 제너레이터 전달된다.\n",
    "- 제너레이터나 하위 제너레이터에서 return expr 문을 실행하면 제너레이터를 빠져나온 후 StopIteration(expr) 예외가 발생한다.\n",
    "- 하위 제너레이터가 실행을 마친 후 발생한 StopIteration 예외의 첫 번째 인수가 yield from 표현식의 값이 된다.\n",
    "- 대표 제너레이터에 던져진 GeneratorExit 이외의 예외는 하위 제너레이터의 throw() 메서드에 전달된다. throw() 메서드를 호출해서 StopIteration 예외가 발생하면 대표 제너레이터의 실행이 재개된다. 그 외의 예외는 대표 제너레이터에 전달된다.\n",
    "- GeneratorExit 예외가 대표 제너레이터에 던져지거나 대표 제너레이터의 close() 메서드가 호출되면 하위 제너레이터의 close() 메서드가 호출된다. 그 결과 예외가 발생하면 발생한 예외가 대표 제너레이터에 전파된다. 그렇지 않으면 대표 제너레이터에서 GeneratorExit 예외가 발생한다."
   ]
  },
  {
   "cell_type": "code",
   "execution_count": null,
   "id": "3724ffaa",
   "metadata": {},
   "outputs": [],
   "source": []
  }
 ],
 "metadata": {
  "kernelspec": {
   "display_name": "Python 3 (ipykernel)",
   "language": "python",
   "name": "python3"
  },
  "language_info": {
   "codemirror_mode": {
    "name": "ipython",
    "version": 3
   },
   "file_extension": ".py",
   "mimetype": "text/x-python",
   "name": "python",
   "nbconvert_exporter": "python",
   "pygments_lexer": "ipython3",
   "version": "3.10.9"
  }
 },
 "nbformat": 4,
 "nbformat_minor": 5
}
