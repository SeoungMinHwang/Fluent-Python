{
 "cells": [
  {
   "cell_type": "markdown",
   "id": "0a03e1a9",
   "metadata": {},
   "source": [
    "연산자 오버로딩은 사용자 정의 객체가 +와 | 같은 중위 연산자, -와 ~같은 단항 연산자를 사용할 수 있게 해준다. 파이썬은 여기에서 더 나아가 함수 호출(()), 속성 접근(.), 항목 접근 / 슬라이싱([])도 연산자로 구현되어 있지만, 이 장에서는 단항 연산자와 중위 연산자만 다룬다.\n",
    "\n",
    "- 파이썬이 다른 자료형의 피연산자로 중위 연산자를 지원하는 방법\n",
    "- 다양한 자료형의 피연산자를 다루기 위한 덕 타이핑이나 명시적인 자료형 검사의 사용\n",
    "- ==, >, <= 등 향상된 비교 연산자의 별난 행동\n",
    "- 피연산자를 처리할 수 없다고 중위 연산자 메서드가 알려주는 방법\n",
    "\n",
    "- +=과 같은 계산 할당 연산자의 기본 처리 방식 및 오버로딩 방법"
   ]
  },
  {
   "cell_type": "markdown",
   "id": "194831d5",
   "metadata": {},
   "source": [
    "# 1. 연산자 오버로딩 기본 지식  \n",
    "  \n",
    "  파이썬은 다음과 같은 제한을 두어 융통성, 사용성, 안전성을 적절히 유지한다.\n",
    "\n",
    "\n",
    " - 내장 자료형에 대한 연산자는 오버로딩할 수 없다.\n",
    " - 새로운 연산자를 생성할 수 없으며, 기존 연산자를 오버로딩만 할 수 있다.\n",
    " - is, and, or, not 연산자는 오버로딩할 수 없다(그러나 $, |, ~ 비트 연산자는 가능)"
   ]
  },
  {
   "cell_type": "markdown",
   "id": "1c922a05",
   "metadata": {},
   "source": [
    "# 2. 단항 연산자  \n",
    "  \n",
    "\n",
    "\"-\" (__neg __) : 단항 산술 부정. x가 -2면 -x는 2다.\n",
    "\n",
    "\"+\" (__pos __) : 단항 산술 덧셈. 일반적으로 x와 +x는 동일하다.\n",
    "\n",
    "\"~\" (__invert __) : 정수형의 비트 반전. ~x는 -(x+1)로 정의된다.  \n",
    "\n",
    "단항 연산자는 구현하기 쉽다. 단지 self 인수 하나를 받는 적절한 특별 메서드를 구현하면 된다. 클래스에 논리적으로 합당한 연산을 수행해야 하지만, 특히 \"언제나 새로운 객체를 반환해야 한다\"는 연산자의 핵심 규칙을 지켜야한다."
   ]
  },
  {
   "cell_type": "code",
   "execution_count": 1,
   "id": "1097d76a",
   "metadata": {},
   "outputs": [],
   "source": [
    "from array import array\n",
    "import reprlib\n",
    "import math\n",
    "import numbers\n",
    "import functools\n",
    "import operator\n",
    "import itertools # chain() 함수를 사용하기 위함\n",
    "\n",
    "class Vector:\n",
    "    typecode = 'd'\n",
    "    shortcut_names = 'xyzt'\n",
    "    \n",
    "    def __init__(self, components):\n",
    "        # 벡터 요소를 배열로 저장\n",
    "        self._components = array(self.typecode, components)\n",
    "    \n",
    "    \"\"\"시퀀스 프로토콜 구현\"\"\"\n",
    "    def __len__(self):\n",
    "        return len(self._components)\n",
    "    \n",
    "    def __getitem__(self, index):\n",
    "        cls = type(self) # 객체의 클래스를 가져옴\n",
    "        if isinstance(index, slice): # index가 슬라이스이면\n",
    "            return cls(self._components[index]) # Vector 객체를 생성\n",
    "        elif isinstance(index, numbers.Integral): # index가 정수형이면\n",
    "            return self._components[index] # 해당 항목 반환\n",
    "        else:\n",
    "            msg = '{cls.__name__} indices must be integers'\n",
    "            raise TypeError(msg.format(cls=cls)) \n",
    "    \"\"\"시퀀스 프로토콜 구현 종료\"\"\"\n",
    "    \n",
    "    def __getattr__(self, name):\n",
    "        cls = type(self)\n",
    "        if len(name) == 1: # name이 한글자이면 \n",
    "            pos = cls.shortcut_names.find(name)\n",
    "            if 0 <= pos < len(self._components): # 포지션이 범위 내에 있으면 배열 항목 반환\n",
    "                return self._components[pos]\n",
    "        msg = '{.__name__!r} object has no attribute {!r}' \n",
    "        raise AttributeError(msg.format(cls, name))\n",
    "        \n",
    "    def __setattr__(self, name, value):\n",
    "        cls = type(self)\n",
    "        if len(name) == 1:\n",
    "            if name in cls.shortcut_names:\n",
    "                error = 'readonly attribute {attr_name!r}' # xyzt 중 하나는 구체적으로 오류 발생\n",
    "            elif name.islower():\n",
    "                error = \"can't set attributes 'a' to 'z' in {cls_name!r}\" # 그외 소문자면 일반적 메세지 오류 발생\n",
    "            else:\n",
    "                error = ''\n",
    "            if error:\n",
    "                msg = error.format(cls_name=cls.__name__, attr_name=name)\n",
    "                raise AttributeError(msg)\n",
    "        # 에러가 발생하지 않을 때는 정상적으로 __setattr__() 메서드 호출\n",
    "        super().__setattr__(name, value) \n",
    "        \n",
    "    def angle(self, n):\n",
    "        r = math.sqrt(sum(x * x for x in self[n:]))\n",
    "        a = math.atan2(r, self[n-1])\n",
    "        if (n == len(self) - 1) and (self[-1]<0):\n",
    "            return math.pi * 2 - a\n",
    "        else:\n",
    "            return a\n",
    "        \n",
    "    def angles(self):\n",
    "        return (self.angle(n) for n in range(1, len(self)))\n",
    "    \n",
    "    def __format__(self, fmt_spec=''):\n",
    "        if fmt_spec.endswith('h'): # 초구면좌표\n",
    "            fmt_spec = fmt_spec[:-1]\n",
    "            coords = itertools.chain([abs(self)],\n",
    "                                    self.angles()) \n",
    "            outer_fmt = '<{}>'\n",
    "        else:\n",
    "            coords = self\n",
    "            outer_fmt = '({})'\n",
    "        components = (format(c, fmt_spec) for c in coords)\n",
    "        return outer_fmt.format(', '.join(components))\n",
    "    \n",
    "    def __iter__(self):\n",
    "        return iter(self._components) # 반복할 수 있도록 구현\n",
    "    \n",
    "    def __repr__(self):\n",
    "        components = reprlib.repr(self._components) # 제한된 길이로 출력\n",
    "        components = components[components.find('['):-1] # 문자열 중 앞에 나오는 \"array('d',\" 를 제거\n",
    "        return 'Vector({})'.format(components)\n",
    "    \n",
    "    def __str__(self):\n",
    "        return str(tuple(self))\n",
    "    \n",
    "    def __bytes__(self):\n",
    "        return (bytes([ord(self.typecode)]) + \n",
    "               bytes(self._components))\n",
    "    \n",
    "    def __eq__(self, other):\n",
    "        if len(self) != len(other): # 길이가 다르면 False\n",
    "            return False\n",
    "        for a, b in zip(self, other): # 제너레이터로부터 하나씩 비교\n",
    "            if a != b:\n",
    "                return False\n",
    "        return True\n",
    "    \n",
    "    def __hash__(self):\n",
    "        hashes = (hash(x) for x in self._components) # 제너레이터 표현식 이용\n",
    "        return functools.reduce(operator.xor, hasehs, 0) # 초기값을 0으로 함\n",
    "    \n",
    "    def __abs__(self):\n",
    "        return math.sqrt(sum(x * x for x in self))\n",
    "    \n",
    "    def __bool__(self):\n",
    "        return bool(abs(self))\n",
    "    \n",
    "    @classmethod\n",
    "    def frombytes(cls, octets):\n",
    "        typecode = chr(octets[0])\n",
    "        memv = memoryview(octets[1:]).cast(typecode)\n",
    "        return cls(memv) # 언패킹할 필요가 없음\n",
    "    \n",
    "    # -x 구현\n",
    "    def __neg__(self):\n",
    "        return Vector(-x for x in self)\n",
    "    \n",
    "    # +x 구현\n",
    "    def __pos__(self):\n",
    "        return Vector(self)"
   ]
  },
  {
   "cell_type": "code",
   "execution_count": 2,
   "id": "66d37ea9",
   "metadata": {
    "scrolled": true
   },
   "outputs": [
    {
     "data": {
      "text/plain": [
       "(Vector([1.0, 2.0, 3.0]), Vector([1.0, 2.0, 3.0]), Vector([-1.0, -2.0, -3.0]))"
      ]
     },
     "execution_count": 2,
     "metadata": {},
     "output_type": "execute_result"
    }
   ],
   "source": [
    "v1 = Vector([1,2,3])\n",
    "v1, +v1, -v1"
   ]
  },
  {
   "cell_type": "code",
   "execution_count": 6,
   "id": "e8e4e638",
   "metadata": {},
   "outputs": [
    {
     "data": {
      "text/plain": [
       "Decimal('0.3333333333333333333333333333333333333333')"
      ]
     },
     "execution_count": 6,
     "metadata": {},
     "output_type": "execute_result"
    }
   ],
   "source": [
    "# 산술 콘텍스트의 정밀도를 변경하면 x와 +x가 달라질 수 있다.\n",
    "\n",
    "import decimal \n",
    "ctx = decimal.getcontext()\n",
    "ctx.prec = 40\n",
    "one_third = decimal.Decimal('1') / decimal.Decimal('3')\n",
    "one_third"
   ]
  },
  {
   "cell_type": "code",
   "execution_count": 5,
   "id": "b5911661",
   "metadata": {},
   "outputs": [
    {
     "data": {
      "text/plain": [
       "True"
      ]
     },
     "execution_count": 5,
     "metadata": {},
     "output_type": "execute_result"
    }
   ],
   "source": [
    "one_third == +one_third"
   ]
  },
  {
   "cell_type": "code",
   "execution_count": 10,
   "id": "56f39ccd",
   "metadata": {},
   "outputs": [
    {
     "data": {
      "text/plain": [
       "False"
      ]
     },
     "execution_count": 10,
     "metadata": {},
     "output_type": "execute_result"
    }
   ],
   "source": [
    "ctx.prec = 28\n",
    "one_third == +one_third"
   ]
  },
  {
   "cell_type": "code",
   "execution_count": 11,
   "id": "a2d78f3e",
   "metadata": {},
   "outputs": [
    {
     "data": {
      "text/plain": [
       "Decimal('0.3333333333333333333333333333')"
      ]
     },
     "execution_count": 11,
     "metadata": {},
     "output_type": "execute_result"
    }
   ],
   "source": [
    "+one_third"
   ]
  },
  {
   "cell_type": "code",
   "execution_count": 18,
   "id": "647c04ba",
   "metadata": {},
   "outputs": [
    {
     "data": {
      "text/plain": [
       "Counter({'a': 5, 'b': 2, 'r': 2, 'c': 1, 'd': 1})"
      ]
     },
     "execution_count": 18,
     "metadata": {},
     "output_type": "execute_result"
    }
   ],
   "source": [
    "# 단항 연산자는 +는 합계가 0이거나 음수인 항목을 제외하고 Counter 객체를 새로 생성한다\n",
    "\n",
    "from collections import Counter\n",
    "ct = Counter('abracadabra')\n",
    "ct"
   ]
  },
  {
   "cell_type": "code",
   "execution_count": 16,
   "id": "b9936952",
   "metadata": {},
   "outputs": [
    {
     "data": {
      "text/plain": [
       "Counter({'a': 5, 'b': 2, 'r': -3, 'c': 1, 'd': 0})"
      ]
     },
     "execution_count": 16,
     "metadata": {},
     "output_type": "execute_result"
    }
   ],
   "source": [
    "ct['r'] = -3\n",
    "ct['d'] = 0\n",
    "ct"
   ]
  },
  {
   "cell_type": "code",
   "execution_count": 17,
   "id": "c2b0f9e7",
   "metadata": {},
   "outputs": [
    {
     "data": {
      "text/plain": [
       "Counter({'a': 5, 'b': 2, 'c': 1})"
      ]
     },
     "execution_count": 17,
     "metadata": {},
     "output_type": "execute_result"
    }
   ],
   "source": [
    "+ct"
   ]
  },
  {
   "cell_type": "markdown",
   "id": "8bdd20a1",
   "metadata": {},
   "source": [
    "# 3 벡터를 더하기 위해 + 오버로딩하기  \n",
    "\n",
    "짧은 쪽에 벡터의 빈 공간을 0으로 채워서 더하도록"
   ]
  },
  {
   "cell_type": "code",
   "execution_count": 19,
   "id": "89a91697",
   "metadata": {},
   "outputs": [],
   "source": [
    "from array import array\n",
    "import reprlib\n",
    "import math\n",
    "import numbers\n",
    "import functools\n",
    "import operator\n",
    "import itertools # chain() 함수를 사용하기 위함\n",
    "\n",
    "class Vector:\n",
    "    typecode = 'd'\n",
    "    shortcut_names = 'xyzt'\n",
    "    \n",
    "    def __init__(self, components):\n",
    "        # 벡터 요소를 배열로 저장\n",
    "        self._components = array(self.typecode, components)\n",
    "    \n",
    "    \"\"\"시퀀스 프로토콜 구현\"\"\"\n",
    "    def __len__(self):\n",
    "        return len(self._components)\n",
    "    \n",
    "    def __getitem__(self, index):\n",
    "        cls = type(self) # 객체의 클래스를 가져옴\n",
    "        if isinstance(index, slice): # index가 슬라이스이면\n",
    "            return cls(self._components[index]) # Vector 객체를 생성\n",
    "        elif isinstance(index, numbers.Integral): # index가 정수형이면\n",
    "            return self._components[index] # 해당 항목 반환\n",
    "        else:\n",
    "            msg = '{cls.__name__} indices must be integers'\n",
    "            raise TypeError(msg.format(cls=cls)) \n",
    "    \"\"\"시퀀스 프로토콜 구현 종료\"\"\"\n",
    "    \n",
    "    def __getattr__(self, name):\n",
    "        cls = type(self)\n",
    "        if len(name) == 1: # name이 한글자이면 \n",
    "            pos = cls.shortcut_names.find(name)\n",
    "            if 0 <= pos < len(self._components): # 포지션이 범위 내에 있으면 배열 항목 반환\n",
    "                return self._components[pos]\n",
    "        msg = '{.__name__!r} object has no attribute {!r}' \n",
    "        raise AttributeError(msg.format(cls, name))\n",
    "        \n",
    "    def __setattr__(self, name, value):\n",
    "        cls = type(self)\n",
    "        if len(name) == 1:\n",
    "            if name in cls.shortcut_names:\n",
    "                error = 'readonly attribute {attr_name!r}' # xyzt 중 하나는 구체적으로 오류 발생\n",
    "            elif name.islower():\n",
    "                error = \"can't set attributes 'a' to 'z' in {cls_name!r}\" # 그외 소문자면 일반적 메세지 오류 발생\n",
    "            else:\n",
    "                error = ''\n",
    "            if error:\n",
    "                msg = error.format(cls_name=cls.__name__, attr_name=name)\n",
    "                raise AttributeError(msg)\n",
    "        # 에러가 발생하지 않을 때는 정상적으로 __setattr__() 메서드 호출\n",
    "        super().__setattr__(name, value) \n",
    "        \n",
    "    def angle(self, n):\n",
    "        r = math.sqrt(sum(x * x for x in self[n:]))\n",
    "        a = math.atan2(r, self[n-1])\n",
    "        if (n == len(self) - 1) and (self[-1]<0):\n",
    "            return math.pi * 2 - a\n",
    "        else:\n",
    "            return a\n",
    "        \n",
    "    def angles(self):\n",
    "        return (self.angle(n) for n in range(1, len(self)))\n",
    "    \n",
    "    def __format__(self, fmt_spec=''):\n",
    "        if fmt_spec.endswith('h'): # 초구면좌표\n",
    "            fmt_spec = fmt_spec[:-1]\n",
    "            coords = itertools.chain([abs(self)],\n",
    "                                    self.angles()) \n",
    "            outer_fmt = '<{}>'\n",
    "        else:\n",
    "            coords = self\n",
    "            outer_fmt = '({})'\n",
    "        components = (format(c, fmt_spec) for c in coords)\n",
    "        return outer_fmt.format(', '.join(components))\n",
    "    \n",
    "    def __iter__(self):\n",
    "        return iter(self._components) # 반복할 수 있도록 구현\n",
    "    \n",
    "    def __repr__(self):\n",
    "        components = reprlib.repr(self._components) # 제한된 길이로 출력\n",
    "        components = components[components.find('['):-1] # 문자열 중 앞에 나오는 \"array('d',\" 를 제거\n",
    "        return 'Vector({})'.format(components)\n",
    "    \n",
    "    def __str__(self):\n",
    "        return str(tuple(self))\n",
    "    \n",
    "    def __bytes__(self):\n",
    "        return (bytes([ord(self.typecode)]) + \n",
    "               bytes(self._components))\n",
    "    \n",
    "    def __eq__(self, other):\n",
    "        if len(self) != len(other): # 길이가 다르면 False\n",
    "            return False\n",
    "        for a, b in zip(self, other): # 제너레이터로부터 하나씩 비교\n",
    "            if a != b:\n",
    "                return False\n",
    "        return True\n",
    "    \n",
    "    def __hash__(self):\n",
    "        hashes = (hash(x) for x in self._components) # 제너레이터 표현식 이용\n",
    "        return functools.reduce(operator.xor, hasehs, 0) # 초기값을 0으로 함\n",
    "    \n",
    "    def __abs__(self):\n",
    "        return math.sqrt(sum(x * x for x in self))\n",
    "    \n",
    "    def __bool__(self):\n",
    "        return bool(abs(self))\n",
    "    \n",
    "    @classmethod\n",
    "    def frombytes(cls, octets):\n",
    "        typecode = chr(octets[0])\n",
    "        memv = memoryview(octets[1:]).cast(typecode)\n",
    "        return cls(memv) # 언패킹할 필요가 없음\n",
    "    \n",
    "    # -x 구현\n",
    "    def __neg__(self):\n",
    "        return Vector(-x for x in self)\n",
    "    \n",
    "    # +x 구현\n",
    "    def __pos__(self):\n",
    "        return Vector(self)\n",
    "\n",
    "    def __add__(self, other):\n",
    "        pairs = itertools.zip_longest(self, other, fillvalue=0.0)\n",
    "        return Vector(a + b for a, b in pairs)"
   ]
  },
  {
   "cell_type": "code",
   "execution_count": 22,
   "id": "6e380662",
   "metadata": {},
   "outputs": [
    {
     "data": {
      "text/plain": [
       "Vector([9.0, 11.0, 13.0])"
      ]
     },
     "execution_count": 22,
     "metadata": {},
     "output_type": "execute_result"
    }
   ],
   "source": [
    "v1 = Vector([3,4,5])\n",
    "v2 = Vector([6,7,8])\n",
    "v1+v2"
   ]
  },
  {
   "cell_type": "code",
   "execution_count": 23,
   "id": "ef9cd4c2",
   "metadata": {},
   "outputs": [
    {
     "data": {
      "text/plain": [
       "True"
      ]
     },
     "execution_count": 23,
     "metadata": {},
     "output_type": "execute_result"
    }
   ],
   "source": [
    "v1+v2 == Vector([3+6, 4+7, 5+8])"
   ]
  },
  {
   "cell_type": "code",
   "execution_count": 25,
   "id": "709344e4",
   "metadata": {},
   "outputs": [
    {
     "data": {
      "text/plain": [
       "Vector([2.0, 6.0, 6.0, 2.0])"
      ]
     },
     "execution_count": 25,
     "metadata": {},
     "output_type": "execute_result"
    }
   ],
   "source": [
    "v1 = Vector([1,2])\n",
    "v2 = Vector([1,4,6,2])\n",
    "v1 + v2"
   ]
  },
  {
   "cell_type": "code",
   "execution_count": null,
   "id": "0bf1e3f2",
   "metadata": {},
   "outputs": [],
   "source": []
  },
  {
   "cell_type": "markdown",
   "id": "3e1cf468",
   "metadata": {},
   "source": [
    "# 4, 벡터를 스칼라와 곱하기 위해 * 오버로딩하기\n",
    "\n",
    "![](https://raw.githubusercontent.com/lih0905/Fluent_Python/1d739915cc054f11c0081245f53f7e66f7368915//images/13_1.PNG)\n",
    "![](https://raw.githubusercontent.com/lih0905/Fluent_Python/1d739915cc054f11c0081245f53f7e66f7368915//images/13_2.PNG)"
   ]
  },
  {
   "attachments": {},
   "cell_type": "markdown",
   "id": "46cd40c9",
   "metadata": {},
   "source": [
    "# 5. 향상된 비교 연산자\n",
    "\n",
    "![](https://raw.githubusercontent.com/lih0905/Fluent_Python/1d739915cc054f11c0081245f53f7e66f7368915//images/13_3.PNG)"
   ]
  },
  {
   "cell_type": "code",
   "execution_count": null,
   "id": "7942d1fa",
   "metadata": {},
   "outputs": [],
   "source": []
  }
 ],
 "metadata": {
  "kernelspec": {
   "display_name": "Python 3 (ipykernel)",
   "language": "python",
   "name": "python3"
  },
  "language_info": {
   "codemirror_mode": {
    "name": "ipython",
    "version": 3
   },
   "file_extension": ".py",
   "mimetype": "text/x-python",
   "name": "python",
   "nbconvert_exporter": "python",
   "pygments_lexer": "ipython3",
   "version": "3.10.9"
  }
 },
 "nbformat": 4,
 "nbformat_minor": 5
}
