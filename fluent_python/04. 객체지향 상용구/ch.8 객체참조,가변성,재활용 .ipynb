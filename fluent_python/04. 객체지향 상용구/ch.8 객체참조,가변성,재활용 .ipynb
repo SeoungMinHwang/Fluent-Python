{
 "cells": [
  {
   "cell_type": "markdown",
   "id": "8c745a5e",
   "metadata": {},
   "source": [
    "# 1. 변수는 상자가 아니다.\n",
    "\n",
    "파이썬 변수는 자바에서의 참조 변수와 같으므로 변수는 객체에 붙은 레이블이라 생각하는 것이 좋다."
   ]
  },
  {
   "cell_type": "code",
   "execution_count": 12,
   "id": "d4b91b3d",
   "metadata": {
    "scrolled": true
   },
   "outputs": [
    {
     "name": "stdout",
     "output_type": "stream",
     "text": [
      "[1, 2, 3, 4]\n"
     ]
    }
   ],
   "source": [
    "a = [1,2,3]\n",
    "b = a\n",
    "a.append(4)\n",
    "print(b)"
   ]
  },
  {
   "cell_type": "markdown",
   "id": "4aed6af9",
   "metadata": {},
   "source": [
    "객체는 변수가 할당되기 전에 생성된다."
   ]
  },
  {
   "cell_type": "code",
   "execution_count": 1,
   "id": "7df68a54",
   "metadata": {},
   "outputs": [],
   "source": [
    "# 객체가 생성된 후에야 변수가 객체에 할당된다.\n",
    "\n",
    "class Gizmo:\n",
    "    def __init__(self):\n",
    "        print('Gizmo id: %d id(self)')"
   ]
  },
  {
   "cell_type": "code",
   "execution_count": 2,
   "id": "40120d0e",
   "metadata": {},
   "outputs": [
    {
     "name": "stdout",
     "output_type": "stream",
     "text": [
      "Gizmo id: %d id(self)\n"
     ]
    }
   ],
   "source": [
    "x = Gizmo()"
   ]
  },
  {
   "cell_type": "code",
   "execution_count": 3,
   "id": "c547a1b3",
   "metadata": {},
   "outputs": [
    {
     "name": "stdout",
     "output_type": "stream",
     "text": [
      "Gizmo id: %d id(self)\n"
     ]
    },
    {
     "ename": "TypeError",
     "evalue": "unsupported operand type(s) for *: 'Gizmo' and 'int'",
     "output_type": "error",
     "traceback": [
      "\u001b[1;31m---------------------------------------------------------------------------\u001b[0m",
      "\u001b[1;31mTypeError\u001b[0m                                 Traceback (most recent call last)",
      "Cell \u001b[1;32mIn[3], line 1\u001b[0m\n\u001b[1;32m----> 1\u001b[0m y \u001b[38;5;241m=\u001b[39m \u001b[43mGizmo\u001b[49m\u001b[43m(\u001b[49m\u001b[43m)\u001b[49m\u001b[43m \u001b[49m\u001b[38;5;241;43m*\u001b[39;49m\u001b[43m \u001b[49m\u001b[38;5;241;43m10\u001b[39;49m\n",
      "\u001b[1;31mTypeError\u001b[0m: unsupported operand type(s) for *: 'Gizmo' and 'int'"
     ]
    }
   ],
   "source": [
    "y = Gizmo() * 10"
   ]
  },
  {
   "cell_type": "code",
   "execution_count": 5,
   "id": "4c5d32f2",
   "metadata": {
    "collapsed": true
   },
   "outputs": [
    {
     "data": {
      "text/plain": [
       "['Gizmo',\n",
       " 'In',\n",
       " 'Out',\n",
       " '_',\n",
       " '__',\n",
       " '___',\n",
       " '__builtin__',\n",
       " '__builtins__',\n",
       " '__doc__',\n",
       " '__loader__',\n",
       " '__name__',\n",
       " '__package__',\n",
       " '__spec__',\n",
       " '_dh',\n",
       " '_i',\n",
       " '_i1',\n",
       " '_i2',\n",
       " '_i3',\n",
       " '_i4',\n",
       " '_i5',\n",
       " '_ih',\n",
       " '_ii',\n",
       " '_iii',\n",
       " '_oh',\n",
       " 'exit',\n",
       " 'get_ipython',\n",
       " 'open',\n",
       " 'quit',\n",
       " 'x']"
      ]
     },
     "execution_count": 5,
     "metadata": {},
     "output_type": "execute_result"
    }
   ],
   "source": [
    "dir()"
   ]
  },
  {
   "cell_type": "markdown",
   "id": "ed8dd9df",
   "metadata": {},
   "source": [
    "\n",
    "변수는 단지 레이블일 뿐이므로 객체에 여러 레이블을 붙이지 못할 이유가 없다. 여러 레이블을 붙이는 것을 **별명** 이라고 한다."
   ]
  },
  {
   "cell_type": "markdown",
   "id": "34247b26",
   "metadata": {},
   "source": [
    "## 정체성, 동질성, 별명"
   ]
  },
  {
   "cell_type": "code",
   "execution_count": 6,
   "id": "e30606a5",
   "metadata": {},
   "outputs": [
    {
     "data": {
      "text/plain": [
       "True"
      ]
     },
     "execution_count": 6,
     "metadata": {},
     "output_type": "execute_result"
    }
   ],
   "source": [
    "# 동일한 객체를 참조하는 charles와 lewis\n",
    "#별명의 예 \n",
    "\n",
    "charles = {'name' : 'Carles L. Dogson', 'born' : 1832}\n",
    "lewis = charles\n",
    "lewis is charles"
   ]
  },
  {
   "cell_type": "code",
   "execution_count": 7,
   "id": "cf9dd713",
   "metadata": {},
   "outputs": [
    {
     "data": {
      "text/plain": [
       "{'name': 'Carles L. Dogson', 'born': 1832, 'balance': 950}"
      ]
     },
     "execution_count": 7,
     "metadata": {},
     "output_type": "execute_result"
    }
   ],
   "source": [
    "lewis['balance'] = 950 \n",
    "charles"
   ]
  },
  {
   "cell_type": "code",
   "execution_count": 8,
   "id": "7c71e3ca",
   "metadata": {},
   "outputs": [
    {
     "data": {
      "text/plain": [
       "True"
      ]
     },
     "execution_count": 8,
     "metadata": {},
     "output_type": "execute_result"
    }
   ],
   "source": [
    "alex = {'name': 'Carles L. Dogson', 'born': 1832, 'balance': 950}\n",
    "alex == charles"
   ]
  },
  {
   "cell_type": "code",
   "execution_count": 9,
   "id": "cbb81173",
   "metadata": {},
   "outputs": [
    {
     "data": {
      "text/plain": [
       "True"
      ]
     },
     "execution_count": 9,
     "metadata": {},
     "output_type": "execute_result"
    }
   ],
   "source": [
    "alex is not charles"
   ]
  },
  {
   "cell_type": "markdown",
   "id": "db5851c3",
   "metadata": {},
   "source": [
    "lewis와 charles는 별명이다. 두 변수가 동일 객체에 바인딩되어 있다. 한편 alex는 charles에 대한 별명이 아니다. 이 두 변수는 서로 다른 객체에 바인딩되어 있다. alex에 바인딩된 객체와 charles에 바인딩된 객체가 동일한 값을 갖고 있으므로 == 연산자(동치 연산자)에 의해 동일하다고 판단되지만 정체성은 다르다."
   ]
  },
  {
   "cell_type": "markdown",
   "id": "5ff961bd",
   "metadata": {},
   "source": [
    "**모든 객체는 정체성, 자료형, 값을 가지고 있다. 객체의 정체성은 일단 생성한 후에는 결코 변경되지 않는다. 정체성은 메모리 내의 객체 주소라고 생각할 수 있다. is 연산자는 두 객체의 정체성을 비교한다. id()함수는 정체성을 나타내는 정수를 반환한다.**"
   ]
  },
  {
   "cell_type": "markdown",
   "id": "ac42cfb6",
   "metadata": {},
   "source": [
    "### 2.1 == 연산자와 is 연산자 간의 선택\n",
    "\n",
    "== 연산자(동치 연산자)가 객체의 값을 비교하는 반면, is 연산자는 객체의 정체성을 비교한다.   \n",
    "  \n",
    "  정체성보다 값을 비교하는 경우가 많으므로, 파이썬 코드에서는 == 연산자를 is 연산자보다 자주 볼 수 있다.  \n",
    "  \n",
    "  그렇지만 변수를 싱글턴과 비교할 때는 is연산자를 사용해야 한다. is 연산자를 사용할 때는 변수를 None과 비교하는 경우가 일반적이다. "
   ]
  },
  {
   "cell_type": "markdown",
   "id": "9e08cdf2",
   "metadata": {},
   "source": [
    "### 2.2 튜플의 상대적 불변성"
   ]
  },
  {
   "cell_type": "markdown",
   "id": "50d4315d",
   "metadata": {},
   "source": [
    "리스트, 딕셔너리, 집합, 등 대부분의 파이썬 컬렉션과 마찬가지로 튜플도 객체에 대한 참조를 담는다. 참조된 항목이 가변형이면 튜플 자체는 불변형이지만 참조된 항목은 변할 수 있다. 즉, 튜플의 불변성은 tuple 데이터 구조체의 물리적인 내용(즉, 참조 자체)만을 말하는것이며, 참조된 객체까지 불변성을 가지는 것은 아니다."
   ]
  },
  {
   "cell_type": "code",
   "execution_count": 14,
   "id": "532ad7d0",
   "metadata": {},
   "outputs": [
    {
     "data": {
      "text/plain": [
       "True"
      ]
     },
     "execution_count": 14,
     "metadata": {},
     "output_type": "execute_result"
    }
   ],
   "source": [
    "#초기 t1과 t2는 동일하지만, t1 튜플 안에 있는 가변 항목을 변경하면 달라진다.\n",
    "\n",
    "t1 = (1, 2, [30, 40])\n",
    "t2 = (1, 2, [30, 40])\n",
    "t1 == t2"
   ]
  },
  {
   "cell_type": "code",
   "execution_count": 15,
   "id": "39bd8d5c",
   "metadata": {},
   "outputs": [
    {
     "data": {
      "text/plain": [
       "1896089413760"
      ]
     },
     "execution_count": 15,
     "metadata": {},
     "output_type": "execute_result"
    }
   ],
   "source": [
    "id(t1[-1])"
   ]
  },
  {
   "cell_type": "code",
   "execution_count": 16,
   "id": "0d080df3",
   "metadata": {},
   "outputs": [
    {
     "data": {
      "text/plain": [
       "(1, 2, [30, 40, 99])"
      ]
     },
     "execution_count": 16,
     "metadata": {},
     "output_type": "execute_result"
    }
   ],
   "source": [
    "t1[-1].append(99)\n",
    "t1"
   ]
  },
  {
   "cell_type": "code",
   "execution_count": 17,
   "id": "c887aa57",
   "metadata": {},
   "outputs": [
    {
     "data": {
      "text/plain": [
       "1896089413760"
      ]
     },
     "execution_count": 17,
     "metadata": {},
     "output_type": "execute_result"
    }
   ],
   "source": [
    "id(t1[-1])"
   ]
  },
  {
   "cell_type": "code",
   "execution_count": 18,
   "id": "629d8443",
   "metadata": {},
   "outputs": [
    {
     "data": {
      "text/plain": [
       "False"
      ]
     },
     "execution_count": 18,
     "metadata": {},
     "output_type": "execute_result"
    }
   ],
   "source": [
    "t1 == t2"
   ]
  },
  {
   "cell_type": "markdown",
   "id": "7d094106",
   "metadata": {},
   "source": [
    "# 3. 기본 복사는 얕은 복사  "
   ]
  },
  {
   "cell_type": "code",
   "execution_count": 25,
   "id": "3f922e98",
   "metadata": {},
   "outputs": [
    {
     "data": {
      "text/plain": [
       "[3, [55, 44], (7, 8, 9)]"
      ]
     },
     "execution_count": 25,
     "metadata": {},
     "output_type": "execute_result"
    }
   ],
   "source": [
    "l1 = [3, [55, 44], (7, 8, 9)]\n",
    "l2 = list(l1)\n",
    "l2"
   ]
  },
  {
   "cell_type": "code",
   "execution_count": 26,
   "id": "2e9e19db",
   "metadata": {},
   "outputs": [
    {
     "data": {
      "text/plain": [
       "True"
      ]
     },
     "execution_count": 26,
     "metadata": {},
     "output_type": "execute_result"
    }
   ],
   "source": [
    "l2 == l1"
   ]
  },
  {
   "cell_type": "code",
   "execution_count": 27,
   "id": "53381a42",
   "metadata": {},
   "outputs": [
    {
     "data": {
      "text/plain": [
       "False"
      ]
     },
     "execution_count": 27,
     "metadata": {},
     "output_type": "execute_result"
    }
   ],
   "source": [
    "l2 is l1 "
   ]
  },
  {
   "cell_type": "markdown",
   "id": "1b50709f",
   "metadata": {},
   "source": [
    "리스트 및 가변형 시퀀스의 경우 l2 = 1[:] 코드는 사본을 생성한다.  \n",
    "  \n",
    "  그러나 생성자나 [:]을 사용하면 **얕은 사본**을 생성한다. 즉, 최상위 컨테이너는 복제하지만 사본은 원래 컨테이너에 들어 있던 동일 객체에 대한 참조로 채워진다. 모든 항목이 불변형이면 이 방식은 메모리를 절약하며 아무런 문제를 일으키지 않는다. 그러나 가변 항목이 들어 있을 때는 불쾌한 문제를 야기할 수 있다."
   ]
  },
  {
   "cell_type": "code",
   "execution_count": 29,
   "id": "74b0da02",
   "metadata": {},
   "outputs": [
    {
     "name": "stdout",
     "output_type": "stream",
     "text": [
      "\n",
      "l1 : [3, [44], (7, 8, 9), 100]\n",
      "l2 : [3, [44], (7, 8, 9)]\n",
      "\n"
     ]
    }
   ],
   "source": [
    "# 다른 리스트를 담고 있는 리스트의 얕은 복사. \n",
    "\n",
    "l1 = [3, [55, 44], (7, 8, 9)]\n",
    "l2 = list(l1)\n",
    "l1.append(100)\n",
    "l1[1].remove(55)\n",
    "\n",
    "print(f'''\n",
    "l1 : {l1}\n",
    "l2 : {l2}\n",
    "''')\n"
   ]
  },
  {
   "cell_type": "code",
   "execution_count": 30,
   "id": "9f1706d9",
   "metadata": {},
   "outputs": [
    {
     "name": "stdout",
     "output_type": "stream",
     "text": [
      "\n",
      "l1 : [3, [44, 33, 22], (7, 8, 9), 100]\n",
      "l2 : [3, [44, 33, 22], (7, 8, 9, 10, 11)]\n",
      "\n"
     ]
    }
   ],
   "source": [
    "l2[1] += [33, 22]\n",
    "l2[2] += (10, 11)\n",
    "\n",
    "print(f'''\n",
    "l1 : {l1}\n",
    "l2 : {l2}\n",
    "''')\n",
    "\n"
   ]
  },
  {
   "cell_type": "markdown",
   "id": "f72fffa1",
   "metadata": {},
   "source": [
    "### 3.1 객체의 깊은 복사와 얕은 복사  \n",
    "  \n",
    "  얕게 복사한다고 해서 늘 문제가 생기는 것은 아니지만, 내포된 객체의 참조를 공유하지 않도록 깊게 복사할 필요가 있는 경우가 종종 있다. copy 모듈이 제공하는 deepcopy() 함수는 깊은 복사를, copy() 함수는 얕은 복사를 지원한다."
   ]
  },
  {
   "cell_type": "code",
   "execution_count": 36,
   "id": "3bd0b6f6",
   "metadata": {},
   "outputs": [],
   "source": [
    "#승객을 승차 및 하차하는 버스\n",
    "\n",
    "class Bus:\n",
    "    \n",
    "    def __init__(self, passengers=None):\n",
    "        if passengers is None:\n",
    "            self.passengers = []\n",
    "        else:\n",
    "            self.passengers = list(passengers)\n",
    "            \n",
    "    def pick(self, name):\n",
    "        self.passengers.append(name)\n",
    "    \n",
    "    def drop(self, name):\n",
    "        self.passengers.remove(name)"
   ]
  },
  {
   "cell_type": "code",
   "execution_count": 40,
   "id": "f05cd06d",
   "metadata": {},
   "outputs": [
    {
     "data": {
      "text/plain": [
       "(1896084046224, 1896078943392, 1896078947136)"
      ]
     },
     "execution_count": 40,
     "metadata": {},
     "output_type": "execute_result"
    }
   ],
   "source": [
    "#copy()와 deepcopy() 비교\n",
    "\n",
    "import copy\n",
    "bus1 = Bus(['성민', '승현', '민우', '찬우'])\n",
    "bus2 = copy.copy(bus1)\n",
    "bus3 = copy.deepcopy(bus1)\n",
    "id(bus1), id(bus2), id(bus3)"
   ]
  },
  {
   "cell_type": "code",
   "execution_count": 41,
   "id": "ab0b7897",
   "metadata": {},
   "outputs": [
    {
     "data": {
      "text/plain": [
       "['승현', '민우', '찬우']"
      ]
     },
     "execution_count": 41,
     "metadata": {},
     "output_type": "execute_result"
    }
   ],
   "source": [
    "bus1.drop('성민')\n",
    "bus2.passengers"
   ]
  },
  {
   "cell_type": "code",
   "execution_count": 42,
   "id": "af4e1823",
   "metadata": {},
   "outputs": [
    {
     "data": {
      "text/plain": [
       "(1896089341184, 1896089341184, 1896091596480)"
      ]
     },
     "execution_count": 42,
     "metadata": {},
     "output_type": "execute_result"
    }
   ],
   "source": [
    "id(bus1.passengers), id(bus2.passengers), id(bus3.passengers)"
   ]
  },
  {
   "cell_type": "code",
   "execution_count": 43,
   "id": "caeb1765",
   "metadata": {},
   "outputs": [
    {
     "data": {
      "text/plain": [
       "['성민', '승현', '민우', '찬우']"
      ]
     },
     "execution_count": 43,
     "metadata": {},
     "output_type": "execute_result"
    }
   ],
   "source": [
    "bus3.passengers"
   ]
  },
  {
   "cell_type": "code",
   "execution_count": 55,
   "id": "76ea9881",
   "metadata": {},
   "outputs": [
    {
     "data": {
      "text/plain": [
       "[10, 20, [[...], 30]]"
      ]
     },
     "execution_count": 55,
     "metadata": {},
     "output_type": "execute_result"
    }
   ],
   "source": [
    "#순환 참조 b가 a를 참조한 후 a의 뒤에 바인딩되는데, deepcopy()는 a를 제대로 복사한다.\n",
    "\n",
    "a = [10, 20]\n",
    "b = [a, 30]\n",
    "a.append(b)\n",
    "a"
   ]
  },
  {
   "cell_type": "code",
   "execution_count": 56,
   "id": "8fe5fedb",
   "metadata": {},
   "outputs": [
    {
     "data": {
      "text/plain": [
       "[10, 20, [[...], 30]]"
      ]
     },
     "execution_count": 56,
     "metadata": {},
     "output_type": "execute_result"
    }
   ],
   "source": [
    "from copy import deepcopy\n",
    "c = deepcopy(a)\n",
    "c"
   ]
  },
  {
   "cell_type": "markdown",
   "id": "f894c71f",
   "metadata": {},
   "source": [
    "# 4. 참조로서의 함수 매개변수 \n",
    "\n"
   ]
  },
  {
   "cell_type": "markdown",
   "id": "c16da9b4",
   "metadata": {},
   "source": [
    "파이썬은 **공유로 호출**하는 매개변수 전달 방식만 지원한다. 이 방식은 루비, 스몰토크 등 대부분의 객체지향 언어에서 사용하는 방식과 동일하다. 공유로 호출한다는 말은 함수의 각 매개변수가 인수로 전달받은 각 참조의 사본을 받는다는 의미다. 달리 말하면, 함수 안의 매개변수는 실제 인수의 별명이 된다.  \n",
    "  \n",
    "  이런 체계의 결과로서, 함수는 인수로 전달받은 모든 가변 객체를 변경할 수 있지만, 객체의 정체성 자체는 변경할 수 없다. 즉, 어떤 객체를 다른 객체로 바꿀 수는 없다. 매개 변수 중 하나에 += 연산자를 사용하는 간단한 함수를 보여준다. 함수에 숫자, 리스트, 튜플을 전달하면, 전달받은 인수는 서로 다른 영향을 받는다."
   ]
  },
  {
   "cell_type": "code",
   "execution_count": 58,
   "id": "207d4bc3",
   "metadata": {},
   "outputs": [
    {
     "data": {
      "text/plain": [
       "3"
      ]
     },
     "execution_count": 58,
     "metadata": {},
     "output_type": "execute_result"
    }
   ],
   "source": [
    "#함수는 전달받은 가변 객체를 수정할 수 있다.\n",
    "\n",
    "def f(a, b):\n",
    "    a += b\n",
    "    return a\n",
    "\n",
    "x = 1\n",
    "y = 2\n",
    "f(x, y)"
   ]
  },
  {
   "cell_type": "code",
   "execution_count": 59,
   "id": "90e8d812",
   "metadata": {},
   "outputs": [
    {
     "data": {
      "text/plain": [
       "(1, 2)"
      ]
     },
     "execution_count": 59,
     "metadata": {},
     "output_type": "execute_result"
    }
   ],
   "source": [
    "x, y"
   ]
  },
  {
   "cell_type": "code",
   "execution_count": 60,
   "id": "cca9ac5b",
   "metadata": {},
   "outputs": [
    {
     "data": {
      "text/plain": [
       "[1, 2, 3, 4]"
      ]
     },
     "execution_count": 60,
     "metadata": {},
     "output_type": "execute_result"
    }
   ],
   "source": [
    "a = [1, 2]\n",
    "b = [3, 4]\n",
    "f(a, b)"
   ]
  },
  {
   "cell_type": "code",
   "execution_count": 61,
   "id": "3df60a56",
   "metadata": {},
   "outputs": [
    {
     "data": {
      "text/plain": [
       "([1, 2, 3, 4], [3, 4])"
      ]
     },
     "execution_count": 61,
     "metadata": {},
     "output_type": "execute_result"
    }
   ],
   "source": [
    "a, b"
   ]
  },
  {
   "cell_type": "code",
   "execution_count": 62,
   "id": "27707aa6",
   "metadata": {},
   "outputs": [
    {
     "data": {
      "text/plain": [
       "(10, 20, 30, 40)"
      ]
     },
     "execution_count": 62,
     "metadata": {},
     "output_type": "execute_result"
    }
   ],
   "source": [
    "t = (10, 20)\n",
    "u = (30, 40)\n",
    "f(t, u)"
   ]
  },
  {
   "cell_type": "code",
   "execution_count": 63,
   "id": "37f223e2",
   "metadata": {},
   "outputs": [
    {
     "data": {
      "text/plain": [
       "((10, 20), (30, 40))"
      ]
     },
     "execution_count": 63,
     "metadata": {},
     "output_type": "execute_result"
    }
   ],
   "source": [
    "t, u"
   ]
  },
  {
   "cell_type": "markdown",
   "id": "84e22647",
   "metadata": {},
   "source": [
    "### 4.1 가변형을 매개변수 기본값으로 사용하기 : 좋지 않은 생각  \n",
    "  \n",
    "  기본값을 가진 선택적 인수는 파이썬 함수 정의에서 아주 좋은 기능으로, 하위 호환성을 유지하며 API를 개선할 수 있게 해준다. 그러나 매개변수 기본값으로 가변 객체를 사용하는 것은 피해야 한다."
   ]
  },
  {
   "cell_type": "code",
   "execution_count": 65,
   "id": "6d3dee1b",
   "metadata": {},
   "outputs": [
    {
     "data": {
      "text/plain": [
       "['Bill', 'Charlie']"
      ]
     },
     "execution_count": 65,
     "metadata": {},
     "output_type": "execute_result"
    }
   ],
   "source": [
    "#가변형이 기본값이 될 때의 위험성을 보여주는 간단한 클래스\n",
    "\n",
    "class HauntedBus:\n",
    "    '''유령 승객이 출몰하는 버스 모델'''\n",
    "    \n",
    "    def __init__(self, passengers = []):\n",
    "        self.passengers = passengers\n",
    "        \n",
    "    def pick(self, name):\n",
    "        self.passengers.append(name)\n",
    "        \n",
    "    def drop(self, name):\n",
    "        self.passengers.remove(name)\n",
    "        \n",
    "bus1 = HauntedBus(['Alice', 'Bill'])\n",
    "bus1.pick('Charlie')\n",
    "bus1.drop('Alice')\n",
    "bus1.passengers"
   ]
  },
  {
   "cell_type": "code",
   "execution_count": 66,
   "id": "4aa6a22a",
   "metadata": {},
   "outputs": [
    {
     "data": {
      "text/plain": [
       "['Carrie']"
      ]
     },
     "execution_count": 66,
     "metadata": {},
     "output_type": "execute_result"
    }
   ],
   "source": [
    "bus2 = HauntedBus()\n",
    "bus2.pick('Carrie')\n",
    "bus2.passengers"
   ]
  },
  {
   "cell_type": "code",
   "execution_count": 67,
   "id": "c3500617",
   "metadata": {},
   "outputs": [
    {
     "data": {
      "text/plain": [
       "['Carrie', 'Dave']"
      ]
     },
     "execution_count": 67,
     "metadata": {},
     "output_type": "execute_result"
    }
   ],
   "source": [
    "bus3 = HauntedBus()\n",
    "bus3.pick('Dave')\n",
    "bus2.passengers"
   ]
  },
  {
   "cell_type": "code",
   "execution_count": 68,
   "id": "72b04e92",
   "metadata": {},
   "outputs": [
    {
     "data": {
      "text/plain": [
       "True"
      ]
     },
     "execution_count": 68,
     "metadata": {},
     "output_type": "execute_result"
    }
   ],
   "source": [
    "bus2.passengers is bus3.passengers"
   ]
  },
  {
   "cell_type": "code",
   "execution_count": 69,
   "id": "5d95094a",
   "metadata": {},
   "outputs": [
    {
     "data": {
      "text/plain": [
       "['Bill', 'Charlie']"
      ]
     },
     "execution_count": 69,
     "metadata": {},
     "output_type": "execute_result"
    }
   ],
   "source": [
    "bus1.passengers"
   ]
  },
  {
   "cell_type": "markdown",
   "id": "c9530c84",
   "metadata": {},
   "source": [
    "명시적인 승객 리스트로 초기화되지 않은 Bus 객체들이 승객 리스트를 공유하게 되는 문제가 발생한다.  \n",
    "  \n",
    "  이런 버그는 찾아내기 쉽지 않다. HauntedBus객체를 passengers로 초기화하면 원하는 대로 작동한다. HauntedBus 객체가 빈 리스트로 시작할 때만 이상한 일이 발생한다. self.passengers가 passengers 매개변수 기본값의 별명이 되기 때문이다. 문제는 각 기본값이 함수가 정의될 때(즉, 일반적으로 모듈이 로딩될 때) 평가되고 기본값은 함수 객체의 속성이 된다는 것이다. 따라서 기본값이 가변 객체고, 이 객체를 변경하면 변경 내용이 향후에 이 함수의 호출에 영향을 미친다.\n",
    "  \n",
    "  HauntedBus._ _init_ _ 객체를 조사하면 다음과 같이 _ _defaults_ _ 속성 안에 유령 학생이 들어 있는 것을 볼 수 있다."
   ]
  },
  {
   "cell_type": "code",
   "execution_count": 70,
   "id": "1b160ddf",
   "metadata": {
    "scrolled": true
   },
   "outputs": [
    {
     "data": {
      "text/plain": [
       "['__annotations__',\n",
       " '__builtins__',\n",
       " '__call__',\n",
       " '__class__',\n",
       " '__closure__',\n",
       " '__code__',\n",
       " '__defaults__',\n",
       " '__delattr__',\n",
       " '__dict__',\n",
       " '__dir__',\n",
       " '__doc__',\n",
       " '__eq__',\n",
       " '__format__',\n",
       " '__ge__',\n",
       " '__get__',\n",
       " '__getattribute__',\n",
       " '__globals__',\n",
       " '__gt__',\n",
       " '__hash__',\n",
       " '__init__',\n",
       " '__init_subclass__',\n",
       " '__kwdefaults__',\n",
       " '__le__',\n",
       " '__lt__',\n",
       " '__module__',\n",
       " '__name__',\n",
       " '__ne__',\n",
       " '__new__',\n",
       " '__qualname__',\n",
       " '__reduce__',\n",
       " '__reduce_ex__',\n",
       " '__repr__',\n",
       " '__setattr__',\n",
       " '__sizeof__',\n",
       " '__str__',\n",
       " '__subclasshook__']"
      ]
     },
     "execution_count": 70,
     "metadata": {},
     "output_type": "execute_result"
    }
   ],
   "source": [
    "dir(HauntedBus.__init__)"
   ]
  },
  {
   "cell_type": "markdown",
   "id": "6d8bbb05",
   "metadata": {},
   "source": [
    "다음 문장을 실행하면 bus2.passengers가 HauntedBus._ _init_ _._ _defaults_ _ 속성의 첫 번째 항목에 바인딩된 별명임을 확인할 수 있다."
   ]
  },
  {
   "cell_type": "code",
   "execution_count": 75,
   "id": "83777212",
   "metadata": {},
   "outputs": [
    {
     "data": {
      "text/plain": [
       "True"
      ]
     },
     "execution_count": 75,
     "metadata": {},
     "output_type": "execute_result"
    }
   ],
   "source": [
    "HauntedBus.__init__.__defaults__[0] is bus2.passengers"
   ]
  },
  {
   "cell_type": "markdown",
   "id": "8e20cdb9",
   "metadata": {},
   "source": [
    "가변 기본값에 대한 이러한 문제 때문에, 가변 값을 받는 매개변수의 기본값으로 None을 주로 사용한다."
   ]
  },
  {
   "cell_type": "markdown",
   "id": "e24c1ab3",
   "metadata": {},
   "source": [
    "### 4.2 가변 매개변수에 대한 방어적 프로그래밍  \n",
    "  \n",
    "  가변 매개변수를 받는 함수를 구현할 때는, 전달된 인수가 변경될 것이라는 것을 호출자가 예상할 수 있는지 없는지 신중하게 고려해야 한다.\n",
    "  \n",
    "  예를 들어 구현하는 함수를 dict 객체를 받아서 처리하는 동안 그 dict객체를 변경한다면, 함수가 반환된 후에도 변경 내용이 남아 있어야 할까 아닐까? 판단은 상황에 따라 다르다. 정말 중요한 것은 함수 구현자와 함수 호출자가 예상하는 것을 일치시키는 것이다."
   ]
  },
  {
   "cell_type": "code",
   "execution_count": 78,
   "id": "262ec639",
   "metadata": {},
   "outputs": [],
   "source": [
    "# 받은 인수를 변경하는 위험성을 보여주는 간단한 클래스\n",
    "class TwilightBus:\n",
    "    '''승객이 사라지게 만드는 버스 모델'''\n",
    "    \n",
    "    def __init__(self, passengers = None):\n",
    "        if passengers is None:\n",
    "            self.passengers = []\n",
    "        else:\n",
    "            self.passengers = passengers\n",
    "\n",
    "    def pick(self, name):\n",
    "        self.passengers.append(name)\n",
    "        \n",
    "    def drop(self, name):\n",
    "        self.passengers.remove(name)"
   ]
  },
  {
   "cell_type": "code",
   "execution_count": 82,
   "id": "04c7fd78",
   "metadata": {},
   "outputs": [
    {
     "data": {
      "text/plain": [
       "['Tina', 'Maye', 'Pat']"
      ]
     },
     "execution_count": 82,
     "metadata": {},
     "output_type": "execute_result"
    }
   ],
   "source": [
    "#TwilightBus가 하차시킬 때 사라지는 승객들 \n",
    "\n",
    "basketball_team = ['Sue', 'Tina', 'Maye', 'Diana', 'Pat']\n",
    "bus = TwilightBus(basketball_team)\n",
    "bus.drop('Sue')\n",
    "bus.drop('Diana')\n",
    "basketball_team"
   ]
  },
  {
   "cell_type": "markdown",
   "id": "afc44c1c",
   "metadata": {},
   "source": [
    "농구 팀에서 제외되는 문제가 발생 "
   ]
  },
  {
   "cell_type": "code",
   "execution_count": 83,
   "id": "4a5142ff",
   "metadata": {},
   "outputs": [],
   "source": [
    "# 해결 코드 \n",
    "\n",
    "# 받은 인수를 변경하는 위험성을 보여주는 간단한 클래스\n",
    "class TwilightBus:\n",
    "    '''승객이 사라지게 만드는 버스 모델'''\n",
    "    \n",
    "    def __init__(self, passengers = None):\n",
    "        if passengers is None:\n",
    "            self.passengers = []\n",
    "        else:\n",
    "            self.passengers = list(passengers)# <--- list() 로 감싸서 새로운 객체를 만들어줌 \n",
    "\n",
    "    def pick(self, name):\n",
    "        self.passengers.append(name)\n",
    "        \n",
    "    def drop(self, name):\n",
    "        self.passengers.remove(name)"
   ]
  },
  {
   "cell_type": "code",
   "execution_count": 84,
   "id": "b8998683",
   "metadata": {},
   "outputs": [
    {
     "data": {
      "text/plain": [
       "['Sue', 'Tina', 'Maye', 'Diana', 'Pat']"
      ]
     },
     "execution_count": 84,
     "metadata": {},
     "output_type": "execute_result"
    }
   ],
   "source": [
    "#TwilightBus가 하차시킬 때 사라지는 승객들 \n",
    "\n",
    "basketball_team = ['Sue', 'Tina', 'Maye', 'Diana', 'Pat']\n",
    "bus = TwilightBus(basketball_team)\n",
    "bus.drop('Sue')\n",
    "bus.drop('Diana')\n",
    "basketball_team"
   ]
  },
  {
   "cell_type": "markdown",
   "id": "313efc7d",
   "metadata": {},
   "source": [
    "# 5. del과 가비지 컬렉션  \n",
    "  \n",
    "  del 명령은 이름을 제거하는 것이지, 객체를 제거하는 것이 아니다 del 명령의 결과로 객체가 가비지 컬렉트될 수 있지만, 제거된 변수가 객체를 참조하는 최후의 변수거나 객체에 도달할 수 없을 때만 가비지 컬렉트된다. 변수를 다시 바인딩해도 객체에 대한 참조 카운트를 0으로 만들어 객체가 제거될 수 있다.  \n",
    "  \n",
    "  CPython 의 가비지 컬렉션은 주로 참조 카운트에 기반한다. 각 객체는 얼마나 많은 참조가 자신을 가리키는지 개수를 세고 있다. refcount 가 0이 되자마자 CPython이 객체의 _ _del_ _() 메서드를 호출하고 객체에 할당되어 있는 메모리를 해제함으로써 객체가 제거된다.\n"
   ]
  },
  {
   "cell_type": "code",
   "execution_count": 118,
   "id": "0acb11a9",
   "metadata": {},
   "outputs": [
    {
     "data": {
      "text/plain": [
       "True"
      ]
     },
     "execution_count": 118,
     "metadata": {},
     "output_type": "execute_result"
    }
   ],
   "source": [
    "# 가리키는 참조가 없을 때 객체가 소멸되는 것을 지켜보기\n",
    "\n",
    "import weakref\n",
    "s1 = {1, 2, 3}\n",
    "s2 = s1\n",
    "def bye():\n",
    "    print('Gone with the wind...')\n",
    "    \n",
    "ender = weakref.finalize(s1, bye)\n",
    "ender.alive"
   ]
  },
  {
   "cell_type": "code",
   "execution_count": 119,
   "id": "3f15d2f6",
   "metadata": {},
   "outputs": [
    {
     "data": {
      "text/plain": [
       "True"
      ]
     },
     "execution_count": 119,
     "metadata": {},
     "output_type": "execute_result"
    }
   ],
   "source": [
    "del s1\n",
    "ender.alive"
   ]
  },
  {
   "cell_type": "code",
   "execution_count": 120,
   "id": "2826da60",
   "metadata": {},
   "outputs": [
    {
     "name": "stdout",
     "output_type": "stream",
     "text": [
      "Gone with the wind...\n"
     ]
    }
   ],
   "source": [
    "s2 = 1"
   ]
  },
  {
   "cell_type": "code",
   "execution_count": 121,
   "id": "184bbd20",
   "metadata": {},
   "outputs": [
    {
     "data": {
      "text/plain": [
       "False"
      ]
     },
     "execution_count": 121,
     "metadata": {},
     "output_type": "execute_result"
    }
   ],
   "source": [
    "ender.alive"
   ]
  },
  {
   "cell_type": "markdown",
   "id": "05a73615",
   "metadata": {},
   "source": [
    "del이 객체를 제거하는 것이 아니고, del을 실행한 후 객체가 도달할 수 없게 된 결과로 객체가 제거됨을 명확히 보여준다."
   ]
  },
  {
   "cell_type": "markdown",
   "id": "94471a3f",
   "metadata": {},
   "source": [
    "# 6. 약한 참조    \n",
    "  \n",
    "  \n",
    "   객체가 메모리에 유지되거나 유지되지 않도록 만드는 것은 참조의 존재 여부다. 앞서 보았듯 객체 참조 카운트가 0이 되면 가비지 컬렉터는 해당 객체를 제거한다. 그러나 불필요하게 객체를 유지시키지 않으면서 객체를 참조할 수 있으면 도움이 되는 경우가 종종 있다. 캐시가 대표적이다.\n",
    "\n",
    " \n",
    "\n",
    "약한 참조는 참조 카운트를 증가시키지 않고 객체를 참조한다. 참조의 대상인 객체를 참조 대상(referent) 이라고 한다. 따라서 약한 참조는 참조 대상이 가비지 컬렉트되는 것을 방지하지 않는다고 말할 수 있다."
   ]
  },
  {
   "cell_type": "code",
   "execution_count": 218,
   "id": "ade133f9",
   "metadata": {},
   "outputs": [
    {
     "data": {
      "text/plain": [
       "<weakref at 0x000001B9783D3BF0; to 'set' at 0x000001B978302F80>"
      ]
     },
     "execution_count": 218,
     "metadata": {},
     "output_type": "execute_result"
    }
   ],
   "source": [
    "import weakref\n",
    "a_set = {0, 1}\n",
    "wref = weakref.ref(a_set)\n",
    "wref"
   ]
  },
  {
   "cell_type": "code",
   "execution_count": 219,
   "id": "c17273f5",
   "metadata": {},
   "outputs": [
    {
     "data": {
      "text/plain": [
       "{0, 1}"
      ]
     },
     "execution_count": 219,
     "metadata": {},
     "output_type": "execute_result"
    }
   ],
   "source": [
    "wref()"
   ]
  },
  {
   "cell_type": "code",
   "execution_count": 220,
   "id": "06a52197",
   "metadata": {},
   "outputs": [
    {
     "data": {
      "text/plain": [
       "{0, 1}"
      ]
     },
     "execution_count": 220,
     "metadata": {},
     "output_type": "execute_result"
    }
   ],
   "source": [
    "a_set = {2, 3, 4}\n",
    "wref()"
   ]
  },
  {
   "cell_type": "code",
   "execution_count": 221,
   "id": "dd4d4c8b",
   "metadata": {},
   "outputs": [
    {
     "data": {
      "text/plain": [
       "False"
      ]
     },
     "execution_count": 221,
     "metadata": {},
     "output_type": "execute_result"
    }
   ],
   "source": [
    "wref() is None "
   ]
  },
  {
   "cell_type": "code",
   "execution_count": 222,
   "id": "c5011ba5",
   "metadata": {},
   "outputs": [
    {
     "data": {
      "text/plain": [
       "False"
      ]
     },
     "execution_count": 222,
     "metadata": {},
     "output_type": "execute_result"
    }
   ],
   "source": [
    "wref() is None "
   ]
  },
  {
   "cell_type": "markdown",
   "id": "71aa834b",
   "metadata": {},
   "source": [
    "### 6.1 WeakValueDictionary 촌극 \n",
    "  \n",
    "  WeakValueDictionary 클래스는 객체에 대한 약한 참조를 값으로 가지는 가변 매핑을 구현한다. 참조된 객체가 프로그램 다른 곳에서 가비지 컬렉트되면 해당 키도 WeakValueDictionary 에서 자동으로 제거된다. 이 클래스는 일반적으로 캐시를 구현하기 위해 사용한다."
   ]
  },
  {
   "cell_type": "code",
   "execution_count": 223,
   "id": "6f2c1584",
   "metadata": {},
   "outputs": [],
   "source": [
    "# kind 속성과 표준 표현 메서드를 가지고 있는 Cheese 클래스\n",
    "\n",
    "class Cheese:\n",
    "    def __init__(self, kind):\n",
    "        self.kind = kind\n",
    "        \n",
    "    def __repr__(self):\n",
    "        return \"Cheese(%r)\" % self.kind"
   ]
  },
  {
   "cell_type": "code",
   "execution_count": 225,
   "id": "3a2a2cfa",
   "metadata": {},
   "outputs": [
    {
     "name": "stdout",
     "output_type": "stream",
     "text": [
      "['Brie', 'Parmesan', 'Red Leicester', 'Tilsit']\n",
      "['Parmesan']\n",
      "[]\n"
     ]
    }
   ],
   "source": [
    "import weakref\n",
    "stock = weakref.WeakValueDictionary()\n",
    "catalog = [Cheese(\"Red Leicester\"), Cheese(\"Tilsit\"), Cheese(\"Brie\"), Cheese(\"Parmesan\")]\n",
    "\n",
    "for cheese in catalog:\n",
    "    stock[cheese.kind] = cheese\n",
    "\n",
    "print(sorted(stock.keys()))\n",
    "\n",
    "del catalog\n",
    "print(sorted(stock.keys()))\n",
    "\n",
    "del cheese\n",
    "print(sorted(stock.keys()))"
   ]
  },
  {
   "cell_type": "markdown",
   "id": "aab7be61",
   "metadata": {},
   "source": [
    "\n",
    "del catelog 이후에 Parmesan 이 남은 이유는 무엇인가?\n",
    "\n",
    "반복문이 실행된 이후에 전역변수로 cheese 에 Parmesan 이 할당되어 있다. 따라서 명시적으로 제거하기 전까지는 남아있다."
   ]
  },
  {
   "cell_type": "markdown",
   "id": "57ed92fb",
   "metadata": {},
   "source": [
    "### 6.2 약한 참조의 한계\n",
    "\n",
    "파이썬의 모든 객체가 약한 참조의 대상이 될 수 있는 것은 아니다. list, dict 객체의 서브 클래스는 약한 참조의 대상이 될 수 있다."
   ]
  },
  {
   "cell_type": "code",
   "execution_count": 229,
   "id": "6af1996e",
   "metadata": {},
   "outputs": [],
   "source": [
    "class MyList(list):\n",
    "    '''약한 참조의 대상이 될 수 있는 list 서브클래스'''\n",
    "    \n",
    "a_list = MyList(range(10))\n",
    "\n",
    "wref_to_a_list = weakref.ref(a_list)"
   ]
  },
  {
   "cell_type": "markdown",
   "id": "377929f3",
   "metadata": {},
   "source": [
    "set 객체는 참조 대상이 될 수 있다. 그러나 int, tuple 객체는 클래스를 상속해도 약한 참조 대상이 될 수 없다."
   ]
  },
  {
   "cell_type": "markdown",
   "id": "bd8ef47b",
   "metadata": {},
   "source": [
    "# 7. 파이썬의 특이한 불변형 처리법"
   ]
  },
  {
   "cell_type": "code",
   "execution_count": 230,
   "id": "56f60a08",
   "metadata": {},
   "outputs": [
    {
     "name": "stdout",
     "output_type": "stream",
     "text": [
      "True\n",
      "True\n"
     ]
    }
   ],
   "source": [
    "t1 = (1, 2, 3)\n",
    "t2 = tuple(t1)\n",
    "print(t2 is t1)\n",
    "\n",
    "t3 = t1[:]\n",
    "print(t3 is t1)"
   ]
  },
  {
   "cell_type": "markdown",
   "id": "5392b7a2",
   "metadata": {},
   "source": [
    "튜플 t 에 대해 t[:] 는 사본을 생성하지 않고, 해당 객체에 대한 참조를 반환하다. tuple(t) 도 마찬가지다.\n",
    "\n",
    "str, bytes, fronzenset 객체에서도 이와 동일한 동작을 볼 수 있다."
   ]
  },
  {
   "cell_type": "code",
   "execution_count": null,
   "id": "93b10771",
   "metadata": {},
   "outputs": [],
   "source": []
  }
 ],
 "metadata": {
  "kernelspec": {
   "display_name": "Python 3 (ipykernel)",
   "language": "python",
   "name": "python3"
  },
  "language_info": {
   "codemirror_mode": {
    "name": "ipython",
    "version": 3
   },
   "file_extension": ".py",
   "mimetype": "text/x-python",
   "name": "python",
   "nbconvert_exporter": "python",
   "pygments_lexer": "ipython3",
   "version": "3.10.9"
  }
 },
 "nbformat": 4,
 "nbformat_minor": 5
}
