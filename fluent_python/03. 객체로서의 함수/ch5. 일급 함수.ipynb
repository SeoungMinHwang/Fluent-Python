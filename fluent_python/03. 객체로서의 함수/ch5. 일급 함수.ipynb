{
 "cells": [
  {
   "cell_type": "markdown",
   "id": "dbeb23f0",
   "metadata": {},
   "source": [
    "**일급객체란?**  \n",
    "  \n",
    "  - 런타임에 생성할 수 있다.\n",
    "  - 데이터 구조체의 변수나 요소에 할당할 수 있다.\n",
    "  - 함수 인수로 전달할 수 있다.\n",
    "  - 함수 결과로 반환할 수 있다.\n",
    "  \n",
    "\n",
    "일급 함수\n",
    "프로그래밍 언어는 해당 언어의 함수들이 다른 변수처럼 다루어질 때 일급 함수를 가진다고 합니다. 예를 들어, 일급 함수를 가진 언어에서 함수는 다른 함수들에 전달인자로 제공되고, 다른 함수에 의해 반환될 수 있으며, 변수에 값으로서 할당될 수 있습니다."
   ]
  },
  {
   "cell_type": "markdown",
   "id": "15932e64",
   "metadata": {},
   "source": [
    "# 1. 함수처럼 객체 다루기"
   ]
  },
  {
   "cell_type": "code",
   "execution_count": 11,
   "id": "77a0bf1d",
   "metadata": {},
   "outputs": [
    {
     "name": "stdout",
     "output_type": "stream",
     "text": [
      "1405006117752879898543142606244511569936384000000000\n",
      "returns n!\n",
      "<class 'function'>\n"
     ]
    }
   ],
   "source": [
    "# 함수를 생성해서 테스트하고, 함수의 __doc__를 읽어서 자료형 확인하기\n",
    "def factorial(n):\n",
    "    '''returns n!'''\n",
    "    return 1 if n < 2 else n * factorial(n-1)\n",
    "\n",
    "print(factorial(42))\n",
    "print(factorial.__doc__)\n",
    "print(type(factorial))"
   ]
  },
  {
   "cell_type": "code",
   "execution_count": 15,
   "id": "9a6a3a71",
   "metadata": {},
   "outputs": [
    {
     "name": "stdout",
     "output_type": "stream",
     "text": [
      "<function factorial at 0x0000020D220DD1B0>\n"
     ]
    },
    {
     "data": {
      "text/plain": [
       "120"
      ]
     },
     "execution_count": 15,
     "metadata": {},
     "output_type": "execute_result"
    }
   ],
   "source": [
    "# 함수를 다른 이름으로 사용하고 함수의 인수로 전달하기\n",
    "fact = factorial\n",
    "print(fact)\n",
    "\n",
    "fact(5)"
   ]
  },
  {
   "cell_type": "code",
   "execution_count": 16,
   "id": "37177717",
   "metadata": {},
   "outputs": [
    {
     "data": {
      "text/plain": [
       "<map at 0x20d21e53130>"
      ]
     },
     "execution_count": 16,
     "metadata": {},
     "output_type": "execute_result"
    }
   ],
   "source": [
    "map(fact, range(11))"
   ]
  },
  {
   "cell_type": "code",
   "execution_count": 17,
   "id": "36450cc6",
   "metadata": {},
   "outputs": [
    {
     "data": {
      "text/plain": [
       "[1, 1, 2, 6, 24, 120, 720, 5040, 40320, 362880, 3628800]"
      ]
     },
     "execution_count": 17,
     "metadata": {},
     "output_type": "execute_result"
    }
   ],
   "source": [
    "list(map(fact, range(11)))"
   ]
  },
  {
   "cell_type": "markdown",
   "id": "088edaae",
   "metadata": {},
   "source": [
    "# 2. 고위 함수\n",
    "---\n",
    "함수를 인수로 받거나, 함수를 결과로 반환하는 함수를 **고위 함수**라고 한다."
   ]
  },
  {
   "cell_type": "code",
   "execution_count": 18,
   "id": "5188bdcf",
   "metadata": {},
   "outputs": [
    {
     "data": {
      "text/plain": [
       "['fig', 'apple', 'cherry', 'banana', 'raspberry', 'strawberry']"
      ]
     },
     "execution_count": 18,
     "metadata": {},
     "output_type": "execute_result"
    }
   ],
   "source": [
    "#단어 리스트를 길이에 따라 정렬하기\n",
    "fruits = ['strawberry', 'fig', 'apple', 'cherry', 'raspberry', 'banana']\n",
    "sorted(fruits, key = len)"
   ]
  },
  {
   "cell_type": "code",
   "execution_count": 20,
   "id": "476d805c",
   "metadata": {},
   "outputs": [
    {
     "data": {
      "text/plain": [
       "'gnitset'"
      ]
     },
     "execution_count": 20,
     "metadata": {},
     "output_type": "execute_result"
    }
   ],
   "source": [
    "# 단어 리스트를 철자 역순으로 정렬하기\n",
    "def reverse(word):\n",
    "    return word[::-1]\n",
    "\n",
    "reverse('testing')"
   ]
  },
  {
   "cell_type": "code",
   "execution_count": 21,
   "id": "2306fe56",
   "metadata": {},
   "outputs": [
    {
     "data": {
      "text/plain": [
       "['banana', 'apple', 'fig', 'raspberry', 'strawberry', 'cherry']"
      ]
     },
     "execution_count": 21,
     "metadata": {},
     "output_type": "execute_result"
    }
   ],
   "source": [
    "sorted(fruits, key = reverse)"
   ]
  },
  {
   "cell_type": "markdown",
   "id": "94c5a243",
   "metadata": {},
   "source": [
    "### 2.1 map(), filter(), reduce()의 대안\n",
    "---  \n",
    "이름이 다른 경우도 있지만, 함수형 언어는 모두 map(), filter(), reduce() 고위 함수를 제공한다. map()과 filter() 함수는 여전히 파이썬 3에 내장되어 있지만, 지능형 리스트와 제너레이터 표현식이 소개된 후에는 이 함수들의 중요성이 떨어졌다. 지능형 리스트나 제너레이터 표현식이 map(), filter()의 조합이 처리하는 작업을 표현할 수 있을 뿐만 아니라 가독성도 더 좋기 때문이다."
   ]
  },
  {
   "cell_type": "code",
   "execution_count": 22,
   "id": "3c1b4c2b",
   "metadata": {},
   "outputs": [
    {
     "data": {
      "text/plain": [
       "[1, 1, 2, 6, 24, 120]"
      ]
     },
     "execution_count": 22,
     "metadata": {},
     "output_type": "execute_result"
    }
   ],
   "source": [
    "#팩토리얼 목록을 map()/filter()로 생성하는 방법과 지능형 리스트로 생성하는 방법\n",
    "list(map(fact, range(6)))"
   ]
  },
  {
   "cell_type": "code",
   "execution_count": 24,
   "id": "b7c07489",
   "metadata": {},
   "outputs": [
    {
     "data": {
      "text/plain": [
       "[1, 1, 2, 6, 24, 120]"
      ]
     },
     "execution_count": 24,
     "metadata": {},
     "output_type": "execute_result"
    }
   ],
   "source": [
    "[fact(n) for n in range(6)]"
   ]
  },
  {
   "cell_type": "code",
   "execution_count": 25,
   "id": "05168546",
   "metadata": {},
   "outputs": [
    {
     "data": {
      "text/plain": [
       "[1, 6, 120]"
      ]
     },
     "execution_count": 25,
     "metadata": {},
     "output_type": "execute_result"
    }
   ],
   "source": [
    "list(map(factorial, filter(lambda n: n % 2, range(6))))"
   ]
  },
  {
   "cell_type": "code",
   "execution_count": 29,
   "id": "b16d3dfb",
   "metadata": {},
   "outputs": [
    {
     "data": {
      "text/plain": [
       "[1, 6, 120]"
      ]
     },
     "execution_count": 29,
     "metadata": {},
     "output_type": "execute_result"
    }
   ],
   "source": [
    "[factorial(n) for n in range(6) if n % 2]"
   ]
  },
  {
   "cell_type": "markdown",
   "id": "73763800",
   "metadata": {},
   "source": [
    "##### 파이썬 3에서 map()과 filter()는 제너레이터를 반환하므로, 제너레이터 표현식이 이 함수들을 직접 대체한다."
   ]
  },
  {
   "cell_type": "code",
   "execution_count": 32,
   "id": "723315c9",
   "metadata": {},
   "outputs": [
    {
     "data": {
      "text/plain": [
       "4950"
      ]
     },
     "execution_count": 32,
     "metadata": {},
     "output_type": "execute_result"
    }
   ],
   "source": [
    "#reduce()와 sum()을 이용해서 99까지 정수 더하기\n",
    "\n",
    "from functools import reduce\n",
    "from operator import add\n",
    "reduce(add, range(100))"
   ]
  },
  {
   "cell_type": "code",
   "execution_count": 34,
   "id": "f9617f6c",
   "metadata": {},
   "outputs": [
    {
     "data": {
      "text/plain": [
       "4950"
      ]
     },
     "execution_count": 34,
     "metadata": {},
     "output_type": "execute_result"
    }
   ],
   "source": [
    "sum(range(100)) #sum()이 가독성과 성능 면에서 훨씬 낫다."
   ]
  },
  {
   "cell_type": "markdown",
   "id": "abdf1509",
   "metadata": {},
   "source": [
    "##### sum()과 reduce()는 연속된 항목에 어떤 연산을 적용해서, 이전 결과를 누적시키면서 일련의 값을 하나의 값으로 리덕션 한다는 공통점이 있다. 그 외에 내장된 리덕션 함수는 all과 any다.  \n",
    "  \n",
    "  - all(iterable)  \n",
    "  모든 iterable이 참된 값이면 True를 반환한다. all([])은 True를 반환한다.  \n",
    "    \n",
    "    \n",
    "  - any(iterable)  \n",
    "  iterable 중 하나라도 참된 값이면 True를 반환한다. any([])는 False를 반환한다."
   ]
  },
  {
   "cell_type": "markdown",
   "id": "8bb1bdbc",
   "metadata": {},
   "source": [
    "##### 고위 함수를 사용할 때 작은 일회용 함수를 생성하는 것이 편리할 때도 있다. 그렇기 때문에 익명 함수가 유용하게 사용된다. 익명 함수에 대해 알아보자."
   ]
  },
  {
   "cell_type": "markdown",
   "id": "c6398bfc",
   "metadata": {},
   "source": [
    "### 익명 함수(lambda 함수)"
   ]
  },
  {
   "cell_type": "markdown",
   "id": "ea1435bb",
   "metadata": {},
   "source": [
    "##### 파이썬의 단순한 구문이 람다 함수의 본체가 순수한 표현식으로만 구성되도록 제한한다. 즉, 람다 본체에서는 할당문이나 while, try 등의 파이썬 문장을 사용할 수 없다."
   ]
  },
  {
   "cell_type": "code",
   "execution_count": 37,
   "id": "585cc6bb",
   "metadata": {},
   "outputs": [
    {
     "data": {
      "text/plain": [
       "['banana', 'apple', 'fig', 'raspberry', 'strawberry', 'cherry']"
      ]
     },
     "execution_count": 37,
     "metadata": {},
     "output_type": "execute_result"
    }
   ],
   "source": [
    "fruits = ['strawberry', 'fig', 'apple', 'cherry', 'raspberry', 'banana']\n",
    "sorted(fruits, key = lambda word: word[::-1])"
   ]
  },
  {
   "cell_type": "markdown",
   "id": "beb3a33a",
   "metadata": {},
   "source": [
    "##### 고위 함수의 인수로 사용하는 방법 외에 익명 함수는 파이썬에서 거의 사용되지 않는다. 구문 제한 때문에 복잡한 람다는 가독성이 떨어지고 사용하기 까다롭다."
   ]
  },
  {
   "cell_type": "markdown",
   "id": "4c8fc1a8",
   "metadata": {},
   "source": [
    "#### _ 런드의 람다 리팩토릴 비법 _\n",
    "\n",
    " - 1. 람다가 하는 일이 무엇인지 설명하는 주석을 작성한다.\n",
    " - 2. 잠시 주석을 주의 깊게 파악하고, 주석의 본질을 전달하는 이름을 생각해낸다.\n",
    " - 3. 그 이름을 이용해서 람다를 def 문으로 변경한다.\n",
    " - 4. 주석을 제거한다.  \n",
    "   \n",
    "   람다 구문은 단지 편리 구문일 뿐이다. def 문과 마찬가지로 람다 표현식도 하나의 함수 객체를 만든다. 즉, 파이썬에서 제공하는 여러 콜러블 객체 중 하나일 뿐이다. 다음 절에서는 모든 콜러블 객체에 대해 살펴본다.\n",
    "   "
   ]
  },
  {
   "cell_type": "markdown",
   "id": "87acd85e",
   "metadata": {},
   "source": [
    "# 4. 일곱 가지 맛의 콜러블 객체\n",
    "\n",
    "호출 연산자인 ()는 사용자 정의 함수 이외의 다른 객체에도 적용할 수 있고, 호출할 수 있는 객체인지 알아보려면 callable() 내장 함수를 사용한다."
   ]
  },
  {
   "cell_type": "markdown",
   "id": "4f340cb7",
   "metadata": {},
   "source": [
    "**사용자 정의 함수**\n",
    "\n",
    " - def 문이나 람다 표현식으로 생성한다.\n",
    "\n",
    "**내장 함수**\n",
    "\n",
    " - len()이나 time.strftime()처럼 C언어로 구현된 함수(Cpython)\n",
    "\n",
    " **내장 메서드**\n",
    "\n",
    " - dict.get()처럼 C언어로 구현된 메서드\n",
    "\n",
    " **메서드**\n",
    "\n",
    " - 클래스 본체에 정의된 함수\n",
    "\n",
    " **클래스**\n",
    "\n",
    " - 호출될 때 클래스는 자신의 new() 메서드를 실행해서 객체를 생성하고, init()으로 초기화한 후, 최종적으로 호출자에 객체를 반환하고, 파이썬에는 new 연산자가 없으므로 클래스를 호출하는 것은 함수를 호출하는 것과 동일하다. 보통, 클래스를 호출하면 해당 클래스의 객체가 생성되지만, new() 메서드를 오버라이딩하면 다르게 적용할 수도 있다.\n",
    "\n",
    "**클래스 객체**\n",
    "\n",
    " - 클래스가 call()메서드를 구현하면 이 클래스의 객체는 함수로 호출될 수 있다.\n",
    "\n",
    " **제너레이터 함수**\n",
    "\n",
    " - yield 키워드를 사용하는 함수나 메서드, 이 함수가 호출되면 제너레이터 객체를 반환한다."
   ]
  },
  {
   "cell_type": "code",
   "execution_count": 48,
   "id": "bb6172bc",
   "metadata": {},
   "outputs": [
    {
     "data": {
      "text/plain": [
       "(<function abs(x, /)>, str, 13)"
      ]
     },
     "execution_count": 48,
     "metadata": {},
     "output_type": "execute_result"
    }
   ],
   "source": [
    "# 파이썬에는 다양한 콜러블형이 존재하므로, callable() 내장 함수를 사용해서 호출할 수 있는 객체인지 판단하는 방법이 가장 안전하다.\n",
    "\n",
    "abs, str, 13"
   ]
  },
  {
   "cell_type": "code",
   "execution_count": 49,
   "id": "000672b7",
   "metadata": {},
   "outputs": [
    {
     "data": {
      "text/plain": [
       "[True, True, False]"
      ]
     },
     "execution_count": 49,
     "metadata": {},
     "output_type": "execute_result"
    }
   ],
   "source": [
    "[callable(obj) for obj in (abs, str, 13)]"
   ]
  },
  {
   "cell_type": "markdown",
   "id": "751fe07d",
   "metadata": {},
   "source": [
    "# 5. 사용자 정의 콜러블형  \n",
    "  \n",
    "  파이썬 함수가 실제 객체일 뿐만 아니라, 모든 파이썬 객체가 함수처럼 동작하게 만들 수 있다. 단지 _ _call_ _()인스턴스 메서드를 구현하면 된다."
   ]
  },
  {
   "cell_type": "code",
   "execution_count": 52,
   "id": "f3255c7f",
   "metadata": {},
   "outputs": [],
   "source": [
    "# bingocall.py:BingoCage 클래스는 뒤섞인 리스트에서 항목을 골라낼 뿐이다.\n",
    "import random\n",
    "\n",
    "class BingoCage:\n",
    "    \n",
    "    def __init__(self, items):\n",
    "        self._items = list(items)\n",
    "        random.shuffle(self._items)\n",
    "        \n",
    "    def pick(self):\n",
    "        try:\n",
    "            return self._items.pop()\n",
    "        except IndexError:\n",
    "            raise LookupError('pick from empty BingoCage')\n",
    "            \n",
    "    def __call__(self):\n",
    "        return self.pick()"
   ]
  },
  {
   "cell_type": "markdown",
   "id": "37c9ca2f",
   "metadata": {},
   "source": [
    "##### BingoCage를 사용하는 예는 다음과 같다. bingo 객체를 어떻게 함수처럼 호출할 수 있는지, callable() 내장 함수가 이 객체를 콜러블 객체로 인식하는지 주의해서 살펴보자."
   ]
  },
  {
   "cell_type": "code",
   "execution_count": 95,
   "id": "eb19ebf6",
   "metadata": {},
   "outputs": [
    {
     "data": {
      "text/plain": [
       "0"
      ]
     },
     "execution_count": 95,
     "metadata": {},
     "output_type": "execute_result"
    }
   ],
   "source": [
    "bingo = BingoCage(range(3))\n",
    "bingo.pick()"
   ]
  },
  {
   "cell_type": "code",
   "execution_count": 96,
   "id": "a4247af4",
   "metadata": {},
   "outputs": [
    {
     "data": {
      "text/plain": [
       "1"
      ]
     },
     "execution_count": 96,
     "metadata": {},
     "output_type": "execute_result"
    }
   ],
   "source": [
    "bingo()"
   ]
  },
  {
   "cell_type": "code",
   "execution_count": 97,
   "id": "0b140efb",
   "metadata": {},
   "outputs": [
    {
     "data": {
      "text/plain": [
       "True"
      ]
     },
     "execution_count": 97,
     "metadata": {},
     "output_type": "execute_result"
    }
   ],
   "source": [
    "callable(bingo)"
   ]
  },
  {
   "cell_type": "markdown",
   "id": "1c0e8f1b",
   "metadata": {},
   "source": [
    "BingoCage의 경우 객체를 함수처럼 호출할 때마다 항목을 하나 꺼낸 후 변경된 상태를 유지해야 하는데, __call__() 메서드를 구현하면 이런 객체를 생성하기 쉽다. 이런 예로는 데커레이터가 있다. 데커레이터는 함수지만, 때때로 호출된 후의 상태를 '기억'할 수 있는 기능이 유용하게 사용된다(예를 들어 메모이제이션의 경우, 값비싼 연산의 결과를 나중에 사용할 수 있도록 임시 보관해둔다).    \n",
    "  \n",
    "  클로저는 내부 상태를 가진 함수를 전혀 다른 방식으로 생성한다."
   ]
  },
  {
   "cell_type": "markdown",
   "id": "da0c1ea6",
   "metadata": {},
   "source": [
    "# 6. 함수 인트로스펙션  \n",
    "  \n",
    "  함수 객체는 __doc__ 이외에도 많은 속성을 가지고 있다. dir() 함수가 factorial() 함수에 대해 공개하는 다음 내용을 살펴보자."
   ]
  },
  {
   "cell_type": "code",
   "execution_count": 101,
   "id": "99829824",
   "metadata": {},
   "outputs": [
    {
     "data": {
      "text/plain": [
       "['__annotations__',\n",
       " '__builtins__',\n",
       " '__call__',\n",
       " '__class__',\n",
       " '__closure__',\n",
       " '__code__',\n",
       " '__defaults__',\n",
       " '__delattr__',\n",
       " '__dict__',\n",
       " '__dir__',\n",
       " '__doc__',\n",
       " '__eq__',\n",
       " '__format__',\n",
       " '__ge__',\n",
       " '__get__',\n",
       " '__getattribute__',\n",
       " '__globals__',\n",
       " '__gt__',\n",
       " '__hash__',\n",
       " '__init__',\n",
       " '__init_subclass__',\n",
       " '__kwdefaults__',\n",
       " '__le__',\n",
       " '__lt__',\n",
       " '__module__',\n",
       " '__name__',\n",
       " '__ne__',\n",
       " '__new__',\n",
       " '__qualname__',\n",
       " '__reduce__',\n",
       " '__reduce_ex__',\n",
       " '__repr__',\n",
       " '__setattr__',\n",
       " '__sizeof__',\n",
       " '__str__',\n",
       " '__subclasshook__']"
      ]
     },
     "execution_count": 101,
     "metadata": {},
     "output_type": "execute_result"
    }
   ],
   "source": [
    "dir(factorial)"
   ]
  },
  {
   "cell_type": "markdown",
   "id": "f2e6d470",
   "metadata": {},
   "source": [
    "대부분 파이썬 객체에 존재하는 속성으로 함수를 객체로 다루는 것과 관련된 속성을 살펴보면 되므로 dict 속성을 살펴라\n",
    "\n",
    "사용자 정의 클래스의 객체와 함수는 dict 속성을 이용해서 객체에 할당된 사용자 속성을 보관하고 이 속성은 기본적인 애너테이션 형태로 쓸모가 많고, 장고와 같은 프레임워크는 이 기능을 사용한다."
   ]
  },
  {
   "cell_type": "code",
   "execution_count": 107,
   "id": "f5849d7e",
   "metadata": {},
   "outputs": [],
   "source": [
    "def upper_case_name(obj):\n",
    "\treturn (\"%s %s\" % (obj.first_name,obj.last_name)).upper()\n",
    "upper_case_name.short_description = 'Customer name'"
   ]
  },
  {
   "cell_type": "code",
   "execution_count": 108,
   "id": "cb289332",
   "metadata": {
    "scrolled": true
   },
   "outputs": [
    {
     "data": {
      "text/plain": [
       "['__annotations__',\n",
       " '__builtins__',\n",
       " '__call__',\n",
       " '__closure__',\n",
       " '__code__',\n",
       " '__defaults__',\n",
       " '__get__',\n",
       " '__globals__',\n",
       " '__kwdefaults__',\n",
       " '__name__',\n",
       " '__qualname__']"
      ]
     },
     "execution_count": 108,
     "metadata": {},
     "output_type": "execute_result"
    }
   ],
   "source": [
    "#일반 객체에는 존재하지 않는 함수 속성 나열하기\n",
    "class C:pass\n",
    "obj= C()\n",
    "def func(): pass\n",
    "sorted(set(dir(func)) - set(dir(obj)))"
   ]
  },
  {
   "cell_type": "markdown",
   "id": "ca710581",
   "metadata": {},
   "source": [
    " - _ _annotations_ _ (딕셔너리) : 매개변수 및 반환값에 대한 주석\n",
    " - _ _call_ _ (메서드-래퍼) : 콜러블 객체 프로토콜에 따른 () 연산자 구현\n",
    " - _ _closure_ _ (튜플) : 자유 변수 등 함수 클로저\n",
    " - _ _code_ _ (코드) : 바이트코드로 컴파일된 함수 메타데이터 및 함수 본체\n",
    " - _ _defaults_ _ (튜플) : 형식 매개변수의 기본값\n",
    " - _ _get_ _ (메서드-래퍼) : 읽기 전용 디스크립터 프로토콜 구현\n",
    " - _ _globals_ _ (딕셔너리) : 함수가 정의된 모듈의 전역 변수\n",
    " - _ _kwdefaults_ _ (딕셔너리) : 키워드 전용 형식 매개변수의 기본값\n",
    " - _ _name_ _ (문자열) : 함수명\n",
    " - _ _qualname_ _ (문자열) : random.choice() 와 같은 전체 함수 명칭"
   ]
  },
  {
   "cell_type": "markdown",
   "id": "b5d35ae5",
   "metadata": {},
   "source": [
    "# 7. 위치 매개변수에서 키워드 전용 매개변수까지"
   ]
  },
  {
   "cell_type": "markdown",
   "id": "76b1111e",
   "metadata": {},
   "source": [
    "키워드 전용 인수를 이용해서 향상된, 파이썬 3의 지극히 융통성 있는 매개변수 처리 매커니즘은 파이썬 함수에서 볼 수 있는 가장 훌륭한 기능 중 하나다. 함수를 호출할 때 반복 가능 객체나 매핑형을 별도의 인수로 '폭발'시키는 *와 * *기호도 이 매커니즘과 밀접하게 연관되어 있다. 이 기능의 작동방식을 알려주는 아래의 파이썬 코드"
   ]
  },
  {
   "cell_type": "code",
   "execution_count": 112,
   "id": "4db720ef",
   "metadata": {},
   "outputs": [],
   "source": [
    "# HTML을 생성하는 tag()함수. class는 파이썬에 정의된 키워드이므로,\n",
    "#이를 피해 class속성을 전달하기 위해 키워드 전용 매개변수로 cls를 사용했다.\n",
    "\n",
    "def tag(name, *content, cls=None, **attrs):\n",
    "    if cls is not None:\n",
    "        attrs['class'] = cls\n",
    "    if attrs:\n",
    "        attr_str = ''.join(' %s=\"%s\"' % (attr, value) for attr, value in sorted(attrs.items()))\n",
    "    else:\n",
    "        attr_str = ''\n",
    "    if content:\n",
    "        return '\\n'.join('<%s%s>%s</%s>' % (name, attr_str, c, name) for c in content)\n",
    "    else:\n",
    "        return '<%s%s />' % (name, attr_str)"
   ]
  },
  {
   "cell_type": "code",
   "execution_count": 113,
   "id": "daa9e78b",
   "metadata": {},
   "outputs": [
    {
     "data": {
      "text/plain": [
       "'<br />'"
      ]
     },
     "execution_count": 113,
     "metadata": {},
     "output_type": "execute_result"
    }
   ],
   "source": [
    "# tag() 함수는 다양한 방식으로 호출할 수 있다.\n",
    "tag('br')"
   ]
  },
  {
   "cell_type": "code",
   "execution_count": 114,
   "id": "4fcb57a2",
   "metadata": {},
   "outputs": [
    {
     "data": {
      "text/plain": [
       "'<p>hello</p>'"
      ]
     },
     "execution_count": 114,
     "metadata": {},
     "output_type": "execute_result"
    }
   ],
   "source": [
    "tag('p', 'hello')"
   ]
  },
  {
   "cell_type": "code",
   "execution_count": 117,
   "id": "019a33da",
   "metadata": {},
   "outputs": [
    {
     "name": "stdout",
     "output_type": "stream",
     "text": [
      "<p>hello</p>\n",
      "<p>world</p>\n"
     ]
    }
   ],
   "source": [
    "print(tag('p', 'hello', 'world'))"
   ]
  },
  {
   "cell_type": "code",
   "execution_count": 131,
   "id": "ae2f300d",
   "metadata": {},
   "outputs": [
    {
     "data": {
      "text/plain": [
       "'<p id=\"33\">hello</p>'"
      ]
     },
     "execution_count": 131,
     "metadata": {},
     "output_type": "execute_result"
    }
   ],
   "source": [
    "tag('p', 'hello', id = 33)"
   ]
  },
  {
   "cell_type": "code",
   "execution_count": 132,
   "id": "ded90b58",
   "metadata": {},
   "outputs": [
    {
     "name": "stdout",
     "output_type": "stream",
     "text": [
      "<p class=\"sidebar\">hello</p>\n",
      "<p class=\"sidebar\">world</p>\n"
     ]
    }
   ],
   "source": [
    "print(tag('p', 'hello', 'world', cls = 'sidebar'))"
   ]
  },
  {
   "cell_type": "code",
   "execution_count": 133,
   "id": "fd4e70aa",
   "metadata": {},
   "outputs": [
    {
     "data": {
      "text/plain": [
       "'<img content=\"testing\" />'"
      ]
     },
     "execution_count": 133,
     "metadata": {},
     "output_type": "execute_result"
    }
   ],
   "source": [
    "tag(content = 'testing', name='img')"
   ]
  },
  {
   "cell_type": "code",
   "execution_count": 137,
   "id": "3ee70067",
   "metadata": {},
   "outputs": [
    {
     "data": {
      "text/plain": [
       "'<img class=\"framed\" src=\"sunset.jpg\" title=\"Sunset Boulevard\" />'"
      ]
     },
     "execution_count": 137,
     "metadata": {},
     "output_type": "execute_result"
    }
   ],
   "source": [
    "my_tag = {'name' : 'img', 'title' : 'Sunset Boulevard',\n",
    "         'src': 'sunset.jpg', 'cls': 'framed'}\n",
    "tag(**my_tag)"
   ]
  },
  {
   "cell_type": "markdown",
   "id": "7239053d",
   "metadata": {},
   "source": [
    "키워드 전용 인수는 파이썬 3에 새로 추가된 기능이다. cls 매개변수는 키워드 인수로만 전달될 수 있으면, 결코 익명의 위치 인수로는 전달되지 않는다. 함수를 정의할 때 키워드 전용 인수를 지원하고 싶으면, 다음과 같이 *만 시그니처에 포함시키면 된다."
   ]
  },
  {
   "cell_type": "code",
   "execution_count": 139,
   "id": "f7b9892a",
   "metadata": {},
   "outputs": [
    {
     "data": {
      "text/plain": [
       "(1, 2)"
      ]
     },
     "execution_count": 139,
     "metadata": {},
     "output_type": "execute_result"
    }
   ],
   "source": [
    "def f(a, *, b):\n",
    "    return a, b\n",
    "\n",
    "f(1, b=2)"
   ]
  },
  {
   "cell_type": "code",
   "execution_count": 146,
   "id": "2831d327",
   "metadata": {},
   "outputs": [
    {
     "ename": "TypeError",
     "evalue": "f() takes 1 positional argument but 2 were given",
     "output_type": "error",
     "traceback": [
      "\u001b[1;31m---------------------------------------------------------------------------\u001b[0m",
      "\u001b[1;31mTypeError\u001b[0m                                 Traceback (most recent call last)",
      "Cell \u001b[1;32mIn[146], line 1\u001b[0m\n\u001b[1;32m----> 1\u001b[0m \u001b[43mf\u001b[49m\u001b[43m(\u001b[49m\u001b[38;5;241;43m1\u001b[39;49m\u001b[43m,\u001b[49m\u001b[38;5;241;43m3\u001b[39;49m\u001b[43m)\u001b[49m\n",
      "\u001b[1;31mTypeError\u001b[0m: f() takes 1 positional argument but 2 were given"
     ]
    }
   ],
   "source": [
    "f(1,3)"
   ]
  },
  {
   "cell_type": "markdown",
   "id": "e8345768",
   "metadata": {},
   "source": [
    "키워드 전용 인수는 기본값을 지정하지 않아도 되며, 이전 예제의 b처럼 필수 인수로 만들 수 있다."
   ]
  },
  {
   "cell_type": "markdown",
   "id": "6ee976d3",
   "metadata": {},
   "source": [
    "# 8. 매개변수에 대한 정보 읽기"
   ]
  },
  {
   "cell_type": "markdown",
   "id": "13d68d88",
   "metadata": {},
   "source": [
    "Bobo HTTP 프레임워크에서 함수 인트로스펙션을 적용한 재미있는 사례를 볼 수 있다.  \n",
    "Bobo 튜토리얼 'Hello world'를 변형한 것으로서, 함수 인트로스펙션이 어떻게 작동하는지 알 수 있다."
   ]
  },
  {
   "cell_type": "code",
   "execution_count": 156,
   "id": "58eed8af",
   "metadata": {},
   "outputs": [],
   "source": [
    "#Bobo는 hello()가 person 인수를 요구한다는 것을 알고 있으며 인수를 HTTP 요청에서 가져온다.\n",
    "\n",
    "import bobo\n",
    "\n",
    "@bobo.query('/')\n",
    "def hello(person):\n",
    "    return f'Hello {person}!'"
   ]
  },
  {
   "cell_type": "code",
   "execution_count": 160,
   "id": "59b15a4c",
   "metadata": {},
   "outputs": [
    {
     "data": {
      "text/plain": [
       "'Hello person!'"
      ]
     },
     "execution_count": 160,
     "metadata": {},
     "output_type": "execute_result"
    }
   ],
   "source": [
    "hello('person')\n",
    "\n",
    "# SKIP"
   ]
  },
  {
   "cell_type": "markdown",
   "id": "4f9ce5af",
   "metadata": {},
   "source": [
    "# 9. 함수 어노테이션  \n",
    "  \n",
    "  파이썬 3는 함수의 매개변수와 반환값에 메타데이터를 추가할 수 있는 구문을 제공한다."
   ]
  },
  {
   "cell_type": "code",
   "execution_count": 171,
   "id": "fa471fe3",
   "metadata": {},
   "outputs": [],
   "source": [
    "# 어노테이션을 추가한 clip() 함수\n",
    "def clip(text:str, max_len:'int > 0' = 80) -> str:  # 어노테이션 추가\n",
    "    '''max_len 앞이나 뒤의 마지막 공백에서 잘라낸 텍스트를 반환한다.\n",
    "    '''\n",
    "    end = None\n",
    "    if len(text) > max_len:\n",
    "        space_before = text.rfind(' ', 0, max_len)\n",
    "        if space_before >= 0:\n",
    "            end = space_before\n",
    "        else:\n",
    "            space_after = text.rfind(' ', 0, max_len)\n",
    "            if space_after >= 0:\n",
    "                end = space_after\n",
    "    if end is None: #공백이 없다.\n",
    "        end = len(text)\n",
    "    return text[:end].rstrip()"
   ]
  },
  {
   "cell_type": "code",
   "execution_count": 175,
   "id": "3afb7024",
   "metadata": {},
   "outputs": [
    {
     "data": {
      "text/plain": [
       "{'text': str, 'max_len': 'int > 0', 'return': str}"
      ]
     },
     "execution_count": 175,
     "metadata": {},
     "output_type": "execute_result"
    }
   ],
   "source": [
    "clip.__annotations__"
   ]
  },
  {
   "cell_type": "markdown",
   "id": "70705916",
   "metadata": {},
   "source": [
    "파이썬 어노테이션을 함수의 _ _annotation_ _ 속성에 저장할 뿐이다. 검사, 단속, 검증 등 아무런 행동도 취하지 않는다. 즉, 어노테이션은 파이썬 인터프리터에 아므런 의미가 없다. 어노테이션은 도구(IDE 등), 프레임워크, 데커레이터가 사용할 수 있는 메타데이터일 뿐이다. "
   ]
  },
  {
   "cell_type": "code",
   "execution_count": 180,
   "id": "4d58ca10",
   "metadata": {},
   "outputs": [
    {
     "data": {
      "text/plain": [
       "str"
      ]
     },
     "execution_count": 180,
     "metadata": {},
     "output_type": "execute_result"
    }
   ],
   "source": [
    "# 함수 시그니처에서 어노테이션 추출하기\n",
    "\n",
    "from inspect import signature\n",
    "\n",
    "sig = signature(clip)\n",
    "sig.return_annotation"
   ]
  },
  {
   "cell_type": "code",
   "execution_count": 181,
   "id": "fa43a1b6",
   "metadata": {},
   "outputs": [
    {
     "name": "stdout",
     "output_type": "stream",
     "text": [
      "<class 'str'> : text = <class 'inspect._empty'>\n",
      "'int > 0'     : max_len = 80\n"
     ]
    }
   ],
   "source": [
    "for param in sig.parameters.values():\n",
    "    note = repr(param.annotation).ljust(13)\n",
    "    print(note, ':', param.name, '=', param.default)"
   ]
  },
  {
   "cell_type": "markdown",
   "id": "3d4aa47e",
   "metadata": {},
   "source": [
    "signature() 함수는 Signature 객체를 반환한다. Signature에는 return_annotation과 parameters속성이 있는데, parameters는 파라미터명을 Parameter 객체에 매핑하는 딕셔너리이다. 각 Parameter 객체는 annotation 속성을 가지고 있는데, 이 속성을 이용하여 작동한다."
   ]
  },
  {
   "cell_type": "markdown",
   "id": "70858f06",
   "metadata": {},
   "source": [
    "# 10. 함수형 프로그래밍을 위한 패키지  \n",
    "  \n",
    "  귀도 반 로섬은 파이썬이 함수형 프로그래밍 언어를 지향하지 않았다고 공표하고 있지만, operator와 functools 같은 패키지들의 지원 덕분에 파이썬에서도 제법 함수형 코딩 스타일을 사용할 수 있다. 이 두 패키지에 대해 알아보자!"
   ]
  },
  {
   "cell_type": "markdown",
   "id": "efb961de",
   "metadata": {},
   "source": [
    "### 10.1 operator모듈\n",
    "---\n",
    "함수형 프로그래밍을 할 때 산술 연산자를 함수로 사용하는 것이 편리할 때가 종종 있다. 예를 들어 팩토리얼을 계산하기 위해 재귀적으로 함수를 호출하는 대신 숫자 시퀀스를 곱하는 경우를 생각해보자.  \n",
    "람다를 이용해서 이문제를 해결할 수 있다."
   ]
  },
  {
   "cell_type": "code",
   "execution_count": 192,
   "id": "cef53f18",
   "metadata": {},
   "outputs": [
    {
     "data": {
      "text/plain": [
       "3628800"
      ]
     },
     "execution_count": 192,
     "metadata": {},
     "output_type": "execute_result"
    }
   ],
   "source": [
    "#reduce()와 익명 함수로 구현한 팩토리얼\n",
    "from functools import reduce\n",
    "\n",
    "def fact(n):\n",
    "    return reduce(lambda a,b : a*b, range(1,n+1))\n",
    "fact(10)"
   ]
  },
  {
   "cell_type": "code",
   "execution_count": 194,
   "id": "327e16f4",
   "metadata": {},
   "outputs": [
    {
     "data": {
      "text/plain": [
       "3628800"
      ]
     },
     "execution_count": 194,
     "metadata": {},
     "output_type": "execute_result"
    }
   ],
   "source": [
    "#reduce()와 operator.mul로 구현한 팩토리얼 \n",
    "from functools import reduce\n",
    "from operator import mul\n",
    "\n",
    "def fact(n):\n",
    "    return reduce(mul, range(1, n+1))\n",
    "fact(10)"
   ]
  },
  {
   "cell_type": "markdown",
   "id": "1799358d",
   "metadata": {},
   "source": [
    "operator 모듈은 시퀀스에서 항목을 가져오는 람다를 대체하는 itemgetter() 함수와 객체의 속성을 읽는 람다를 대체하는 attrgetter() 함수를 제공한다.  "
   ]
  },
  {
   "cell_type": "code",
   "execution_count": 201,
   "id": "17958ce6",
   "metadata": {
    "scrolled": true
   },
   "outputs": [
    {
     "name": "stdout",
     "output_type": "stream",
     "text": [
      "('Sao Paulo', 'BR', 19.649, (-23.547778, -46.645833))\n",
      "('Delhi NCR', 'IN', 21.935, (28.613889, 77.208889))\n",
      "('Tokyo', 'JP', 36.933, (35.689722, 139.691667))\n",
      "('Mexico City', 'MX', 20.142, (19.433333, -99.133333))\n",
      "('New York-Newark', 'US', 20.104, (40.808611, -74.020386))\n"
     ]
    }
   ],
   "source": [
    "# 특정 필드의 값을 기준으로 튜플의 리스트를 정렬할 때 일반적으로 사용하는 itemgetter()를 보여준다. \n",
    "#아래 예제에서는 1번 필드인 국가 코드로 정렬된 도시들을 출력한다. 본질적으로 \n",
    "# itemgetter(1)은 lambda fields: fields[1]과 동일하며, 주어진 컬렉션에 대해 1번 인덱스 항목을 반환하는 함수를 생성한다.\n",
    "metro_data = [\n",
    "\t('Tokyo', 'JP', 36.933, (35.689722, 139.691667)),\n",
    "    ('Delhi NCR', 'IN', 21.935, (28.613889, 77.208889)),\n",
    "    ('Mexico City', 'MX', 20.142, (19.433333, -99.133333)),\n",
    "    ('New York-Newark', 'US', 20.104, (40.808611, -74.020386)),\n",
    "    ('Sao Paulo','BR',19.649,(-23.547778,-46.645833)),]\n",
    "\n",
    "from operator import itemgetter\n",
    "for city in sorted(metro_data, key=itemgetter(1)):\n",
    "    print(city)"
   ]
  },
  {
   "cell_type": "markdown",
   "id": "7f5c6df9",
   "metadata": {},
   "source": [
    "itemgetter()에 여러 개의 인덱스를 인수로 전달하면, 생성된 함수는 해당 인덱스의 값들로 구성된 튜플을 반환한다. "
   ]
  },
  {
   "cell_type": "code",
   "execution_count": 202,
   "id": "d64d2c88",
   "metadata": {},
   "outputs": [
    {
     "name": "stdout",
     "output_type": "stream",
     "text": [
      "('JP', 'Tokyo')\n",
      "('IN', 'Delhi NCR')\n",
      "('MX', 'Mexico City')\n",
      "('US', 'New York-Newark')\n",
      "('BR', 'Sao Paulo')\n"
     ]
    }
   ],
   "source": [
    "cc_name = itemgetter(1,0)\n",
    "for city in metro_data:\n",
    "    print(cc_name(city))"
   ]
  },
  {
   "cell_type": "markdown",
   "id": "420669b7",
   "metadata": {},
   "source": [
    "itemgettert()는 []연산자를 사용하므로 시퀀스뿐만 아니라 매핑 및 _ _getitem_ _()을 구현한 모든 클래스를 지원한다.  \n",
    "itemgetter()의 형제인 attrgettert()는 이름으로 객체 속성을 추출하는 함수를 생성한다.  \n",
    "attrgetter()에 여러 속성명을 인수로 전달하면, 역시 해당 속성값으로 구성된 튜플을 반한 한다.  \n",
    "게다가 속성명에 점(.)이이 포함되어 있으면 attrgetter()는 내포된 객체를 찾아서 해당 속성을 가져온다."
   ]
  },
  {
   "cell_type": "code",
   "execution_count": 213,
   "id": "64e3c9a6",
   "metadata": {},
   "outputs": [
    {
     "data": {
      "text/plain": [
       "Metropolis(name='Tokyo', cc='JP', pop=36.933, coord=LatLong(lat=35.689722, long=139.691667))"
      ]
     },
     "execution_count": 213,
     "metadata": {},
     "output_type": "execute_result"
    }
   ],
   "source": [
    "from collections import namedtuple\n",
    "\n",
    "LatLong = namedtuple('LatLong', 'lat long')\n",
    "Metropolis = namedtuple('Metropolis', 'name cc pop coord')\n",
    "metro_areas = [Metropolis(name, cc,pop, LatLong(lat,long)) \n",
    "               for name, cc, pop, (lat, long) in metro_data]\n",
    "metro_areas[0]"
   ]
  },
  {
   "cell_type": "code",
   "execution_count": 214,
   "id": "843de5f3",
   "metadata": {},
   "outputs": [
    {
     "data": {
      "text/plain": [
       "35.689722"
      ]
     },
     "execution_count": 214,
     "metadata": {},
     "output_type": "execute_result"
    }
   ],
   "source": [
    "metro_areas[0].coord.lat"
   ]
  },
  {
   "cell_type": "code",
   "execution_count": 216,
   "id": "9dd496a0",
   "metadata": {},
   "outputs": [
    {
     "name": "stdout",
     "output_type": "stream",
     "text": [
      "('Sao Paulo', -23.547778)\n",
      "('Mexico City', 19.433333)\n",
      "('Delhi NCR', 28.613889)\n",
      "('Tokyo', 35.689722)\n",
      "('New York-Newark', 40.808611)\n"
     ]
    }
   ],
   "source": [
    "from operator import attrgetter\n",
    "name_lat = attrgetter('name', 'coord.lat')\n",
    "\n",
    "for city in sorted(metro_areas, key=attrgetter('coord.lat')):\n",
    "    print(name_lat(city))"
   ]
  },
  {
   "cell_type": "code",
   "execution_count": 221,
   "id": "3bfe280c",
   "metadata": {
    "scrolled": true
   },
   "outputs": [
    {
     "data": {
      "text/plain": [
       "['abs',\n",
       " 'add',\n",
       " 'and_',\n",
       " 'attrgetter',\n",
       " 'concat',\n",
       " 'contains',\n",
       " 'countOf',\n",
       " 'delitem',\n",
       " 'eq',\n",
       " 'floordiv',\n",
       " 'ge',\n",
       " 'getitem',\n",
       " 'gt',\n",
       " 'iadd',\n",
       " 'iand',\n",
       " 'iconcat',\n",
       " 'ifloordiv',\n",
       " 'ilshift',\n",
       " 'imatmul',\n",
       " 'imod',\n",
       " 'imul',\n",
       " 'index',\n",
       " 'indexOf',\n",
       " 'inv',\n",
       " 'invert',\n",
       " 'ior',\n",
       " 'ipow',\n",
       " 'irshift',\n",
       " 'is_',\n",
       " 'is_not',\n",
       " 'isub',\n",
       " 'itemgetter',\n",
       " 'itruediv',\n",
       " 'ixor',\n",
       " 'le',\n",
       " 'length_hint',\n",
       " 'lshift',\n",
       " 'lt',\n",
       " 'matmul',\n",
       " 'methodcaller',\n",
       " 'mod',\n",
       " 'mul',\n",
       " 'ne',\n",
       " 'neg',\n",
       " 'not_',\n",
       " 'or_',\n",
       " 'pos',\n",
       " 'pow',\n",
       " 'rshift',\n",
       " 'setitem',\n",
       " 'sub',\n",
       " 'truediv',\n",
       " 'truth',\n",
       " 'xor']"
      ]
     },
     "execution_count": 221,
     "metadata": {},
     "output_type": "execute_result"
    }
   ],
   "source": [
    "# operator에 정의된 함수들 중 일부는 다음과 같다(언더바로 시작하는 이름은 주로 구현에 관련된 함수이므로 여기서는 생략)\n",
    "import operator\n",
    "\n",
    "[name for name in dir(operator) if not name.startswith('_')]"
   ]
  },
  {
   "cell_type": "markdown",
   "id": "bb0df88c",
   "metadata": {},
   "source": [
    "52개의 함수 대부분은 이름으로 쉽게 내용을 예측할 수 있을 것이다. iadd와 iand처럼 i로 시작하는 함수명은 += 및 &= 과 같은 복합 할당 연산자다. 이 함수들은 첫 번째 인수가 가변형인 경우에는 첫 번째 인수를 변경하며, 불변형인 경우에는 i가 없는 함수와 동일하게 단지 연산 결과를 반환한다."
   ]
  },
  {
   "cell_type": "code",
   "execution_count": 222,
   "id": "f539dcaa",
   "metadata": {},
   "outputs": [
    {
     "data": {
      "text/plain": [
       "'LIFE IS TOO SHORT, YOU NEED PYTHON!'"
      ]
     },
     "execution_count": 222,
     "metadata": {},
     "output_type": "execute_result"
    }
   ],
   "source": [
    "#methodcaller() 사용 예. 두 번째 테스트 hiphenate()에서 여분의 인수가 바인딩되는 것에 주의하라.\n",
    "from operator import methodcaller\n",
    "\n",
    "s = 'Life is too short, You need Python!'\n",
    "upcase = methodcaller('upper')\n",
    "upcase(s)"
   ]
  },
  {
   "cell_type": "code",
   "execution_count": 224,
   "id": "eaabcabf",
   "metadata": {},
   "outputs": [
    {
     "data": {
      "text/plain": [
       "'Life-is-too-short,-You-need-Python!'"
      ]
     },
     "execution_count": 224,
     "metadata": {},
     "output_type": "execute_result"
    }
   ],
   "source": [
    "hiphenate = methodcaller('replace', ' ', '-')\n",
    "hiphenate(s)"
   ]
  },
  {
   "cell_type": "code",
   "execution_count": 225,
   "id": "db9aafaa",
   "metadata": {},
   "outputs": [
    {
     "data": {
      "text/plain": [
       "'LIFE IS TOO SHORT, YOU NEED PYTHON!'"
      ]
     },
     "execution_count": 225,
     "metadata": {},
     "output_type": "execute_result"
    }
   ],
   "source": [
    "str.upper(s)"
   ]
  },
  {
   "cell_type": "markdown",
   "id": "0e8a7565",
   "metadata": {},
   "source": [
    "### 10.2 functools.partial()로 인수 고정하기"
   ]
  },
  {
   "cell_type": "markdown",
   "id": "27212741",
   "metadata": {},
   "source": [
    "functools 모듈은 몇 가지 고위 함수를 통합하고, functools에서 제공하는 나머지 함수 중 partial() 및 이의 변형인 partialmethod()함수가 매우 유용하다. 이는 함수를 부분적으로 실행할 수 있게 해주고, 어떤 함수가 있을 때 partial()을 적용하면 원래 함수의 일부 인수를 고정한 콜러블을 생성한다."
   ]
  },
  {
   "cell_type": "code",
   "execution_count": 228,
   "id": "325fc2f1",
   "metadata": {},
   "outputs": [
    {
     "data": {
      "text/plain": [
       "21"
      ]
     },
     "execution_count": 228,
     "metadata": {},
     "output_type": "execute_result"
    }
   ],
   "source": [
    "#인수를 하나 받는 콜러블이 필요한 곳에 인수 두 개를 받는 함수를 사용하기 위해서 partial()적용하기\n",
    "\n",
    "from operator import mul\n",
    "from functools import partial\n",
    "triple = partial(mul,3)\n",
    "triple(7)"
   ]
  },
  {
   "cell_type": "code",
   "execution_count": 230,
   "id": "973a8e52",
   "metadata": {},
   "outputs": [
    {
     "data": {
      "text/plain": [
       "[3, 6, 9, 12, 15, 18, 21, 24, 27]"
      ]
     },
     "execution_count": 230,
     "metadata": {},
     "output_type": "execute_result"
    }
   ],
   "source": [
    "list(map(triple, range(1,10)))"
   ]
  },
  {
   "cell_type": "code",
   "execution_count": 236,
   "id": "e501b837",
   "metadata": {},
   "outputs": [
    {
     "data": {
      "text/plain": [
       "('café', 'café')"
      ]
     },
     "execution_count": 236,
     "metadata": {},
     "output_type": "execute_result"
    }
   ],
   "source": [
    "#partial()을 이용해서 편리한 유니코드 정규화 함수\n",
    "\n",
    "import unicodedata, functools\n",
    "\n",
    "nfc = functools.partial(unicodedata.normalize, 'NFC')\n",
    "s1 = 'café'\n",
    "s2 = 'cafe\\u0301'\n",
    "s1,s2\n",
    "\n"
   ]
  },
  {
   "cell_type": "code",
   "execution_count": 237,
   "id": "17262a26",
   "metadata": {},
   "outputs": [
    {
     "data": {
      "text/plain": [
       "True"
      ]
     },
     "execution_count": 237,
     "metadata": {},
     "output_type": "execute_result"
    }
   ],
   "source": [
    "s1 == s2"
   ]
  },
  {
   "cell_type": "code",
   "execution_count": 238,
   "id": "1eba9ed8",
   "metadata": {},
   "outputs": [
    {
     "data": {
      "text/plain": [
       "True"
      ]
     },
     "execution_count": 238,
     "metadata": {},
     "output_type": "execute_result"
    }
   ],
   "source": [
    "nfc(s1) == nfc(s2)"
   ]
  },
  {
   "cell_type": "code",
   "execution_count": null,
   "id": "e873b3c5",
   "metadata": {},
   "outputs": [],
   "source": []
  }
 ],
 "metadata": {
  "kernelspec": {
   "display_name": "Python 3 (ipykernel)",
   "language": "python",
   "name": "python3"
  },
  "language_info": {
   "codemirror_mode": {
    "name": "ipython",
    "version": 3
   },
   "file_extension": ".py",
   "mimetype": "text/x-python",
   "name": "python",
   "nbconvert_exporter": "python",
   "pygments_lexer": "ipython3",
   "version": "3.10.9"
  }
 },
 "nbformat": 4,
 "nbformat_minor": 5
}
