{
 "cells": [
  {
   "cell_type": "markdown",
   "id": "737b1ff3",
   "metadata": {},
   "source": [
    "# 1. 일반적인 매핑형"
   ]
  },
  {
   "cell_type": "code",
   "execution_count": 3,
   "id": "8c930e37",
   "metadata": {},
   "outputs": [
    {
     "data": {
      "text/plain": [
       "True"
      ]
     },
     "execution_count": 3,
     "metadata": {},
     "output_type": "execute_result"
    }
   ],
   "source": [
    "my_dict = {}\n",
    "import collections\n",
    "isinstance(my_dict, collections.abc.Mapping) # 함수 인수가 dict형인지 검사하는 것보다 isinstance()함수를 사용하는 것이 좋다.\n",
    "                                             # 다른 매핑형이 사용될 수도 있기 때문이다."
   ]
  },
  {
   "cell_type": "markdown",
   "id": "40298c6b",
   "metadata": {},
   "source": [
    "##### Python 표준 라이브러리에서 제공하는 매핑형은 모두 dict를 이용해서 구현하므로, 키가 해시가능해야 한다는 제한을 갖고 있다.\n",
    "\n",
    "<h3> 해시 가능 </h3>\n",
    "  \n",
    "수명 주기 동안 결코 변하지 않는 해시값을 갖고 있고(__hash__() 메서드가 필요하다) 다른 객체와 비교할 수 있으면(__eq__() 메서드가 필요하다.) 객체를 해시 가능하다고 한다. 동일하다고 판단되는 객체는 반드시 해시값이 동일해야 한다."
   ]
  },
  {
   "cell_type": "code",
   "execution_count": 7,
   "id": "70ab0e10",
   "metadata": {},
   "outputs": [
    {
     "data": {
      "text/plain": [
       "-3907003130834322577"
      ]
     },
     "execution_count": 7,
     "metadata": {},
     "output_type": "execute_result"
    }
   ],
   "source": [
    "tt = (1, 2, (30, 40))\n",
    "hash(tt)"
   ]
  },
  {
   "cell_type": "code",
   "execution_count": 20,
   "id": "d7613799",
   "metadata": {},
   "outputs": [
    {
     "ename": "TypeError",
     "evalue": "unhashable type: 'list'",
     "output_type": "error",
     "traceback": [
      "\u001b[1;31m---------------------------------------------------------------------------\u001b[0m",
      "\u001b[1;31mTypeError\u001b[0m                                 Traceback (most recent call last)",
      "Cell \u001b[1;32mIn[20], line 2\u001b[0m\n\u001b[0;32m      1\u001b[0m tl \u001b[38;5;241m=\u001b[39m (\u001b[38;5;241m1\u001b[39m, \u001b[38;5;241m2\u001b[39m, [\u001b[38;5;241m30\u001b[39m, \u001b[38;5;241m40\u001b[39m])\n\u001b[1;32m----> 2\u001b[0m \u001b[38;5;28;43mhash\u001b[39;49m\u001b[43m(\u001b[49m\u001b[43mtl\u001b[49m\u001b[43m)\u001b[49m\n",
      "\u001b[1;31mTypeError\u001b[0m: unhashable type: 'list'"
     ]
    }
   ],
   "source": [
    "tl = (1, 2, [30, 40])\n",
    "hash(tl)"
   ]
  },
  {
   "cell_type": "code",
   "execution_count": 22,
   "id": "c118742c",
   "metadata": {},
   "outputs": [
    {
     "data": {
      "text/plain": [
       "5149391500123939311"
      ]
     },
     "execution_count": 22,
     "metadata": {},
     "output_type": "execute_result"
    }
   ],
   "source": [
    "tf = (1, 2, frozenset([30, 40]))\n",
    "hash(tf)"
   ]
  },
  {
   "cell_type": "code",
   "execution_count": 35,
   "id": "032482e7",
   "metadata": {},
   "outputs": [
    {
     "data": {
      "text/plain": [
       "True"
      ]
     },
     "execution_count": 35,
     "metadata": {},
     "output_type": "execute_result"
    }
   ],
   "source": [
    "a = dict(one=1, two=2, three=3)\n",
    "b = {'one':1, 'two':2, 'three':3}\n",
    "c = dict(zip(['one', 'two', 'three'], [1,2,3]))\n",
    "d = dict([('two', 2), ('one', 1), ('three', 3)])\n",
    "e = dict({'three':3, 'one':1, 'two': 2})\n",
    "a == b == c == d == e"
   ]
  },
  {
   "cell_type": "markdown",
   "id": "0db1c268",
   "metadata": {},
   "source": [
    "# 2. 지능형 딕셔너리(Dictionary Comprehension)"
   ]
  },
  {
   "cell_type": "code",
   "execution_count": 43,
   "id": "10db2076",
   "metadata": {},
   "outputs": [
    {
     "data": {
      "text/plain": [
       "{'China': 86,\n",
       " 'India': 91,\n",
       " 'United States': 1,\n",
       " 'Indonesia': 62,\n",
       " 'Brazil': 55,\n",
       " 'Pakistan': 92,\n",
       " 'Bangladesh': 880,\n",
       " 'Nigeria': 234,\n",
       " 'Russia': 7,\n",
       " 'Japan': 81}"
      ]
     },
     "execution_count": 43,
     "metadata": {},
     "output_type": "execute_result"
    }
   ],
   "source": [
    "DIAL_CODES = [\n",
    "\t\t(86, 'China'),\n",
    "        (91, 'India'),\n",
    "        (1, 'United States'),\n",
    "        (62, 'Indonesia'),\n",
    "        (55, 'Brazil'),\n",
    "        (92, 'Pakistan'),\n",
    "        (880, 'Bangladesh'),\n",
    "        (234, 'Nigeria'),\n",
    "        (7, 'Russia'),\n",
    "        (81, 'Japan'),\n",
    "   ]\n",
    "\n",
    "contry_code = {contry : code for code, contry in DIAL_CODES}\n",
    "contry_code"
   ]
  },
  {
   "cell_type": "code",
   "execution_count": 47,
   "id": "74e283f7",
   "metadata": {},
   "outputs": [
    {
     "data": {
      "text/plain": [
       "{1: 'UNITED STATES', 62: 'INDONESIA', 55: 'BRAZIL', 7: 'RUSSIA'}"
      ]
     },
     "execution_count": 47,
     "metadata": {},
     "output_type": "execute_result"
    }
   ],
   "source": [
    "{code : contry.upper() for contry, code in contry_code.items() if code < 66}"
   ]
  },
  {
   "cell_type": "markdown",
   "id": "46dc02c6",
   "metadata": {},
   "source": [
    "# 3. 공통적인 매핑 메서드"
   ]
  },
  {
   "cell_type": "markdown",
   "id": "21e4acde",
   "metadata": {},
   "source": [
    "![이미지 설명](https://velog.velcdn.com/images/qsdcfd/post/7e260113-4116-456e-9b18-3c469bf272e5/image.png)\n"
   ]
  },
  {
   "cell_type": "markdown",
   "id": "35c6fad1",
   "metadata": {},
   "source": [
    "### 3.1 존재하지 않는 키를 setdefault()로 처리하기"
   ]
  },
  {
   "cell_type": "code",
   "execution_count": 64,
   "id": "2cbd8887",
   "metadata": {
    "collapsed": true
   },
   "outputs": [
    {
     "name": "stdout",
     "output_type": "stream",
     "text": [
      "0 [(12, 17), (13, 22)]\n",
      "added [(11, 15)]\n",
      "after [(4, 1)]\n",
      "an [(1, 30)]\n",
      "app [(15, 40), (17, 5)]\n",
      "as [(15, 37)]\n",
      "avoid [(3, 55)]\n",
      "back [(11, 21)]\n",
      "by [(11, 26)]\n",
      "can [(3, 51)]\n",
      "cwd [(4, 20)]\n",
      "CWD [(10, 18)]\n",
      "del [(13, 9)]\n",
      "doing [(3, 61)]\n",
      "Entry [(1, 4)]\n",
      "for [(1, 16)]\n",
      "from [(3, 18), (4, 24), (10, 22), (15, 5)]\n",
      "if [(9, 1), (12, 5)]\n",
      "import [(7, 1), (15, 20)]\n",
      "imports [(3, 67)]\n",
      "init_path [(11, 49)]\n",
      "InteractiveShellApp [(11, 29)]\n",
      "ipykernel [(3, 27), (15, 10)]\n",
      "IPython [(1, 33)]\n",
      "is [(3, 6), (11, 12)]\n",
      "kernel [(1, 41)]\n",
      "kernelapp [(15, 27)]\n",
      "launching [(1, 20)]\n",
      "launch_new_instance [(17, 9)]\n",
      "load [(10, 45)]\n",
      "package [(3, 37)]\n",
      "path [(4, 33), (10, 31), (12, 12), (13, 17)]\n",
      "point [(1, 10)]\n",
      "Remove [(10, 7)]\n",
      "removing [(4, 7)]\n",
      "separate [(3, 9)]\n",
      "so [(3, 45)]\n",
      "stuff [(10, 50)]\n",
      "sys [(4, 29), (7, 8), (10, 27), (12, 8), (13, 13)]\n",
      "the [(3, 23), (4, 16), (10, 14)]\n",
      "This [(3, 1), (11, 7)]\n",
      "until [(3, 75)]\n",
      "we [(3, 48), (10, 42)]\n",
      "while [(10, 36)]\n",
      "__main__ [(9, 17)]\n",
      "__name__ [(9, 4)]\n"
     ]
    }
   ],
   "source": [
    "import sys\n",
    "import re\n",
    "\n",
    "WORD_RE = re.compile(r'\\w+')\n",
    "\n",
    "index = {}\n",
    "\n",
    "with open(sys.argv[0], encoding='utf-8') as fp:\n",
    "    for line_no, line in enumerate(fp,1):\n",
    "        for match in WORD_RE.finditer(line):\n",
    "            word = match.group()\n",
    "            column_no = match.start() + 1\n",
    "            location = (line_no, column_no)\n",
    "            #보기 좋은 코드는 아니지만 설명\n",
    "            occurrences = index. get(word,[])\n",
    "            occurrences.append(location)\n",
    "            index[word] = occurrences\n",
    "            \n",
    "for word in sorted(index, key=str.upper):\n",
    "    print(word, index[word])"
   ]
  },
  {
   "cell_type": "code",
   "execution_count": 74,
   "id": "82fcd585",
   "metadata": {
    "collapsed": true
   },
   "outputs": [
    {
     "name": "stdout",
     "output_type": "stream",
     "text": [
      "0 [(12, 17), (13, 22)]\n",
      "added [(11, 15)]\n",
      "after [(4, 1)]\n",
      "an [(1, 30)]\n",
      "app [(15, 40), (17, 5)]\n",
      "as [(15, 37)]\n",
      "avoid [(3, 55)]\n",
      "back [(11, 21)]\n",
      "by [(11, 26)]\n",
      "can [(3, 51)]\n",
      "cwd [(4, 20)]\n",
      "CWD [(10, 18)]\n",
      "del [(13, 9)]\n",
      "doing [(3, 61)]\n",
      "Entry [(1, 4)]\n",
      "for [(1, 16)]\n",
      "from [(3, 18), (4, 24), (10, 22), (15, 5)]\n",
      "if [(9, 1), (12, 5)]\n",
      "import [(7, 1), (15, 20)]\n",
      "imports [(3, 67)]\n",
      "init_path [(11, 49)]\n",
      "InteractiveShellApp [(11, 29)]\n",
      "ipykernel [(3, 27), (15, 10)]\n",
      "IPython [(1, 33)]\n",
      "is [(3, 6), (11, 12)]\n",
      "kernel [(1, 41)]\n",
      "kernelapp [(15, 27)]\n",
      "launching [(1, 20)]\n",
      "launch_new_instance [(17, 9)]\n",
      "load [(10, 45)]\n",
      "package [(3, 37)]\n",
      "path [(4, 33), (10, 31), (12, 12), (13, 17)]\n",
      "point [(1, 10)]\n",
      "Remove [(10, 7)]\n",
      "removing [(4, 7)]\n",
      "separate [(3, 9)]\n",
      "so [(3, 45)]\n",
      "stuff [(10, 50)]\n",
      "sys [(4, 29), (7, 8), (10, 27), (12, 8), (13, 13)]\n",
      "the [(3, 23), (4, 16), (10, 14)]\n",
      "This [(3, 1), (11, 7)]\n",
      "until [(3, 75)]\n",
      "we [(3, 48), (10, 42)]\n",
      "while [(10, 36)]\n",
      "__main__ [(9, 17)]\n",
      "__name__ [(9, 4)]\n"
     ]
    }
   ],
   "source": [
    "\n",
    "\"\"\"단어가 나타나는 위치를 가리키는 인덱스를 만든다.\"\"\"\n",
    "\n",
    "import sys\n",
    "import re\n",
    "\n",
    "WORD_Re = re.compile(r'\\w+')\n",
    "\n",
    "index = {}\n",
    "\n",
    "with open(sys.argv[0], encoding='utf-8') as fp:\n",
    "    for line_no, line in enumerate(fp,1):\n",
    "        for match in WORD_RE.finditer(line):\n",
    "            word = match.group()\n",
    "            column_no = match.start() + 1\n",
    "            location = (line_no, column_no)\n",
    "            index.setdefault(word,[]).append(location) ##dict.setdefault()사용\n",
    "            \n",
    "for word in sorted(index, key=str.upper):\n",
    "    print(word, index[word])\n"
   ]
  },
  {
   "cell_type": "markdown",
   "id": "d2b233a3",
   "metadata": {},
   "source": [
    "# 4. 융통성 있게 키를 조회하는 매핑"
   ]
  },
  {
   "cell_type": "markdown",
   "id": "013f11f0",
   "metadata": {},
   "source": [
    "검색할 때 키가 존재하지 않을 때 특별한 값을 반환하는 매핑이 있으면 편리한 경우들이 있고 이를 만드는 것은 두 가지가 있다. 첫 번째, 평벙한 dict대신 defaultdict를 사용하는 방법이고 다른 하나는 dict등의 매핑형을 상속해서 missing()메서드를 추가하는 방법입니다."
   ]
  },
  {
   "cell_type": "markdown",
   "id": "4bbf33a1",
   "metadata": {},
   "source": [
    "### 4.1 defaultdict: 존재하지 않는 키에 대한 또 다른 처리"
   ]
  },
  {
   "cell_type": "code",
   "execution_count": 86,
   "id": "ee2ca0d2",
   "metadata": {
    "scrolled": true
   },
   "outputs": [
    {
     "name": "stdout",
     "output_type": "stream",
     "text": [
      "0 [(12, 17), (13, 22)]\n",
      "added [(11, 15)]\n",
      "after [(4, 1)]\n",
      "an [(1, 30)]\n",
      "app [(15, 40), (17, 5)]\n",
      "as [(15, 37)]\n",
      "avoid [(3, 55)]\n",
      "back [(11, 21)]\n",
      "by [(11, 26)]\n",
      "can [(3, 51)]\n",
      "cwd [(4, 20)]\n",
      "CWD [(10, 18)]\n",
      "del [(13, 9)]\n",
      "doing [(3, 61)]\n",
      "Entry [(1, 4)]\n",
      "for [(1, 16)]\n",
      "from [(3, 18), (4, 24), (10, 22), (15, 5)]\n",
      "if [(9, 1), (12, 5)]\n",
      "import [(7, 1), (15, 20)]\n",
      "imports [(3, 67)]\n",
      "init_path [(11, 49)]\n",
      "InteractiveShellApp [(11, 29)]\n",
      "ipykernel [(3, 27), (15, 10)]\n",
      "IPython [(1, 33)]\n",
      "is [(3, 6), (11, 12)]\n",
      "kernel [(1, 41)]\n",
      "kernelapp [(15, 27)]\n",
      "launching [(1, 20)]\n",
      "launch_new_instance [(17, 9)]\n",
      "load [(10, 45)]\n",
      "package [(3, 37)]\n",
      "path [(4, 33), (10, 31), (12, 12), (13, 17)]\n",
      "point [(1, 10)]\n",
      "Remove [(10, 7)]\n",
      "removing [(4, 7)]\n",
      "separate [(3, 9)]\n",
      "so [(3, 45)]\n",
      "stuff [(10, 50)]\n",
      "sys [(4, 29), (7, 8), (10, 27), (12, 8), (13, 13)]\n",
      "the [(3, 23), (4, 16), (10, 14)]\n",
      "This [(3, 1), (11, 7)]\n",
      "until [(3, 75)]\n",
      "we [(3, 48), (10, 42)]\n",
      "while [(10, 36)]\n",
      "__main__ [(9, 17)]\n",
      "__name__ [(9, 4)]\n"
     ]
    }
   ],
   "source": [
    "#index_default.py: setdefault() 메서드 대신 defaultdict 객체 사용하기\n",
    "\n",
    "# \"\"\"\n",
    "# default_factory 에 list 생성자를 갖고 있는 defaultdict를 생성한다.\n",
    "# f) word가 index에 들어 있지 않으면 default_factory를 호출해서 없는 값에 대한 항목을 생성하는데, \n",
    "\n",
    "# 여기서는 빈 리스트를 생성해서 index[word] 에 할당한 후 반환하므로, append (location ) 연산은 언제나 성공한다.\n",
    "\n",
    "# \"\"\"\n",
    "# \"＂＂단어가 나타나는 위치를 가리키는 인덱스를 만든다.\"＂＂\n",
    "import sys\n",
    "import re\n",
    "import collections\n",
    "WORD_RE = re.compile(r'\\w+')\n",
    "index = collections . defaultdict( list )\n",
    "with open(sys.argv[0], encoding='utf-8' ) as fp:\n",
    "    for line_no, line in enumerate(fp, 1):\n",
    "        for match in WORD_RE.finditer(line):\n",
    "            word = match.group()\n",
    "            column_no = match.start()+1\n",
    "            location = (line_no, column_no)\n",
    "            index[word] .append(location)\n",
    "#알파벳순으로 출력한다.\n",
    "for word in sorted(index, key=str.upper):\n",
    "    print(word, index[word])"
   ]
  },
  {
   "cell_type": "markdown",
   "id": "41692a34",
   "metadata": {},
   "source": [
    "### 4.2 __missing__() 메서드\n",
    "\n",
    "------------\n",
    "매핑형은 이름으로도 쉽게 추측할 수 있는 missing() 메서드를 이용헤서 존재하지 않는 키를 처리하고 특수 메서드는 기본 클래스인 dict에는 정의되어 있지 않지만, dict는 알고 있다.\n",
    "그러므로 dicr 클래스를 상속하고 missing() 메서드를 정의하면 dict.getitem() 표준 메서드가 키를 발견할 수 없을 때 KeyError를 발생시키지 않고 missing() 메서드를 호출한다."
   ]
  },
  {
   "cell_type": "code",
   "execution_count": 90,
   "id": "4dc7dc48",
   "metadata": {},
   "outputs": [],
   "source": [
    "# 비문자열 키를 검색할 때 키를 발견하지 못하면 키를 문자열로 변환하는 StrKeyDict0\n",
    "class StrKeyDict0(dict):\n",
    "    \n",
    "    def __missing__(self,key):\n",
    "        if isinstance(key, str):\n",
    "            raise KeyError(key)\n",
    "        return self[str(key)]\n",
    "\n",
    "    def get(self, key, default=None):\n",
    "        try:\n",
    "            return self[key]\n",
    "        except KeyError:\n",
    "            return default\n",
    "\n",
    "    def  __contains__(self, key):\n",
    "        return key in self.keys() or str(key) in self.keys()\n",
    "\n",
    "    "
   ]
  },
  {
   "cell_type": "markdown",
   "id": "8b100681",
   "metadata": {},
   "source": [
    "##### d[key] 표기법을 이용하여 항목을 가져오는 테스트"
   ]
  },
  {
   "cell_type": "code",
   "execution_count": 104,
   "id": "a330679a",
   "metadata": {},
   "outputs": [
    {
     "data": {
      "text/plain": [
       "'two'"
      ]
     },
     "execution_count": 104,
     "metadata": {},
     "output_type": "execute_result"
    }
   ],
   "source": [
    "d = StrKeyDict0([('2', 'two'), (4, 'four')])\n",
    "d['2']"
   ]
  },
  {
   "cell_type": "code",
   "execution_count": 105,
   "id": "69f53b01",
   "metadata": {},
   "outputs": [
    {
     "data": {
      "text/plain": [
       "'four'"
      ]
     },
     "execution_count": 105,
     "metadata": {},
     "output_type": "execute_result"
    }
   ],
   "source": [
    "d[4]"
   ]
  },
  {
   "cell_type": "code",
   "execution_count": 106,
   "id": "07219810",
   "metadata": {},
   "outputs": [
    {
     "ename": "KeyError",
     "evalue": "'1'",
     "output_type": "error",
     "traceback": [
      "\u001b[1;31m---------------------------------------------------------------------------\u001b[0m",
      "\u001b[1;31mKeyError\u001b[0m                                  Traceback (most recent call last)",
      "Cell \u001b[1;32mIn[106], line 1\u001b[0m\n\u001b[1;32m----> 1\u001b[0m \u001b[43md\u001b[49m\u001b[43m[\u001b[49m\u001b[38;5;241;43m1\u001b[39;49m\u001b[43m]\u001b[49m\n",
      "Cell \u001b[1;32mIn[90], line 7\u001b[0m, in \u001b[0;36mStrKeyDict0.__missing__\u001b[1;34m(self, key)\u001b[0m\n\u001b[0;32m      5\u001b[0m \u001b[38;5;28;01mif\u001b[39;00m \u001b[38;5;28misinstance\u001b[39m(key, \u001b[38;5;28mstr\u001b[39m):\n\u001b[0;32m      6\u001b[0m     \u001b[38;5;28;01mraise\u001b[39;00m \u001b[38;5;167;01mKeyError\u001b[39;00m(key)\n\u001b[1;32m----> 7\u001b[0m \u001b[38;5;28;01mreturn\u001b[39;00m \u001b[38;5;28;43mself\u001b[39;49m\u001b[43m[\u001b[49m\u001b[38;5;28;43mstr\u001b[39;49m\u001b[43m(\u001b[49m\u001b[43mkey\u001b[49m\u001b[43m)\u001b[49m\u001b[43m]\u001b[49m\n",
      "Cell \u001b[1;32mIn[90], line 6\u001b[0m, in \u001b[0;36mStrKeyDict0.__missing__\u001b[1;34m(self, key)\u001b[0m\n\u001b[0;32m      4\u001b[0m \u001b[38;5;28;01mdef\u001b[39;00m \u001b[38;5;21m__missing__\u001b[39m(\u001b[38;5;28mself\u001b[39m,key):\n\u001b[0;32m      5\u001b[0m     \u001b[38;5;28;01mif\u001b[39;00m \u001b[38;5;28misinstance\u001b[39m(key, \u001b[38;5;28mstr\u001b[39m):\n\u001b[1;32m----> 6\u001b[0m         \u001b[38;5;28;01mraise\u001b[39;00m \u001b[38;5;167;01mKeyError\u001b[39;00m(key)\n\u001b[0;32m      7\u001b[0m     \u001b[38;5;28;01mreturn\u001b[39;00m \u001b[38;5;28mself\u001b[39m[\u001b[38;5;28mstr\u001b[39m(key)]\n",
      "\u001b[1;31mKeyError\u001b[0m: '1'"
     ]
    }
   ],
   "source": [
    "d[1]"
   ]
  },
  {
   "cell_type": "markdown",
   "id": "cf61350f",
   "metadata": {},
   "source": [
    "##### d.get(key) 표기법을 이용하여 항목을 가져오는 테스트"
   ]
  },
  {
   "cell_type": "code",
   "execution_count": 107,
   "id": "55e5df64",
   "metadata": {},
   "outputs": [
    {
     "data": {
      "text/plain": [
       "'two'"
      ]
     },
     "execution_count": 107,
     "metadata": {},
     "output_type": "execute_result"
    }
   ],
   "source": [
    "d.get('2')"
   ]
  },
  {
   "cell_type": "code",
   "execution_count": 108,
   "id": "61dbc5f8",
   "metadata": {},
   "outputs": [
    {
     "data": {
      "text/plain": [
       "'four'"
      ]
     },
     "execution_count": 108,
     "metadata": {},
     "output_type": "execute_result"
    }
   ],
   "source": [
    "d.get(4)"
   ]
  },
  {
   "cell_type": "code",
   "execution_count": 111,
   "id": "6e4ceafc",
   "metadata": {},
   "outputs": [
    {
     "data": {
      "text/plain": [
       "'N/A'"
      ]
     },
     "execution_count": 111,
     "metadata": {},
     "output_type": "execute_result"
    }
   ],
   "source": [
    "d.get(1, 'N/A')"
   ]
  },
  {
   "cell_type": "markdown",
   "id": "0e50c55c",
   "metadata": {},
   "source": [
    "##### in 연산자 테스트 "
   ]
  },
  {
   "cell_type": "code",
   "execution_count": 113,
   "id": "f9ead880",
   "metadata": {},
   "outputs": [
    {
     "data": {
      "text/plain": [
       "True"
      ]
     },
     "execution_count": 113,
     "metadata": {},
     "output_type": "execute_result"
    }
   ],
   "source": [
    "2 in d"
   ]
  },
  {
   "cell_type": "code",
   "execution_count": 114,
   "id": "e756bdcc",
   "metadata": {},
   "outputs": [
    {
     "data": {
      "text/plain": [
       "False"
      ]
     },
     "execution_count": 114,
     "metadata": {},
     "output_type": "execute_result"
    }
   ],
   "source": [
    "1 in d"
   ]
  },
  {
   "cell_type": "markdown",
   "id": "242ab950",
   "metadata": {},
   "source": [
    "#  그 외 매핑형"
   ]
  },
  {
   "cell_type": "markdown",
   "id": "7708ab2d",
   "metadata": {},
   "source": [
    "##### collections.OrderedDict\n",
    "키를 삽입한 순서대로 유지함으로써 항목을 반복하는 순서를 예측할 수 있다. 따라서 popitem() 메서드를 사용할 수 있다. popitem(last=True)로 처음 삽입한 항목도 꺼낼 수 있다."
   ]
  },
  {
   "cell_type": "markdown",
   "id": "14a289d3",
   "metadata": {},
   "source": [
    "##### collections.ChainMap\n",
    "매핑들의 목록을 담고 있으며 한꺼번에 모두 검색할 수 있다. 각 매핑을 차례대로 검색하고, 그중 하나에서라도 키가 검색되면 성공한다."
   ]
  },
  {
   "cell_type": "markdown",
   "id": "6a377f63",
   "metadata": {},
   "source": [
    "##### collections.Counter\n",
    "모든 키에 정수형 카운터를 갖고 있는 매핑. 기존 키를 갱신하면 카운터가 늘어난다. n개의 가장 널리 사용된 항목과 그들의 카운터로 구성된 튜플의 리스트를 반환하는 most_commom([n]) 등의 메서드를 제공한다."
   ]
  },
  {
   "cell_type": "code",
   "execution_count": 57,
   "id": "0ec21a48",
   "metadata": {},
   "outputs": [
    {
     "data": {
      "text/plain": [
       "Counter({'a': 6, 's': 6, 'd': 5, 'f': 2, 'v': 3, 'c': 2})"
      ]
     },
     "execution_count": 57,
     "metadata": {},
     "output_type": "execute_result"
    }
   ],
   "source": [
    "from collections import Counter\n",
    "ct = Counter('asdfasfvsavasdcasdvsadcd')\n",
    "ct"
   ]
  },
  {
   "cell_type": "code",
   "execution_count": 54,
   "id": "b36364f8",
   "metadata": {},
   "outputs": [
    {
     "data": {
      "text/plain": [
       "Counter({'a': 10, 's': 6, 'd': 5, 'f': 2, 'v': 3, 'c': 2, 'z': 5})"
      ]
     },
     "execution_count": 54,
     "metadata": {},
     "output_type": "execute_result"
    }
   ],
   "source": [
    "ct.update('aaaazzzzz')\n",
    "ct"
   ]
  },
  {
   "cell_type": "markdown",
   "id": "821bb175",
   "metadata": {},
   "source": [
    "##### collections.UserDict\n",
    "표준 dict처럼 작동하는 매핑을 순수 파이썬으로 구현한 클래스"
   ]
  },
  {
   "cell_type": "markdown",
   "id": "cb8fddbc",
   "metadata": {},
   "source": [
    "# 6. UserDict 상속하기"
   ]
  },
  {
   "cell_type": "code",
   "execution_count": 58,
   "id": "97d1d288",
   "metadata": {},
   "outputs": [],
   "source": [
    "import collections\n",
    "\n",
    "class StrKeyDict(collections.UserDict): # UserDict 상속\n",
    "    \n",
    "    def __missing__(self, key):\n",
    "        if isinstance(key, str):\n",
    "            raise KeyError(key)\n",
    "        return self[str(key)]\n",
    "    \n",
    "    def __contains__(self, key):\n",
    "        return str(key) in self.data\n",
    "    \n",
    "    def __setitem__(self, key, item):\n",
    "        self.data[str(key)] = item"
   ]
  },
  {
   "cell_type": "code",
   "execution_count": 71,
   "id": "bc65f45e",
   "metadata": {},
   "outputs": [
    {
     "data": {
      "text/plain": [
       "'two'"
      ]
     },
     "execution_count": 71,
     "metadata": {},
     "output_type": "execute_result"
    }
   ],
   "source": [
    "d = StrKeyDict([('2','two'),('4','four')])\n",
    "d[2]"
   ]
  },
  {
   "cell_type": "markdown",
   "id": "3e18d9bb",
   "metadata": {},
   "source": [
    "UserDict 클래스가 MutableMapping을 상속하므로 StrKeyDict는 매핑의 모든 기능을 가지게 된다. 따라서 StrKeyDict0.get()과 동일하게 구현된 Mapping.get()을 상속받으므로 구현할 필요가 없다."
   ]
  },
  {
   "cell_type": "markdown",
   "id": "fc355a8d",
   "metadata": {},
   "source": [
    "# 7. 불변 매핑"
   ]
  },
  {
   "cell_type": "markdown",
   "id": "7ed6b134",
   "metadata": {},
   "source": [
    "매핑형은 모두 가변형이지만, types 모듈의 MappingProxyType 래퍼 클래스를 이용하면 원래 매핑의 동적인 뷰를 제공하는 mappingproxy 객체를 반환받는다. 따라서 원래 매핑을 변경하면 mappingproxy에 반영되지만, mappingproxy를 직접 변경할 수는 없다."
   ]
  },
  {
   "cell_type": "code",
   "execution_count": 73,
   "id": "59e5436d",
   "metadata": {},
   "outputs": [
    {
     "data": {
      "text/plain": [
       "mappingproxy({1: 'A'})"
      ]
     },
     "execution_count": 73,
     "metadata": {},
     "output_type": "execute_result"
    }
   ],
   "source": [
    "from types import MappingProxyType\n",
    "d = {1: 'A'}\n",
    "d_proxy = MappingProxyType(d)\n",
    "d_proxy"
   ]
  },
  {
   "cell_type": "code",
   "execution_count": 74,
   "id": "beae6db8",
   "metadata": {},
   "outputs": [
    {
     "data": {
      "text/plain": [
       "'A'"
      ]
     },
     "execution_count": 74,
     "metadata": {},
     "output_type": "execute_result"
    }
   ],
   "source": [
    "d_proxy[1]"
   ]
  },
  {
   "cell_type": "code",
   "execution_count": 77,
   "id": "05d214a2",
   "metadata": {},
   "outputs": [
    {
     "ename": "TypeError",
     "evalue": "'mappingproxy' object does not support item assignment",
     "output_type": "error",
     "traceback": [
      "\u001b[1;31m---------------------------------------------------------------------------\u001b[0m",
      "\u001b[1;31mTypeError\u001b[0m                                 Traceback (most recent call last)",
      "Cell \u001b[1;32mIn[77], line 1\u001b[0m\n\u001b[1;32m----> 1\u001b[0m d_proxy[\u001b[38;5;241m2\u001b[39m] \u001b[38;5;241m=\u001b[39m \u001b[38;5;124m'\u001b[39m\u001b[38;5;124mx\u001b[39m\u001b[38;5;124m'\u001b[39m\n",
      "\u001b[1;31mTypeError\u001b[0m: 'mappingproxy' object does not support item assignment"
     ]
    }
   ],
   "source": [
    "d_proxy[2] = 'x'"
   ]
  },
  {
   "cell_type": "code",
   "execution_count": 79,
   "id": "3d7580d4",
   "metadata": {},
   "outputs": [
    {
     "data": {
      "text/plain": [
       "mappingproxy({1: 'A', 2: 'sd'})"
      ]
     },
     "execution_count": 79,
     "metadata": {},
     "output_type": "execute_result"
    }
   ],
   "source": [
    "d[2] = 'sd'\n",
    "d_proxy"
   ]
  },
  {
   "cell_type": "code",
   "execution_count": 80,
   "id": "8cf6f185",
   "metadata": {},
   "outputs": [
    {
     "data": {
      "text/plain": [
       "'sd'"
      ]
     },
     "execution_count": 80,
     "metadata": {},
     "output_type": "execute_result"
    }
   ],
   "source": [
    "d_proxy[2]"
   ]
  },
  {
   "cell_type": "markdown",
   "id": "136ef43e",
   "metadata": {},
   "source": [
    "# 8. 집합 이론"
   ]
  },
  {
   "cell_type": "markdown",
   "id": "440d793a",
   "metadata": {},
   "source": [
    "집합 요소는 반드시 해시할 수 있어야 한다. set은 해시 가능하지 않지만 frozenset은 해시 가능하므로, frozenset이 set에 들어갈 수 있다. 또한 집합형은 다음과 같은 연산을 구현한다.  \n",
    "\n",
    " - a | b : 합집합\n",
    " - a & b : 교집합\n",
    " - a - b : 차집합"
   ]
  },
  {
   "cell_type": "code",
   "execution_count": 82,
   "id": "2bb032a8",
   "metadata": {},
   "outputs": [
    {
     "data": {
      "text/plain": [
       "{'egg', 'spam'}"
      ]
     },
     "execution_count": 82,
     "metadata": {},
     "output_type": "execute_result"
    }
   ],
   "source": [
    "l = ['spam', 'spam', 'egg', 'spam']\n",
    "set(l)"
   ]
  },
  {
   "cell_type": "code",
   "execution_count": 83,
   "id": "353d4a1f",
   "metadata": {},
   "outputs": [
    {
     "data": {
      "text/plain": [
       "['spam', 'egg']"
      ]
     },
     "execution_count": 83,
     "metadata": {},
     "output_type": "execute_result"
    }
   ],
   "source": [
    "list(set(l))"
   ]
  },
  {
   "cell_type": "markdown",
   "id": "dab00dc5",
   "metadata": {},
   "source": [
    "### 8.1 집합 리터럴"
   ]
  },
  {
   "cell_type": "markdown",
   "id": "96aa07b2",
   "metadata": {},
   "source": [
    "공집합은 리터럴로 표기할 수 없으므로, 반드시 set()으로 표기해야 한다. {1,2,3}과 같은 리터럴 집합 구문은 set([1,2,3])처럼 생성자를 호출하는 것보다 더 빠르고 가독성이 좋다(리터럴 구문을 사용하면 파이썬은 BUILD_SET이라는 특수 바이트코드를 실행한다."
   ]
  },
  {
   "cell_type": "code",
   "execution_count": 96,
   "id": "ee1e9864",
   "metadata": {},
   "outputs": [
    {
     "name": "stdout",
     "output_type": "stream",
     "text": [
      "  1           0 LOAD_CONST               0 (1)\n",
      "              2 BUILD_SET                1\n",
      "              4 RETURN_VALUE\n"
     ]
    }
   ],
   "source": [
    "from dis import dis\n",
    "dis('{1}')"
   ]
  },
  {
   "cell_type": "code",
   "execution_count": 100,
   "id": "268266f5",
   "metadata": {},
   "outputs": [
    {
     "name": "stdout",
     "output_type": "stream",
     "text": [
      "  1           0 LOAD_NAME                0 (set)\n",
      "              2 LOAD_CONST               0 (1)\n",
      "              4 BUILD_LIST               1\n",
      "              6 CALL_FUNCTION            1\n",
      "              8 RETURN_VALUE\n"
     ]
    }
   ],
   "source": [
    "dis('set([1])')"
   ]
  },
  {
   "cell_type": "markdown",
   "id": "ad9e8e7a",
   "metadata": {},
   "source": [
    "frozenset은 별도의 리터럴 구문이 없으며, frozenset은 언제나 생성자를 호출해서 생성해야 한다."
   ]
  },
  {
   "cell_type": "code",
   "execution_count": 102,
   "id": "1b945265",
   "metadata": {},
   "outputs": [
    {
     "data": {
      "text/plain": [
       "frozenset({0, 1, 2, 3, 4, 5, 6, 7, 8, 9})"
      ]
     },
     "execution_count": 102,
     "metadata": {},
     "output_type": "execute_result"
    }
   ],
   "source": [
    "frozenset(range(10))"
   ]
  },
  {
   "cell_type": "markdown",
   "id": "c7dadb81",
   "metadata": {},
   "source": [
    "### 8.2 지능형 집합(Set Comprehension)"
   ]
  },
  {
   "cell_type": "code",
   "execution_count": 103,
   "id": "2f1d77ae",
   "metadata": {},
   "outputs": [
    {
     "data": {
      "text/plain": [
       "{'#',\n",
       " '$',\n",
       " '%',\n",
       " '+',\n",
       " '<',\n",
       " '=',\n",
       " '>',\n",
       " '¢',\n",
       " '£',\n",
       " '¤',\n",
       " '¥',\n",
       " '§',\n",
       " '©',\n",
       " '¬',\n",
       " '®',\n",
       " '°',\n",
       " '±',\n",
       " 'µ',\n",
       " '¶',\n",
       " '×',\n",
       " '÷'}"
      ]
     },
     "execution_count": 103,
     "metadata": {},
     "output_type": "execute_result"
    }
   ],
   "source": [
    "from unicodedata import name\n",
    "{chr(i) for i in range(32,256) if 'SIGN' in name(chr(i),'')}"
   ]
  },
  {
   "cell_type": "code",
   "execution_count": 120,
   "id": "2a04e90b",
   "metadata": {},
   "outputs": [
    {
     "data": {
      "text/plain": [
       "('LATIN SMALL LETTER O WITH DIAERESIS', 'ö')"
      ]
     },
     "execution_count": 120,
     "metadata": {},
     "output_type": "execute_result"
    }
   ],
   "source": [
    "name(chr(246),''), chr(246)"
   ]
  },
  {
   "cell_type": "code",
   "execution_count": 121,
   "id": "61e86f6a",
   "metadata": {},
   "outputs": [
    {
     "data": {
      "text/plain": [
       "('DIVISION SIGN', '÷')"
      ]
     },
     "execution_count": 121,
     "metadata": {},
     "output_type": "execute_result"
    }
   ],
   "source": [
    "name(chr(247),''), chr(247)"
   ]
  },
  {
   "cell_type": "markdown",
   "id": "b83ec5bd",
   "metadata": {},
   "source": [
    "### 8.3 집합 연산\n",
    "<img src=\"https://velog.velcdn.com/images/qsdcfd/post/737e35bb-3c9a-40cf-ae97-cadbbba0c97d/image.png\"  width=\"500\">\n",
    "<img src=\"https://velog.velcdn.com/images/qsdcfd/post/1271204d-0fc1-48c7-8f82-3a40ebcac247/image.png\"  width=\"500\">\n",
    "<img src=\"https://velog.velcdn.com/images/qsdcfd/post/523158b5-f71a-484f-8ba5-aab9bb1bed00/image.png\"  width=\"500\">"
   ]
  },
  {
   "cell_type": "code",
   "execution_count": null,
   "id": "204cea8e",
   "metadata": {},
   "outputs": [],
   "source": []
  }
 ],
 "metadata": {
  "kernelspec": {
   "display_name": "Python 3 (ipykernel)",
   "language": "python",
   "name": "python3"
  },
  "language_info": {
   "codemirror_mode": {
    "name": "ipython",
    "version": 3
   },
   "file_extension": ".py",
   "mimetype": "text/x-python",
   "name": "python",
   "nbconvert_exporter": "python",
   "pygments_lexer": "ipython3",
   "version": "3.10.9"
  }
 },
 "nbformat": 4,
 "nbformat_minor": 5
}
