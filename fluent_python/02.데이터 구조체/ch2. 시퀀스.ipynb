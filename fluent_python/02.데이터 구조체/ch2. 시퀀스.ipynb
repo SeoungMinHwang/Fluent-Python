{
 "cells": [
  {
   "cell_type": "markdown",
   "id": "d6383378",
   "metadata": {},
   "source": [
    "# 1.내장 시퀀스 개요"
   ]
  },
  {
   "cell_type": "markdown",
   "id": "65610e8b",
   "metadata": {},
   "source": [
    "\n",
    "#####    컨테이너 시퀀스\n",
    "서로 다른 자료형의 항목들을 담을 수 있는 list, tuple, collections.deque형  \n",
    "  \n",
    "-------------------------\n",
    "\n",
    "#####    균일 시퀀스\n",
    "단 하나의 자료형만 담을 수 있는 str, bytes, bytearray, memoryview, array.array형"
   ]
  },
  {
   "cell_type": "markdown",
   "id": "ddadb55d",
   "metadata": {},
   "source": [
    "가변성에 따른 분류\n",
    "\n",
    "\n",
    "\n",
    "##### 가변 시퀀스 \n",
    "list, bytearray, array.array, collections.deque, memoryview 형\n",
    "\n",
    "------------\n",
    "\n",
    "##### 불변 시퀀스 \n",
    "tuple, str, bytes형"
   ]
  },
  {
   "cell_type": "markdown",
   "id": "ab53796a",
   "metadata": {},
   "source": [
    "# 2. 지능형 리스트(list comprehension)과 제너레이터 표현식"
   ]
  },
  {
   "cell_type": "markdown",
   "id": "440a8ebe",
   "metadata": {},
   "source": [
    "### 2.1 가독성"
   ]
  },
  {
   "cell_type": "code",
   "execution_count": 2,
   "id": "29951506",
   "metadata": {},
   "outputs": [
    {
     "data": {
      "text/plain": [
       "[36, 37, 63, 90, 62, 86, 42]"
      ]
     },
     "execution_count": 2,
     "metadata": {},
     "output_type": "execute_result"
    }
   ],
   "source": [
    "symbols = '$%?Z>V*'\n",
    "    \n",
    "codes = []\n",
    "for symbol in symbols:\n",
    "    codes.append(ord(symbol))\n",
    "codes"
   ]
  },
  {
   "cell_type": "code",
   "execution_count": 4,
   "id": "5e2baa70",
   "metadata": {},
   "outputs": [
    {
     "data": {
      "text/plain": [
       "[36, 37, 63, 90, 62, 86, 42]"
      ]
     },
     "execution_count": 4,
     "metadata": {},
     "output_type": "execute_result"
    }
   ],
   "source": [
    "symbols = '$%?Z>V*'\n",
    "\n",
    "codes = [ord(symbol) for symbol in symbols]\n",
    "codes"
   ]
  },
  {
   "cell_type": "markdown",
   "id": "0448efab",
   "metadata": {},
   "source": [
    "### 2.2 지능형 리스트와 map()/filter()비교"
   ]
  },
  {
   "cell_type": "code",
   "execution_count": 36,
   "id": "81d60e2b",
   "metadata": {},
   "outputs": [
    {
     "name": "stdout",
     "output_type": "stream",
     "text": [
      "[65312]\n",
      "[65312]\n"
     ]
    }
   ],
   "source": [
    "symbols = '$%c＠?Z>V*'\n",
    "beyond_ascii = [ord(s) for s in symbols if ord(s) > 127]\n",
    "print(beyond_ascii)\n",
    "\n",
    "beyond_ascii = list(filter(lambda c: c>127, map(ord,symbols)))\n",
    "print(beyond_ascii)"
   ]
  },
  {
   "cell_type": "markdown",
   "id": "85c5679a",
   "metadata": {},
   "source": [
    "### 2.3 데카르트 곱"
   ]
  },
  {
   "cell_type": "code",
   "execution_count": 37,
   "id": "b0654528",
   "metadata": {},
   "outputs": [
    {
     "data": {
      "text/plain": [
       "[('black', 'S'),\n",
       " ('black', 'M'),\n",
       " ('black', 'L'),\n",
       " ('white', 'S'),\n",
       " ('white', 'M'),\n",
       " ('white', 'L')]"
      ]
     },
     "execution_count": 37,
     "metadata": {},
     "output_type": "execute_result"
    }
   ],
   "source": [
    "colors = ['black', 'white']\n",
    "sizes = ['S', 'M', 'L']\n",
    "tshirts = [(color, size) for color in colors for size in sizes]\n",
    "tshirts"
   ]
  },
  {
   "cell_type": "code",
   "execution_count": 38,
   "id": "c803839e",
   "metadata": {},
   "outputs": [
    {
     "name": "stdout",
     "output_type": "stream",
     "text": [
      "('black', 'S')\n",
      "('black', 'M')\n",
      "('black', 'L')\n",
      "('white', 'S')\n",
      "('white', 'M')\n",
      "('white', 'L')\n"
     ]
    }
   ],
   "source": [
    "for color in colors:\n",
    "    for size in sizes:\n",
    "        print((color, size))"
   ]
  },
  {
   "cell_type": "code",
   "execution_count": 39,
   "id": "b3a6bf81",
   "metadata": {},
   "outputs": [
    {
     "data": {
      "text/plain": [
       "[('black', 'S'),\n",
       " ('white', 'S'),\n",
       " ('black', 'M'),\n",
       " ('white', 'M'),\n",
       " ('black', 'L'),\n",
       " ('white', 'L')]"
      ]
     },
     "execution_count": 39,
     "metadata": {},
     "output_type": "execute_result"
    }
   ],
   "source": [
    "tshirts = [(color, size) for size in sizes\n",
    "          for color in colors]\n",
    "tshirts"
   ]
  },
  {
   "cell_type": "markdown",
   "id": "67b53278",
   "metadata": {},
   "source": [
    "### 2.4 제너레이터 표현식\n",
    "#### 다른 생성자에 전달할 리스트를 통째로 만들지 않고 반복자 프로토콜을 이용하여 항목을 하나씩 생성하는 제너레이터 표현식은 메모리를 더 적게 사용한다."
   ]
  },
  {
   "cell_type": "code",
   "execution_count": 40,
   "id": "687ae6ef",
   "metadata": {},
   "outputs": [
    {
     "data": {
      "text/plain": [
       "(36, 37, 99, 65312, 63, 90, 62, 86, 42)"
      ]
     },
     "execution_count": 40,
     "metadata": {},
     "output_type": "execute_result"
    }
   ],
   "source": [
    "symbol = '$#MF+.Δ'\n",
    "tuple(ord(symbol) for symbol in symbols)"
   ]
  },
  {
   "cell_type": "code",
   "execution_count": 41,
   "id": "902728cd",
   "metadata": {},
   "outputs": [
    {
     "data": {
      "text/plain": [
       "array('I', [36, 37, 99, 65312, 63, 90, 62, 86, 42])"
      ]
     },
     "execution_count": 41,
     "metadata": {},
     "output_type": "execute_result"
    }
   ],
   "source": [
    "import array\n",
    "\n",
    "array.array('I', (ord(symbol) for symbol in symbols))"
   ]
  },
  {
   "cell_type": "code",
   "execution_count": 42,
   "id": "cd50d92d",
   "metadata": {},
   "outputs": [
    {
     "name": "stdout",
     "output_type": "stream",
     "text": [
      "black S\n",
      "black M\n",
      "black L\n",
      "white S\n",
      "white M\n",
      "white L\n"
     ]
    }
   ],
   "source": [
    "# 제너레이터 표현식은 한번에 한 항목을 생성할 수 있도록 록 루프에 데이터를 전달하기 때문에 \n",
    "#방대한 요소가 들어가 있는 리스트를 생성하는 일을 피할 수 있다.\n",
    "colors = ['black', 'white']\n",
    "size = ['S', 'M', 'L']\n",
    "for tshirts in ('%s %s' % (c,s) for c in colors for s in size):\n",
    "    print(tshirts)"
   ]
  },
  {
   "cell_type": "markdown",
   "id": "42e3a91b",
   "metadata": {},
   "source": [
    "# 3. 튜플은 단순한 불변 리스트가 아니다."
   ]
  },
  {
   "cell_type": "markdown",
   "id": "b16fd418",
   "metadata": {},
   "source": [
    "### 3.1 레코드로서의 튜플"
   ]
  },
  {
   "cell_type": "code",
   "execution_count": 58,
   "id": "7b1348ce",
   "metadata": {},
   "outputs": [
    {
     "name": "stdout",
     "output_type": "stream",
     "text": [
      "BRA/CE342567\n",
      "ESP/XDA205856\n",
      "USA/31195855\n",
      "\n",
      "\n",
      "\n",
      "USA\n",
      "BRA\n",
      "ESP\n"
     ]
    }
   ],
   "source": [
    "# 튜플을 필드의 집합으로 사용하는 경우에는 항목 수가 고정되어 있고 항목의 순서가 중요하다.\n",
    "lax_coordinates = (33.9425, -118.408056)\n",
    "city, year, pop, chg, area = ('Tokyo', 2003, 32450, 0.66, 8014)\n",
    "traveler_ids = [('USA', 31195855), ('BRA', 'CE342567'),\n",
    "               ('ESP', 'XDA205856')]\n",
    "\n",
    "\n",
    "for passport in sorted(traveler_ids):\n",
    "    print('%s/%s' % passport)\n",
    "    \n",
    "print('\\n\\n')    \n",
    "\n",
    "for contry, _ in traveler_ids:\n",
    "    print(contry)\n",
    "\n",
    "# 튜플 안에서 항목의 위치가 항목의 의미를 나타내므로 튜플을 정렬하면 정보가 파괴된다는 점 주의"
   ]
  },
  {
   "cell_type": "markdown",
   "id": "94e8d70e",
   "metadata": {},
   "source": [
    "### 3.2 튜플 언패킹"
   ]
  },
  {
   "cell_type": "code",
   "execution_count": 59,
   "id": "a7c8f09b",
   "metadata": {},
   "outputs": [
    {
     "name": "stdout",
     "output_type": "stream",
     "text": [
      "33.9425\n",
      "-118.408056\n"
     ]
    }
   ],
   "source": [
    "lax_coordinates = (33.9425, -118.408056)\n",
    "latitude, longitude = lax_coordinates #  튜플 언패킹\n",
    "\n",
    "print(latitude)\n",
    "print(longitude)"
   ]
  },
  {
   "cell_type": "code",
   "execution_count": 60,
   "id": "a546a6df",
   "metadata": {},
   "outputs": [],
   "source": [
    "#튜플 언패킹을 사용하면 b,a = a,b 처럼 임시 변수 사용없이 값 교환 가능"
   ]
  },
  {
   "cell_type": "code",
   "execution_count": 65,
   "id": "c3a3be59",
   "metadata": {},
   "outputs": [
    {
     "data": {
      "text/plain": [
       "(2, 4)"
      ]
     },
     "execution_count": 65,
     "metadata": {},
     "output_type": "execute_result"
    }
   ],
   "source": [
    "divmod(20,8)\n",
    "t = (20,8)\n",
    "divmod(*t)\n",
    "quotient, remainder = divmod(*t)\n",
    "quotient, remainder"
   ]
  },
  {
   "cell_type": "code",
   "execution_count": 78,
   "id": "5e036a74",
   "metadata": {},
   "outputs": [],
   "source": [
    "import os\n",
    "\n",
    "# _와 같은 더미변수를 플레이스 홀더로 사용해서 관심 없는 부분은 언패킹할 때 무시할 수 있다.\n",
    "_, filename = os.path.split('C:/Users/qq221/OneDrive/바탕 화면/셤.pptx')"
   ]
  },
  {
   "cell_type": "code",
   "execution_count": 79,
   "id": "9b65c56b",
   "metadata": {},
   "outputs": [
    {
     "data": {
      "text/plain": [
       "'셤.pptx'"
      ]
     },
     "execution_count": 79,
     "metadata": {},
     "output_type": "execute_result"
    }
   ],
   "source": [
    "filename"
   ]
  },
  {
   "cell_type": "markdown",
   "id": "6fa11fba",
   "metadata": {},
   "source": [
    "##### 초과 항목을 잡기 위해 * 사용하기"
   ]
  },
  {
   "cell_type": "code",
   "execution_count": 84,
   "id": "fb4765c9",
   "metadata": {},
   "outputs": [
    {
     "data": {
      "text/plain": [
       "(0, 1, [2, 3, 4])"
      ]
     },
     "execution_count": 84,
     "metadata": {},
     "output_type": "execute_result"
    }
   ],
   "source": [
    "a, b, *rest = range(5)\n",
    "a, b, rest"
   ]
  },
  {
   "cell_type": "code",
   "execution_count": 85,
   "id": "c82748e2",
   "metadata": {},
   "outputs": [
    {
     "data": {
      "text/plain": [
       "(0, 1, [2])"
      ]
     },
     "execution_count": 85,
     "metadata": {},
     "output_type": "execute_result"
    }
   ],
   "source": [
    "a, b, *rest = range(3)\n",
    "a, b, rest"
   ]
  },
  {
   "cell_type": "code",
   "execution_count": 86,
   "id": "5c2f4738",
   "metadata": {},
   "outputs": [
    {
     "data": {
      "text/plain": [
       "(0, 1, [])"
      ]
     },
     "execution_count": 86,
     "metadata": {},
     "output_type": "execute_result"
    }
   ],
   "source": [
    "a, b, *rest = range(2)\n",
    "a, b, rest"
   ]
  },
  {
   "cell_type": "code",
   "execution_count": 88,
   "id": "2165985f",
   "metadata": {},
   "outputs": [
    {
     "data": {
      "text/plain": [
       "(0, [1, 2], 3, 4)"
      ]
     },
     "execution_count": 88,
     "metadata": {},
     "output_type": "execute_result"
    }
   ],
   "source": [
    "#병렬 할당의 경우 *는 단 하나의 변수에만 적용할 수 있다.\n",
    "a, *body, c, d = range(5)\n",
    "a, body, c, d"
   ]
  },
  {
   "cell_type": "code",
   "execution_count": 90,
   "id": "c1585537",
   "metadata": {},
   "outputs": [
    {
     "data": {
      "text/plain": [
       "([0, 1], 2, 3, 4)"
      ]
     },
     "execution_count": 90,
     "metadata": {},
     "output_type": "execute_result"
    }
   ],
   "source": [
    "*head, b, c, d = range(5)\n",
    "head, b, c, d"
   ]
  },
  {
   "cell_type": "markdown",
   "id": "86e677f5",
   "metadata": {},
   "source": [
    "### 3.3 내표된 튜플 언패킹"
   ]
  },
  {
   "cell_type": "code",
   "execution_count": 95,
   "id": "9b7fbe13",
   "metadata": {},
   "outputs": [
    {
     "name": "stdout",
     "output_type": "stream",
     "text": [
      "                |   lat.    |   long.  \n",
      "Mexico City     |  19.4333  | -99.1333 \n",
      "New York-Newark |  40.8086  | -74.0204 \n",
      "Sao Paulo       | -23.5478  | -46.6358 \n"
     ]
    }
   ],
   "source": [
    "metro_areas = [\n",
    "    ('Tokyo','JP',36.9333,(35.689722, 139.691667)),\n",
    "    ('Delhi NCR','IN',21.935,(28.613889, 77.200889)),\n",
    "    ('Mexico City','MX',20.142,(19.43333, -99.13333)),\n",
    "    ('New York-Newark','US',20.104,(40.808611, -74.020386)),\n",
    "    ('Sao Paulo','BR',19.649,(-23.547778, -46.635833)),   ]\n",
    "\n",
    "print('{:15} | {:^9} | {:^9}'.format('','lat.','long.'))\n",
    "fmt = '{:15} | {:^9.4f} | {:^9.4f}'\n",
    "\n",
    "for name, cc, pop, (latitude, longitude) in metro_areas:\n",
    "    if longitude <=0:\n",
    "        print(fmt.format(name, latitude, longitude))"
   ]
  },
  {
   "cell_type": "markdown",
   "id": "e18c8cc3",
   "metadata": {},
   "source": [
    "### 3.4 명명된 튜플"
   ]
  },
  {
   "cell_type": "code",
   "execution_count": 99,
   "id": "0aaf266c",
   "metadata": {},
   "outputs": [
    {
     "data": {
      "text/plain": [
       "'JP'"
      ]
     },
     "execution_count": 99,
     "metadata": {},
     "output_type": "execute_result"
    }
   ],
   "source": [
    "from collections import namedtuple\n",
    "City = namedtuple('City','name country population coordinates')\n",
    "tokyo = City('Tokyo', 'JP', 36.933, (35.689722, 139.69167))\n",
    "tokyo\n",
    "tokyo.population\n",
    "tokyo.coordinates\n",
    "tokyo[1]"
   ]
  },
  {
   "cell_type": "code",
   "execution_count": 100,
   "id": "86d72f7a",
   "metadata": {},
   "outputs": [
    {
     "data": {
      "text/plain": [
       "City(name='Tokyo', country='JP', population=36.933, coordinates=(35.689722, 139.69167))"
      ]
     },
     "execution_count": 100,
     "metadata": {},
     "output_type": "execute_result"
    }
   ],
   "source": [
    "tokyo"
   ]
  },
  {
   "cell_type": "code",
   "execution_count": 107,
   "id": "aeb61d72",
   "metadata": {},
   "outputs": [
    {
     "name": "stdout",
     "output_type": "stream",
     "text": [
      "('name', 'country', 'population', 'coordinates')\n",
      "name: Delhi NCR\n",
      "country: IN\n",
      "population: 21.935\n",
      "coordinates: LatLong(lat=28.613889, long=77.20889)\n"
     ]
    }
   ],
   "source": [
    "print(City._fields)\n",
    "LatLong = namedtuple('LatLong', 'lat long')\n",
    "delhi_data = ('Delhi NCR', 'IN', 21.935, LatLong(28.613889, 77.20889))\n",
    "delhi = City._make(delhi_data)\n",
    "delhi._asdict()\n",
    "\n",
    "for key, value in delhi._asdict().items():\n",
    "    print(key + ':', value)"
   ]
  },
  {
   "cell_type": "markdown",
   "id": "384b59bc",
   "metadata": {},
   "source": [
    "### 3.5 불변 리스트로서의 튜플"
   ]
  },
  {
   "cell_type": "code",
   "execution_count": 116,
   "id": "27943b72",
   "metadata": {},
   "outputs": [
    {
     "data": {
      "text/html": [
       "<img src=\"https://velog.velcdn.com/images/qsdcfd/post/236ffe19-a0ef-4617-88c6-96edb48597b4/image.png\"/>"
      ],
      "text/plain": [
       "<IPython.core.display.Image object>"
      ]
     },
     "execution_count": 116,
     "metadata": {},
     "output_type": "execute_result"
    }
   ],
   "source": [
    "from IPython.display import Image\n",
    "Image(url='https://velog.velcdn.com/images/qsdcfd/post/236ffe19-a0ef-4617-88c6-96edb48597b4/image.png')"
   ]
  },
  {
   "cell_type": "markdown",
   "id": "1f672856",
   "metadata": {},
   "source": [
    "# 4. 슬라이싱"
   ]
  },
  {
   "cell_type": "markdown",
   "id": "3305ff36",
   "metadata": {},
   "source": [
    "### 4.1 슬라이스와 범위 지정시에 마지막 항목이 포함되지 않는 이유\n",
    "\n",
    " - 1. range(3)이나 l[:3]처럼 중단점만 이용해서 슬라이스나 범위를 지정할 때 길이 계산이 쉽다.\n",
    " - 2. 중단점 - 시작점 = 길이\n",
    " - 3. 인덱스를 기준으로 겹침없이 시퀀스 분할이 쉽다. ex) l[:x]와 l[x:]"
   ]
  },
  {
   "cell_type": "code",
   "execution_count": 123,
   "id": "1d0e657f",
   "metadata": {},
   "outputs": [
    {
     "name": "stdout",
     "output_type": "stream",
     "text": [
      "[10, 20]\n",
      "[30, 40, 50, 60]\n",
      "[10, 20, 30]\n",
      "[40, 50, 60]\n"
     ]
    }
   ],
   "source": [
    "l = list(range(10,61,10))\n",
    "print(f\"\"\"{l[:2]}\n",
    "{l[2:]}\n",
    "{l[:3]}\n",
    "{l[3:]}\"\"\")"
   ]
  },
  {
   "cell_type": "markdown",
   "id": "acc2dade",
   "metadata": {},
   "source": [
    "### 4.2 슬라이스 객체"
   ]
  },
  {
   "cell_type": "code",
   "execution_count": 156,
   "id": "d1d1fa72",
   "metadata": {},
   "outputs": [
    {
     "name": "stdout",
     "output_type": "stream",
     "text": [
      "'bye'\n",
      "'elcycib'\n",
      "'eccb'\n"
     ]
    },
    {
     "data": {
      "text/plain": [
       "[2, 4]"
      ]
     },
     "execution_count": 156,
     "metadata": {},
     "output_type": "execute_result"
    }
   ],
   "source": [
    "s = 'bicycle'\n",
    "print(repr(s[::3]))\n",
    "print(repr(s[::-1]))\n",
    "print(repr(s[::-2]))\n",
    "# 슬라이스 객체는 실제로 seq.__getitem__(slice(strart, end, step))을 호출\n",
    "[1,2,3,4,5].__getitem__(slice(1,None,2))"
   ]
  },
  {
   "cell_type": "markdown",
   "id": "f04ec6c6",
   "metadata": {},
   "source": [
    "### 4.3다차원 슬라이싱 생략 기호"
   ]
  },
  {
   "cell_type": "markdown",
   "id": "51733c91",
   "metadata": {},
   "source": [
    " - [] 연산자는 콤마로 구분해서 여러 개의 인덱스나 슬라이스를 가질 수 있다.\n",
    "\n",
    " - Numpy 외부 패키지에서 a[i,j]구문으로 2차원 numpy.ndarray 배열의 항목이나 a[m:n,k:l]구문으로 2차원 슬라이스를 가져올 때 사용한다.\n",
    "\n",
    " - [] 연산자를 처리하는 _getitem()과 setitem__() 특수 메서드는 a[i,j]에 들어 있는 인덱스들을 튜플로 받는다.\n",
    "\n",
    " - Numpy는 다차원 배열을 슬라이싱할 때 생략 기호를 사용한다."
   ]
  },
  {
   "cell_type": "markdown",
   "id": "eb6e4dc7",
   "metadata": {},
   "source": [
    "### 4.4 슬라이스에 할당하기 "
   ]
  },
  {
   "cell_type": "code",
   "execution_count": 170,
   "id": "ec75cf8e",
   "metadata": {},
   "outputs": [
    {
     "name": "stdout",
     "output_type": "stream",
     "text": [
      "[0, 1, 2, 3, 4, 5, 6, 7, 8, 9] \n",
      "\n",
      "[0, 1, 20, 30, 5, 6, 7, 8, 9] \n",
      "\n",
      "[0, 1, 20, 30, 5, 8, 9] \n",
      "\n",
      "[0, 1, 20, 11, 5, 22, 9] \n",
      "\n"
     ]
    },
    {
     "ename": "TypeError",
     "evalue": "can only assign an iterable",
     "output_type": "error",
     "traceback": [
      "\u001b[1;31m---------------------------------------------------------------------------\u001b[0m",
      "\u001b[1;31mTypeError\u001b[0m                                 Traceback (most recent call last)",
      "Cell \u001b[1;32mIn[170], line 13\u001b[0m\n\u001b[0;32m     10\u001b[0m l[\u001b[38;5;241m3\u001b[39m::\u001b[38;5;241m2\u001b[39m] \u001b[38;5;241m=\u001b[39m [\u001b[38;5;241m11\u001b[39m,\u001b[38;5;241m22\u001b[39m]\n\u001b[0;32m     11\u001b[0m \u001b[38;5;28mprint\u001b[39m(l, \u001b[38;5;124m'\u001b[39m\u001b[38;5;130;01m\\n\u001b[39;00m\u001b[38;5;124m'\u001b[39m)\n\u001b[1;32m---> 13\u001b[0m l[\u001b[38;5;241m2\u001b[39m:\u001b[38;5;241m5\u001b[39m] \u001b[38;5;241m=\u001b[39m \u001b[38;5;241m100\u001b[39m\n",
      "\u001b[1;31mTypeError\u001b[0m: can only assign an iterable"
     ]
    }
   ],
   "source": [
    "l = list(range(10))\n",
    "print(l, '\\n')\n",
    "\n",
    "l[2:5] = [20,30]\n",
    "print(l, '\\n')\n",
    "\n",
    "del l[5:7]\n",
    "print(l, '\\n')\n",
    "\n",
    "l[3::2] = [11,22]\n",
    "print(l, '\\n')\n",
    "\n",
    "l[2:5] = 100 # error"
   ]
  },
  {
   "cell_type": "code",
   "execution_count": 171,
   "id": "21861908",
   "metadata": {},
   "outputs": [
    {
     "data": {
      "text/plain": [
       "[0, 1, 100, 22, 9]"
      ]
     },
     "execution_count": 171,
     "metadata": {},
     "output_type": "execute_result"
    }
   ],
   "source": [
    "l[2:5] = [100]\n",
    "l"
   ]
  },
  {
   "cell_type": "markdown",
   "id": "92463a9c",
   "metadata": {},
   "source": [
    "# 5 시퀀스에 덧셈과 곱셈 연산자 사용하기"
   ]
  },
  {
   "cell_type": "code",
   "execution_count": 176,
   "id": "832f8f0c",
   "metadata": {},
   "outputs": [
    {
     "name": "stdout",
     "output_type": "stream",
     "text": [
      "[1, 2, 3, 1, 2, 3, 1, 2, 3]\n",
      "abcabcabcabcabc\n"
     ]
    }
   ],
   "source": [
    "l = [1,2,3]\n",
    "print(l * 3)\n",
    "print(5*'abc')"
   ]
  },
  {
   "cell_type": "markdown",
   "id": "3e32f4a6",
   "metadata": {},
   "source": [
    "### 5.1 리스트의 리스트 만들기"
   ]
  },
  {
   "cell_type": "code",
   "execution_count": 186,
   "id": "fb138415",
   "metadata": {},
   "outputs": [
    {
     "name": "stdout",
     "output_type": "stream",
     "text": [
      "[['_', '_', '_'], ['_', '_', '_'], ['_', '_', '_']]\n",
      "[['_', '_', '_'], ['_', '_', 'X'], ['_', '_', '_']]\n"
     ]
    }
   ],
   "source": [
    "board = [['_'] * 3 for _ in range(3)]\n",
    "print(board)\n",
    "board[1][2] = 'X'\n",
    "print(board)"
   ]
  },
  {
   "cell_type": "code",
   "execution_count": 192,
   "id": "6a24e9c8",
   "metadata": {},
   "outputs": [
    {
     "name": "stdout",
     "output_type": "stream",
     "text": [
      "[['-', '-', '-'], ['-', '-', '-'], ['-', '-', '-']]\n",
      "[['-', '-', '0'], ['-', '-', '0'], ['-', '-', '0']]\n"
     ]
    }
   ],
   "source": [
    "# 얕은복사(shadow coppy)\n",
    "weird_board = [['-'] * 3] * 3\n",
    "print(weird_board)\n",
    "weird_board[1][2] = '0'\n",
    "print(weird_board)"
   ]
  },
  {
   "cell_type": "markdown",
   "id": "10e1506b",
   "metadata": {},
   "source": [
    "# 6 시퀀스의 복합 할당"
   ]
  },
  {
   "cell_type": "code",
   "execution_count": 195,
   "id": "146e6377",
   "metadata": {},
   "outputs": [],
   "source": [
    "# += 연산자가 작동하도록 하는 던더 메서드(특수 메서드)는 __iadd__()이다 하지만 __iadd__()메서드가 구현되어 있지 않으면,\n",
    "# 파이썬은 대신 __add__() 메서드를 호출한다.\n",
    "# *= 는 __imal__()"
   ]
  },
  {
   "cell_type": "code",
   "execution_count": 205,
   "id": "fb142993",
   "metadata": {},
   "outputs": [
    {
     "name": "stdout",
     "output_type": "stream",
     "text": [
      "1852733551104\n",
      "[1, 2, 3, 1, 2, 3]\n",
      "1852733551104\n"
     ]
    }
   ],
   "source": [
    "l = [1,2,3]\n",
    "print(id(l))\n",
    "l*=2\n",
    "print(l)\n",
    "print(id(l)) # *= 연산 후에도 같은 id값(같은 객체)"
   ]
  },
  {
   "cell_type": "code",
   "execution_count": 206,
   "id": "2b7cbd51",
   "metadata": {},
   "outputs": [
    {
     "name": "stdout",
     "output_type": "stream",
     "text": [
      "1852734667008\n",
      "1852731793152\n"
     ]
    }
   ],
   "source": [
    "t = (1,2,3)\n",
    "print(id(t))\n",
    "t *= 2\n",
    "print(id(t)) # *= 연산 후에 다른 id값(다른 객체)"
   ]
  },
  {
   "cell_type": "markdown",
   "id": "08d7ce35",
   "metadata": {},
   "source": [
    " + 새로운 항목을 추가하는 대신 항목이 추가된 시퀀스 전체를 새로 만들어 타깃 변수에 저장 하므로, 불변 시퀀스에 반복적으로 연결 연산을 수행하는 것은 비효율적이다."
   ]
  },
  {
   "cell_type": "markdown",
   "id": "02a29b51",
   "metadata": {},
   "source": [
    "### 6.1 += 복합 할당 퀴즈"
   ]
  },
  {
   "cell_type": "code",
   "execution_count": 209,
   "id": "07436f60",
   "metadata": {},
   "outputs": [
    {
     "ename": "TypeError",
     "evalue": "'tuple' object does not support item assignment",
     "output_type": "error",
     "traceback": [
      "\u001b[1;31m---------------------------------------------------------------------------\u001b[0m",
      "\u001b[1;31mTypeError\u001b[0m                                 Traceback (most recent call last)",
      "Cell \u001b[1;32mIn[209], line 2\u001b[0m\n\u001b[0;32m      1\u001b[0m t \u001b[38;5;241m=\u001b[39m (\u001b[38;5;241m1\u001b[39m, \u001b[38;5;241m2\u001b[39m, [\u001b[38;5;241m30\u001b[39m, \u001b[38;5;241m40\u001b[39m])\n\u001b[1;32m----> 2\u001b[0m t[\u001b[38;5;241m2\u001b[39m] \u001b[38;5;241m+\u001b[39m\u001b[38;5;241m=\u001b[39m [\u001b[38;5;241m50\u001b[39m, \u001b[38;5;241m60\u001b[39m]\n",
      "\u001b[1;31mTypeError\u001b[0m: 'tuple' object does not support item assignment"
     ]
    }
   ],
   "source": [
    "t = (1, 2, [30, 40])\n",
    "t[2] += [50, 60]"
   ]
  },
  {
   "cell_type": "code",
   "execution_count": 210,
   "id": "aa0ef32d",
   "metadata": {},
   "outputs": [
    {
     "data": {
      "text/plain": [
       "(1, 2, [30, 40, 50, 60])"
      ]
     },
     "execution_count": 210,
     "metadata": {},
     "output_type": "execute_result"
    }
   ],
   "source": [
    "t"
   ]
  },
  {
   "cell_type": "code",
   "execution_count": 211,
   "id": "c8cd5818",
   "metadata": {},
   "outputs": [],
   "source": [
    "import dis"
   ]
  },
  {
   "cell_type": "code",
   "execution_count": 214,
   "id": "3391ef12",
   "metadata": {},
   "outputs": [
    {
     "name": "stdout",
     "output_type": "stream",
     "text": [
      "  2           0 LOAD_NAME                0 (t)\n",
      "              2 LOAD_CONST               0 (2)\n",
      "              4 DUP_TOP_TWO\n",
      "              6 BINARY_SUBSCR\n",
      "              8 LOAD_CONST               1 (50)\n",
      "             10 LOAD_CONST               2 (60)\n",
      "             12 BUILD_LIST               2\n",
      "             14 INPLACE_ADD\n",
      "             16 ROT_THREE\n",
      "    -->      18 STORE_SUBSCR\n",
      "             20 LOAD_CONST               3 (None)\n",
      "             22 RETURN_VALUE\n"
     ]
    }
   ],
   "source": [
    "dis.dis()"
   ]
  },
  {
   "cell_type": "code",
   "execution_count": 215,
   "id": "7acbc763",
   "metadata": {},
   "outputs": [
    {
     "name": "stdout",
     "output_type": "stream",
     "text": [
      "  1           0 LOAD_NAME                0 (s)\n",
      "              2 LOAD_NAME                1 (a)\n",
      "              4 DUP_TOP_TWO\n",
      "              6 BINARY_SUBSCR\n",
      "              8 LOAD_NAME                2 (b)\n",
      "             10 INPLACE_ADD\n",
      "             12 ROT_THREE\n",
      "             14 STORE_SUBSCR\n",
      "             16 LOAD_CONST               0 (None)\n",
      "             18 RETURN_VALUE\n"
     ]
    }
   ],
   "source": [
    "dis.dis('s[a] += b')"
   ]
  },
  {
   "cell_type": "markdown",
   "id": "dbb2e517",
   "metadata": {},
   "source": [
    "# 7. list.sort()와 sorted() 내장 함수"
   ]
  },
  {
   "cell_type": "markdown",
   "id": "9af4eb00",
   "metadata": {},
   "source": [
    "list.sort()는 사본을 만들지 않고 리스트 내부를 변경해서 정렬, 반환값으로  None 출력  \n",
    "객체를 직접 변경하는 함수나 메서드는 객체가 변경되었고 새로운 객체가 생성되지 않았음을 호출자에게 알려주기 위해\n",
    "None을 출력하는 것이 Python API의 중요한 관례\n",
    "\n",
    "\n",
    "sorted()는 새로운 리스트를 생성해서 반환 "
   ]
  },
  {
   "cell_type": "markdown",
   "id": "b9dd0b6a",
   "metadata": {},
   "source": [
    "# 8. 정렬된 시퀀스를 bisect로 관리하기\n",
    "\n",
    "### bisect()는 이진 검색 알고리즘을 이용해서 시퀀스를 검색하고, insort()는 정렬된 시퀀스 안에 항목을 삽입."
   ]
  },
  {
   "cell_type": "markdown",
   "id": "b408845d",
   "metadata": {},
   "source": [
    "### 8.1 bisect()로 검색하기"
   ]
  },
  {
   "cell_type": "code",
   "execution_count": 219,
   "id": "4c6590a8",
   "metadata": {},
   "outputs": [
    {
     "name": "stdout",
     "output_type": "stream",
     "text": [
      "DEMO: bisect_right\n",
      "haystack ->  1  4  5  6  8 12 15 20 21 23 23 26 29 30\n",
      "31 @ 14.   |  |  |  |  |  |  |  |  |  |  |  |  |  |31\n",
      "30 @ 14.   |  |  |  |  |  |  |  |  |  |  |  |  |  |30\n",
      "29 @ 13.   |  |  |  |  |  |  |  |  |  |  |  |  |29\n",
      "23 @ 11.   |  |  |  |  |  |  |  |  |  |  |23\n",
      "22 @  9.   |  |  |  |  |  |  |  |  |22\n",
      "10 @  5.   |  |  |  |  |10\n",
      " 8 @  5.   |  |  |  |  |8 \n",
      " 5 @  3.   |  |  |5 \n",
      " 2 @  1.   |2 \n",
      " 1 @  1.   |1 \n",
      " 0 @  0. 0 \n"
     ]
    }
   ],
   "source": [
    "import bisect\n",
    "import sys\n",
    "\n",
    "HAYSTACK = [1,4,5,6,8,12,15,20,21,23,23,26,29,30]\n",
    "NEEDLES = [0,1,2,5,8,10,22,23,29,30,31]\n",
    "\n",
    "ROW_FMT = '{0:2d} @ {1:2d}. {2}{0:<2d}'\n",
    "\n",
    "def demo(bisect_fn):\n",
    "    for needle in reversed(NEEDLES):\n",
    "        position = bisect_fn(HAYSTACK, needle) #삽입할 위치를 찾아내기 위해 선택한 bisect 함수를 사용한다.\n",
    "        offset = position * '  |' #간격(offset)에 비례해서 수직 막대 패턴을 만든다.\n",
    "        print(ROW_FMT.format(needle, position, offset)) #needl과 삽입 위치를 보여주는 포맷된 행을 출력한다.\n",
    "        \n",
    "if __name__ == '__main__':\n",
    "\n",
    "\n",
    "    if sys.argv[-1] == 'left': #마지막 명령행을 인수에 따라 사용할 bisect함수를 선택한다.\n",
    "\n",
    "        bisect_fn = bisect.bisect_left\n",
    "\n",
    "    else:\n",
    "        bisect_fn = bisect.bisect\n",
    "\n",
    "    print('DEMO:', bisect_fn.__name__)#선택된 함수명을 헤더에 출력한다.\n",
    "    print('haystack ->', ' '.join('%2d' % n for n in HAYSTACK))\n",
    "    demo(bisect_fn)"
   ]
  },
  {
   "cell_type": "code",
   "execution_count": 222,
   "id": "f391b6a4",
   "metadata": {},
   "outputs": [
    {
     "data": {
      "text/plain": [
       "['F', 'A', 'C', 'C', 'B', 'A', 'A']"
      ]
     },
     "execution_count": 222,
     "metadata": {},
     "output_type": "execute_result"
    }
   ],
   "source": [
    "\"\"\"\n",
    "이 정렬된 긴 숫자 시퀀스를 검색할 때 index() 대신 더 빠른 bisect()함수를 사용한다.\n",
    "https://docs.python.org/3/library/bisect.html\n",
    "\"\"\"\n",
    "\n",
    "def grade(score, breakpoints=[60,70,80,90], grades ='FDCBA'):\n",
    "    i = bisect.bisect(breakpoints, score)\n",
    "    return grades[i]\n",
    "    \n",
    "[grade(score) for score in [33,99,77,70,89,90,100]]\n"
   ]
  },
  {
   "cell_type": "markdown",
   "id": "5e5482f9",
   "metadata": {},
   "source": [
    "### 8.2 bisect.insort()로 삽입하기"
   ]
  },
  {
   "cell_type": "code",
   "execution_count": 230,
   "id": "43c71906",
   "metadata": {},
   "outputs": [
    {
     "name": "stdout",
     "output_type": "stream",
     "text": [
      " 5 -> [5]\n",
      " 8 -> [5, 8]\n",
      " 3 -> [3, 5, 8]\n",
      " 6 -> [3, 5, 6, 8]\n",
      "13 -> [3, 5, 6, 8, 13]\n",
      " 0 -> [0, 3, 5, 6, 8, 13]\n",
      " 9 -> [0, 3, 5, 6, 8, 9, 13]\n"
     ]
    }
   ],
   "source": [
    "\"\"\"\n",
    "bisect함수와 마찬가지로 insort 함수도 선택적으로 lo와 hi 인수를 받아 시퀀스 안에서 검색할 범위를 제한하고  \n",
    "삽입 위치를 검색하기 위해 bisect_left()함수를 사용하는 insort_left()함수도 있다.\n",
    "\"\"\"\n",
    "import bisect\n",
    "import random\n",
    "\n",
    "SIZE = 7\n",
    "\n",
    "\n",
    "my_list = []\n",
    "for i in range(SIZE):\n",
    "    new_item = random.randrange(SIZE*2)\n",
    "    bisect.insort(my_list,new_item)\n",
    "    print('%2d ->' % new_item, my_list)"
   ]
  },
  {
   "cell_type": "markdown",
   "id": "052e72cf",
   "metadata": {},
   "source": [
    "# 9. 리스트가 답이 아닐 때\n",
    "\n",
    "\n",
    "##### 리스트의 사용성은 좋지만 세부 요구사항에 따라서 더 나은 자료형도 있습니다. 예를 들어, 실수를 수 천만 개 저장할 때 배열이 효율적입니다."
   ]
  },
  {
   "cell_type": "markdown",
   "id": "276675a5",
   "metadata": {},
   "source": [
    "### 9.1 배열\n",
    "##### 리스트 안에 숫자만 들어 있다면 배열이 리스트보다 훨씬 더 효율적이고, 배열은 pop(), insert(), extend() 등을 포함해서 가변 시퀀스가 제공하는 모든 연산을 지원하고 빠르게 파일에 저장하고 읽어올 수 있는 frombytes()와 tofile()메서드로 추가 제공한다."
   ]
  },
  {
   "cell_type": "code",
   "execution_count": 6,
   "id": "61bf7d22",
   "metadata": {},
   "outputs": [
    {
     "data": {
      "text/plain": [
       "0.001438543190726227"
      ]
     },
     "execution_count": 6,
     "metadata": {},
     "output_type": "execute_result"
    }
   ],
   "source": [
    "#커다란 실수 배열의 생성, 저장, 로딩\n",
    "\n",
    "from array import array\n",
    "from random import random\n",
    "floats = array('d', (random() for i in range(10**5))) #제너레이터 표현식\n",
    "floats[-1]\n",
    "\n",
    "\n",
    "\n"
   ]
  },
  {
   "cell_type": "code",
   "execution_count": 7,
   "id": "9fa5248d",
   "metadata": {},
   "outputs": [
    {
     "data": {
      "text/plain": [
       "0.001438543190726227"
      ]
     },
     "execution_count": 7,
     "metadata": {},
     "output_type": "execute_result"
    }
   ],
   "source": [
    "fp = open('floats.bin', 'wb')\n",
    "floats.tofile(fp)\n",
    "fp.close()\n",
    "\n",
    "floats2 = array('d')\n",
    "fp = open('floats.bin', 'rb')\n",
    "floats2.fromfile(fp,10**5)\n",
    "fp.close()3\n",
    "\n",
    "floats2[-1]"
   ]
  },
  {
   "cell_type": "code",
   "execution_count": 8,
   "id": "5c12b3ea",
   "metadata": {},
   "outputs": [
    {
     "data": {
      "text/plain": [
       "True"
      ]
     },
     "execution_count": 8,
     "metadata": {},
     "output_type": "execute_result"
    }
   ],
   "source": [
    "floats2 ==floats"
   ]
  },
  {
   "cell_type": "markdown",
   "id": "3e811118",
   "metadata": {},
   "source": [
    "### 9.2 메모리 뷰 "
   ]
  },
  {
   "cell_type": "markdown",
   "id": "ee703b7c",
   "metadata": {},
   "source": [
    " - 바이트 배열을 공유하는 경우: memoryview 객체를 사용하면 동일한 바이트 배열의 복사본을 만들 필요 없이 바이트 데이터를 공유할 수 있다  \n",
    " \n",
    " - 바이트 데이터를 효율적으로 처리하는 경우: memoryview객체는 파이썬의 내장 메모리 관리 기술을 이용해 바이트 데이터를 효율적으로 처리할 수 있다. 메모리 뷰를 사용하면 데이터를 복사할 필요 없이, 데이터에 직접 접근할 수 있어 처리 속도가 향상된다.\n",
    " - 바이트 데이터에 대한 작업을 수행하는 경우: memoryview 객체를 사용하면 바이트 데이터에 대한 여러 종류의 작업을 수행할 수 있다. 예를 들어, 바이트 데이터의 특정 부분을 슬라이싱하거나, 바이트 데이터의 특정 위치에서 특정 타입의 값을 읽을 수 있다."
   ]
  },
  {
   "cell_type": "markdown",
   "id": "b00ae0f5",
   "metadata": {},
   "source": [
    "#### 16비트 정수 배열에서 바이트 하나를 변경하는 방법"
   ]
  },
  {
   "cell_type": "code",
   "execution_count": 15,
   "id": "efb25a94",
   "metadata": {},
   "outputs": [
    {
     "data": {
      "text/plain": [
       "array('h', [-2, -1, 0, 1, 2])"
      ]
     },
     "execution_count": 15,
     "metadata": {},
     "output_type": "execute_result"
    }
   ],
   "source": [
    "import array\n",
    "numbers = array.array('h', [-2,-1,0,1,2])\n",
    "numbers"
   ]
  },
  {
   "cell_type": "code",
   "execution_count": 18,
   "id": "534cc63a",
   "metadata": {},
   "outputs": [
    {
     "data": {
      "text/plain": [
       "5"
      ]
     },
     "execution_count": 18,
     "metadata": {},
     "output_type": "execute_result"
    }
   ],
   "source": [
    "memv = memoryview(numbers)\n",
    "len(memv)"
   ]
  },
  {
   "cell_type": "code",
   "execution_count": 19,
   "id": "28e881c0",
   "metadata": {},
   "outputs": [
    {
     "data": {
      "text/plain": [
       "-2"
      ]
     },
     "execution_count": 19,
     "metadata": {},
     "output_type": "execute_result"
    }
   ],
   "source": [
    "memv[0]"
   ]
  },
  {
   "cell_type": "code",
   "execution_count": 23,
   "id": "ff7ebd04",
   "metadata": {},
   "outputs": [
    {
     "data": {
      "text/plain": [
       "[254, 255, 255, 255, 0, 0, 1, 0, 2, 0]"
      ]
     },
     "execution_count": 23,
     "metadata": {},
     "output_type": "execute_result"
    }
   ],
   "source": [
    "memv_oct = memv.cast('B')\n",
    "memv_oct.tolist()"
   ]
  },
  {
   "cell_type": "code",
   "execution_count": 42,
   "id": "deed7932",
   "metadata": {},
   "outputs": [
    {
     "data": {
      "text/plain": [
       "array('h', [-2, -1, 1024, 1, 2])"
      ]
     },
     "execution_count": 42,
     "metadata": {},
     "output_type": "execute_result"
    }
   ],
   "source": [
    "memv_oct[5] = 4\n",
    "numbers"
   ]
  },
  {
   "cell_type": "markdown",
   "id": "e2639238",
   "metadata": {},
   "source": [
    "### 9.3 Numpy와 SciPy"
   ]
  },
  {
   "cell_type": "code",
   "execution_count": 43,
   "id": "14f878d8",
   "metadata": {},
   "outputs": [
    {
     "data": {
      "text/plain": [
       "array([ 0,  1,  2,  3,  4,  5,  6,  7,  8,  9, 10, 11])"
      ]
     },
     "execution_count": 43,
     "metadata": {},
     "output_type": "execute_result"
    }
   ],
   "source": [
    "import numpy as np\n",
    "a = np.arange(12)\n",
    "a"
   ]
  },
  {
   "cell_type": "code",
   "execution_count": 44,
   "id": "1e94eb66",
   "metadata": {},
   "outputs": [
    {
     "data": {
      "text/plain": [
       "numpy.ndarray"
      ]
     },
     "execution_count": 44,
     "metadata": {},
     "output_type": "execute_result"
    }
   ],
   "source": [
    "type(a)"
   ]
  },
  {
   "cell_type": "code",
   "execution_count": 46,
   "id": "37f3e3ba",
   "metadata": {},
   "outputs": [
    {
     "data": {
      "text/plain": [
       "(12,)"
      ]
     },
     "execution_count": 46,
     "metadata": {},
     "output_type": "execute_result"
    }
   ],
   "source": [
    "a.shape"
   ]
  },
  {
   "cell_type": "code",
   "execution_count": 48,
   "id": "5c3378e5",
   "metadata": {},
   "outputs": [
    {
     "data": {
      "text/plain": [
       "array([[ 0,  1,  2,  3],\n",
       "       [ 4,  5,  6,  7],\n",
       "       [ 8,  9, 10, 11]])"
      ]
     },
     "execution_count": 48,
     "metadata": {},
     "output_type": "execute_result"
    }
   ],
   "source": [
    "a.shape = 3,4\n",
    "a"
   ]
  },
  {
   "cell_type": "code",
   "execution_count": 49,
   "id": "9abb2740",
   "metadata": {},
   "outputs": [
    {
     "data": {
      "text/plain": [
       "array([ 8,  9, 10, 11])"
      ]
     },
     "execution_count": 49,
     "metadata": {},
     "output_type": "execute_result"
    }
   ],
   "source": [
    "a[2]"
   ]
  },
  {
   "cell_type": "code",
   "execution_count": 50,
   "id": "fc6e8964",
   "metadata": {},
   "outputs": [
    {
     "data": {
      "text/plain": [
       "9"
      ]
     },
     "execution_count": 50,
     "metadata": {},
     "output_type": "execute_result"
    }
   ],
   "source": [
    "a[2,1]"
   ]
  },
  {
   "cell_type": "code",
   "execution_count": 51,
   "id": "e62e0a66",
   "metadata": {},
   "outputs": [
    {
     "data": {
      "text/plain": [
       "array([1, 5, 9])"
      ]
     },
     "execution_count": 51,
     "metadata": {},
     "output_type": "execute_result"
    }
   ],
   "source": [
    "a[:,1]"
   ]
  },
  {
   "cell_type": "code",
   "execution_count": 52,
   "id": "8dbfc8f8",
   "metadata": {},
   "outputs": [
    {
     "data": {
      "text/plain": [
       "array([[ 0,  4,  8],\n",
       "       [ 1,  5,  9],\n",
       "       [ 2,  6, 10],\n",
       "       [ 3,  7, 11]])"
      ]
     },
     "execution_count": 52,
     "metadata": {},
     "output_type": "execute_result"
    }
   ],
   "source": [
    "a.transpose()"
   ]
  },
  {
   "cell_type": "markdown",
   "id": "6339f66f",
   "metadata": {},
   "source": [
    "### 9.4 덱 및 기타 큐"
   ]
  },
  {
   "cell_type": "code",
   "execution_count": 69,
   "id": "9b6f47ee",
   "metadata": {},
   "outputs": [
    {
     "data": {
      "text/plain": [
       "deque([0, 1, 2, 3, 4, 5, 6, 7, 8, 9], maxlen=10)"
      ]
     },
     "execution_count": 69,
     "metadata": {},
     "output_type": "execute_result"
    }
   ],
   "source": [
    "from collections import deque\n",
    "dq = deque(range(10), maxlen=10)\n",
    "dq"
   ]
  },
  {
   "cell_type": "code",
   "execution_count": 70,
   "id": "19f1a898",
   "metadata": {},
   "outputs": [
    {
     "data": {
      "text/plain": [
       "deque([7, 8, 9, 0, 1, 2, 3, 4, 5, 6], maxlen=10)"
      ]
     },
     "execution_count": 70,
     "metadata": {},
     "output_type": "execute_result"
    }
   ],
   "source": [
    "dq.rotate(3)\n",
    "dq"
   ]
  },
  {
   "cell_type": "code",
   "execution_count": 71,
   "id": "224801b1",
   "metadata": {},
   "outputs": [
    {
     "data": {
      "text/plain": [
       "deque([1, 2, 3, 4, 5, 6, 7, 8, 9, 0], maxlen=10)"
      ]
     },
     "execution_count": 71,
     "metadata": {},
     "output_type": "execute_result"
    }
   ],
   "source": [
    "dq.rotate(-4)\n",
    "dq\n"
   ]
  },
  {
   "cell_type": "code",
   "execution_count": 72,
   "id": "3b160cff",
   "metadata": {},
   "outputs": [
    {
     "data": {
      "text/plain": [
       "deque([-1, 1, 2, 3, 4, 5, 6, 7, 8, 9], maxlen=10)"
      ]
     },
     "execution_count": 72,
     "metadata": {},
     "output_type": "execute_result"
    }
   ],
   "source": [
    "dq.appendleft(-1)\n",
    "dq"
   ]
  },
  {
   "cell_type": "code",
   "execution_count": 73,
   "id": "b5f5ed37",
   "metadata": {},
   "outputs": [
    {
     "data": {
      "text/plain": [
       "deque([3, 4, 5, 6, 7, 8, 9, 11, 22, 33], maxlen=10)"
      ]
     },
     "execution_count": 73,
     "metadata": {},
     "output_type": "execute_result"
    }
   ],
   "source": [
    "dq.extend([11,22,33])\n",
    "dq"
   ]
  },
  {
   "cell_type": "code",
   "execution_count": 74,
   "id": "b4772990",
   "metadata": {},
   "outputs": [
    {
     "data": {
      "text/plain": [
       "deque([40, 30, 20, 10, 3, 4, 5, 6, 7, 8], maxlen=10)"
      ]
     },
     "execution_count": 74,
     "metadata": {},
     "output_type": "execute_result"
    }
   ],
   "source": [
    "dq.extendleft([10,20,30,40])\n",
    "dq"
   ]
  },
  {
   "cell_type": "code",
   "execution_count": null,
   "id": "78cb1890",
   "metadata": {},
   "outputs": [],
   "source": []
  }
 ],
 "metadata": {
  "kernelspec": {
   "display_name": "Python 3 (ipykernel)",
   "language": "python",
   "name": "python3"
  },
  "language_info": {
   "codemirror_mode": {
    "name": "ipython",
    "version": 3
   },
   "file_extension": ".py",
   "mimetype": "text/x-python",
   "name": "python",
   "nbconvert_exporter": "python",
   "pygments_lexer": "ipython3",
   "version": "3.10.9"
  }
 },
 "nbformat": 4,
 "nbformat_minor": 5
}
