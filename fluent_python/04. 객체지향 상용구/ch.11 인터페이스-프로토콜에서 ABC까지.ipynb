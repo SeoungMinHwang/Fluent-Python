{
 "cells": [
  {
   "cell_type": "markdown",
   "id": "6edfd16d",
   "metadata": {},
   "source": [
    "오래전 부터 사용해오던 조금은 느슨한 프로토콜(덕 타이핑)과 비교적 근래에 도입된 ABC(Abstract Base Class)를 순서대로 다루면서 각자의 장점과 왜 ABC가 도입됐는지 그리고 어떻게 활용해야 하는지에 대해서 소개"
   ]
  },
  {
   "cell_type": "markdown",
   "id": "68f35bda",
   "metadata": {},
   "source": [
    "# 1. 파이썬 문화에서의 인터페이스와 프로토콜"
   ]
  },
  {
   "cell_type": "markdown",
   "id": "a916c959",
   "metadata": {},
   "source": [
    "- 인터페이스 : 시스템에서 어떤 역할을 할 수 있게 해주는 객체의 공개 메서드의 일부\n",
    "- 프로토콜 : 어떤 역할을 완수하기 위한 메서드 집합으로서의 인터페이스"
   ]
  },
  {
   "cell_type": "markdown",
   "id": "cc45048a",
   "metadata": {},
   "source": [
    "# 2. 파이썬은 시퀀스를 찾아낸다"
   ]
  },
  {
   "cell_type": "code",
   "execution_count": 1,
   "id": "6626a379",
   "metadata": {},
   "outputs": [],
   "source": [
    "# __getitem__()으로 부분 구현한 시퀀스 프로토콜. 항목에 접근할 수 있고 반복할 수 있으며, in 연산자에서 사용할 수 있다.\n",
    "class Foo:\n",
    "    def __getitem__(self, pos):\n",
    "        return range(0,30,10)[pos]"
   ]
  },
  {
   "cell_type": "code",
   "execution_count": 4,
   "id": "103266a8",
   "metadata": {},
   "outputs": [
    {
     "data": {
      "text/plain": [
       "10"
      ]
     },
     "execution_count": 4,
     "metadata": {},
     "output_type": "execute_result"
    }
   ],
   "source": [
    "f = Foo()\n",
    "f[1]"
   ]
  },
  {
   "cell_type": "code",
   "execution_count": 6,
   "id": "90b043de",
   "metadata": {},
   "outputs": [
    {
     "data": {
      "text/plain": [
       "[0, 10, 20]"
      ]
     },
     "execution_count": 6,
     "metadata": {},
     "output_type": "execute_result"
    }
   ],
   "source": [
    "[i for i in f]"
   ]
  },
  {
   "cell_type": "code",
   "execution_count": 7,
   "id": "8c75a4e8",
   "metadata": {},
   "outputs": [
    {
     "data": {
      "text/plain": [
       "True"
      ]
     },
     "execution_count": 7,
     "metadata": {},
     "output_type": "execute_result"
    }
   ],
   "source": [
    "20 in f"
   ]
  },
  {
   "cell_type": "code",
   "execution_count": 8,
   "id": "48e64d4b",
   "metadata": {},
   "outputs": [
    {
     "data": {
      "text/plain": [
       "False"
      ]
     },
     "execution_count": 8,
     "metadata": {},
     "output_type": "execute_result"
    }
   ],
   "source": [
    "15 in f"
   ]
  },
  {
   "cell_type": "markdown",
   "id": "bacca8b4",
   "metadata": {},
   "source": [
    "__iter __() 메서드가 없지만 대체 수단인 __getitem __() 메서드가 구현되어 있으므로 반복, in 연산자 등이 작동한다.\n",
    "\n",
    "1장에서 구현한 FrenchDeck 클래스도 abc.Sequence를 상속하지 않지만, 시퀀스 프로토콜의 __getitem __()과 __len __() 메서드를 구현한다."
   ]
  },
  {
   "cell_type": "code",
   "execution_count": 9,
   "id": "2b336065",
   "metadata": {},
   "outputs": [],
   "source": [
    "import collections\n",
    "\n",
    "Card = collections.namedtuple('Card', ['rank','suit'])\n",
    "\n",
    "class FrenchDeck:\n",
    "    ranks = [str(n) for n in range(2,11)] + list('JQKA')\n",
    "    suits = 'spades diamonds clubs hearts'.split()\n",
    "    \n",
    "    def __init__(self):\n",
    "        self._cards = [Card(rank, suit) for suit in self.suits\n",
    "                      for rank in self.ranks]\n",
    "\n",
    "    def __len__(self):\n",
    "        return len(self._cards)\n",
    "\n",
    "    def __getitem__(self, pos):\n",
    "        return self._cards[pos]"
   ]
  },
  {
   "cell_type": "markdown",
   "id": "62c15a82",
   "metadata": {},
   "source": [
    "# 3 런타임에 프로토콜을 구현하는 멍키 패칭"
   ]
  },
  {
   "cell_type": "code",
   "execution_count": 12,
   "id": "38af9567",
   "metadata": {},
   "outputs": [
    {
     "ename": "TypeError",
     "evalue": "'FrenchDeck' object does not support item assignment",
     "output_type": "error",
     "traceback": [
      "\u001b[1;31m---------------------------------------------------------------------------\u001b[0m",
      "\u001b[1;31mTypeError\u001b[0m                                 Traceback (most recent call last)",
      "Cell \u001b[1;32mIn[12], line 8\u001b[0m\n\u001b[0;32m      5\u001b[0m \u001b[38;5;28;01mfrom\u001b[39;00m \u001b[38;5;21;01mrandom\u001b[39;00m \u001b[38;5;28;01mimport\u001b[39;00m shuffle\n\u001b[0;32m      7\u001b[0m deck \u001b[38;5;241m=\u001b[39m FrenchDeck()\n\u001b[1;32m----> 8\u001b[0m \u001b[43mshuffle\u001b[49m\u001b[43m(\u001b[49m\u001b[43mdeck\u001b[49m\u001b[43m)\u001b[49m\n",
      "File \u001b[1;32m~\\anaconda3\\lib\\random.py:394\u001b[0m, in \u001b[0;36mRandom.shuffle\u001b[1;34m(self, x, random)\u001b[0m\n\u001b[0;32m    391\u001b[0m     \u001b[38;5;28;01mfor\u001b[39;00m i \u001b[38;5;129;01min\u001b[39;00m \u001b[38;5;28mreversed\u001b[39m(\u001b[38;5;28mrange\u001b[39m(\u001b[38;5;241m1\u001b[39m, \u001b[38;5;28mlen\u001b[39m(x))):\n\u001b[0;32m    392\u001b[0m         \u001b[38;5;66;03m# pick an element in x[:i+1] with which to exchange x[i]\u001b[39;00m\n\u001b[0;32m    393\u001b[0m         j \u001b[38;5;241m=\u001b[39m randbelow(i \u001b[38;5;241m+\u001b[39m \u001b[38;5;241m1\u001b[39m)\n\u001b[1;32m--> 394\u001b[0m         x[i], x[j] \u001b[38;5;241m=\u001b[39m x[j], x[i]\n\u001b[0;32m    395\u001b[0m \u001b[38;5;28;01melse\u001b[39;00m:\n\u001b[0;32m    396\u001b[0m     _warn(\u001b[38;5;124m'\u001b[39m\u001b[38;5;124mThe *random* parameter to shuffle() has been deprecated\u001b[39m\u001b[38;5;130;01m\\n\u001b[39;00m\u001b[38;5;124m'\u001b[39m\n\u001b[0;32m    397\u001b[0m           \u001b[38;5;124m'\u001b[39m\u001b[38;5;124msince Python 3.9 and will be removed in a subsequent \u001b[39m\u001b[38;5;124m'\u001b[39m\n\u001b[0;32m    398\u001b[0m           \u001b[38;5;124m'\u001b[39m\u001b[38;5;124mversion.\u001b[39m\u001b[38;5;124m'\u001b[39m,\n\u001b[0;32m    399\u001b[0m           \u001b[38;5;167;01mDeprecationWarning\u001b[39;00m, \u001b[38;5;241m2\u001b[39m)\n",
      "\u001b[1;31mTypeError\u001b[0m: 'FrenchDeck' object does not support item assignment"
     ]
    }
   ],
   "source": [
    "#FrenchDeck 클래스에 shuffle() 메서드를 구현할 필요가 없는 것은 random.shuffle() 함수가 \n",
    "#시퀀스 객체 안의 항목들을 섞어주기 때문이다. 그러나 다음과 같이 입력하면 예외가 발생하는데, 이는 FrenchDeck \n",
    "#객체가 할당을 지원하지 않기 때문이다.\n",
    "\n",
    "from random import shuffle\n",
    "\n",
    "deck = FrenchDeck()\n",
    "shuffle(deck)"
   ]
  },
  {
   "cell_type": "code",
   "execution_count": 14,
   "id": "4dd19d1d",
   "metadata": {},
   "outputs": [],
   "source": [
    "def set_card(deck, pos, card):\n",
    "    deck._cards[pos] = card\n",
    "\n",
    "FrenchDeck.__setitem__ = set_card"
   ]
  },
  {
   "cell_type": "code",
   "execution_count": 36,
   "id": "1548a6bd",
   "metadata": {},
   "outputs": [
    {
     "data": {
      "text/plain": [
       "[Card(rank='K', suit='clubs'),\n",
       " Card(rank='A', suit='spades'),\n",
       " Card(rank='8', suit='spades'),\n",
       " Card(rank='9', suit='spades'),\n",
       " Card(rank='9', suit='clubs')]"
      ]
     },
     "execution_count": 36,
     "metadata": {},
     "output_type": "execute_result"
    }
   ],
   "source": [
    "# 멍키 패칭 : 소스 코드를 건드리지 않고 런타임에 클래스나 모듈을 변경하는 행위\n",
    "shuffle(deck)\n",
    "deck[:5]"
   ]
  },
  {
   "cell_type": "markdown",
   "id": "ae65bf91",
   "metadata": {},
   "source": [
    "# 4. 알렉스 마르텔리의 물새\n",
    "\n",
    "ABC는 '시퀀스'나 '정확한 숫자' 같은 일종의 프레임워크가 소개하는 상당히 광범위한 개념이나 추상성을 담기 위한 것이다. 이 책을 읽는 독자라면 ABC를 새로 만들 필요가 전혀 없을 것이다. 단지 기존 ABC를 제대로 사용하는 것만으로도 잘못된 설계 위험 없이 99.9%의 혜택을 볼 것이다."
   ]
  },
  {
   "cell_type": "markdown",
   "id": "d055081f",
   "metadata": {},
   "source": [
    "# 5 ABC 상속하기"
   ]
  },
  {
   "cell_type": "code",
   "execution_count": 39,
   "id": "87433c40",
   "metadata": {},
   "outputs": [],
   "source": [
    "# FrenchDeck2를 collections.MutableSequence의 서브클래스로 선언\n",
    "\n",
    "import collections\n",
    "\n",
    "Card = collections.namedtuple('Card', ['rank','suit'])\n",
    "\n",
    "class FrenchDeck2(collections.abc.MutableSequence):\n",
    "    ranks = [str(n) for n in range(2,11)] + list('JQKA')\n",
    "    suits = 'spades diamonds clubs hearts'.split()\n",
    "    \n",
    "    def __init__(self):\n",
    "        self._cards = [Card(rank, suit) for suit in self.suits\n",
    "                      for rank in self.ranks]\n",
    "\n",
    "    def __len__(self):\n",
    "        return len(self._cards)\n",
    "\n",
    "    def __getitem__(self, position):\n",
    "        return self._cards[position]\n",
    "    \n",
    "    def __setitem__(self, position, value):\n",
    "        self._cards[position] = value\n",
    "        \n",
    "    # MutableSequence를 상속하므로 이 클래스의 추상 메서드인 \n",
    "    # __delitem__() 도 구현해야함\n",
    "    def __delitem__(self, position):\n",
    "        del self._cards[position]\n",
    "        \n",
    "    # insert() 또한 추상 메서드\n",
    "#     def insert(self, position, value):\n",
    "#         self._cards.insert(position, value)"
   ]
  },
  {
   "cell_type": "code",
   "execution_count": 38,
   "id": "8e3a3f19",
   "metadata": {},
   "outputs": [
    {
     "ename": "TypeError",
     "evalue": "Can't instantiate abstract class FrenchDeck2 with abstract method insert",
     "output_type": "error",
     "traceback": [
      "\u001b[1;31m---------------------------------------------------------------------------\u001b[0m",
      "\u001b[1;31mTypeError\u001b[0m                                 Traceback (most recent call last)",
      "Cell \u001b[1;32mIn[38], line 1\u001b[0m\n\u001b[1;32m----> 1\u001b[0m frenchdeck2 \u001b[38;5;241m=\u001b[39m \u001b[43mFrenchDeck2\u001b[49m\u001b[43m(\u001b[49m\u001b[43m)\u001b[49m\n",
      "\u001b[1;31mTypeError\u001b[0m: Can't instantiate abstract class FrenchDeck2 with abstract method insert"
     ]
    }
   ],
   "source": [
    "frenchdeck2 = FrenchDeck2()"
   ]
  },
  {
   "cell_type": "markdown",
   "id": "e20f24b3",
   "metadata": {},
   "source": [
    "TypeError : __delitem __(), __insert __()를 가진 추상 클래스 FrenchDeck2의 객체를 생성할 수 없습니다.\n",
    "\n",
    "사용하지도 않는 __delitem __(), __insert __()메서드를 구현해야한다.  \n",
    "MutableSequence ABC가 요구하는 사항이기 때문이다."
   ]
  },
  {
   "cell_type": "markdown",
   "id": "cff51619",
   "metadata": {},
   "source": [
    "# 6. 표준 라이브러리 ABC  \n",
    "\n",
    "대부분의 ABC는 collections.abc 모듈에 정의되어 있다. 어떤 ABC들이 있는지 살펴보자."
   ]
  },
  {
   "cell_type": "markdown",
   "id": "798f34be",
   "metadata": {},
   "source": [
    "<img src=\"https://camo.githubusercontent.com/f4801bf49fe492d95e350932577c13f14ac8f8df036720082f970689cb8377aa/68747470733a2f2f757365722d696d616765732e67697468756275736572636f6e74656e742e636f6d2f33333839313136342f33393336333932382d65396261343532302d343965302d313165382d396363352d3237333133346531366466342e706e67\">\n"
   ]
  },
  {
   "cell_type": "markdown",
   "id": "a32b211a",
   "metadata": {},
   "source": [
    "### 6.2 ABC의 숫자탑 "
   ]
  },
  {
   "cell_type": "markdown",
   "id": "02f3dbc1",
   "metadata": {},
   "source": [
    "numbers 패키지는 다음과 같이 계층 구조로 이루어져 있다. Number가 최상위 슈퍼클래스이며, Integral까지 내려간다.\n",
    "\n",
    "- Number\n",
    "- Complex \n",
    "- Real\n",
    "- Rational\n",
    " - Integral"
   ]
  },
  {
   "cell_type": "code",
   "execution_count": 47,
   "id": "f8637972",
   "metadata": {},
   "outputs": [
    {
     "data": {
      "text/plain": [
       "(15, True)"
      ]
     },
     "execution_count": 47,
     "metadata": {},
     "output_type": "execute_result"
    }
   ],
   "source": [
    "#정수형인지 검사해야 하는 경우 isinstance(x, numbers.Integral)을 이용하면 된다.\n",
    "\n",
    "import numbers\n",
    "\n",
    "a = 5\n",
    "b = 3\n",
    "a*b, isinstance(a, numbers.Integral)"
   ]
  },
  {
   "cell_type": "markdown",
   "id": "7dee5df5",
   "metadata": {},
   "source": [
    "# 7.ABC의 정의와 사용\n",
    "  \n",
    "  다음 상황 가정  \n",
    "  \n",
    "      웹사이트나 모바일 앰에서 광고를 무작위 순으로 보여주어야 하지만, 광고 목록에 들어 있는 광고를 모두 보여주기 전까지는 같은 광고를 반복하면 안된다."
   ]
  },
  {
   "cell_type": "code",
   "execution_count": 48,
   "id": "84e545f3",
   "metadata": {},
   "outputs": [],
   "source": [
    "# 추상 메서드 두 개와 구상 메서드 두개를 가진 Tombola ABC\n",
    "\n",
    "import abc\n",
    "\n",
    "class Tombola(abc.ABC): # ABC 정의하기 위해 상속\n",
    "    \n",
    "    @abc.abstractmethod\n",
    "    def load(self, iterable):\n",
    "        \"\"\"iterable의 항목들을 추가한다.\"\"\"\n",
    "        \n",
    "    @abc.abstractmethod\n",
    "    def pick(self):\n",
    "        \"\"\"무작위로 항목을 하나 제거하고 반환한다.\n",
    "        객체가 비어 있을 때 이 메서드를 실행하면 'LookupError'가 발생한다.\n",
    "        \"\"\"\n",
    "        \n",
    "    def loaded(self): # ABC 에도 구상 메서드가 들어갈 수 있다\n",
    "        \"\"\"최소 한 개의 항목이 있으면 True, 아님 False 반환\"\"\"\n",
    "        # ABC의 구상 메서드는 반드시 ABC에 정의된 인터페이스, 즉\n",
    "        # ABC의 다른 구상 메서드나 추상 메서드, 혹은 프로퍼티만 사용해야 한다.\n",
    "        return bool(self.inspect())\n",
    "    \n",
    "    def inspect(self):\n",
    "        \"\"\"현재 안에 있는 항목들로 구성된 정렬된 튜플 반환\"\"\"\n",
    "        items = []\n",
    "        while True:\n",
    "            try:\n",
    "                # pick() 을 계속 호출해서 Tombola 객체를 비움\n",
    "                items.append(self.pick())\n",
    "            except LookupError:\n",
    "                break\n",
    "        self.load(items) # load 메서드를 호출해서 다시 넣는다\n",
    "        return tuple(sorted(items))"
   ]
  },
  {
   "cell_type": "markdown",
   "id": "2e66c32c",
   "metadata": {},
   "source": [
    "load() : 항목을 컨테이너 안에 넣는다.\n",
    "\n",
    "pick() : 컨테이너 안에서 무작위로 항목 하나를 꺼내서 반환한다.\n",
    "\n",
    "loaded() : 컨테이너 안에 항목이 하나 이상 들어 있으면 True 반환한다.\n",
    "\n",
    "inspect() : 내용물을 변경하지 ㅇ낳고 현재 컨테이너 안에 들어있는 항목을 튜플로 만들어 반환한다."
   ]
  },
  {
   "cell_type": "markdown",
   "id": "57af28b3",
   "metadata": {},
   "source": [
    "inspect() 메서드는 멍청해보이지만, 이 코드의 핵심은 ABC 안에서 인터페이스에 정의된 다른 메서드만 이용하는 한 ABC에 구상 메서드를 제공하는 것도 가능하다는 점을 보여주는 것이다. 물론 상속하면서 오버라이드 해도 된다.\n",
    "\n",
    "loaded() 연산자는 상당히 값비싼 연산을 수행하므로 구상 서브클래스에서 더 잘 구현하는 것이 좋다.\n",
    "\n",
    "LookupError를 선택한 이유는 Tombola의 서브클래스의 데이터 구조체에서 발생할 가능성이 높은 IndexError와 KeyError 에러의 상위 클래스이기 때문이다.\n",
    "\n",
    "IndexError : 시퀀스에서 마지막 이후 인덱스를 호출 시 발생\n",
    "KeyError : 매핑에 존재하지 않는 키로 호출 시 발생\n",
    "실제로 ABC가 인터페이스 검사를 제대로 수행하는지 확인해보자."
   ]
  },
  {
   "cell_type": "code",
   "execution_count": 50,
   "id": "707093ed",
   "metadata": {},
   "outputs": [],
   "source": [
    "class Fake(Tombola):\n",
    "    def pick(self):\n",
    "        return 13"
   ]
  },
  {
   "cell_type": "code",
   "execution_count": 54,
   "id": "1f12b1bf",
   "metadata": {},
   "outputs": [
    {
     "data": {
      "text/plain": [
       "__main__.Fake"
      ]
     },
     "execution_count": 54,
     "metadata": {},
     "output_type": "execute_result"
    }
   ],
   "source": [
    "Fake"
   ]
  },
  {
   "cell_type": "code",
   "execution_count": 56,
   "id": "5ea6dbec",
   "metadata": {
    "scrolled": true
   },
   "outputs": [
    {
     "ename": "TypeError",
     "evalue": "Can't instantiate abstract class Fake with abstract method load",
     "output_type": "error",
     "traceback": [
      "\u001b[1;31m---------------------------------------------------------------------------\u001b[0m",
      "\u001b[1;31mTypeError\u001b[0m                                 Traceback (most recent call last)",
      "Cell \u001b[1;32mIn[56], line 2\u001b[0m\n\u001b[0;32m      1\u001b[0m \u001b[38;5;66;03m#load()를 구현하지 않았으므로 객체 생성 시 TypeError 발생 ()\u001b[39;00m\n\u001b[1;32m----> 2\u001b[0m f \u001b[38;5;241m=\u001b[39m \u001b[43mFake\u001b[49m\u001b[43m(\u001b[49m\u001b[43m)\u001b[49m\n",
      "\u001b[1;31mTypeError\u001b[0m: Can't instantiate abstract class Fake with abstract method load"
     ]
    }
   ],
   "source": [
    "#load()를 구현하지 않았으므로 객체 생성 시 TypeError 발생 ()\n",
    "f = Fake()"
   ]
  },
  {
   "cell_type": "code",
   "execution_count": null,
   "id": "65658320",
   "metadata": {},
   "outputs": [],
   "source": []
  }
 ],
 "metadata": {
  "kernelspec": {
   "display_name": "Python 3 (ipykernel)",
   "language": "python",
   "name": "python3"
  },
  "language_info": {
   "codemirror_mode": {
    "name": "ipython",
    "version": 3
   },
   "file_extension": ".py",
   "mimetype": "text/x-python",
   "name": "python",
   "nbconvert_exporter": "python",
   "pygments_lexer": "ipython3",
   "version": "3.10.9"
  }
 },
 "nbformat": 4,
 "nbformat_minor": 5
}
