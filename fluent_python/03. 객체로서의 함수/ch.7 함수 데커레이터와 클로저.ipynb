{
 "cells": [
  {
   "cell_type": "markdown",
   "id": "14973900",
   "metadata": {},
   "source": [
    "# 데커레이터의 기본 지식"
   ]
  },
  {
   "cell_type": "markdown",
   "id": "f4ad8aba",
   "metadata": {},
   "source": [
    "데커레이터는 다른 함수를 인수로 받는 콜러블이다. 데커레이터는 데커레이트된 함수에 어떤 처리를 수행하고, 함수를 반환하거나 함수를 다른 함수나 콜러블 객체로 대체한다."
   ]
  },
  {
   "cell_type": "code",
   "execution_count": 2,
   "id": "423d3a71",
   "metadata": {
    "collapsed": true
   },
   "outputs": [
    {
     "ename": "NameError",
     "evalue": "name 'decorate' is not defined",
     "output_type": "error",
     "traceback": [
      "\u001b[1;31m---------------------------------------------------------------------------\u001b[0m",
      "\u001b[1;31mNameError\u001b[0m                                 Traceback (most recent call last)",
      "Cell \u001b[1;32mIn[2], line 1\u001b[0m\n\u001b[1;32m----> 1\u001b[0m \u001b[38;5;129m@decorate\u001b[39m\n\u001b[0;32m      2\u001b[0m \u001b[38;5;28;01mdef\u001b[39;00m \u001b[38;5;21mtarget\u001b[39m():\n\u001b[0;32m      3\u001b[0m     \u001b[38;5;28mprint\u001b[39m(\u001b[38;5;124m'\u001b[39m\u001b[38;5;124mrunning target()\u001b[39m\u001b[38;5;124m'\u001b[39m)\n",
      "\u001b[1;31mNameError\u001b[0m: name 'decorate' is not defined"
     ]
    }
   ],
   "source": [
    "@decorate\n",
    "def target():\n",
    "    print('running target()')\n",
    "    \n",
    "    \n",
    "    \n",
    "'----------------------------------'\n",
    "def target():\n",
    "    print('running target()')\n",
    "\n",
    "target(decorate(target))"
   ]
  },
  {
   "cell_type": "markdown",
   "id": "0f3c5460",
   "metadata": {},
   "source": [
    "두 코드의 결과는 동일하다. target 은 원래의 target() 함수를 가리키는 것이 아니며, decorate(target)이 반환한 함수를 가리킨다."
   ]
  },
  {
   "cell_type": "code",
   "execution_count": 1,
   "id": "97b69a57",
   "metadata": {},
   "outputs": [
    {
     "name": "stdout",
     "output_type": "stream",
     "text": [
      "running inner()\n",
      "<function deco.<locals>.inner at 0x000002AE1528EB00>\n"
     ]
    }
   ],
   "source": [
    "# 일반적으로 데커레이터는 함수를 다른 함수로 대체한다.\n",
    "\n",
    "def deco(func):\n",
    "    def inner():\n",
    "        print(\"running inner()\")\n",
    "    return inner\n",
    "\n",
    "\n",
    "@deco\n",
    "def target():\n",
    "    print(\"running target()\")\n",
    "\n",
    "\n",
    "target()\n",
    "\n",
    "print(target)"
   ]
  },
  {
   "cell_type": "markdown",
   "id": "a1ebbe6b",
   "metadata": {},
   "source": [
    "엄밀히 말해 데커레이터는 편리 구문일 뿐이다. 방금 전에 본 것처럼 데커레이터는  다른 함수를 인수로 전달해서 호출하는 일반적인 콜러블과 동일하다. 그렇지만 런타임에 프로그램 행위를 변경하는 메타프로그래밍을 할 때 데커레이터가 상당히 편리하다."
   ]
  },
  {
   "cell_type": "markdown",
   "id": "8c9c527b",
   "metadata": {},
   "source": [
    "# 2. 파이썬이 데커레이터를 실행하는 시점"
   ]
  },
  {
   "cell_type": "markdown",
   "id": "a80dbb0a",
   "metadata": {},
   "source": [
    "데커레이터의 핵심 특징은 데커레이트된 함수가 정의된 직후에 실행된다는 것이다. 이는 일반적으로 파이썬이 모듈을 로딩하는 시점, 즉 임포트 타임에 실행된다."
   ]
  },
  {
   "cell_type": "code",
   "execution_count": 2,
   "id": "0e2f2b85",
   "metadata": {},
   "outputs": [
    {
     "name": "stdout",
     "output_type": "stream",
     "text": [
      "running register(<function f1 at 0x000002AE1528ECB0>)\n",
      "running register(<function f2 at 0x000002AE1528E680>)\n",
      "running main()\n",
      "registry -> [<function f1 at 0x000002AE1528ECB0>, <function f2 at 0x000002AE1528E680>]\n",
      "running f1()\n",
      "running f2()\n",
      "running f3()\n"
     ]
    }
   ],
   "source": [
    "#registrations.py\n",
    "registry = []\n",
    "\n",
    "def register(func):\n",
    "    print(\"running register(%s)\" % func)\n",
    "    registry.append(func)\n",
    "    return func\n",
    "\n",
    "@register\n",
    "def f1():\n",
    "    print(\"running f1()\")\n",
    "\n",
    "@register\n",
    "def f2():\n",
    "    print(\"running f2()\")\n",
    "\n",
    "def f3():\n",
    "    print(\"running f3()\")\n",
    "\n",
    "def main():\n",
    "    print(\"running main()\")\n",
    "    print(\"registry ->\", registry)\n",
    "    f1()\n",
    "    f2()\n",
    "    f3()\n",
    "\n",
    "if __name__ == \"__main__\":\n",
    "    main()\n",
    "\n"
   ]
  },
  {
   "cell_type": "code",
   "execution_count": 3,
   "id": "30dc3887",
   "metadata": {},
   "outputs": [
    {
     "name": "stdout",
     "output_type": "stream",
     "text": [
      "running register(<function f1 at 0x000002AE1528EA70>)\n",
      "running register(<function f2 at 0x000002AE1528E0E0>)\n"
     ]
    }
   ],
   "source": [
    "import registrations"
   ]
  },
  {
   "cell_type": "code",
   "execution_count": 4,
   "id": "6e0a70bd",
   "metadata": {},
   "outputs": [
    {
     "data": {
      "text/plain": [
       "[<function registrations.f1()>, <function registrations.f2()>]"
      ]
     },
     "execution_count": 4,
     "metadata": {},
     "output_type": "execute_result"
    }
   ],
   "source": [
    "registrations.registry"
   ]
  },
  {
   "cell_type": "markdown",
   "id": "171ef6d5",
   "metadata": {},
   "source": [
    "위의 예제를 통해 함수 데커레이터는 모듈이 임포트되자마자 실행되지만, 데커레이트된 함수는 명시적으로 호출될 때만 실행됨을 알 수 있다.\n",
    "\n",
    "데커레이터가 실제 코드에 흔히 사용되는 방식과 비교하여 위의 예제는 두 가지 차이점이 있다.\n",
    "\n",
    "데커레이터 함수가 데커레이트 되는 함수와 같은 모듈에 정의되어 있다. 일반적으로 실제 코드에서는 데커레이터를 정의하는 모듈과 데커레이터를 적용하는 모듈을 분리해서 구현한다.\n",
    "register() 데커레이터가 인수로 전달된 함수와 동일한 함수를 반환한다. 실제 코드에서 대부분의 데커레이터는 내부 함수를 정의해서 반환한다."
   ]
  },
  {
   "cell_type": "code",
   "execution_count": 6,
   "id": "804725f3",
   "metadata": {},
   "outputs": [],
   "source": [
    "promos = []\n",
    "\n",
    "def promotion(promo_func):\n",
    "    promos.append(promo_func)\n",
    "    return promo_func\n",
    "\n",
    "\n",
    "@promotion\n",
    "def fidelity(order):\n",
    "    \"\"\"충성도 포인트가 1000점 이상인 고객에게 전체 5% 할인 적용\"\"\"\n",
    "    return order.total() * 0.05 if order.customer.fidelity >= 1000 else 0\n",
    "\n",
    "\n",
    "@promotion\n",
    "def bulk_item(order):\n",
    "    \"\"\"20개 이상의 동일 상품을 구입하면 10% 할인 적용\"\"\"\n",
    "    discount = 0\n",
    "    for item in order.cart:\n",
    "        if item.quantity >= 20:\n",
    "            discount += item.total() * 0.1\n",
    "    return discount\n",
    "\n",
    "\n",
    "@promotion\n",
    "def large_order(order):\n",
    "    \"\"\"10종류 이상의 상품을 구입하면 전체 7% 할인 적용\"\"\"\n",
    "\n",
    "    distinct_items = {item.product for item in order.cart}\n",
    "    if len(distinct_items) >= 10:\n",
    "        return order.total() * 0.07\n",
    "    return 0\n",
    "\n",
    "\n",
    "def best_promo(order):\n",
    "    \"\"\"최대로 할인받을 금액을 반환한다.\"\"\"\n",
    "    return max(promo(order) for promo in promos)"
   ]
  },
  {
   "cell_type": "markdown",
   "id": "853d9924",
   "metadata": {},
   "source": [
    "이 방법은 기존에 비해 다음과 같은 장점이 있다.\n",
    "\n",
    "프로모션 전략 함수명이 특별한 형태로 되어 있을 필요가 없다.(함수명이 반드시 _promo 로 끝나지 않아도 된다.)\n",
    "@promotion 데커레이터는 데커레이트된 함수의 목적을 명확히 알려주며, 임시로 어떤 프로모션을 배제할 수 있다. 방법은 단지 데커레이트만 주석처리 하면 된다.\n",
    "프로모션 전략 할인을 구현한 함수는 @promotion 데커레이터가 적용되는 한 어느 모듈에서든 정의할 수 있다.\n",
    " \n",
    "\n",
    "데커레이터는 대부분 데커레이트된 함수를 변경한다. 즉, 내부 함수를 정의하고 그것을 반환하여 데커레이트된 함수를 대체한다. 내부 함수를 사용하는 코드는 제대로 작동하기 위해 거의 항상 클로저에 의존한다. 클로저를 이해하기에 앞서 파이썬에서 변수 범위의 작동 방식에 대해 알아본다."
   ]
  },
  {
   "cell_type": "markdown",
   "id": "11fdb032",
   "metadata": {},
   "source": [
    "# 4. 변수 범위 규칙"
   ]
  },
  {
   "cell_type": "code",
   "execution_count": 7,
   "id": "bf16ac7d",
   "metadata": {},
   "outputs": [],
   "source": [
    "# 지역 및 전역 변수를 읽는 함수\n",
    "def f1(a):\n",
    "    print(a)\n",
    "    print(b)"
   ]
  },
  {
   "cell_type": "code",
   "execution_count": 9,
   "id": "bfa2a2be",
   "metadata": {},
   "outputs": [
    {
     "name": "stdout",
     "output_type": "stream",
     "text": [
      "3\n"
     ]
    },
    {
     "ename": "NameError",
     "evalue": "name 'b' is not defined",
     "output_type": "error",
     "traceback": [
      "\u001b[1;31m---------------------------------------------------------------------------\u001b[0m",
      "\u001b[1;31mNameError\u001b[0m                                 Traceback (most recent call last)",
      "Cell \u001b[1;32mIn[9], line 1\u001b[0m\n\u001b[1;32m----> 1\u001b[0m \u001b[43mf1\u001b[49m\u001b[43m(\u001b[49m\u001b[38;5;241;43m3\u001b[39;49m\u001b[43m)\u001b[49m\n",
      "Cell \u001b[1;32mIn[7], line 4\u001b[0m, in \u001b[0;36mf1\u001b[1;34m(a)\u001b[0m\n\u001b[0;32m      2\u001b[0m \u001b[38;5;28;01mdef\u001b[39;00m \u001b[38;5;21mf1\u001b[39m(a):\n\u001b[0;32m      3\u001b[0m     \u001b[38;5;28mprint\u001b[39m(a)\n\u001b[1;32m----> 4\u001b[0m     \u001b[38;5;28mprint\u001b[39m(\u001b[43mb\u001b[49m)\n",
      "\u001b[1;31mNameError\u001b[0m: name 'b' is not defined"
     ]
    }
   ],
   "source": [
    "f1(3)"
   ]
  },
  {
   "cell_type": "code",
   "execution_count": 14,
   "id": "779f91de",
   "metadata": {},
   "outputs": [
    {
     "name": "stdout",
     "output_type": "stream",
     "text": [
      "3\n",
      "6\n"
     ]
    }
   ],
   "source": [
    "b = 6\n",
    "f1(3)"
   ]
  },
  {
   "cell_type": "markdown",
   "id": "b89914a2",
   "metadata": {},
   "source": [
    "이번에는 전역 변수의 값을 함수 내부에서 다시 재할당하는데, 이 때 print(b) 이후에 재할당을 하니 에러가 발생한다.\n",
    "\n",
    "이 부분은 좀 예상 밖이다. 왜냐하면 전역 변수 b 가 이미 할당되어 있는 상태이기 때문에 6 이 출력될 것이라고 생각했기 때문이다.\n",
    "\n",
    " \n",
    "\n",
    "파이썬이 함수 본체를 컴파일할 때 b 가 함수 안에서 할당되므로 b를 지역 변수로 판단한다. 즉 함수 내부의 변수는 지역 변수로 할당한다. 만약 인터프리터가 b 를 전역 변수로 다루기 원한다면, 다음과 같이 global 키워드를 이용해서 선언해야 한다."
   ]
  },
  {
   "cell_type": "code",
   "execution_count": 19,
   "id": "0d93f082",
   "metadata": {
    "scrolled": true
   },
   "outputs": [
    {
     "name": "stdout",
     "output_type": "stream",
     "text": [
      "3\n"
     ]
    },
    {
     "ename": "UnboundLocalError",
     "evalue": "local variable 'b' referenced before assignment",
     "output_type": "error",
     "traceback": [
      "\u001b[1;31m---------------------------------------------------------------------------\u001b[0m",
      "\u001b[1;31mUnboundLocalError\u001b[0m                         Traceback (most recent call last)",
      "Cell \u001b[1;32mIn[19], line 7\u001b[0m\n\u001b[0;32m      4\u001b[0m     \u001b[38;5;28mprint\u001b[39m(b)\n\u001b[0;32m      5\u001b[0m     b \u001b[38;5;241m=\u001b[39m \u001b[38;5;241m9\u001b[39m\n\u001b[1;32m----> 7\u001b[0m \u001b[43mf2\u001b[49m\u001b[43m(\u001b[49m\u001b[38;5;241;43m3\u001b[39;49m\u001b[43m)\u001b[49m\n",
      "Cell \u001b[1;32mIn[19], line 4\u001b[0m, in \u001b[0;36mf2\u001b[1;34m(a)\u001b[0m\n\u001b[0;32m      2\u001b[0m \u001b[38;5;28;01mdef\u001b[39;00m \u001b[38;5;21mf2\u001b[39m(a):\n\u001b[0;32m      3\u001b[0m     \u001b[38;5;28mprint\u001b[39m(a)\n\u001b[1;32m----> 4\u001b[0m     \u001b[38;5;28mprint\u001b[39m(\u001b[43mb\u001b[49m)\n\u001b[0;32m      5\u001b[0m     b \u001b[38;5;241m=\u001b[39m \u001b[38;5;241m9\u001b[39m\n",
      "\u001b[1;31mUnboundLocalError\u001b[0m: local variable 'b' referenced before assignment"
     ]
    }
   ],
   "source": [
    "b = 6\n",
    "def f2(a):\n",
    "    print(a)\n",
    "    print(b)\n",
    "    b = 9\n",
    "    \n",
    "f2(3)"
   ]
  },
  {
   "cell_type": "code",
   "execution_count": 20,
   "id": "d05106ea",
   "metadata": {},
   "outputs": [
    {
     "name": "stdout",
     "output_type": "stream",
     "text": [
      "3\n",
      "6\n",
      "9\n"
     ]
    }
   ],
   "source": [
    "b = 6\n",
    "def f3(a):\n",
    "    global b\n",
    "    print(a)\n",
    "    print(b)\n",
    "    b = 9\n",
    "\n",
    "f3(3)\n",
    "\n",
    "print(b)\n",
    " "
   ]
  },
  {
   "cell_type": "code",
   "execution_count": 21,
   "id": "b6b07bc9",
   "metadata": {},
   "outputs": [
    {
     "name": "stdout",
     "output_type": "stream",
     "text": [
      "  3           0 LOAD_GLOBAL              0 (print)\n",
      "              2 LOAD_FAST                0 (a)\n",
      "              4 CALL_FUNCTION            1\n",
      "              6 POP_TOP\n",
      "\n",
      "  4           8 LOAD_GLOBAL              0 (print)\n",
      "             10 LOAD_GLOBAL              1 (b)\n",
      "             12 CALL_FUNCTION            1\n",
      "             14 POP_TOP\n",
      "             16 LOAD_CONST               0 (None)\n",
      "             18 RETURN_VALUE\n"
     ]
    }
   ],
   "source": [
    "from dis import dis\n",
    "\n",
    "dis(f1)"
   ]
  },
  {
   "cell_type": "code",
   "execution_count": 22,
   "id": "fd5f37ac",
   "metadata": {},
   "outputs": [
    {
     "name": "stdout",
     "output_type": "stream",
     "text": [
      "  3           0 LOAD_GLOBAL              0 (print)\n",
      "              2 LOAD_FAST                0 (a)\n",
      "              4 CALL_FUNCTION            1\n",
      "              6 POP_TOP\n",
      "\n",
      "  4           8 LOAD_GLOBAL              0 (print)\n",
      "             10 LOAD_FAST                1 (b)\n",
      "             12 CALL_FUNCTION            1\n",
      "             14 POP_TOP\n",
      "\n",
      "  5          16 LOAD_CONST               1 (9)\n",
      "             18 STORE_FAST               1 (b)\n",
      "             20 LOAD_CONST               0 (None)\n",
      "             22 RETURN_VALUE\n"
     ]
    }
   ],
   "source": [
    "dis(f2)"
   ]
  },
  {
   "cell_type": "markdown",
   "id": "f0ced3c5",
   "metadata": {},
   "source": [
    "# 5.  클로저"
   ]
  },
  {
   "cell_type": "markdown",
   "id": "88c2776f",
   "metadata": {},
   "source": [
    "클로저는 익명 함수와는 다르다. 보통 익명 함수를 사용하면서 함수 안에 함수를 정의하는 방식을 자주 쓰기 때문에 이 둘을 혼동하는 경우가 있다. \n",
    "\n",
    "클로저는 함수 본체에서 정의하지 않고 참조하는 비전역(nonglobal) 변수를 포함한 확장 범위를 가진 함수다. 함수가 익명인지 여부가 중요하지 않다. 함수 본체 외부에 정의된 비전역 변수에 접근할 수 있다는 것이 중요하다.\n",
    "\n",
    " \n",
    "\n",
    "예시를 통해 알아보자.\n",
    "\n",
    "avg() 함수가 점차 증가하는 일련의 값의 평균을 계산한다고 해보자. 예를 들어 전체 기간을 통틀어 어떤 상품의 종가 평균을 구하는 경우를 생각해보자. 매일 새로운 가격이 추가되고 지금까지의 모든 가격을 고려해서 평균을 구한다."
   ]
  },
  {
   "cell_type": "code",
   "execution_count": 46,
   "id": "1da67cbb",
   "metadata": {},
   "outputs": [],
   "source": [
    "\n",
    "class Averager():\n",
    "    \n",
    "    def __init__(self):\n",
    "        self.series = []\n",
    "        \n",
    "    def __call__(self, new_value):\n",
    "        self.series.append(new_value)\n",
    "        total = sum(self.series)\n",
    "        return total/len(self.series)"
   ]
  },
  {
   "cell_type": "code",
   "execution_count": 47,
   "id": "bd579991",
   "metadata": {},
   "outputs": [],
   "source": [
    "avg = Averager()"
   ]
  },
  {
   "cell_type": "code",
   "execution_count": 48,
   "id": "c9d09503",
   "metadata": {},
   "outputs": [
    {
     "data": {
      "text/plain": [
       "10.0"
      ]
     },
     "execution_count": 48,
     "metadata": {},
     "output_type": "execute_result"
    }
   ],
   "source": [
    "avg(10)"
   ]
  },
  {
   "cell_type": "code",
   "execution_count": 49,
   "id": "914efd13",
   "metadata": {},
   "outputs": [
    {
     "data": {
      "text/plain": [
       "10.5"
      ]
     },
     "execution_count": 49,
     "metadata": {},
     "output_type": "execute_result"
    }
   ],
   "source": [
    "avg(11)"
   ]
  },
  {
   "cell_type": "code",
   "execution_count": 50,
   "id": "46e4cb83",
   "metadata": {},
   "outputs": [],
   "source": [
    "# 고위 함수 make_averager()를 이용해서 구현\n",
    "\n",
    "def make_averager():\n",
    "    series = []\n",
    "    \n",
    "    def averager(new_value):\n",
    "        series.append(new_value)\n",
    "        total = sum(series)\n",
    "        return total/len(series)\n",
    "    \n",
    "    return averager"
   ]
  },
  {
   "cell_type": "code",
   "execution_count": 51,
   "id": "60b56428",
   "metadata": {},
   "outputs": [],
   "source": [
    "avg = make_averager()"
   ]
  },
  {
   "cell_type": "code",
   "execution_count": 52,
   "id": "ac01c05a",
   "metadata": {},
   "outputs": [
    {
     "data": {
      "text/plain": [
       "10.0"
      ]
     },
     "execution_count": 52,
     "metadata": {},
     "output_type": "execute_result"
    }
   ],
   "source": [
    "avg(10)"
   ]
  },
  {
   "cell_type": "code",
   "execution_count": 53,
   "id": "e5d8677b",
   "metadata": {},
   "outputs": [
    {
     "data": {
      "text/plain": [
       "10.5"
      ]
     },
     "execution_count": 53,
     "metadata": {},
     "output_type": "execute_result"
    }
   ],
   "source": [
    "avg(11)"
   ]
  },
  {
   "cell_type": "markdown",
   "id": "b85c9157",
   "metadata": {},
   "source": [
    "make_averager() 는 호출되면 averager() 함수를 반환한다. averager() 함수는 호출될 때마다 받은 인수를 series 리스트에 추가하고 평균을 계산해서 반환한다.\n",
    "\n",
    "이는 클래스로 구현한 객체와 상당히 비슷하다. Averager() 나 make_averager() 를 호출해서 콜러블 객체인 avg가 반환되고, avg() 는 series 를 갱신하고 지금까지의 평균을 계산한다. 클래스 예제에서의 avg() 는 Averager 클래스의 객체이고, 함수에서의 avg() 는 내부 함수인 average() 다.\n",
    "\n",
    " \n",
    "\n",
    "Averager 클래스의 avg() 함수가 데이터를 보관하는 방법은 self.series 객체 속성에 저장되기 때문이다. 근데 함수 예제에서의 avg() 함수는 어디에서 series 를 찾는가?\n",
    "\n",
    " \n",
    "\n",
    "make_averager() 함수 본체 안에서 series = [] 로 초기화하고 있으므로 series 는 이 함수의 지역 변수다. 그렇지만 avg(10) 을 호출할 때, make_averager() 함수는 이미 반환했으므로 지역 범위도 사라진 후다.\n",
    "\n",
    "averager 안에 있는 series 는 자유 변수(free variable) 다. 자유 변수는 지역 범위에 바인딩되어 있지 않은 변수를 의미한다."
   ]
  },
  {
   "cell_type": "code",
   "execution_count": 56,
   "id": "627869b8",
   "metadata": {},
   "outputs": [
    {
     "data": {
      "text/plain": [
       "('new_value', 'total')"
      ]
     },
     "execution_count": 56,
     "metadata": {},
     "output_type": "execute_result"
    }
   ],
   "source": [
    "# make_averager()로 생성한 함수 조사하기\n",
    "avg.__code__.co_varnames"
   ]
  },
  {
   "cell_type": "code",
   "execution_count": 57,
   "id": "f36d83e6",
   "metadata": {},
   "outputs": [
    {
     "data": {
      "text/plain": [
       "('series',)"
      ]
     },
     "execution_count": 57,
     "metadata": {},
     "output_type": "execute_result"
    }
   ],
   "source": [
    "avg.__code__.co_freevars"
   ]
  },
  {
   "cell_type": "code",
   "execution_count": 58,
   "id": "7a2e88ac",
   "metadata": {},
   "outputs": [
    {
     "data": {
      "text/plain": [
       "(<cell at 0x000002AE16B90BB0: list object at 0x000002AE1787FE00>,)"
      ]
     },
     "execution_count": 58,
     "metadata": {},
     "output_type": "execute_result"
    }
   ],
   "source": [
    "avg.__closure__"
   ]
  },
  {
   "cell_type": "code",
   "execution_count": 60,
   "id": "9e00371d",
   "metadata": {},
   "outputs": [
    {
     "data": {
      "text/plain": [
       "[10, 11]"
      ]
     },
     "execution_count": 60,
     "metadata": {},
     "output_type": "execute_result"
    }
   ],
   "source": [
    "avg.__closure__[0].cell_contents"
   ]
  },
  {
   "cell_type": "markdown",
   "id": "c7ffdaa1",
   "metadata": {},
   "source": [
    "# 6. nonlocal 선언\n",
    "앞서 구현한 make_averager() 함수는 그리 효율적이지 않다. 모든 값을 series 에 저장하고 average() 가 호출될 때마다 sum 을 다시 계산한다. 합계와 항목수를 저장한 후 이 두 개의 숫자를 이용해서 평균을 구하면 훨씬 효율적으로 구현할 수 있다."
   ]
  },
  {
   "cell_type": "code",
   "execution_count": 61,
   "id": "c59c6223",
   "metadata": {},
   "outputs": [
    {
     "ename": "UnboundLocalError",
     "evalue": "local variable 'count' referenced before assignment",
     "output_type": "error",
     "traceback": [
      "\u001b[1;31m---------------------------------------------------------------------------\u001b[0m",
      "\u001b[1;31mUnboundLocalError\u001b[0m                         Traceback (most recent call last)",
      "Cell \u001b[1;32mIn[61], line 13\u001b[0m\n\u001b[0;32m     10\u001b[0m     \u001b[38;5;28;01mreturn\u001b[39;00m averager\n\u001b[0;32m     12\u001b[0m avg \u001b[38;5;241m=\u001b[39m make_averager()\n\u001b[1;32m---> 13\u001b[0m \u001b[38;5;28mprint\u001b[39m(\u001b[43mavg\u001b[49m\u001b[43m(\u001b[49m\u001b[38;5;241;43m10\u001b[39;49m\u001b[43m)\u001b[49m)\n",
      "Cell \u001b[1;32mIn[61], line 6\u001b[0m, in \u001b[0;36mmake_averager.<locals>.averager\u001b[1;34m(new_value)\u001b[0m\n\u001b[0;32m      5\u001b[0m \u001b[38;5;28;01mdef\u001b[39;00m \u001b[38;5;21maverager\u001b[39m(new_value):\n\u001b[1;32m----> 6\u001b[0m     count \u001b[38;5;241m+\u001b[39m\u001b[38;5;241m=\u001b[39m \u001b[38;5;241m1\u001b[39m\n\u001b[0;32m      7\u001b[0m     total \u001b[38;5;241m+\u001b[39m\u001b[38;5;241m=\u001b[39m new_value\n\u001b[0;32m      8\u001b[0m     \u001b[38;5;28;01mreturn\u001b[39;00m total \u001b[38;5;241m/\u001b[39m count\n",
      "\u001b[1;31mUnboundLocalError\u001b[0m: local variable 'count' referenced before assignment"
     ]
    }
   ],
   "source": [
    "def make_averager():\n",
    "    count = 0\n",
    "    total = 0\n",
    "\n",
    "    def averager(new_value):\n",
    "        count += 1\n",
    "        total += new_value\n",
    "        return total / count\n",
    "\n",
    "    return averager\n",
    "\n",
    "avg = make_averager()\n",
    "print(avg(10))\n"
   ]
  },
  {
   "cell_type": "markdown",
   "id": "afa01234",
   "metadata": {},
   "source": [
    "위의 코드는 잘못됐다. 분명히 count 와 total 은 자유 변수라서 클로저에 저장될텐데 왜 에러가 날까?\n",
    "\n",
    "count += 1 은 count = count + 1 을 의미한다. count 를 averager() 안에서 할당하고 있다. 따라서 count 는 지역 변수가 된다. total 도 마찬가지다.\n",
    "\n",
    " \n",
    "\n",
    "앞선 series 는 변수에 할당하지 않기 때문에 이런 문제가 생기지 않았다. 리스트가 가변형임을 이용했을 뿐이다. 그러나 숫자, 문자열, 튜플 등 불변형은 읽을 수만 있고 값은 갱신할 수 없다. count = count + 1 과 같은 문장으로 변수를 다시 바인딩하면 암묵적으로 count 라는 지역 변수를 만든다. count 가 더 이상 자유 변수가 아니므로 클로저에 저장되지 않는다.\n",
    "\n",
    " \n",
    "\n",
    "이 문제를 해결하기 위해 nonlocal 선언이 파이썬 3에 소개되었다. 변수를 nonlocal 로 선언하면 함수 안에서 변수에 새로운 값을 할당하더라도 그 변수는 자유 변수임을 나타낸다.\n",
    "\n",
    "새로운 값을 nonlocal 변수에 할당하면 클로저에 저장된 바인딩이 변경된다. 이를 활용하여 수정한 코드는 아래와 같다."
   ]
  },
  {
   "cell_type": "code",
   "execution_count": 62,
   "id": "62f4bb6d",
   "metadata": {},
   "outputs": [
    {
     "name": "stdout",
     "output_type": "stream",
     "text": [
      "10.0\n"
     ]
    }
   ],
   "source": [
    "def make_averager():\n",
    "    count = 0\n",
    "    total = 0\n",
    "\n",
    "    def averager(new_value):\n",
    "        nonlocal count, total\n",
    "        count += 1\n",
    "        total += new_value\n",
    "        return total / count\n",
    "\n",
    "    return averager\n",
    "\n",
    "avg = make_averager()\n",
    "print(avg(10))\n"
   ]
  },
  {
   "cell_type": "code",
   "execution_count": 63,
   "id": "167dffc6",
   "metadata": {},
   "outputs": [
    {
     "data": {
      "text/plain": [
       "10.5"
      ]
     },
     "execution_count": 63,
     "metadata": {},
     "output_type": "execute_result"
    }
   ],
   "source": [
    "avg(11)"
   ]
  },
  {
   "cell_type": "markdown",
   "id": "2b8d6c49",
   "metadata": {},
   "source": [
    "# 7.간단한 데커리에터 구현하기"
   ]
  },
  {
   "cell_type": "code",
   "execution_count": 65,
   "id": "e018951f",
   "metadata": {},
   "outputs": [],
   "source": [
    "#함수의 실행 시간을 출력하는 간단한 데커레이터\n",
    "import time\n",
    "\n",
    "def clock(func):\n",
    "    def clocked(*args):\n",
    "        t0 = time.perf_counter()\n",
    "        result = func(*args)\n",
    "        elapsed = time.perf_counter() - t0\n",
    "        name = func.__name__\n",
    "        arg_str = \", \".join(repr(arg) for arg in args)\n",
    "        print('[%0.8fs] %s(%s) -> %r' % (elapsed, name, arg_str, result))\n",
    "        return result\n",
    "    return clocked"
   ]
  },
  {
   "cell_type": "code",
   "execution_count": 66,
   "id": "29ad5bb8",
   "metadata": {},
   "outputs": [
    {
     "name": "stdout",
     "output_type": "stream",
     "text": [
      "**************************************** Calling snooze(.123)\n",
      "[0.13110350s] snooze(0.123) -> None\n",
      "**************************************** Calling factorial(6)\n",
      "[0.00000160s] factorial(1) -> 1\n",
      "[0.00002390s] factorial(2) -> 2\n",
      "[0.00004080s] factorial(3) -> 6\n",
      "[0.00005730s] factorial(4) -> 24\n",
      "[0.00007390s] factorial(5) -> 120\n",
      "[0.00009180s] factorial(6) -> 720\n",
      "6! =  720\n"
     ]
    }
   ],
   "source": [
    "@clock\n",
    "def snooze(seconds):\n",
    "    time.sleep(seconds)\n",
    "\n",
    "@clock\n",
    "def factorial(n):\n",
    "    return 1 if n < 2 else n*factorial(n-1)\n",
    "\n",
    "if __name__ == \"__main__\":\n",
    "    print(\"*\" * 40, \"Calling snooze(.123)\")\n",
    "    snooze(.123)\n",
    "    print(\"*\" * 40, \"Calling factorial(6)\")\n",
    "    print(\"6! = \", factorial(6))"
   ]
  },
  {
   "cell_type": "markdown",
   "id": "9bdac66f",
   "metadata": {},
   "source": [
    "### 7.1 동작 과정"
   ]
  },
  {
   "cell_type": "code",
   "execution_count": 67,
   "id": "14882bd4",
   "metadata": {},
   "outputs": [],
   "source": [
    "@clock\n",
    "def factorial(n):\n",
    "    return 1 if n < 2 else n*factorial(n-1)"
   ]
  },
  {
   "cell_type": "code",
   "execution_count": 68,
   "id": "3f31b6e5",
   "metadata": {},
   "outputs": [],
   "source": [
    "#위 코드는 실제로 다음 코드로 실행된다. \n",
    "\n",
    "def factorial(n):\n",
    "    return 1 if n < 2 else n*factorial(n-1)\n",
    "    \n",
    "factorial = clock(factorial)"
   ]
  },
  {
   "cell_type": "markdown",
   "id": "ba6fdebc",
   "metadata": {},
   "source": [
    "\n",
    "clock() 은 factorial() 함수를 func 인수로 받는다. 그 후 clocked() 함수를 만들어서 반환하는데, 파이썬 인터프리터가 내부적으로 clocked() 를 factorial 에 할당했다. 실제로 factorial의 __name__ 속성을 조사해보면 다음과 같은 결과가 나온다."
   ]
  },
  {
   "cell_type": "code",
   "execution_count": 69,
   "id": "1bf32ab4",
   "metadata": {},
   "outputs": [
    {
     "name": "stdout",
     "output_type": "stream",
     "text": [
      "clocked\n"
     ]
    }
   ],
   "source": [
    "print(factorial.__name__)"
   ]
  },
  {
   "cell_type": "markdown",
   "id": "f9f7dcc5",
   "metadata": {},
   "source": [
    "러므로 factorial은 실제로 clocked() 함수를 참조한다. factorial(n) 을 호출하면 clocked(n) 이 실행된다. \n",
    "\n",
    " \n",
    "\n",
    "위의 예제는 전형적인 데커레이터의 작동 방식을 보여준다. 데커레이트된 함수를 동일한 인수를 받는 함수로 교체하고, 데커레이트된 함수가 반환해야 하는 값을 반환하면서 추가적인 처리를 수행한다.\n",
    "\n",
    " \n",
    "\n",
    "그러나 앞서 구현한 clock() 데커레이터는 단점이 몇 가지 있다. 먼저, 키워드 인수를 지원하지 않으며, 데커레이트된 함수의 __name__과 __doc__ 속성을 가린다.\n",
    "\n",
    "이를 해결하기 위해 functools.wrap() 데커레이터를 이용해서 func에서 clocked로 관련된 속성을 복사한다.\n",
    "\n",
    " \n",
    "\n",
    "이게 무슨 소리나면, 위에서 봤듯이 factorial 의 __name__ 속성은 데커레이터 함수 이름이 나온다. 데커레이트된 함수 자체의 __name__ 과 그 함수의 docstring 을 그대로 표현하기 위해서 functools.wrap() 데커레이터를 써서 데커레이트된 함수의 속성값을 데커레이터 로 복사한다는 뜻이다."
   ]
  },
  {
   "cell_type": "code",
   "execution_count": 72,
   "id": "cdb95f25",
   "metadata": {},
   "outputs": [
    {
     "name": "stdout",
     "output_type": "stream",
     "text": [
      "factorial\n",
      "**************************************** Calling snooze(.123)\n",
      "[0.12652135s] snooze( snooze - doc ): 0.123 -> None\n",
      "**************************************** Calling factorial(6)\n",
      "[0.00000000s] factorial( factorial - doc ): 1 -> 1\n",
      "[0.00000000s] factorial( factorial - doc ): 2 -> 2\n",
      "[0.00000000s] factorial( factorial - doc ): 3 -> 6\n",
      "[0.00000000s] factorial( factorial - doc ): 4 -> 24\n",
      "[0.00000000s] factorial( factorial - doc ): 5 -> 120\n",
      "[0.00000000s] factorial( factorial - doc ): 6 -> 720\n",
      "6! =  720\n"
     ]
    }
   ],
   "source": [
    "import time\n",
    "import functools\n",
    "\n",
    "def clock(func):\n",
    "    @functools.wraps(func)\n",
    "    def clocked(*args, **kwargs):\n",
    "        t0 = time.time()\n",
    "        result = func(*args, **kwargs)\n",
    "        elapsed = time.time() - t0\n",
    "        name = func.__name__\n",
    "        doc = func.__doc__\n",
    "        arg_list = []\n",
    "        if args:\n",
    "            arg_list.append(\", \".join(repr(arg) for arg in args))\n",
    "        if kwargs:\n",
    "            pairs = [\"%s=%r\" % (k, w) for k, w in sorted(kwargs.items())]\n",
    "            arg_list.append(\", \".join(pairs))\n",
    "        arg_str = \", \".join(arg_list)\n",
    "        print('[%0.8fs] %s(%s): %s -> %r' % (elapsed, name, doc, arg_str, result))\n",
    "        return result\n",
    "\n",
    "    return clocked\n",
    "\n",
    "@clock\n",
    "def snooze(seconds):\n",
    "    \"\"\" snooze - doc \"\"\"\n",
    "    time.sleep(seconds)\n",
    "\n",
    "@clock\n",
    "def factorial(n):\n",
    "    \"\"\" factorial - doc \"\"\"\n",
    "    return 1 if n < 2 else n*factorial(n-1)\n",
    "\n",
    "print(factorial.__name__)\n",
    "\n",
    "if __name__ == \"__main__\":\n",
    "    print(\"*\" * 40, \"Calling snooze(.123)\")\n",
    "    snooze(.123)\n",
    "    print(\"*\" * 40, \"Calling factorial(6)\")\n",
    "    print(\"6! = \", factorial(6))"
   ]
  },
  {
   "cell_type": "markdown",
   "id": "3e85cd6f",
   "metadata": {},
   "source": [
    "# 표준 라이브러리에서 제공하는 데커레이터"
   ]
  },
  {
   "cell_type": "markdown",
   "id": "2b30344e",
   "metadata": {},
   "source": [
    "파이썬에서는 메서드를 데커레이트하기 위해 property(), classmethod(), staticmethod() 등 총 3개의 내장 함수를 제공한다. 이 외에도 자주 볼 수 있는 데커레이터 중에서 functools.wraps() 가 있다. 이 외에도 lrn_cache(), singledispatch() 가 있는데 이에 대해 좀 더 알아본다.\n",
    "\n",
    " "
   ]
  },
  {
   "cell_type": "markdown",
   "id": "9243f827",
   "metadata": {},
   "source": [
    "# 8.1 functools.lru_cache() 를 이용한 메모이제이션"
   ]
  },
  {
   "cell_type": "markdown",
   "id": "0b917e52",
   "metadata": {},
   "source": [
    "functools.lru_cache() 는 실제로 쓸모가 많은 데커레이터로서, 메모이제이션(memoization) 을 구현한다. 메모이제이션은 이전에 실행한 값비싼 함수의 결과를 저장함으로써 이전에 사용된 인수에 대해 다시 계산할 필요가 없게 해준다. 이름 앞에 붙은 LRU는 'Least Recently Used' 의 약자로서, 오랫동안 사용하지 않은 항목을 버림으로써 캐시가 무한정 커지지 않음을 의미한다.\n",
    "\n",
    " "
   ]
  },
  {
   "cell_type": "code",
   "execution_count": 73,
   "id": "9342ec8b",
   "metadata": {},
   "outputs": [
    {
     "name": "stdout",
     "output_type": "stream",
     "text": [
      "[0.00000000s] fibonacci(None): 0 -> 0\n",
      "[0.00000000s] fibonacci(None): 1 -> 1\n",
      "[0.00100160s] fibonacci(None): 2 -> 1\n",
      "[0.00000000s] fibonacci(None): 1 -> 1\n",
      "[0.00000000s] fibonacci(None): 0 -> 0\n",
      "[0.00000000s] fibonacci(None): 1 -> 1\n",
      "[0.00000000s] fibonacci(None): 2 -> 1\n",
      "[0.00000000s] fibonacci(None): 3 -> 2\n",
      "[0.00100160s] fibonacci(None): 4 -> 3\n",
      "[0.00000000s] fibonacci(None): 1 -> 1\n",
      "[0.00000000s] fibonacci(None): 0 -> 0\n",
      "[0.00000000s] fibonacci(None): 1 -> 1\n",
      "[0.00000000s] fibonacci(None): 2 -> 1\n",
      "[0.00000000s] fibonacci(None): 3 -> 2\n",
      "[0.00000000s] fibonacci(None): 0 -> 0\n",
      "[0.00000000s] fibonacci(None): 1 -> 1\n",
      "[0.00000000s] fibonacci(None): 2 -> 1\n",
      "[0.00000000s] fibonacci(None): 1 -> 1\n",
      "[0.00000000s] fibonacci(None): 0 -> 0\n",
      "[0.00000000s] fibonacci(None): 1 -> 1\n",
      "[0.00000000s] fibonacci(None): 2 -> 1\n",
      "[0.00000000s] fibonacci(None): 3 -> 2\n",
      "[0.00000000s] fibonacci(None): 4 -> 3\n",
      "[0.00000000s] fibonacci(None): 5 -> 5\n",
      "[0.00100160s] fibonacci(None): 6 -> 8\n",
      "8\n"
     ]
    }
   ],
   "source": [
    "@clock\n",
    "def fibonacci(n):\n",
    "    if n < 2:\n",
    "        return n\n",
    "    return fibonacci(n-2) + fibonacci(n-1)\n",
    "\n",
    "if __name__ == \"__main__\":\n",
    "    print(fibonacci(6))"
   ]
  },
  {
   "cell_type": "markdown",
   "id": "5bb1ccb8",
   "metadata": {},
   "source": [
    "위의 예제는 피보나치 수열을 구현한 함수인데, fibonacci(1) 이 8번, fibonacci(2) 가 5번 호출되는 등 계산 낭비가 엄청나다. 그렇지만 lur_cache() 를 사용하기 위해 단 두줄만 추가하면 성능이 상당히 개선된다."
   ]
  },
  {
   "cell_type": "code",
   "execution_count": 75,
   "id": "f4961f9a",
   "metadata": {},
   "outputs": [
    {
     "name": "stdout",
     "output_type": "stream",
     "text": [
      "[0.00000000s] fibonacci(None): 0 -> 0\n",
      "[0.00000000s] fibonacci(None): 1 -> 1\n",
      "[0.00000000s] fibonacci(None): 2 -> 1\n",
      "[0.00000000s] fibonacci(None): 3 -> 2\n",
      "[0.00000000s] fibonacci(None): 4 -> 3\n",
      "[0.00000000s] fibonacci(None): 5 -> 5\n",
      "[0.00000000s] fibonacci(None): 6 -> 8\n",
      "8\n"
     ]
    }
   ],
   "source": [
    "import functools\n",
    "\n",
    "@functools.lru_cache()\n",
    "@clock\n",
    "def fibonacci(n):\n",
    "    if n < 2:\n",
    "        return n\n",
    "    return fibonacci(n-2) + fibonacci(n-1)\n",
    "\n",
    "if __name__ == \"__main__\":\n",
    "    print(fibonacci(6))\n",
    "    \n"
   ]
  },
  {
   "cell_type": "markdown",
   "id": "c8bac9be",
   "metadata": {},
   "source": [
    "lru_cache() 데커레이터를 일반 함수처럼 호출해야 한다는 점을 주의해야 한다. 설정 매개변수를 추가로 받기 때문이다.\n",
    "\n",
    "실행 시간이 절반 이상으로 줄었고, 각 n 에 대해서 함수가 한 번만 호출된다.\n",
    "\n",
    " "
   ]
  },
  {
   "cell_type": "code",
   "execution_count": 76,
   "id": "1298da5a",
   "metadata": {},
   "outputs": [
    {
     "data": {
      "text/plain": [
       "<function functools.lru_cache.<locals>.decorating_function(user_function)>"
      ]
     },
     "execution_count": 76,
     "metadata": {},
     "output_type": "execute_result"
    }
   ],
   "source": [
    "functools.lru_cache(maxsize=18, typed=False)"
   ]
  },
  {
   "cell_type": "markdown",
   "id": "9f794596",
   "metadata": {},
   "source": [
    "lru_cache() 는 두 개의 선택적 인수를 이용해서 설정할 수 있다.\n",
    "\n",
    "maxsize 인수는 얼마나 많은 호출을 저장할지 결정한다. 캐시가 가득차면 가장 오래된 결과를 버리고 공간을 확보한다. 최적을 내기 위해 maxsize 는 2의 제곱이 되어야 한다. typed 인수는 True 로 설정되는 경우 인수의 자료형이 다르면 결과를 따로 저장한다. 예를 들어 일반적으로 1과 1.0은 동일하다고 가정하지만 실수형 인수와 정수형 인수를 구분해야 하는 경우가 있을 것이다.\n",
    "\n",
    "또한 lru_cache() 가 결과를 저장하기 위해 딕셔너리를 사용하고, 호출할 때 사용한 위치 인수와 키워드 인수를 키로 사용하므로, 데커레이트된 함수가 받는 인수는 모두 해시 가능 해야 한다."
   ]
  },
  {
   "cell_type": "markdown",
   "id": "7d4b4218",
   "metadata": {},
   "source": [
    "### 8.2 단일 디스패치를 이용한 범용 함수\n",
    "\n",
    "이번에는 functools.singledispatch() 에 대해서 알아본다.\n",
    "\n",
    "웹 어플리케이션을 디버깅하는 도구를 만든다고 가정하자. 파이썬 객체의 자료형마다 HTML 코드를 생성하고자 한다."
   ]
  },
  {
   "cell_type": "code",
   "execution_count": 1,
   "id": "62c6506c",
   "metadata": {},
   "outputs": [],
   "source": [
    "import html\n",
    "\n",
    "def htmlize(obj):\n",
    "    content = html.escape(repr(obj))\n",
    "    return '<pre>{}</pre>'.format(content)"
   ]
  },
  {
   "cell_type": "code",
   "execution_count": 8,
   "id": "f664c795",
   "metadata": {},
   "outputs": [
    {
     "data": {
      "text/plain": [
       "'<pre>{1, 2, 3}</pre>'"
      ]
     },
     "execution_count": 8,
     "metadata": {},
     "output_type": "execute_result"
    }
   ],
   "source": [
    "htmlize({1, 2, 3})"
   ]
  },
  {
   "cell_type": "code",
   "execution_count": 11,
   "id": "32490d2f",
   "metadata": {},
   "outputs": [
    {
     "data": {
      "text/plain": [
       "'<pre>&lt;built-in function abs&gt;</pre>'"
      ]
     },
     "execution_count": 11,
     "metadata": {},
     "output_type": "execute_result"
    }
   ],
   "source": [
    "htmlize(abs)"
   ]
  },
  {
   "cell_type": "code",
   "execution_count": 12,
   "id": "cc80fffb",
   "metadata": {},
   "outputs": [
    {
     "data": {
      "text/plain": [
       "'<pre>&#x27;Heimlich &amp; Co.\\\\n- a game&#x27;</pre>'"
      ]
     },
     "execution_count": 12,
     "metadata": {},
     "output_type": "execute_result"
    }
   ],
   "source": [
    "htmlize(\"Heimlich & Co.\\n- a game\")"
   ]
  },
  {
   "cell_type": "code",
   "execution_count": 13,
   "id": "b1936db4",
   "metadata": {},
   "outputs": [
    {
     "data": {
      "text/plain": [
       "'<pre>42</pre>'"
      ]
     },
     "execution_count": 13,
     "metadata": {},
     "output_type": "execute_result"
    }
   ],
   "source": [
    "htmlize(42)"
   ]
  },
  {
   "cell_type": "code",
   "execution_count": 14,
   "id": "62e228fb",
   "metadata": {},
   "outputs": [
    {
     "name": "stdout",
     "output_type": "stream",
     "text": [
      "<pre>[&#x27;alpha&#x27;, 66, {1, 2, 3}]</pre>\n"
     ]
    }
   ],
   "source": [
    "print(htmlize(['alpha', 66, {3, 2, 1}]))"
   ]
  },
  {
   "cell_type": "markdown",
   "id": "fbce63b5",
   "metadata": {},
   "source": [
    "파이썬에서는 메서드나 함수의 오버로딩을 지원하지 않는다.\n",
    "\n",
    "오버로딩은 동일한 이름의 메서드나 함수가 매개 변수에 따라 다르게 동작하는 것을 말한다.\n",
    "\n",
    "따라서 htmlize() 를 서로 다른 자료형에 따라 동작하게 만들 수 없다. 이 때 일반적으로 htmlize() 를 인자를 받고 결과를 리턴해주는 중간 함수로 만들고, 내부적인 조건문을 통해 htmlize_str(), htmlize_int() 등의 특화적 함수를 호출한다.\n",
    "\n",
    " \n",
    "\n",
    "그러나 이러한 방식은 조건이 늘어날 때마다 점차 htmlize() 코드 자체가 커지며, 특수 함수와의 결합이 너무 강해진다.\n",
    "\n",
    "이 때 사용하는 것이 functools.singledispatch() 데커레이터이며, 이를 사용하면 데커레이트된 함수는 범용 함수가 된다.\n",
    "\n",
    "수정된 예시를 보자."
   ]
  },
  {
   "cell_type": "code",
   "execution_count": 15,
   "id": "bef3a461",
   "metadata": {},
   "outputs": [],
   "source": [
    "from functools import singledispatchmethod\n",
    "from collections import abc\n",
    "import numbers\n",
    "import html\n",
    "\n",
    "\n",
    "@singledispatchmethod\n",
    "def htmlize(obj):\n",
    "    content = html.escape(repr(obj))\n",
    "    return '<pre>{}</pre>'.format(content)\n",
    "\n",
    "@htmlize.register(str)\n",
    "def _(text):\n",
    "    content = html.escape(text).replace(\"\\n\", \"<br>\\n\")\n",
    "    return \"<p>{0}</p>\".format(content)\n",
    "\n",
    "@htmlize.register(numbers.Integral)\n",
    "def _(n):\n",
    "    return \"<pre>{0} (0x{0:x})</pre>\".format(n)\n",
    "\n",
    "@htmlize.register(tuple)\n",
    "@htmlize.register(abc.MutableSequence)\n",
    "def _(seq):\n",
    "    inner = \"</li>\\n<li>\".join(htmlize(item) for item in seq)\n",
    "    return \"<ul>\\n<li>\" + inner + \"</li>\\n</ul>\""
   ]
  },
  {
   "cell_type": "markdown",
   "id": "f54eb9df",
   "metadata": {},
   "source": [
    "가능하면 int, list 같은 구상 클래스보다는 numbers.Integral 이나 abc.MutableSequence 와 같은 추상 베이스 클래스를 처리하도록 특화된 함수를 등록하는 것이 좋다. 보다 폭넓게 자료형을 지원할 수 있기 때문이다.\n",
    "\n",
    " \n",
    "\n",
    "@singledistpatch 는 메서드 오버로딩을 파이썬에 적용하기 위해 설계된 것이 아니다. 단일 유닛 코드에 너무 많은 책임을 부여하지 않도록 모듈화된 확장을 지원하기 위함이다."
   ]
  },
  {
   "cell_type": "markdown",
   "id": "36c06164",
   "metadata": {},
   "source": [
    "# 9. 누적된 데커레이터\n",
    "하나의 함수 f() 에 두 데커레이터 @d1 과 @d2 를 차례대로 적용하면, 결과는 f = d1(d2(f))와 같다.\n"
   ]
  },
  {
   "cell_type": "code",
   "execution_count": 25,
   "id": "a3ff14ec",
   "metadata": {},
   "outputs": [
    {
     "ename": "NameError",
     "evalue": "name 'd1' is not defined",
     "output_type": "error",
     "traceback": [
      "\u001b[1;31m---------------------------------------------------------------------------\u001b[0m",
      "\u001b[1;31mNameError\u001b[0m                                 Traceback (most recent call last)",
      "Cell \u001b[1;32mIn[25], line 1\u001b[0m\n\u001b[1;32m----> 1\u001b[0m \u001b[38;5;129m@d1\u001b[39m\n\u001b[0;32m      2\u001b[0m \u001b[38;5;129m@d2\u001b[39m\n\u001b[0;32m      3\u001b[0m \u001b[38;5;28;01mdef\u001b[39;00m \u001b[38;5;21mf\u001b[39m():\n\u001b[0;32m      4\u001b[0m     \u001b[38;5;28mprint\u001b[39m(\u001b[38;5;124m\"\u001b[39m\u001b[38;5;124mf\u001b[39m\u001b[38;5;124m\"\u001b[39m)\n\u001b[0;32m      5\u001b[0m \u001b[38;5;28;01mdef\u001b[39;00m \u001b[38;5;21mf\u001b[39m():\n",
      "\u001b[1;31mNameError\u001b[0m: name 'd1' is not defined"
     ]
    }
   ],
   "source": [
    "@d1\n",
    "@d2\n",
    "def f():\n",
    "    print(\"f\")\n",
    "def f():\n",
    "    print(\"f\")\n",
    "\n",
    "f = d1(d2(f))"
   ]
  },
  {
   "cell_type": "markdown",
   "id": "2b7781b4",
   "metadata": {},
   "source": [
    "# 10. 매개변수화 된 데커레이터"
   ]
  },
  {
   "cell_type": "markdown",
   "id": "a1e8b686",
   "metadata": {},
   "source": [
    "소스 코드에서 데커레이터를 파싱할 때 파이썬은 데커레이트된 함수를 가져와서 데커레이터 함수의 첫 번째 인수로 넘겨준다."
   ]
  },
  {
   "cell_type": "code",
   "execution_count": 18,
   "id": "842afe50",
   "metadata": {},
   "outputs": [
    {
     "name": "stdout",
     "output_type": "stream",
     "text": [
      "running register(<function f1 at 0x000001C1AD5FC040>)\n"
     ]
    }
   ],
   "source": [
    "registry = []\n",
    "\n",
    "def register(func):\n",
    "    print(\"running register(%s)\" % func)\n",
    "    registry.append(func)\n",
    "    return func\n",
    "    \n",
    "@register\n",
    "def f1():\n",
    "    print(\"running f1()\")\n",
    "    \n",
    "\n",
    "def main():\n",
    "    print(\"running main()\")\n",
    "    print(\"registry ->\", registry)\n",
    "    f1()"
   ]
  },
  {
   "cell_type": "markdown",
   "id": "6f9f3a57",
   "metadata": {},
   "source": [
    "여기서 register() 가 등록하는 함수를 활성화 혹은 비활성화하기 쉽게 만들기 위해, 선택적인 인수 active를 받도록 만들어보자.\n",
    "\n",
    "active 가 False 이면 데커레이트된 함수를 해제한다.\n"
   ]
  },
  {
   "cell_type": "code",
   "execution_count": 21,
   "id": "54584ff8",
   "metadata": {},
   "outputs": [
    {
     "name": "stdout",
     "output_type": "stream",
     "text": [
      "running register(active=False) -> decorate(<function f1 at 0x000001C1AD5FC5E0>)\n",
      "running register(active=True) -> decorate(<function f2 at 0x000001C1AD5FD090>)\n"
     ]
    }
   ],
   "source": [
    "registry = set()\n",
    "\n",
    "def register(active=True):\n",
    "    def decorate(func):\n",
    "        print(\"running register(active=%s) -> decorate(%s)\" % (active, func))\n",
    "        if active:\n",
    "            registry.add(func)\n",
    "        else:\n",
    "            registry.discard(func)\n",
    "        return func\n",
    "    return decorate\n",
    "\n",
    "@register(active=False)\n",
    "def f1():\n",
    "    print(\"running f1()\")\n",
    "\n",
    "@register()\n",
    "def f2():\n",
    "    print(\"running f2()\")\n",
    "\n",
    "def f3():\n",
    "    print(\"running f3()\")\n",
    "    \n"
   ]
  },
  {
   "cell_type": "code",
   "execution_count": 22,
   "id": "10d3295d",
   "metadata": {},
   "outputs": [
    {
     "data": {
      "text/plain": [
       "('func',)"
      ]
     },
     "execution_count": 22,
     "metadata": {},
     "output_type": "execute_result"
    }
   ],
   "source": [
    "register().__code__.co_varnames"
   ]
  },
  {
   "cell_type": "code",
   "execution_count": 23,
   "id": "0b47462b",
   "metadata": {},
   "outputs": [
    {
     "data": {
      "text/plain": [
       "('active',)"
      ]
     },
     "execution_count": 23,
     "metadata": {},
     "output_type": "execute_result"
    }
   ],
   "source": [
    "register().__code__.co_freevars"
   ]
  },
  {
   "cell_type": "markdown",
   "id": "dffc5534",
   "metadata": {},
   "source": [
    "active 인수는 decorater 클로저 안에서 자유 변수이므로 읽어올 수 있다. \n",
    "\n",
    " \n",
    "\n",
    "데커레이터를 사용할 때 일반적으로 커머셜 앳(@) 을 사용하는데, 그 대신 register() 를 일반 함수로 사용하려면 다음과 같이 데커레이트되는 함수를 뒤에 붙여서 register()(f) 로, 매개변수를 전달하기 위해서는 register(acitve=Flase)(f) 같이 사용하면 된다.\n",
    "\n",
    " "
   ]
  },
  {
   "cell_type": "code",
   "execution_count": null,
   "id": "7f1b33de",
   "metadata": {},
   "outputs": [],
   "source": []
  }
 ],
 "metadata": {
  "kernelspec": {
   "display_name": "Python 3 (ipykernel)",
   "language": "python",
   "name": "python3"
  },
  "language_info": {
   "codemirror_mode": {
    "name": "ipython",
    "version": 3
   },
   "file_extension": ".py",
   "mimetype": "text/x-python",
   "name": "python",
   "nbconvert_exporter": "python",
   "pygments_lexer": "ipython3",
   "version": "3.10.9"
  }
 },
 "nbformat": 4,
 "nbformat_minor": 5
}
