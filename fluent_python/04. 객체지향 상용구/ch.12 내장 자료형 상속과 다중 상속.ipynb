{
 "cells": [
  {
   "cell_type": "markdown",
   "id": "e209487c",
   "metadata": {},
   "source": [
    "이 장에서는 상속에 대해 설명하며, 특히 파이썬과 관련해서 다음 두 가지 특징을 집중적으로 알아본다.  \n",
    "  \n",
    "  - 내장 자료형 상속의 위험성\n",
    "  - 다중 상속과 메서드 결정 순서"
   ]
  },
  {
   "cell_type": "markdown",
   "id": "b855db89",
   "metadata": {},
   "source": [
    "# 1. 내장 자료형의 상속은 까다롭다  \n",
    "\n",
    "C 언어로 작성된 내장 클래스의 코드는 사용자가 오버라이드한 코드를 호출하지 않으므로 주의가 필요하다."
   ]
  },
  {
   "cell_type": "code",
   "execution_count": 1,
   "id": "ebe31d49",
   "metadata": {},
   "outputs": [],
   "source": [
    "# __setitem__()을 오버라이드한 메서드를 무시하는 내장된 dict의 __init__()과 __update__() 메서드\n",
    "\n",
    "class DoppelDict(dict):\n",
    "    def __setitem__(self, key, value):\n",
    "        super().__setitem__(key, [value]*2) "
   ]
  },
  {
   "cell_type": "code",
   "execution_count": 21,
   "id": "9dc82c6d",
   "metadata": {},
   "outputs": [
    {
     "data": {
      "text/plain": [
       "{'one': 1}"
      ]
     },
     "execution_count": 21,
     "metadata": {},
     "output_type": "execute_result"
    }
   ],
   "source": [
    "dd = DoppelDict(one=1) # dict 클래스의 __init__() 메서드는 __setitem__() 이 오버라이드 되었다는 사실을 무시\n",
    "dd"
   ]
  },
  {
   "cell_type": "code",
   "execution_count": 22,
   "id": "a7c77c63",
   "metadata": {},
   "outputs": [
    {
     "data": {
      "text/plain": [
       "{'one': 1, 'two': [2, 2]}"
      ]
     },
     "execution_count": 22,
     "metadata": {},
     "output_type": "execute_result"
    }
   ],
   "source": [
    "dd['two']=2 # 오버라이드된 __setitem__()을 호출하므로 [2,2]에 매핑\n",
    "dd"
   ]
  },
  {
   "cell_type": "code",
   "execution_count": 23,
   "id": "667e8099",
   "metadata": {},
   "outputs": [
    {
     "data": {
      "text/plain": [
       "{'one': 1, 'two': [2, 2], 'three': 3}"
      ]
     },
     "execution_count": 23,
     "metadata": {},
     "output_type": "execute_result"
    }
   ],
   "source": [
    "dd.update(three=3) # update() 메서드는 오버라이드된 __setitem__() 메서드를 호출하지 않는다\n",
    "dd"
   ]
  },
  {
   "cell_type": "markdown",
   "id": "db4e8788",
   "metadata": {},
   "source": [
    "이 문제는 self.get()이 self.__getitem__()을 호출하는 경우처럼 객체 안에서 호출할 때뿐만 아니라, 내장 메서드가 호출하는 다른 클래스의 오버라이드된 메서드에서도 발생한다."
   ]
  },
  {
   "cell_type": "code",
   "execution_count": 24,
   "id": "cb0e3c10",
   "metadata": {},
   "outputs": [],
   "source": [
    "class AnswerDict(dict):\n",
    "    def __getitem__(self, key):\n",
    "        return 42"
   ]
  },
  {
   "cell_type": "code",
   "execution_count": 25,
   "id": "bfca526c",
   "metadata": {},
   "outputs": [
    {
     "data": {
      "text/plain": [
       "42"
      ]
     },
     "execution_count": 25,
     "metadata": {},
     "output_type": "execute_result"
    }
   ],
   "source": [
    "ad = AnswerDict(a='foo') # ad는 ('a','foo') 키-값 쌍으로 채운 AnswerDict 객체\n",
    "ad['a'] # __getitem__() 은 42를 반환"
   ]
  },
  {
   "cell_type": "code",
   "execution_count": 27,
   "id": "2a4e61ee",
   "metadata": {},
   "outputs": [
    {
     "data": {
      "text/plain": [
       "'foo'"
      ]
     },
     "execution_count": 27,
     "metadata": {},
     "output_type": "execute_result"
    }
   ],
   "source": [
    "d = {}\n",
    "d.update(ad) # update() 메서드는 AnswerDict.__getitem__() 메서드를 무시\n",
    "d['a'] "
   ]
  },
  {
   "cell_type": "code",
   "execution_count": 28,
   "id": "6fbe8288",
   "metadata": {},
   "outputs": [
    {
     "data": {
      "text/plain": [
       "{'a': 'foo'}"
      ]
     },
     "execution_count": 28,
     "metadata": {},
     "output_type": "execute_result"
    }
   ],
   "source": [
    "d"
   ]
  },
  {
   "cell_type": "markdown",
   "id": "a8e05b31",
   "metadata": {},
   "source": [
    "dict, list, str 등의 내장 자료형은 사용자가 정의한 오버라이드된 메서드를 무시하므로, 내장 자료형보다는 UserDict, UserList, UserString 등을 사용하는 것이 좋다."
   ]
  },
  {
   "cell_type": "code",
   "execution_count": 29,
   "id": "730ab75b",
   "metadata": {},
   "outputs": [],
   "source": [
    "# dict가 아니라 UserDict를 상속하므로 원하는 대로 작동하는 DoppleDict2와 AnswerDict2\n",
    "\n",
    "import collections\n",
    "\n",
    "class DoppelDict2(collections.UserDict):\n",
    "    def __setitem__(self, key, value):\n",
    "        super().__setitem__(key, [value]*2)"
   ]
  },
  {
   "cell_type": "code",
   "execution_count": 30,
   "id": "03e353d5",
   "metadata": {},
   "outputs": [
    {
     "data": {
      "text/plain": [
       "{'one': [1, 1]}"
      ]
     },
     "execution_count": 30,
     "metadata": {},
     "output_type": "execute_result"
    }
   ],
   "source": [
    "dd = DoppelDict2(one=1)\n",
    "dd"
   ]
  },
  {
   "cell_type": "code",
   "execution_count": 31,
   "id": "3d96a130",
   "metadata": {},
   "outputs": [
    {
     "data": {
      "text/plain": [
       "{'one': [1, 1], 'two': [2, 2]}"
      ]
     },
     "execution_count": 31,
     "metadata": {},
     "output_type": "execute_result"
    }
   ],
   "source": [
    "dd['two'] = 2\n",
    "dd"
   ]
  },
  {
   "cell_type": "code",
   "execution_count": 32,
   "id": "a2da5f54",
   "metadata": {},
   "outputs": [
    {
     "data": {
      "text/plain": [
       "{'one': [1, 1], 'two': [2, 2], 'three': [3, 3]}"
      ]
     },
     "execution_count": 32,
     "metadata": {},
     "output_type": "execute_result"
    }
   ],
   "source": [
    "dd.update(three=3)\n",
    "dd"
   ]
  },
  {
   "cell_type": "code",
   "execution_count": 33,
   "id": "e65639f3",
   "metadata": {},
   "outputs": [],
   "source": [
    "class AnswerDict2(collections.UserDict):\n",
    "    def __getitem__(self, key):\n",
    "        return 42"
   ]
  },
  {
   "cell_type": "code",
   "execution_count": 34,
   "id": "ab2b3bfc",
   "metadata": {},
   "outputs": [
    {
     "data": {
      "text/plain": [
       "42"
      ]
     },
     "execution_count": 34,
     "metadata": {},
     "output_type": "execute_result"
    }
   ],
   "source": [
    "ad = AnswerDict2(a='foo')\n",
    "ad['a']"
   ]
  },
  {
   "cell_type": "code",
   "execution_count": 35,
   "id": "4890a5d8",
   "metadata": {},
   "outputs": [
    {
     "data": {
      "text/plain": [
       "42"
      ]
     },
     "execution_count": 35,
     "metadata": {},
     "output_type": "execute_result"
    }
   ],
   "source": [
    "d = {}\n",
    "d.update(ad) \n",
    "d['a'] "
   ]
  },
  {
   "cell_type": "code",
   "execution_count": 37,
   "id": "b09c9705",
   "metadata": {},
   "outputs": [
    {
     "data": {
      "text/plain": [
       "{'a': 42}"
      ]
     },
     "execution_count": 37,
     "metadata": {},
     "output_type": "execute_result"
    }
   ],
   "source": [
    "d"
   ]
  },
  {
   "cell_type": "markdown",
   "id": "3015bdbd",
   "metadata": {},
   "source": [
    "# 2. 다중 상속과 메서드 결정 순서  \n",
    "\n",
    "다중 상속을 지원하는 언어에서는 별개의 상위클래스가 동일한 이름으로 메서드를 구현할 때 발생하는 이름 충돌 문제를 해결해야 한다."
   ]
  },
  {
   "cell_type": "markdown",
   "id": "d908f986",
   "metadata": {},
   "source": [
    "그림 12-1\n",
    "![이미지 대체 텍스트](https://pencilprogrammer.com/wp-content/uploads/2022/03/multiple-inheritance-diamond.png)"
   ]
  },
  {
   "cell_type": "code",
   "execution_count": 44,
   "id": "cb901a6d",
   "metadata": {},
   "outputs": [],
   "source": [
    "# 그림 12-1을 구현한 A, B, C, D 클래스의 정의\n",
    "\n",
    "class A:\n",
    "    def ping(self):\n",
    "        print('ping:', self)\n",
    "        \n",
    "class B(A):\n",
    "    def pong(self):\n",
    "        print('pong:', self)\n",
    "\n",
    "class C(A):\n",
    "    def pong(self):\n",
    "        print('PONG:', self)\n",
    "\n",
    "class D(B, C):\n",
    "    def ping(self):\n",
    "        super().ping()\n",
    "        print('post-ping:', self)\n",
    "        \n",
    "    def pingpong(self):\n",
    "        self.ping()\n",
    "        super().ping()\n",
    "        self.pong()\n",
    "        super().pong()\n",
    "        C.pong(self)"
   ]
  },
  {
   "cell_type": "code",
   "execution_count": 45,
   "id": "c2e11be3",
   "metadata": {},
   "outputs": [
    {
     "name": "stdout",
     "output_type": "stream",
     "text": [
      "pong: <__main__.D object at 0x00000146BFC30C70>\n"
     ]
    }
   ],
   "source": [
    "d = D()\n",
    "d.pong()"
   ]
  },
  {
   "cell_type": "code",
   "execution_count": 57,
   "id": "07972290",
   "metadata": {},
   "outputs": [
    {
     "name": "stdout",
     "output_type": "stream",
     "text": [
      "PONG: <__main__.D object at 0x00000146BFC30C70>\n"
     ]
    }
   ],
   "source": [
    "C.pong(d)"
   ]
  },
  {
   "cell_type": "markdown",
   "id": "f0003938",
   "metadata": {},
   "source": [
    "파이썬이 상속 그래프를 조회할 때는 특정한 순서를 따르므로, d.pong()과 같은 호출의 모호함이 해결된다.  \n",
    "\n",
    "이 순서를 메서드 결정 순서(MRO)라고 한다."
   ]
  },
  {
   "cell_type": "code",
   "execution_count": 59,
   "id": "32be39ac",
   "metadata": {},
   "outputs": [
    {
     "data": {
      "text/plain": [
       "(__main__.D, __main__.B, __main__.C, __main__.A, object)"
      ]
     },
     "execution_count": 59,
     "metadata": {},
     "output_type": "execute_result"
    }
   ],
   "source": [
    "D.__mro__\n"
   ]
  },
  {
   "cell_type": "markdown",
   "id": "6e882c05",
   "metadata": {},
   "source": [
    "슈퍼클래스 메서드에 위임할 때는 내장 함수인 super()를 사용하는 것이 좋다. 그러나 MRO를 우회해서 슈퍼클래스 메서드를 직접 호출할 수도 있다. 예를 들어 D.ping() 메서드는 다음과 같이 구현할 수 있다."
   ]
  },
  {
   "cell_type": "code",
   "execution_count": 60,
   "id": "3ac6bb69",
   "metadata": {},
   "outputs": [],
   "source": [
    "def ping(self):\n",
    "        A.ping(self) # super().ping() 대신 호출\n",
    "        print('post-ping:', self)"
   ]
  },
  {
   "cell_type": "markdown",
   "id": "519dfb24",
   "metadata": {},
   "source": [
    "객체 메서드를 클래스에 직접 호출할 때는 바인딩되지 않은 메서드에 접근하는 것이므로 self를 반드시 명시해야 한다."
   ]
  },
  {
   "cell_type": "code",
   "execution_count": 62,
   "id": "d41c847a",
   "metadata": {},
   "outputs": [
    {
     "name": "stdout",
     "output_type": "stream",
     "text": [
      "ping: <__main__.D object at 0x00000146BFC30C70>\n",
      "post-ping: <__main__.D object at 0x00000146BFC30C70>\n"
     ]
    }
   ],
   "source": [
    "d.ping()"
   ]
  },
  {
   "cell_type": "code",
   "execution_count": 65,
   "id": "0d33fb8c",
   "metadata": {},
   "outputs": [
    {
     "name": "stdout",
     "output_type": "stream",
     "text": [
      "ping: <__main__.D object at 0x00000146BFC30C70>\n",
      "post-ping: <__main__.D object at 0x00000146BFC30C70>\n",
      "ping: <__main__.D object at 0x00000146BFC30C70>\n",
      "pong: <__main__.D object at 0x00000146BFC30C70>\n",
      "pong: <__main__.D object at 0x00000146BFC30C70>\n",
      "PONG: <__main__.D object at 0x00000146BFC30C70>\n"
     ]
    }
   ],
   "source": [
    "# pingpong()이 수행한 다섯 번의 호출\n",
    "d.pingpong()"
   ]
  },
  {
   "cell_type": "markdown",
   "id": "0755cebf",
   "metadata": {},
   "source": [
    "여러 클래스의 __mro __속성 조사"
   ]
  },
  {
   "cell_type": "code",
   "execution_count": 67,
   "id": "ad6247ac",
   "metadata": {},
   "outputs": [
    {
     "data": {
      "text/plain": [
       "(bool, int, object)"
      ]
     },
     "execution_count": 67,
     "metadata": {},
     "output_type": "execute_result"
    }
   ],
   "source": [
    "bool.__mro__"
   ]
  },
  {
   "cell_type": "code",
   "execution_count": 68,
   "id": "fbf684c7",
   "metadata": {},
   "outputs": [],
   "source": [
    "def print_mro(cls):\n",
    "    print(', '.join(c.__name__ for c in cls.__mro__))"
   ]
  },
  {
   "cell_type": "code",
   "execution_count": 69,
   "id": "f99ac235",
   "metadata": {},
   "outputs": [
    {
     "name": "stdout",
     "output_type": "stream",
     "text": [
      "bool, int, object\n"
     ]
    }
   ],
   "source": [
    "print_mro(bool)"
   ]
  },
  {
   "cell_type": "code",
   "execution_count": 82,
   "id": "72828051",
   "metadata": {},
   "outputs": [
    {
     "name": "stdout",
     "output_type": "stream",
     "text": [
      "Integral, Rational, Real, Complex, Number, object\n"
     ]
    }
   ],
   "source": [
    "import numbers\n",
    "print_mro(numbers.Integral)"
   ]
  },
  {
   "cell_type": "code",
   "execution_count": 87,
   "id": "235e74c4",
   "metadata": {},
   "outputs": [
    {
     "name": "stdout",
     "output_type": "stream",
     "text": [
      "BytesIO, _BufferedIOBase, _IOBase, object\n"
     ]
    }
   ],
   "source": [
    "import io \n",
    "\n",
    "print_mro(io.BytesIO)"
   ]
  },
  {
   "cell_type": "code",
   "execution_count": 88,
   "id": "30079ee4",
   "metadata": {},
   "outputs": [
    {
     "name": "stdout",
     "output_type": "stream",
     "text": [
      "TextIOWrapper, _TextIOBase, _IOBase, object\n"
     ]
    }
   ],
   "source": [
    "print_mro(io.TextIOWrapper)"
   ]
  },
  {
   "cell_type": "markdown",
   "id": "db9e7e54",
   "metadata": {},
   "source": [
    "Tinker Texxt 위젯 클래스와 슈퍼클래스 및 Text.__mro __를 보여주는 점선 화살표\n",
    "![이미지 대체 텍스트](https://picx.zhimg.com/v2-8744745813afc7584b0814e4f97996be_1440w.jpg?source=172ae18b)"
   ]
  },
  {
   "cell_type": "markdown",
   "id": "f09ff73c",
   "metadata": {},
   "source": [
    "# 3. 실세계에서의 다중 상속"
   ]
  },
  {
   "cell_type": "markdown",
   "id": "5da34921",
   "metadata": {},
   "source": [
    "\n",
    "![이미지 대체 텍스트](https://velog.velcdn.com/images/qsdcfd/post/68140d29-c0fd-46d3-9ee6-6df7974e9c99/image.png)"
   ]
  },
  {
   "cell_type": "code",
   "execution_count": 91,
   "id": "7afcb4ad",
   "metadata": {},
   "outputs": [
    {
     "name": "stdout",
     "output_type": "stream",
     "text": [
      "Toplevel, BaseWidget, Misc, Wm, object\n"
     ]
    }
   ],
   "source": [
    "import tkinter\n",
    "print_mro(tkinter.Toplevel)"
   ]
  },
  {
   "cell_type": "code",
   "execution_count": 92,
   "id": "f7c8c06e",
   "metadata": {},
   "outputs": [
    {
     "name": "stdout",
     "output_type": "stream",
     "text": [
      "Widget, BaseWidget, Misc, Pack, Place, Grid, object\n"
     ]
    }
   ],
   "source": [
    "print_mro(tkinter.Widget)"
   ]
  },
  {
   "cell_type": "code",
   "execution_count": 93,
   "id": "f8f678be",
   "metadata": {},
   "outputs": [
    {
     "name": "stdout",
     "output_type": "stream",
     "text": [
      "Button, Widget, BaseWidget, Misc, Pack, Place, Grid, object\n"
     ]
    }
   ],
   "source": [
    "print_mro(tkinter.Button)"
   ]
  },
  {
   "cell_type": "code",
   "execution_count": 94,
   "id": "b66d0aa2",
   "metadata": {},
   "outputs": [
    {
     "name": "stdout",
     "output_type": "stream",
     "text": [
      "Entry, Widget, BaseWidget, Misc, Pack, Place, Grid, XView, object\n"
     ]
    }
   ],
   "source": [
    "print_mro(tkinter.Entry)"
   ]
  },
  {
   "cell_type": "code",
   "execution_count": 95,
   "id": "2851808e",
   "metadata": {},
   "outputs": [
    {
     "name": "stdout",
     "output_type": "stream",
     "text": [
      "Text, Widget, BaseWidget, Misc, Pack, Place, Grid, XView, YView, object\n"
     ]
    }
   ],
   "source": [
    "print_mro(tkinter.Text)"
   ]
  },
  {
   "cell_type": "markdown",
   "id": "f8fd9451",
   "metadata": {},
   "source": [
    "# 4. 다중 상속 다루기"
   ]
  },
  {
   "cell_type": "markdown",
   "id": "7114b074",
   "metadata": {},
   "source": [
    " - 1. 인터페이스 상속과 구현 상속을 구분한다\n",
    " - 2. ABC를 이용해서 인터페이스를 명확히 한다.\n",
    " - 3. 코드를 재사용하기 위해 믹스인을 사용한다.\n",
    " - 4. 이름을 통해 믹스인임을 명확히 한다.\n",
    " - 5. ABC가 믹스인이 될 수는 있지만, 믹스인이라고 해서 ABC인 것은 아니다.\n",
    " - 6. 두개 이상의 구상 클래스에서 상속받지 않는다.\n",
    " - 7. 사용자에게 집합 클래스를 제공한다.\n",
    " - 8. 클래스 상속보다 객체 구성을 사용하라."
   ]
  },
  {
   "cell_type": "code",
   "execution_count": null,
   "id": "ae5fc53c",
   "metadata": {},
   "outputs": [],
   "source": []
  }
 ],
 "metadata": {
  "kernelspec": {
   "display_name": "Python 3 (ipykernel)",
   "language": "python",
   "name": "python3"
  },
  "language_info": {
   "codemirror_mode": {
    "name": "ipython",
    "version": 3
   },
   "file_extension": ".py",
   "mimetype": "text/x-python",
   "name": "python",
   "nbconvert_exporter": "python",
   "pygments_lexer": "ipython3",
   "version": "3.10.9"
  }
 },
 "nbformat": 4,
 "nbformat_minor": 5
}
